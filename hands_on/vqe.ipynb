{
 "cells": [
  {
   "cell_type": "markdown",
   "id": "b9b07a5e",
   "metadata": {},
   "source": [
    "# Tangelo hands-on: VQE framework"
   ]
  },
  {
   "cell_type": "markdown",
   "id": "fa7498a4",
   "metadata": {},
   "source": [
    "## Before you jump in"
   ]
  },
  {
   "cell_type": "markdown",
   "id": "b36d6fff",
   "metadata": {},
   "source": [
    "Before tackling this hands-on, we suggest to have a look at:\n",
    "\n",
    "- the tutorial on the basics of the linq module\n",
    "- the tutorial on the basics of quantum chemistry modeling\n",
    "\n",
    "This hands-on covers some material described in the [following tutorials](https://github.com/goodchemistryco/Tangelo-Examples/tree/main/examples/variational_methods).\n",
    "\n",
    "You can use the cells below to install or import useful packages. We recommend to install qulacs and qiskit."
   ]
  },
  {
   "cell_type": "code",
   "execution_count": null,
   "id": "d595c697",
   "metadata": {},
   "outputs": [],
   "source": [
    "import numpy as np\n",
    "import time"
   ]
  },
  {
   "cell_type": "markdown",
   "id": "99b9fd0a",
   "metadata": {},
   "source": [
    "If you wish to install anything in your jupyter environment while working on this notebook, including Tangelo, you can go through your terminal and reload the upyter kernel or run `pip` commands directly from this notebook using `!`"
   ]
  },
  {
   "cell_type": "code",
   "execution_count": null,
   "id": "06b3c83e",
   "metadata": {},
   "outputs": [],
   "source": [
    "# Uncomment and change package name to install it in the current environment\n",
    "# !pip install tangelo-gc --quiet\n",
    "# !pip install qulacs --quiet\n",
    "# !pip install qiskit --quiet"
   ]
  },
  {
   "cell_type": "markdown",
   "id": "23a5cc16",
   "metadata": {},
   "source": [
    "## Level 1: VQE basics\n",
    "\n",
    "Let's define a molecule in second quantization, for the sake of exploring the variational framework. Here we define a molecule explicitly, specifying a geometry, charge, spin and basis set, but you could also quickly just import other existing ones in our [\"molecule library\"](https://github.com/goodchemistryco/Tangelo/blob/main/tangelo/molecule_library.py) if you want to swap between other examples."
   ]
  },
  {
   "cell_type": "code",
   "execution_count": null,
   "id": "c9f73f3a",
   "metadata": {},
   "outputs": [],
   "source": [
    "# Define H2 molecule in minimal basis set\n",
    "from tangelo import SecondQuantizedMolecule\n",
    "\n",
    "xyz_H2 = [(\"H\", (0., 0., 0.)), (\"H\", (0., 0., 0.7414))]\n",
    "mol_H2_sto3g = SecondQuantizedMolecule(xyz_H2, q=0, spin=0, basis=\"sto-3g\")\n",
    "\n",
    "mol = mol_H2_sto3g"
   ]
  },
  {
   "cell_type": "markdown",
   "id": "c91d1958",
   "metadata": {},
   "source": [
    "### 1a)  Computing the ground state energy with VQE\n",
    "\n",
    "Write a code cell that instantiates a `VQESolver` object and computes the ground state energy of our molecule. You can use the default options. You should find that the result for the optimal geometry of H2 in sto-3g basis is roughly -1.1372702 Ha."
   ]
  },
  {
   "cell_type": "code",
   "execution_count": null,
   "id": "ec8ff26a",
   "metadata": {},
   "outputs": [],
   "source": [
    "# TODO: Instantiate VQE Solver, compute ground state energy with VQE\n"
   ]
  },
  {
   "cell_type": "markdown",
   "id": "2ad81d1d",
   "metadata": {},
   "source": [
    "Many Can you find what qubit mapping, ansatz and classical optimizer were used in your code ?"
   ]
  },
  {
   "cell_type": "code",
   "execution_count": null,
   "id": "aac2244c",
   "metadata": {},
   "outputs": [],
   "source": [
    "# TODO : print that information\n"
   ]
  },
  {
   "cell_type": "markdown",
   "id": "c16ec721",
   "metadata": {},
   "source": [
    "### 1b) A closer look at what happened\n",
    "\n",
    "Please print:\n",
    "\n",
    "- the accuracy of the previous computation (difference between your optimal VQE energy and the result coming from the `FCISolver`)\n",
    "- the optimal circuit, and the optimal parameters\n",
    "- the qubit operator that encoded your molecule "
   ]
  },
  {
   "cell_type": "code",
   "execution_count": null,
   "id": "d1f59d6b",
   "metadata": {},
   "outputs": [],
   "source": [
    "# TODO compute and print the information"
   ]
  },
  {
   "cell_type": "markdown",
   "id": "e7de3c96",
   "metadata": {},
   "source": [
    "## Level 2: Impact of some of the options in VQE\n",
    "\n",
    "A number of options are available in the VQE framework. Let's see how these choices impact the calculations.\n",
    "\n",
    "### 2a) Qubit mappings\n",
    "\n",
    "Our VQE framework supports a number of qubit mappings, such as Jordan-Wigner (`'jw'`), Bravyi-Kitaev (`'bk'`) or Symmetry-Conserving Bravyi-Kitaev (`'bk'`). We also support more uncommon ones, such as JKMN or HCB, and probably more in the future !\n",
    "\n",
    "Can you instantiate `VQESolver` objects using these different qubit mappings, and see how they impact the complexity of the algorithm ?"
   ]
  },
  {
   "cell_type": "code",
   "execution_count": null,
   "id": "cd889622",
   "metadata": {},
   "outputs": [],
   "source": [
    "for qb_mapping in [\"JW\", \"BK\", \"SCBK\", \"JKMN\"]:\n",
    "    # TODO: Try different qubit mappings. How do they impact to the computational resource requirements ?"
   ]
  },
  {
   "cell_type": "markdown",
   "id": "2934bee3",
   "metadata": {},
   "source": [
    "### 2b) Compute backends"
   ]
  },
  {
   "cell_type": "markdown",
   "id": "90c8e1a8",
   "metadata": {},
   "source": [
    "Tangelo is backend-agnostic. That means that you do not have to rewrite your code if you want to run it on a different simulator or quantum device, and it takes little effort to swap or integrate with a new backend overall.\n",
    "\n",
    "There's a lot of quantum simulators out there, with different tradeoffs between speed, accuracy, maximal circuit size or ability to simulate noise. Likewise, there's a growing number of quantum devices out there, based on different technologies.\n",
    "\n",
    "Let's revisit H2 in a bigger basis set, stick with the Jordan-Wigner qubit mapping, and see what impact the choice of backend has on our experience."
   ]
  },
  {
   "cell_type": "code",
   "execution_count": null,
   "id": "97a5a42a",
   "metadata": {},
   "outputs": [],
   "source": [
    "from tangelo.molecule_library import mol_H2_321g\n",
    "\n",
    "mol = mol_H2_321g"
   ]
  },
  {
   "cell_type": "code",
   "execution_count": null,
   "id": "aca9e218",
   "metadata": {},
   "outputs": [],
   "source": [
    "# TODO: Without simulating the algorithm, get an idea of the amount of resources this problem would require"
   ]
  },
  {
   "cell_type": "markdown",
   "id": "c881054a",
   "metadata": {},
   "source": [
    "Now let's see what happens when you try to run VQE with the `'jw'` mapping but with the following backends. It may take some time depending of your machine, and how optimally these packages were installed (If you've waited more than a few minutes, you can try to revert to H2 in sto-3g basis)"
   ]
  },
  {
   "cell_type": "code",
   "execution_count": null,
   "id": "f8b577a2",
   "metadata": {},
   "outputs": [],
   "source": [
    "for b in [\"qulacs\", \"cirq\", \"qiskit\"]:\n",
    "    \n",
    "    # TODO : Create the dictionary of options to build our VQE object with the desired backends\n",
    "    vqe_options = # xxx\n",
    "\n",
    "    # Start timer\n",
    "    t_start = time.time()\n",
    "    \n",
    "    # Run VQE algorithm\n",
    "    vqe_solver = VQESolver(vqe_options)\n",
    "    vqe_solver.build()\n",
    "    opt_energy = vqe_solver.simulate()\n",
    "    \n",
    "    # Stop timer, print elapsed time\n",
    "    t_stop = time.time()\n",
    "    print(f\"{b:10} :: {t_stop - t_start:3.3f} s \\t (energy = {opt_energy})\")"
   ]
  },
  {
   "cell_type": "markdown",
   "id": "517e29aa",
   "metadata": {},
   "source": [
    "Roughly, what is the speedup between the best- and poorest-performing backends on your machine ?"
   ]
  },
  {
   "cell_type": "markdown",
   "id": "5a213637",
   "metadata": {},
   "source": [
    "### 2c) Ansatz \n",
    "\n",
    "The ansatz refers to the variational circuit used to estimate the energy of the molecule, and features a number of variational parameters that need to be optimized classically. Tangelo features a growing collection of built-in ansatze, and also gives you the opportunity to define your own. Its choice is overall pretty arbitrary.\n",
    "\n",
    "Can you change the following code, and try a few of the built-in ansatze (UCCSD, UpCCGSC, HEA, UCC1...) ?\n",
    "What do you observe ?"
   ]
  },
  {
   "cell_type": "code",
   "execution_count": null,
   "id": "a61142d9",
   "metadata": {},
   "outputs": [],
   "source": [
    "from tangelo.algorithms import BuiltInAnsatze as Ansatze\n",
    "from tangelo.algorithms import VQESolver\n",
    "\n",
    "# TODO : change vqe_options to try a few different ansatze\n",
    "vqe_options = {\"molecule\": mol}\n",
    "\n",
    "# Start timer\n",
    "t_start = time.time()\n",
    "\n",
    "# Run VQE algorithm\n",
    "vqe_solver = VQESolver(vqe_options)\n",
    "vqe_solver.build()\n",
    "print(vqe_solver.get_resources())\n",
    "opt_energy = vqe_solver.simulate()\n",
    "\n",
    "# Stop timer, print elapsed time\n",
    "t_stop = time.time()\n",
    "print(f\"{ans.name:10} :: {t_stop - t_start:3.3f} s \\t (energy = {opt_energy})\")"
   ]
  },
  {
   "cell_type": "markdown",
   "id": "da76482d",
   "metadata": {},
   "source": [
    "## Boss fight: H2O\n",
    "\n",
    "You want to compute the ground state energy of H2O in sto-3g basis set using VQE: this problem is more challenging than the previous ones. Use all you can find in the source code, documentation and tutorials to give it a go !\n",
    "\n",
    "- More accuracy is better. Can you reach chemical accuracy (~0.001 Ha) ?\n",
    "- Research time is important: how much can you reduce time-to-solution with your code ?\n",
    "- Quantum computers and simulators are limited: how much can you reduce computational requirements ?\n",
    "\n",
    "Think about all the degrees of freedom available to you, and try to explore a few of the most promising avenues you can think of."
   ]
  },
  {
   "cell_type": "code",
   "execution_count": null,
   "id": "3445c8f9",
   "metadata": {},
   "outputs": [],
   "source": [
    "from tangelo.molecule_library import mol_H2O_sto3g\n",
    "mol = mol_H2O_sto3g\n",
    "\n",
    "fci_h2o = FCISolver(mol)\n",
    "opt_e = fci_h2o.simulate()\n",
    "print(f\"H2O FCI energy = {opt_e}\")"
   ]
  },
  {
   "cell_type": "code",
   "execution_count": null,
   "id": "cc16eeb3",
   "metadata": {},
   "outputs": [],
   "source": [
    "# TODO: fight !"
   ]
  },
  {
   "cell_type": "markdown",
   "id": "3d15f952",
   "metadata": {},
   "source": [
    "# Final words"
   ]
  },
  {
   "cell_type": "markdown",
   "id": "bed07cac",
   "metadata": {},
   "source": [
    "After all these examples, what observations can you make about the VQE algorithm and what seems to be important in order to apply it successfully to your research ? What were the challenges you've encountered ?\n",
    "\n",
    "We've only grazed the surface here, but there's more to VQE and its variations. If it is relavant to you, take a look at the [following tutorials](https://github.com/goodchemistryco/Tangelo-Examples/tree/main/examples/variational_methods). Did you know that VQE can also compute [excited states](https://github.com/goodchemistryco/Tangelo-Examples/blob/main/examples/chemistry/excited_states.ipynb)? Keep an eye out, maybe 'watch' the Github repo: the community keeps coming up with new innovations. Maybe we'll owe the next one to you :)\n",
    "\n",
    "What will you do with Tangelo ?"
   ]
  }
 ],
 "metadata": {
  "kernelspec": {
   "display_name": "perf_tests_linq",
   "language": "python",
   "name": "perf_tests_linq"
  },
  "language_info": {
   "codemirror_mode": {
    "name": "ipython",
    "version": 3
   },
   "file_extension": ".py",
   "mimetype": "text/x-python",
   "name": "python",
   "nbconvert_exporter": "python",
   "pygments_lexer": "ipython3",
   "version": "3.10.0"
  }
 },
 "nbformat": 4,
 "nbformat_minor": 5
}
