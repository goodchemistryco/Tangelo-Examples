{
 "cells": [
  {
   "cell_type": "markdown",
   "id": "b36d6fff",
   "metadata": {},
   "source": [
    "# Tangelo hands-on: gates and circuits\n",
    "\n",
    "## Before you jump in\n",
    "\n",
    "This hands-on notebook complements existing tutorials, documentation and the developer notes available in the Tangelo GitHub repositories, which present content in much more depth.\n",
    "\n",
    "You will come across code cells that require you to change code or fill in the blanks in order to achieve a desired outcome. There may be many ways to solve these simple exercises, and you are encouraged to explore.\n",
    "\n",
    "----\n",
    "\n",
    "**Getting started**\n",
    "\n",
    "Please have a look at the landing page of this repository for guidance about how to deploy these notebooks and get started easily.\n",
    "\n",
    "In order to complete this hands-on tutorial, we recommend you use the latest version of Tangelo.\n",
    "If you encounter errors related to missing Python packages (classical chemistry backend, quantum circuit simulator...), you can install them on-the-fly by typing `!pip install <package-name>` in a new code cell, and then restart the Jupyter notebook kernel."
   ]
  },
  {
   "cell_type": "code",
   "execution_count": null,
   "id": "0f97967a-2790-4353-8cca-3aa38cddde62",
   "metadata": {},
   "outputs": [],
   "source": [
    "# If Tangelo is not found in your current environment, this cell installs all dependencies required for this hands-on\n",
    "try:\n",
    "    import tangelo\n",
    "except ModuleNotFoundError:\n",
    "    !pip install git+https://github.com/goodchemistryco/Tangelo.git@develop  --quiet"
   ]
  },
  {
   "cell_type": "markdown",
   "id": "ac389182-98d4-4555-86e9-8b382f2c739d",
   "metadata": {},
   "source": [
    "----\n",
    "\n",
    "For this hands-on, the following resources you can rely on to complete the hands-on are:\n",
    "- the first part of this [tutorial notebook](https://github.com/goodchemistryco/Tangelo-Examples/blob/main/examples/workflow_basics/1.the_basics.ipynb) on `linq`, about gates and circuits.\n",
    "- the documentation for the `Gate` ([here](http://tangelo-docs.goodchemistry.com/tangelo.linq.html#module-tangelo.linq.gate)) and `Circuit` ([here](http://tangelo-docs.goodchemistry.com/tangelo.linq.html#module-tangelo.linq.circuit)) classes.\n",
    "\n",
    "----"
   ]
  },
  {
   "cell_type": "markdown",
   "id": "99f6143d-55d4-4667-860d-1b0c978bda7e",
   "metadata": {},
   "source": [
    "## Hands-on"
   ]
  },
  {
   "cell_type": "markdown",
   "id": "d299f723-7e81-4247-9f7f-caa659967089",
   "metadata": {},
   "source": [
    "### 1. Bell-pair circuit \n",
    "\n",
    "A Bell-pair circuit consists in a Hadamard (H) gate applied to qubit 0, followed by a controlled-NOT (CNOT) gate with control qubit 0, and target qubit 1. It is shown in the picture below:\n",
    "\n",
    "![bp](https://upload.wikimedia.org/wikipedia/commons/f/fc/The_Hadamard-CNOT_transform_on_the_zero-state.png)\n",
    "\n",
    "\n",
    "> **Q:** Can you fill in the blanks in the cell below, to build the Bell-pair circuit shown in the picture below ? We already imported the `Gate` and `Circuit` classes from `tangelo.linq`, which contains most things related to gates and circuits."
   ]
  },
  {
   "cell_type": "code",
   "execution_count": null,
   "id": "06b3c83e",
   "metadata": {},
   "outputs": [],
   "source": [
    "from tangelo.linq import Gate, Circuit\n",
    "\n",
    "# Insert your code here\n",
    "\n",
    "# Use Tangelo to draw or print the circuit for a quick comparison with the reference picture\n",
    "bell_pair_circuit.draw()"
   ]
  },
  {
   "cell_type": "code",
   "execution_count": null,
   "id": "a4ef8ca2-0d5e-4d3a-a8b4-3e9399b250e1",
   "metadata": {},
   "outputs": [],
   "source": [
    "# You can also print a circuit\n",
    "print(bell_pair_circuit)"
   ]
  },
  {
   "cell_type": "markdown",
   "id": "23a5cc16",
   "metadata": {},
   "source": [
    "### 2. Hardware Efficient Ansatz\n",
    "\n",
    "Research in quantum computer often calls building complex quantum circuits involving the repetition of operations that can generalize to arbitrary numbers of qubits. Tangelo was designed to make building circuits intuitive and easy: if you know how to use lists in Python, you pretty much already know how to build complex circuits in Tangelo ! In particular, the `+` and `*` operators will make your life easy.\n",
    "\n",
    "Research from different groups, including IBM, has explored \"Hardware Efficient Ansatz\" circuits, which exhibit these traits. We will work on the example illustrated below:\n",
    "\n",
    "![this circuit](https://encrypted-tbn0.gstatic.com/images?q=tbn:ANd9GcThMadQYqXA2Ovtq2xv_ooTnQd-vEDR75FFlQ&usqp=CAU)"
   ]
  },
  {
   "cell_type": "markdown",
   "id": "d146dfbd-ae6d-4575-865e-43279acd3c0c",
   "metadata": {},
   "source": [
    "The sequence of gates between the square brackets applies a Rx rotation followed by a Rz rotation to each qubit, followed by CNOTs entangling successive qubit pairs (0 with 1, then 1 with 2...). This \"layer\" can be repeated an arbitrary amount of times `D` before an final layer consisting of another Rx and Rz gates is applied to each qubit."
   ]
  },
  {
   "cell_type": "markdown",
   "id": "422a6e20-5fe8-4607-aceb-a0ae8efcfc0b",
   "metadata": {},
   "source": [
    "> **Q:** Can you build a tangelo circuit that implements the sequence of gates between square brackets ? The circuit uses 4 qubits, and you can set the angles of all rotation gates to 0, for simplicity. We encourage you to use python features such as for loops or list comprehension."
   ]
  },
  {
   "cell_type": "code",
   "execution_count": null,
   "id": "c90fc367-e600-45b0-a49e-d3fa9b90b5d7",
   "metadata": {},
   "outputs": [],
   "source": [
    "# Insert your code here\n"
   ]
  },
  {
   "cell_type": "markdown",
   "id": "7741ef79-c76b-43b4-95fd-dd4b4c7912e8",
   "metadata": {},
   "source": [
    "Using the previous code cell as inspiration, we should be able to define a function in Python that can build the circuit in the reference picture for an arbitrary number of qubits `nq` and number of repetitions `d`.\n",
    "\n",
    "> **Q:** Can you complete the code cell below to build `hea_circuit` with the desired behaviour ? Some variables have already been defined, for convenience."
   ]
  },
  {
   "cell_type": "code",
   "execution_count": null,
   "id": "e947d799-de0a-4bb9-88d7-1f2c718221e5",
   "metadata": {},
   "outputs": [],
   "source": [
    "def build_hea_circuit(nq, d):\n",
    "    rot_gates = [Gate('RX', i, parameter=0.)  for i in range(nq)] + [Gate('RZ', i, parameter=0.)  for i in range(nq)]\n",
    "    ctrl_gates = [Gate('CNOT', target=i+1, control=i) for i in range(nq-1)]\n",
    "\n",
    "    # Insert your code here\n",
    "\n",
    "    \n",
    "    return hea_circuit\n",
    "\n",
    "# Insert code here: check that the case nq=4 and d=1 returns the circuit featured in the reference picture\n",
    "hea_c = build_hea_circuit(4,1)"
   ]
  },
  {
   "cell_type": "markdown",
   "id": "dd4e8a79-e3e0-4c36-a71b-e19019e1a0ce",
   "metadata": {},
   "source": [
    "Quantum circuits can quickly grow complex. The `Circuit` class helps us track various quantities. \n",
    "\n",
    "> **Q:** In the case of (nq=3, d=2), how many gates do you expect to be present in your circuit ? Can you find an easy way to print:\n",
    "> - the total number of gates in your circuit ?\n",
    "> - the number of Rx, Rz, and CNOT gates ?"
   ]
  },
  {
   "cell_type": "code",
   "execution_count": null,
   "id": "f107fee8-19e3-42e6-af7e-68cb52b116ef",
   "metadata": {},
   "outputs": [],
   "source": [
    "c = build_hea_circuit(3,2)\n",
    "\n",
    "# Insert your code here"
   ]
  },
  {
   "cell_type": "markdown",
   "id": "2123cf3d-a322-441f-87f7-7b0d20ed457a",
   "metadata": {},
   "source": [
    "You can type `dir(Circuit)` to see all the attributes, methods and magic methods defined on the `Circuit` class, and you can consult the resources defined at the beginning of this notebook. A few operators (`+`, `*`, etc) are defined for circuits, to replicate and concatenate them."
   ]
  },
  {
   "cell_type": "markdown",
   "id": "df6d86f5-80fe-4e2b-b72d-2e640cda40a6",
   "metadata": {},
   "source": [
    "### 3. Variations of quantum circuits.\n",
    "\n",
    "In Tangelo, the gates in a circuit can be traversed using \"for\" loops, and the different attributes of the gates can be examined. We can use this to easily create variations of circuits for all sorts of purposes (remove or replicate gates matching a specific pattern, add control qubits to others, perform some equivalent substitutions...).\n",
    "\n",
    "Let's give it a try on the simple circuit below:"
   ]
  },
  {
   "cell_type": "code",
   "execution_count": null,
   "id": "7930a8f1-99bb-4fd6-b5f5-1b8e566cca7b",
   "metadata": {},
   "outputs": [],
   "source": [
    "import numpy as np\n",
    "\n",
    "gates = [Gate('RX', 0, parameter=np.pi/2), Gate('H', 1),\n",
    "         Gate('CNOT', 1, 0), Gate('RZ', 1, parameter=np.pi/10), Gate('CNOT', 1, 0),\n",
    "         Gate('RX', 0, parameter=-np.pi/2), Gate('H', 1)]\n",
    "\n",
    "c1 = Circuit(gates)\n",
    "c1.draw()"
   ]
  },
  {
   "cell_type": "markdown",
   "id": "9f54e231-5a9e-4db1-b9a8-a11b0ce51740",
   "metadata": {},
   "source": [
    "> **Q:** Below, we attempt to define a function `modify_circuit` that takes a circuit `c` as input and returns a new circuit such that:\n",
    "> - `H` gates are discarded.\n",
    "> - Every time a `Rz` gate is encountered, it is tagged as variational and the angle is divided by 2.\n",
    "> - Each `CNOT` gate encountered is applied 3 times in a row instead of just 1 (e.g it is replicated and applied 2 additional times).\n",
    "\n",
    "Can you complete the code cell below and verify that it has the desired behaviour on the circuit above ?"
   ]
  },
  {
   "cell_type": "code",
   "execution_count": null,
   "id": "8b1d77d3-f823-4f46-894b-170f0816797a",
   "metadata": {},
   "outputs": [],
   "source": [
    "def modify_circuit(c):\n",
    "\n",
    "    # Empty list that will contain the gates for our new circuit\n",
    "    new_gates = []\n",
    "\n",
    "    # This loop examines each gate in the input circuit, in order of appearance\n",
    "    for gate in c:\n",
    "        if gate.name == 'H':\n",
    "            # Insert your code here\n",
    "        elif gate.name == 'CNOT':\n",
    "            # Insert your code here\n",
    "        elif gate.name == 'RZ':\n",
    "            # Insert your code here\n",
    "        else:\n",
    "            # Insert your code here\n",
    "\n",
    "    return Circuit(new_gates)\n",
    "\n",
    "cmod = modify_circuit(c1)\n",
    "cmod.draw()"
   ]
  },
  {
   "cell_type": "markdown",
   "id": "3d15f952",
   "metadata": {},
   "source": [
    "# Final words"
   ]
  },
  {
   "cell_type": "markdown",
   "id": "bed07cac",
   "metadata": {},
   "source": [
    "You have reached the end of this hands-on. You should now have a better idea of how to use quantum gates and circuits in Tangelo.\n",
    "\n",
    "Do not hesitate to explore the resources mentioned at the beginning of this notebook at your own pace to learn more about the topics discussed here. There is so much more we can do."
   ]
  }
 ],
 "metadata": {
  "kernelspec": {
   "display_name": "qce23",
   "language": "python",
   "name": "qce23"
  },
  "language_info": {
   "codemirror_mode": {
    "name": "ipython",
    "version": 3
   },
   "file_extension": ".py",
   "mimetype": "text/x-python",
   "name": "python",
   "nbconvert_exporter": "python",
   "pygments_lexer": "ipython3",
   "version": "3.8.10"
  }
 },
 "nbformat": 4,
 "nbformat_minor": 5
}
