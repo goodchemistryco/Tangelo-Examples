{
 "cells": [
  {
   "cell_type": "markdown",
   "metadata": {},
   "source": [
    "# Fault Tolerant Building blocks"
   ]
  },
  {
   "cell_type": "markdown",
   "metadata": {},
   "source": [
    "Unlike NISQ algorithms which utilize short circuits and many measurements, fault-tolerant algorithms use long circuits and few measurements. The quantum computer can efficiently store large (exponential) systems efficiently but preparing these states is time-consuming and we generally don't need all the information about the state."
   ]
  },
  {
   "cell_type": "markdown",
   "metadata": {},
   "source": [
    "## Controlled Operations"
   ]
  },
  {
   "cell_type": "markdown",
   "metadata": {},
   "source": [
    "A main component of fault-tolerant algorithms is controlled operations. These are defined such that operations given a state of a certain (set of) qubit(s), one can apply an operation to a different set of qubits. For example, the usual CNOT (CX) Gate applies X to the target qubit only if the first qubit is in the $\\big|1\\big>$ state. This can be written as\n",
    "\n",
    "$CX\\big|0\\big>\\big|s\\big>=\\big|0\\big>\\big|s\\big>, \\quad CX\\big|1\\big>\\big|s\\big>=\\big|1\\big>X\\big|s\\big>$\n",
    "\n",
    "where $s$ is any state $a\\big|0\\big> + b\\big|1\\big>$.\n",
    "\n",
    "Likewise, this can be generalized to multiple controlled operations.\n",
    "\n",
    "For example, if we want to apply an operation U only when the first 2-qubits are in state 1. We can define\n",
    "\n",
    "\n",
    "$U^{01}\\big|11\\big>\\big|s\\big>=\\big|11\\big>U\\big|s\\big>$\n",
    "\n",
    "In general the operation can be controlled on many qubits and the state $s$ can be many qubits."
   ]
  },
  {
   "cell_type": "code",
   "execution_count": 361,
   "metadata": {},
   "outputs": [
    {
     "name": "stdout",
     "output_type": "stream",
     "text": [
      "('0',) {'00': 1.0}\n",
      "('1',) {'11': 1.0}\n"
     ]
    }
   ],
   "source": [
    "from itertools import product\n",
    "from tangelo.linq import Circuit, Gate, get_backend\n",
    "\n",
    "# The x-operation is defined as \n",
    "sim = get_backend()\n",
    "\n",
    "cx = Circuit([Gate(\"CX\", 0, control=[1])])\n",
    "\n",
    "for states in product([\"0\", \"1\"], repeat=1):\n",
    "    f, _ = sim.simulate(Circuit([Gate(\"X\", i+1) for i, state  in enumerate(states) if state == \"1\"])+cx)\n",
    "    print(states, f)"
   ]
  },
  {
   "cell_type": "markdown",
   "metadata": {},
   "source": [
    "Can you apply the operation controlled on qubits 1 and 2"
   ]
  },
  {
   "cell_type": "code",
   "execution_count": 358,
   "metadata": {},
   "outputs": [
    {
     "name": "stdout",
     "output_type": "stream",
     "text": [
      "('0', '0') {'000': 1.0}\n",
      "('0', '1') {'001': 1.0}\n",
      "('1', '0') {'010': 1.0}\n",
      "('1', '1') {'111': 1.0}\n"
     ]
    }
   ],
   "source": [
    "sim = get_backend()\n",
    "\n",
    "# They fill in here\n",
    "ccx = Circuit([Gate(\"CX\", 0, control=[])])\n",
    "\n",
    "for states in product([\"0\", \"1\"], repeat=2):\n",
    "    f, _ = sim.simulate(Circuit([Gate(\"X\", i+1) for i, state  in enumerate(states) if state == \"1\"])+ccx)\n",
    "    print(states, f)"
   ]
  },
  {
   "cell_type": "markdown",
   "metadata": {},
   "source": [
    "Now we can combine the operations which will only flip the state if the second and third qubits are in the state \"10\""
   ]
  },
  {
   "cell_type": "code",
   "execution_count": 360,
   "metadata": {},
   "outputs": [
    {
     "name": "stdout",
     "output_type": "stream",
     "text": [
      "('0', '0') {'000': 1.0}\n",
      "('0', '1') {'001': 1.0}\n",
      "('1', '0') {'110': 1.0}\n",
      "('1', '1') {'011': 1.0}\n"
     ]
    }
   ],
   "source": [
    "\n",
    "for states in product([\"0\", \"1\"], repeat=2):\n",
    "    f, _ = sim.simulate(Circuit([Gate(\"X\", i+1) for i, state  in enumerate(states) if state == \"1\"]) + ccx + cx)\n",
    "    print(states, f)"
   ]
  },
  {
   "cell_type": "markdown",
   "metadata": {},
   "source": [
    "In general, we can make more complicated controlled unitaries. One of the key fault-tolerant algorithms is phase-estimation. Which can approximate the eigenvalues of a state using a series of controlled operations follewed by a Quantum Fourier Transform."
   ]
  },
  {
   "cell_type": "markdown",
   "metadata": {},
   "source": [
    "## Quantum Phase Estimation"
   ]
  },
  {
   "cell_type": "markdown",
   "metadata": {},
   "source": [
    "The first fault-tolerant algorithm we will implement in phase-estimation. It is a technique to obtain the energy of an (approximate) eigenstate by a series of controlled time-evolutions of a Hamiltonian. The circuit is shown below\n",
    "\n",
    "![QPE Circuit](PE_Circuit.png \"Quantum Phase Estimation Circuit\")"
   ]
  },
  {
   "cell_type": "code",
   "execution_count": 2,
   "metadata": {},
   "outputs": [
    {
     "name": "stdout",
     "output_type": "stream",
     "text": [
      "0.24999999999999947\n",
      "1.8671062929051834\n"
     ]
    }
   ],
   "source": [
    "# Define H2 molecule in minimal basis set\n",
    "from openfermion import get_sparse_operator\n",
    "import numpy as np\n",
    "\n",
    "from tangelo import SecondQuantizedMolecule\n",
    "from tangelo.linq import get_backend, Circuit, Gate\n",
    "from tangelo.toolboxes.qubit_mappings.mapping_transform import fermion_to_qubit_mapping\n",
    "from tangelo.toolboxes.qubit_mappings.statevector_mapping import get_reference_circuit\n",
    "\n",
    "xyz_H2 = [(\"H\", (0., 0., 0.)), (\"H\", (0., 0., 0.7414))]\n",
    "mol_H2_sto3g = SecondQuantizedMolecule(xyz_H2, q=0, spin=0, basis=\"sto-3g\")\n",
    "\n",
    "mol = mol_H2_sto3g\n",
    "\n",
    "qu_op = fermion_to_qubit_mapping(mol.fermionic_hamiltonian, mapping=\"JW\", n_spinorbitals=mol.n_active_sos, n_electrons=mol.n_active_electrons, spin=mol.spin, up_then_down=False)\n",
    "\n",
    "# Cheat to get the ground state eigenvalue to be 0.25. The exact ground state energy is 1.137270174660903\n",
    "qu_op += (0.25 + 1.137270174660903)\n",
    "eigs, statevectors = np.linalg.eigh(get_sparse_operator(qu_op).toarray())\n",
    "\n",
    "print(eigs[0])\n",
    "ground_sv = statevectors[:, 0]\n",
    "print(eigs[13])\n",
    "first_sv = statevectors[:, 13]"
   ]
  },
  {
   "cell_type": "code",
   "execution_count": 3,
   "metadata": {},
   "outputs": [
    {
     "name": "stdout",
     "output_type": "stream",
     "text": [
      "The overlap of the initial state with the exact ground state is (0.9936146058054713+0j)\n",
      "The overlap of the initial state with the exact first excited state is (-0.112827368710068+0j)\n"
     ]
    }
   ],
   "source": [
    "# Hartree-Fock reference state circuit\n",
    "hf_circuit = get_reference_circuit(n_spinorbitals=mol.n_active_sos, n_electrons=mol.n_active_electrons, mapping=\"JW\", up_then_down=False, spin=mol.spin)\n",
    "\n",
    "sim = get_backend(\"cirq\")\n",
    "f, sv = sim.simulate(hf_circuit, return_statevector=True)\n",
    "\n",
    "g_ovlp = np.dot(sv, ground_sv)\n",
    "f_ovlp = np.dot(sv, first_sv)\n",
    "print(f\"The overlap of the initial state with the exact ground state is {g_ovlp}\")\n",
    "print(f\"The overlap of the initial state with the exact first excited state is {f_ovlp}\")"
   ]
  },
  {
   "cell_type": "code",
   "execution_count": 15,
   "metadata": {},
   "outputs": [
    {
     "name": "stdout",
     "output_type": "stream",
     "text": [
      "The probability that the statevector energy=0.0 is 0.00004\n",
      "The probability that the statevector energy=0.125 is 0.00001\n",
      "The probability that the statevector energy=0.25 is 0.98752\n",
      "The probability that the statevector energy=0.375 is 0.00005\n",
      "The probability that the statevector energy=0.5 is 0.00001\n",
      "The probability that the statevector energy=0.625 is 0.00003\n",
      "The probability that the statevector energy=0.75 is 0.00005\n",
      "The probability that the statevector energy=0.875 is 0.01228\n"
     ]
    }
   ],
   "source": [
    "from tangelo.toolboxes.ansatz_generator.ansatz_utils import trotterize, get_qft_circuit\n",
    "from tangelo.toolboxes.post_processing.histogram import Histogram\n",
    "\n",
    "\n",
    "# Reverse order as cirq uses lsq_first\n",
    "qubit_list = [6, 5, 4]\n",
    "\n",
    "# State preparation\n",
    "pe_circuit = hf_circuit + Circuit([Gate(\"H\", q) for q in qubit_list ])\n",
    "\n",
    "for i, qubit in enumerate(qubit_list):\n",
    "    # You can play around with how accurate the time-evolution needs to be\n",
    "    # Use negative time as trotterize uses exp(-iHt) to follow the Schrodinger equation\n",
    "    pe_circuit += trotterize(qu_op, trotter_order=4, n_trotter_steps=12, time=-2*np.pi*2**i, control=qubit)\n",
    "\n",
    "# set inverse to true or false\n",
    "pe_circuit += get_qft_circuit(qubit_list, inverse=True)\n",
    "\n",
    "sim = get_backend(\"cirq\")\n",
    "freqs, _ = sim.simulate(pe_circuit)\n",
    "\n",
    "# Remove qubit indices from histogram corresponding to the state qubits i.e. (0, 1, 2, 3)\n",
    "hist = Histogram(freqs)\n",
    "hist.remove_qubit_indices(0, 1, 2, 3)\n",
    "\n",
    "for key, probability in hist.frequencies.items():\n",
    "      energy = sum(int(k)/2**(i+1) for i, k in enumerate(key))\n",
    "      print(f\"The probability that the statevector energy={energy} is {probability:3.5f}\")"
   ]
  },
  {
   "cell_type": "markdown",
   "metadata": {},
   "source": [
    "Knowing that the energy is 0.25 and the energy is calculated as $E = \\sum_{i}^N M[i]1/2^{i}$. We know that the measurement was \"010\". We can run the circuit agains specifying this is the result we want and then examine the result."
   ]
  },
  {
   "cell_type": "code",
   "execution_count": 16,
   "metadata": {},
   "outputs": [
    {
     "name": "stdout",
     "output_type": "stream",
     "text": [
      "The probability of this measurement is 0.9875184986388642\n",
      "The final state overlap with the ground state is 0.9999727387751328\n"
     ]
    }
   ],
   "source": [
    "desired_measurement = \"010\"\n",
    "pe_plus_measure = pe_circuit + Circuit([Gate(\"MEASURE\", i) for i in qubit_list])\n",
    "\n",
    "_, sv_new = sim.simulate(pe_plus_measure, desired_meas_result=desired_measurement, return_statevector=True)\n",
    "\n",
    "print(f\"The probability of this measurement is {pe_plus_measure.success_probabilities[desired_measurement]}\")\n",
    "\n",
    "# Shrink vector down to 2**4 size to compare with exact ground state.\n",
    "sv_new_post = np.reshape(sv_new, (2**4, 2**3))[:, int(desired_measurement, base=2)]\n",
    "\n",
    "print(f\"The final state overlap with the ground state is {np.abs(np.dot(sv_new_post, ground_sv))}\")"
   ]
  },
  {
   "cell_type": "markdown",
   "metadata": {},
   "source": [
    "We can see that we measured the desired energy with probability 0.987 and the resulting state has overlap with the exact state of 0.99997 while it started with an overlap of 0.9936."
   ]
  },
  {
   "cell_type": "markdown",
   "metadata": {},
   "source": [
    "## Block encodings.\n",
    "\n",
    "Another building block of many fault-tolerant algorithms is block encodings. This is a technique to implement any operation as long as it can be decomposed into a linear combination of Unitaries. We can implement the operation using $U_{prep}$ and $U_{select}$ defined for a general operator $A=\\sum_i c_i U_i$ where $U_i$ are unitaries.\n",
    "\n",
    "$U_{prep}\\big|\\psi\\big>\\big|0\\big> = \\sum_{i}\\sqrt{|c_i|/\\alpha}\\big|\\psi\\big>\\big|i\\big>$\n",
    "\n",
    "$U_{select}\\big|\\psi\\big>\\big|i\\big> = U_i\\big|\\psi\\big>\\big|i\\big>$\n",
    "\n",
    "where $\\alpha$ is the 1-norm of the coefficients $|c_i|$\n",
    "\n",
    "Applying the circuit $U_{prep}U_{select}U_{prep}^{\\dagger}$ results in $A\\big|\\psi\\big>\\big|0\\big> + \\sum_i \\big|\\psi^{\\perp}\\big>\\big|i\\big>$\n",
    "where $\\psi^{\\perp}$ are states orthogonal to $A\\psi$. This means that if we measure the ancilla qubits and the result is zero, we have successfully applied the desired operation $A$."
   ]
  },
  {
   "cell_type": "markdown",
   "metadata": {},
   "source": [
    "For example, let's try to apply $A=\\frac{1}{\\sqrt{2}}X+\\frac{1}{\\sqrt{2}}Y$\n",
    "which is equivalent to\n",
    "$\\left[\\begin{array}{cc}0&1/2-1/2\\\\ 1/2+i/2&0\\end{array}\\right]$"
   ]
  },
  {
   "cell_type": "code",
   "execution_count": 303,
   "metadata": {},
   "outputs": [
    {
     "name": "stdout",
     "output_type": "stream",
     "text": [
      "[0.5-0.5j 0.5+0.5j]\n",
      "{'0': 0.5000000000000001}\n"
     ]
    }
   ],
   "source": [
    "from tangelo.toolboxes.operators import QubitOperator\n",
    "from tangelo.linq.helpers.circuits.statevector import StateVector\n",
    "from tangelo.toolboxes.circuits.lcu import get_uprep_uselect\n",
    "\n",
    "coefs = [1, 1]\n",
    "\n",
    "a = QubitOperator(\"X0\", coefs[0]) + QubitOperator(\"Y0\", coefs[1])\n",
    "\n",
    "vec = np.array(np.abs(coefs))\n",
    "vec = np.sqrt(vec/np.sum(vec))\n",
    "\n",
    "# In this case prep can be be applied by simply applying the Hadamard gate to the first qubit\n",
    "uprep = Circuit([Gate(\"H\", 1)])\n",
    "\n",
    "sv = StateVector(vec)\n",
    "uprep = sv.initializing_circuit()\n",
    "uprep.reindex_qubits([1])\n",
    "\n",
    "\n",
    "# Uselect\n",
    "uselect = Circuit([Gate(\"X\", 1)]+[Gate(\"CX\", target=0, control=1)]+[Gate(\"X\", 1)]+[Gate(\"CY\", target=0, control=1)])\n",
    "\n",
    "sim = get_backend(\"cirq\")\n",
    "\n",
    "state_prep = Circuit([Gate(\"H\", 0)])\n",
    "\n",
    "\n",
    "#uprep, uselect, _, _, alpha = get_uprep_uselect(a, make_alpha_eq_2=False)\n",
    "#print(alpha)\n",
    "\n",
    "block_circuit = uprep + uselect + uprep.inverse() \n",
    "\n",
    "circuit = state_prep + block_circuit + Circuit([Gate(\"MEASURE\", 1)])\n",
    "f, sv = sim.simulate(circuit, desired_meas_result=\"0\", return_statevector=True)\n",
    "final_state = sv.reshape(2,2)[:,0]\n",
    "print(final_state)\n",
    "print(circuit.success_probabilities)"
   ]
  },
  {
   "cell_type": "code",
   "execution_count": 333,
   "metadata": {},
   "outputs": [
    {
     "name": "stdout",
     "output_type": "stream",
     "text": [
      "(1+0j)\n"
     ]
    }
   ],
   "source": [
    "final_exact = get_sparse_operator(a).toarray()@np.array([1/np.sqrt(2), 1/np.sqrt(2)])\n",
    "final_exact /=np.linalg.norm(final_exact)\n",
    "print(np.vdot(final_state, final_exact))"
   ]
  },
  {
   "cell_type": "markdown",
   "metadata": {},
   "source": [
    "## Amplitude Amplification\n",
    "\n",
    "We would like to have a higher probability of success. To implement this we need to apply signed operations.\n",
    "\n",
    "$F_{good} F_{full}$\n",
    "\n",
    "where $F_{good} = (1-\\big|0\\big>^{ancilla}\\big<0\\big|^{ancilla})$ and  $F_{full} = $"
   ]
  },
  {
   "cell_type": "code",
   "execution_count": 334,
   "metadata": {},
   "outputs": [
    {
     "name": "stdout",
     "output_type": "stream",
     "text": [
      "Circuit object. Size 3 \n",
      "\n",
      "X         target : [1]   \n",
      "PHASE     target : [1]   parameter : 3.141592653589793\n",
      "X         target : [1]   \n",
      "\n"
     ]
    },
    {
     "data": {
      "text/plain": [
       "({'00': 0.2500000000000001, '01': 0.25, '10': 0.2500000000000001, '11': 0.25},\n",
       " array([-0.35355339+0.35355339j, -0.35355339-0.35355339j,\n",
       "        -0.35355339-0.35355339j, -0.35355339+0.35355339j]))"
      ]
     },
     "execution_count": 334,
     "metadata": {},
     "output_type": "execute_result"
    }
   ],
   "source": [
    "from tangelo.toolboxes.circuits.lcu import sign_flip\n",
    "# Flip sign on good state\n",
    "sfa = Circuit([Gate(\"X\", 1), Gate(\"PHASE\", 1, parameter=np.pi), Gate(\"X\", 1)])\n",
    "sft = sign_flip([0, 1])\n",
    "print(sfa)\n",
    "\n",
    "circuit = state_prep + block_circuit\n",
    "\n",
    "# 1 application of amplitude amplification\n",
    "amplifying_circuit = (sfa  + circuit.inverse() + sft + circuit)\n",
    "\n",
    "sim.simulate(state_prep + block_circuit + amplifying_circuit, return_statevector=True)"
   ]
  },
  {
   "cell_type": "code",
   "execution_count": null,
   "metadata": {},
   "outputs": [],
   "source": []
  }
 ],
 "metadata": {
  "kernelspec": {
   "display_name": "qsdkmain",
   "language": "python",
   "name": "python3"
  },
  "language_info": {
   "codemirror_mode": {
    "name": "ipython",
    "version": 3
   },
   "file_extension": ".py",
   "mimetype": "text/x-python",
   "name": "python",
   "nbconvert_exporter": "python",
   "pygments_lexer": "ipython3",
   "version": "3.9.18"
  },
  "orig_nbformat": 4
 },
 "nbformat": 4,
 "nbformat_minor": 2
}
