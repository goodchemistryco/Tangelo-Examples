{
 "cells": [
  {
   "cell_type": "code",
   "execution_count": 83,
   "metadata": {},
   "outputs": [
    {
     "data": {
      "text/plain": [
       "[<matplotlib.lines.Line2D at 0x12ea76ca0>]"
      ]
     },
     "execution_count": 83,
     "metadata": {},
     "output_type": "execute_result"
    },
    {
     "data": {
      "image/png": "[encoded data removed]",
      "text/plain": [
       "<Figure size 432x288 with 1 Axes>"
      ]
     },
     "metadata": {
      "needs_background": "light"
     },
     "output_type": "display_data"
    }
   ],
   "source": [
    "from scipy.special import eval_chebyt\n",
    "import numpy as np\n",
    "import matplotlib.pyplot as plt\n",
    "\n",
    "k = 30\n",
    "delta = 0.1\n",
    "\n",
    "def filter_func(x, delta, k):\n",
    "    val = 0\n",
    "    for i in range(k):\n",
    "        arg = -1 + 2*(x**2-delta**2/(1-delta**2))\n",
    "        topk = eval_chebyt(k, arg)\n",
    "        arg = -1 + 2*(-delta**2/(1-delta**2))\n",
    "        botk = eval_chebyt(k, arg)\n",
    "        val += topk/botk\n",
    "    return val\n",
    "\n",
    "xs = np.linspace(-1, 1, 100)\n",
    "\n",
    "ys = np.zeros(len(xs))\n",
    "\n",
    "for i, x in enumerate(xs):\n",
    "    ys[i] = filter_func(x, delta, k)\n",
    "\n",
    "plt.plot(xs, ys)\n"
   ]
  },
  {
   "cell_type": "code",
   "execution_count": 84,
   "metadata": {},
   "outputs": [],
   "source": [
    "# phases below are calculated using QSPPACK for n=30, delta = 0.1\n",
    "phases = [7.8306e-01, 1.4358e-03, -1.8554e-03, 2.3385e-03, -2.8875e-03, 3.5036e-03, -4.1874e-03, 4.9383e-03, -5.7547e-03, 6.6338e-03,\n",
    "          -7.5717e-03, 8.5633e-03, -9.6021e-03, 1.0681e-02, -1.1790e-02, 1.2922e-02, -1.4064e-02, 1.5205e-02, -1.6334e-02, 1.7437e-02,\n",
    "          -1.8501e-02, 1.9515e-02, -2.0463e-02, 2.1335e-02, -2.2117e-02, 2.2800e-02, -2.3373e-02, 2.3827e-02, -2.4157e-02, 2.4357e-02,\n",
    "          -2.4424e-02, 2.4357e-02, -2.4157e-02, 2.3827e-02, -2.3373e-02, 2.2800e-02, -2.2117e-02, 2.1335e-02, -2.0463e-02, 1.9515e-02,\n",
    "          -1.8501e-02, 1.7437e-02, -1.6334e-02, 1.5205e-02, -1.4064e-02, 1.2922e-02, -1.1790e-02, 1.0681e-02, -9.6021e-03, 8.5633e-03,\n",
    "          -7.5717e-03, 6.6338e-03, -5.7547e-03, 4.9383e-03, -4.1874e-03, 3.5036e-03, -2.8875e-03, 2.3385e-03, -1.8554e-03, 1.4358e-03,\n",
    "          7.8306e-01]"
   ]
  },
  {
   "attachments": {},
   "cell_type": "markdown",
   "metadata": {},
   "source": [
    "Let's start by getting the first excited state"
   ]
  },
  {
   "cell_type": "code",
   "execution_count": 85,
   "metadata": {},
   "outputs": [],
   "source": [
    "from openfermion import get_sparse_operator\n",
    "import numpy as np\n",
    "\n",
    "from tangelo.linq import Circuit, Gate, get_backend\n",
    "from tangelo.toolboxes.circuits.qsp import get_qsp_circuit_no_anc\n",
    "from tangelo.toolboxes.circuits.lcu import get_uprep_uselect, get_lcu_qubit_op_info\n",
    "from tangelo.molecule_library import mol_H2_sto3g\n",
    "from tangelo.toolboxes.qubit_mappings.mapping_transform import fermion_to_qubit_mapping\n",
    "from tangelo.linq.helpers.circuits.statevector import StateVector\n",
    "\n",
    "fe_op = mol_H2_sto3g.fermionic_hamiltonian\n",
    "qu_op = fermion_to_qubit_mapping(fe_op, \"scbk\", n_spinorbitals=4, n_electrons=2)\n",
    "\n",
    "ham = get_sparse_operator(qu_op).toarray()\n",
    "eigs, vecs = np.linalg.eigh(ham)\n",
    "alpha = eigs[3]-eigs[0]\n",
    "lamb = eigs[1]\n",
    "\n",
    "qu_op_tilde = (qu_op - lamb)/(alpha+abs(lamb))\n",
    "\n",
    "init_state = np.random.random(4)\n",
    "init_state /= np.linalg.norm(init_state)\n",
    "\n",
    "sv = StateVector(init_state)\n",
    "init_circ = sv.initializing_circuit()\n"
   ]
  },
  {
   "cell_type": "code",
   "execution_count": 86,
   "metadata": {},
   "outputs": [],
   "source": [
    "qu_op_qs, m_qs, alpha = get_lcu_qubit_op_info(qu_op_tilde)\n",
    "uprep, uselect, qu_op_qs, m_qs, alpha = get_uprep_uselect(qu_op_tilde)\n",
    "cua = uprep + uselect + uprep.inverse()\n",
    "eig_filt_circ = get_qsp_circuit_no_anc(cua, m_qs, phases)"
   ]
  },
  {
   "cell_type": "code",
   "execution_count": 87,
   "metadata": {},
   "outputs": [],
   "source": [
    "full_circuit = init_circ + eig_filt_circ + Circuit([Gate(\"MEASURE\", m) for m in m_qs])\n",
    "full_circuit += Circuit([Gate(\"MEASURE\", m_qs[-1]+1)])"
   ]
  },
  {
   "cell_type": "code",
   "execution_count": 88,
   "metadata": {},
   "outputs": [],
   "source": [
    "sim = get_backend(\"qulacs\")\n",
    "\n",
    "f, sv = sim.simulate(full_circuit, desired_meas_result=\"0000\", return_statevector=True)\n",
    "sv = np.reshape(sv, (2**4, 4))[0, :]\n",
    "sv = np.reshape(sv, (2,2)).T.flatten()"
   ]
  },
  {
   "cell_type": "code",
   "execution_count": 89,
   "metadata": {},
   "outputs": [
    {
     "name": "stdout",
     "output_type": "stream",
     "text": [
      "initial overlap = 0.11941071942277898\n",
      "final overlap = 0.9996489313292234\n"
     ]
    }
   ],
   "source": [
    "print(f'initial overlap = {abs(np.dot(vecs[:,1], init_state))}')\n",
    "print(f'final overlap = {abs(np.dot(vecs[:,1], sv))}')"
   ]
  },
  {
   "attachments": {},
   "cell_type": "markdown",
   "metadata": {},
   "source": [
    "Now lets get state 2"
   ]
  },
  {
   "cell_type": "code",
   "execution_count": 90,
   "metadata": {},
   "outputs": [],
   "source": [
    "lamb = eigs[2]\n",
    "qu_op_tilde = (qu_op - lamb)/(alpha+abs(lamb))\n",
    "\n",
    "qu_op_qs, m_qs, alpha = get_lcu_qubit_op_info(qu_op_tilde)\n",
    "uprep, uselect, qu_op_qs, m_qs, alpha = get_uprep_uselect(qu_op_tilde)\n",
    "cua = uprep + uselect + uprep.inverse()\n",
    "eig_filt_circ = get_qsp_circuit_no_anc(cua, m_qs, phases)"
   ]
  },
  {
   "cell_type": "code",
   "execution_count": 91,
   "metadata": {},
   "outputs": [],
   "source": [
    "full_circuit = init_circ + eig_filt_circ + Circuit([Gate(\"MEASURE\", m) for m in m_qs])\n",
    "full_circuit += Circuit([Gate(\"MEASURE\", m_qs[-1]+1)])"
   ]
  },
  {
   "cell_type": "code",
   "execution_count": 92,
   "metadata": {},
   "outputs": [],
   "source": [
    "sim = get_backend(\"qulacs\")\n",
    "\n",
    "f, sv = sim.simulate(full_circuit, desired_meas_result=\"0000\", return_statevector=True)\n",
    "sv = np.reshape(sv, (2**4, 4))[0, :]\n",
    "sv = np.reshape(sv, (2,2)).T.flatten()"
   ]
  },
  {
   "cell_type": "code",
   "execution_count": 93,
   "metadata": {},
   "outputs": [
    {
     "name": "stdout",
     "output_type": "stream",
     "text": [
      "initial overlap = 0.8594694189014058\n",
      "final overlap = 0.9999961396095338\n"
     ]
    }
   ],
   "source": [
    "print(f'initial overlap = {abs(np.dot(vecs[:,2], init_state))}')\n",
    "print(f'final overlap = {abs(np.dot(vecs[:,2], sv))}')"
   ]
  }
 ],
 "metadata": {
  "kernelspec": {
   "display_name": "qsdkmain",
   "language": "python",
   "name": "python3"
  },
  "language_info": {
   "codemirror_mode": {
    "name": "ipython",
    "version": 3
   },
   "file_extension": ".py",
   "mimetype": "text/x-python",
   "name": "python",
   "nbconvert_exporter": "python",
   "pygments_lexer": "ipython3",
   "version": "3.9.16"
  },
  "orig_nbformat": 4,
  "vscode": {
   "interpreter": {
    "hash": "95050af2697fca56ed7491a4fb0b04c1282c0de0a7e0a7cacd318a8297b0b1d8"
   }
  }
 },
 "nbformat": 4,
 "nbformat_minor": 2
}
