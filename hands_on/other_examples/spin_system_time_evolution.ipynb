{
 "cells": [
  {
   "cell_type": "markdown",
   "metadata": {},
   "source": [
    "# Time-evolution algorithms"
   ]
  },
  {
   "cell_type": "markdown",
   "metadata": {},
   "source": [
    "We are going to implement the three algorithms compared in [Toward the first quantum simulation with quantum speedup](https://arxiv.org/pdf/1711.10980.pdf). These are the product formula, the truncated Taylor series and the qubitization approach."
   ]
  },
  {
   "cell_type": "markdown",
   "metadata": {},
   "source": [
    "To verify the implementation we are going to first implement the algorithm for a small 6 qubit system."
   ]
  },
  {
   "cell_type": "code",
   "execution_count": 53,
   "metadata": {},
   "outputs": [],
   "source": [
    "from tangelo.toolboxes.operators import QubitOperator\n",
    "n_spins = 2\n",
    "total_time = n_spins\n",
    "\n",
    "hjs = [-0.7,0.5]\n",
    "\n",
    "def get_spin_op(hjs):\n",
    "    n_qubits = len(hjs)\n",
    "    qu_op = QubitOperator()\n",
    "    for j in range(n_qubits):\n",
    "        qu_op += QubitOperator(f\"X{j} X{(j+1)%n_qubits}\")\n",
    "        qu_op += QubitOperator(f\"Y{j} Y{(j+1)%n_qubits}\")\n",
    "        qu_op += QubitOperator(f\"Z{j} Z{(j+1)%n_qubits}\")\n",
    "        qu_op += hjs[j]*QubitOperator(f\"Z{j}\")\n",
    "    return qu_op"
   ]
  },
  {
   "cell_type": "code",
   "execution_count": 54,
   "metadata": {},
   "outputs": [],
   "source": [
    "from openfermion import get_sparse_operator\n",
    "from scipy.linalg import expm\n",
    "import numpy as np\n",
    "\n",
    "def get_exact_evolution_operator(qu_op, time):\n",
    "    sp_op = get_sparse_operator(qu_op).toarray()\n",
    "    ev_op = expm(-1j*time*sp_op)\n",
    "    return ev_op\n",
    "\n",
    "ref_state = np.ones(2**n_spins)/np.sqrt(2**n_spins)\n",
    "\n",
    "qu_op = get_spin_op(hjs)\n",
    "ev_op = get_exact_evolution_operator(qu_op, total_time)\n",
    "final_state = ev_op@ref_state\n",
    "# Flip state from lsq_first to msq_first for comparison with qulacs\n",
    "final_state = np.reshape(final_state, [2]*n_spins).transpose(list(reversed(range(n_spins)))).flatten()"
   ]
  },
  {
   "cell_type": "code",
   "execution_count": 55,
   "metadata": {},
   "outputs": [],
   "source": [
    "from tangelo.linq import get_backend, Circuit, Gate\n",
    "\n",
    "init_circ = Circuit([Gate(\"H\", i) for i in range(n_spins)])\n",
    "sim = get_backend(\"qulacs\")"
   ]
  },
  {
   "cell_type": "markdown",
   "metadata": {},
   "source": [
    "## Product formula"
   ]
  },
  {
   "cell_type": "markdown",
   "metadata": {},
   "source": [
    "You can try different trotter orders and trotter steps to see if you can reproduce the results. The goal is an error less than 0.001, so an overlap of greater than 0.999."
   ]
  },
  {
   "cell_type": "code",
   "execution_count": 56,
   "metadata": {},
   "outputs": [
    {
     "name": "stdout",
     "output_type": "stream",
     "text": [
      "overlap 0.999614098307875\n",
      "CNOT count 240\n",
      "RZ counts 200\n"
     ]
    }
   ],
   "source": [
    "from tangelo.toolboxes.ansatz_generator.ansatz_utils import trotterize\n",
    "from tangelo.toolboxes.operators import count_qubits\n",
    "\n",
    "def get_pf_circ(qu_op, total_time):\n",
    "    n_trotter_steps = 4*round(count_qubits(qu_op)/2)\n",
    "    pf_circ = init_circ + trotterize(qu_op, total_time, n_trotter_steps=n_trotter_steps, trotter_order=4)\n",
    "    return pf_circ\n",
    "\n",
    "pf_circ = get_pf_circ(qu_op, total_time)\n",
    "f, pf_state = sim.simulate(pf_circ, return_statevector=True)\n",
    "\n",
    "\n",
    "\n",
    "print(\"overlap\", np.abs(np.vdot(final_state, pf_state)))\n",
    "print(\"CNOT count\", pf_circ.counts[\"CNOT\"])\n",
    "print(\"RZ counts\", pf_circ.counts[\"RZ\"])"
   ]
  },
  {
   "cell_type": "markdown",
   "metadata": {},
   "source": [
    "## Truncated Taylor Series"
   ]
  },
  {
   "cell_type": "code",
   "execution_count": 60,
   "metadata": {},
   "outputs": [
    {
     "name": "stdout",
     "output_type": "stream",
     "text": [
      "15 15\n"
     ]
    }
   ],
   "source": [
    "from tangelo.toolboxes.circuits.lcu import get_truncated_taylor_series, get_truncated_taylor_series_qubits\n",
    "\n",
    "\n",
    "def get_ts_circ(qu_op, total_time):\n",
    "    ts_circ = get_truncated_taylor_series(qu_op, kmax=3, t=total_time)\n",
    "    return ts_circ\n",
    "\n",
    "\n",
    "\n",
    "ts_circ = init_circ + get_ts_circ(qu_op, total_time)\n",
    "print(ts_circ.width, len(get_truncated_taylor_series_qubits(qu_op, kmax=3)))\n",
    "\n",
    "n_ancilla = ts_circ.width - n_spins\n",
    "measure_ops = Circuit([Gate(\"MEASURE\", q) for q in range(n_spins, n_spins+n_ancilla)])\n",
    "desired_measurement = \"0\"*n_ancilla\n",
    "ts_circ += measure_ops\n",
    "\n",
    "f, sv  = sim.simulate(ts_circ, return_statevector=True, desired_meas_result=desired_measurement)\n"
   ]
  },
  {
   "cell_type": "code",
   "execution_count": 61,
   "metadata": {},
   "outputs": [
    {
     "name": "stdout",
     "output_type": "stream",
     "text": [
      "13\n",
      "overlap 0.9999885290157179\n",
      "gate counts {'H': 86, 'RY': 126, 'X': 5502, 'CRY': 3024, 'CNOT': 2268, 'CRZ': 1008, 'CPHASE': 945, 'CX': 420, 'CY': 378, 'CZ': 756, 'MEASURE': 13}\n",
      "n_qubit counts {1: 5727, 2: 2772, 3: 2520, 5: 3465, 13: 42}\n"
     ]
    }
   ],
   "source": [
    "ts_state = np.reshape(sv, (2**n_ancilla, 2**n_spins))[0, :]\n",
    "print(n_ancilla)\n",
    "print(\"overlap\", np.abs(np.vdot(final_state, ts_state)))\n",
    "print(\"gate counts\", ts_circ.counts)\n",
    "print(\"n_qubit counts\", ts_circ.counts_n_qubit)"
   ]
  },
  {
   "cell_type": "markdown",
   "metadata": {},
   "source": [
    "## Qubitization"
   ]
  },
  {
   "cell_type": "markdown",
   "metadata": {},
   "source": [
    "Qubitization or Quantum Signal Processing is a technique that utilizes a block encoding followed by Rz rotations with angle $\\psi_d$ of a specified value to reproduce a polynomial of the Hamiltonian. By utilizing the Jacobi-Anger representation of the exponential, we can represent time-evolution of a system using the circuit outlined in https://arxiv.org/abs/2002.11649 depicted below.\n",
    "\n",
    "![QSP Circuit](QSP_Circuit.png \"Quantum Signal Processing Circuit\")"
   ]
  },
  {
   "cell_type": "code",
   "execution_count": 103,
   "metadata": {},
   "outputs": [],
   "source": [
    "# We need to pyqsp installed to calculate the phase angles.\n",
    "try:\n",
    "    import pyqsp\n",
    "except ModuleNotFoundError:\n",
    "    %pip install pyqsp"
   ]
  },
  {
   "cell_type": "code",
   "execution_count": 64,
   "metadata": {},
   "outputs": [
    {
     "name": "stdout",
     "output_type": "stream",
     "text": [
      "9.560046424292183\n",
      "R=4\n",
      "[PolyCosineTX] rescaling by 0.5.\n",
      "9.560046424292183\n",
      "R=4\n",
      "[PolySineTX] rescaling by 0.5.\n"
     ]
    }
   ],
   "source": [
    "from tangelo.toolboxes.circuits.qsp import get_qsp_hamiltonian_simulation_circuit\n",
    "\n",
    "def get_qs_circ(qu_op, total_time):\n",
    "    fac = count_qubits(qu_op)\n",
    "    time_qs = total_time/fac\n",
    "    qs_circ = get_qsp_hamiltonian_simulation_circuit(qu_op, time_qs, eps=1, n_attempts=100)\n",
    "    return qs_circ*fac\n",
    "\n",
    "qs_circ = init_circ + get_qs_circ(qu_op, total_time)\n",
    "n_ancilla = qs_circ.width - n_spins\n",
    "measure_ops = Circuit([Gate(\"MEASURE\", q) for q in range(n_spins, n_spins+n_ancilla)])\n",
    "desired_measurement = \"0\"*n_ancilla\n",
    "qs_circ += measure_ops\n",
    "f, sv  = sim.simulate(qs_circ, return_statevector=True, desired_meas_result=desired_measurement)"
   ]
  },
  {
   "cell_type": "code",
   "execution_count": 65,
   "metadata": {},
   "outputs": [
    {
     "name": "stdout",
     "output_type": "stream",
     "text": [
      "6\n",
      "overlap 0.9994100499065389\n",
      "gate counts {'H': 26, 'RY': 3416, 'CNOT': 2912, 'X': 8152, 'CH': 56, 'CX': 1020, 'CRZ': 1232, 'CPHASE': 1190, 'CY': 476, 'CZ': 1190, 'RZ': 2, 'MEASURE': 6}\n",
      "n_qubit counts {1: 11602, 2: 2912, 3: 574, 4: 532, 6: 4058}\n"
     ]
    }
   ],
   "source": [
    "qs_state = np.reshape(sv, (2**n_ancilla, 2**n_spins))[0, :]\n",
    "print(n_ancilla)\n",
    "print(\"overlap\", np.abs(np.vdot(final_state, qs_state)))\n",
    "print(\"gate counts\", qs_circ.counts)\n",
    "print(\"n_qubit counts\", qs_circ.counts_n_qubit)"
   ]
  },
  {
   "cell_type": "markdown",
   "metadata": {},
   "source": [
    "### Reproducing the scaling\n",
    "\n",
    "Once you are satisfied you have reasonable parameters, we can start attempting to reproduce the figures with. We will attempt to plot the T-complexity of various algorithms using the conversion of rotations outlined in https://arxiv.org/pdf/1403.2975.pdf"
   ]
  },
  {
   "cell_type": "code",
   "execution_count": 66,
   "metadata": {},
   "outputs": [
    {
     "name": "stdout",
     "output_type": "stream",
     "text": [
      "Taylor Series T-complexity 8143675.873238931\n",
      "Qubitization T-complexity 9475694.240302673\n",
      "Product Formula T-complexity 7982.62742772967\n"
     ]
    }
   ],
   "source": [
    "from cirq_ft import t_complexity\n",
    "from tangelo.linq import translate_circuit\n",
    "\n",
    "def total_t(circ: Circuit):\n",
    "    t_complex = t_complexity(translate_circuit(circ, \"cirq\"))\n",
    "    return t_complex.t + (10 + 4*np.log2(1/0.001)*t_complex.rotations)\n",
    "\n",
    "ts_total_t = total_t(ts_circ)\n",
    "qs_total_t = total_t(qs_circ)\n",
    "pf_total_t = total_t(pf_circ)\n",
    "print(\"Taylor Series T-complexity\", ts_total_t)\n",
    "print(\"Qubitization T-complexity\", qs_total_t)\n",
    "print(\"Product Formula T-complexity\", pf_total_t)"
   ]
  },
  {
   "cell_type": "code",
   "execution_count": 75,
   "metadata": {},
   "outputs": [
    {
     "name": "stdout",
     "output_type": "stream",
     "text": [
      "For n=2\n",
      "8.3928788456481\n",
      "R=4\n",
      "[PolyCosineTX] rescaling by 0.5.\n",
      "8.3928788456481\n",
      "R=4\n",
      "[PolySineTX] rescaling by 0.5.\n",
      "For n=4\n",
      "18.98048549554957\n",
      "R=9\n",
      "[PolyCosineTX] rescaling by 0.5.\n",
      "18.98048549554957\n",
      "R=9\n",
      "[PolySineTX] rescaling by 0.5.\n",
      "For n=6\n",
      "28.075499511700574\n",
      "R=14\n",
      "[PolyCosineTX] rescaling by 0.5.\n",
      "28.075499511700574\n",
      "R=14\n",
      "[PolySineTX] rescaling by 0.5.\n",
      "Attempt 2 for the imaginary phases\n"
     ]
    }
   ],
   "source": [
    "ts_t_counts = []\n",
    "qs_t_counts = []\n",
    "pf_t_counts = []\n",
    "spin_counts = [2, 4, 6]\n",
    "for n in spin_counts:\n",
    "    print(f\"For n={n}\")\n",
    "    hjs = np.random.random(n)\n",
    "    qu_op = get_spin_op(hjs)\n",
    "    ts_t_counts += [total_t(get_ts_circ(qu_op, n))]\n",
    "    qs_t_counts += [total_t(get_qs_circ(qu_op, n))]\n",
    "    pf_t_counts += [total_t(get_pf_circ(qu_op, n))]"
   ]
  },
  {
   "cell_type": "code",
   "execution_count": 76,
   "metadata": {},
   "outputs": [
    {
     "data": {
      "text/plain": [
       "Text(0, 0.5, 'T Gate Count')"
      ]
     },
     "execution_count": 76,
     "metadata": {},
     "output_type": "execute_result"
    },
    {
     "data": {
      "image/png": "[encoded data removed]",
      "text/plain": [
       "<Figure size 432x288 with 1 Axes>"
      ]
     },
     "metadata": {
      "needs_background": "light"
     },
     "output_type": "display_data"
    }
   ],
   "source": [
    "import matplotlib.pyplot as plt\n",
    "\n",
    "plt.semilogy(spin_counts, ts_t_counts, \"*\")\n",
    "plt.semilogy(spin_counts, qs_t_counts, \"*\")\n",
    "plt.semilogy(spin_counts, pf_t_counts, \"*\")\n",
    "plt.legend([\"TS\", \"QS\", \"PF\"])\n",
    "plt.xticks(spin_counts[:3])\n",
    "plt.xlabel(\"System Size\")\n",
    "plt.ylabel(\"T Gate Count\")"
   ]
  },
  {
   "cell_type": "code",
   "execution_count": 101,
   "metadata": {},
   "outputs": [],
   "source": [
    "from tangelo.toolboxes.circuits.qsp import get_qsp_hamiltonian_simulation_qubit_list\n",
    "ts_qubit_counts = []\n",
    "qs_qubit_counts = []\n",
    "pf_qubit_counts = []\n",
    "spin_sizes = list(range(5, 101, 5))\n",
    "for n in spin_sizes:\n",
    "    hjs = 2*np.random.random(n)-1\n",
    "    qu_op = get_spin_op(hjs)\n",
    "    ts_qubit_counts += [len(get_truncated_taylor_series_qubits(qu_op, 7))]\n",
    "    qs_qubit_counts += [len(get_qsp_hamiltonian_simulation_qubit_list(qu_op))]\n",
    "    pf_qubit_counts += [n]"
   ]
  },
  {
   "cell_type": "code",
   "execution_count": 102,
   "metadata": {},
   "outputs": [
    {
     "data": {
      "text/plain": [
       "Text(0, 0.5, '# qubits')"
      ]
     },
     "execution_count": 102,
     "metadata": {},
     "output_type": "execute_result"
    },
    {
     "data": {
      "image/png": "[encoded data removed]",
      "text/plain": [
       "<Figure size 432x288 with 1 Axes>"
      ]
     },
     "metadata": {
      "needs_background": "light"
     },
     "output_type": "display_data"
    }
   ],
   "source": [
    "import matplotlib.pyplot as plt\n",
    "\n",
    "plt.plot(spin_sizes, ts_qubit_counts, \"*\")\n",
    "plt.plot(spin_sizes, qs_qubit_counts, \"*\")\n",
    "plt.plot(spin_sizes, pf_qubit_counts, \"*\")\n",
    "plt.legend([\"TS\", \"QS\", \"PF\"])\n",
    "plt.xticks(list(range(0, 101, 20)))\n",
    "plt.xlabel(\"System Size\")\n",
    "plt.ylabel(\"# qubits\")"
   ]
  },
  {
   "cell_type": "code",
   "execution_count": null,
   "metadata": {},
   "outputs": [],
   "source": []
  }
 ],
 "metadata": {
  "kernelspec": {
   "display_name": "qsdkmain",
   "language": "python",
   "name": "python3"
  },
  "language_info": {
   "codemirror_mode": {
    "name": "ipython",
    "version": 3
   },
   "file_extension": ".py",
   "mimetype": "text/x-python",
   "name": "python",
   "nbconvert_exporter": "python",
   "pygments_lexer": "ipython3",
   "version": "3.9.18"
  },
  "orig_nbformat": 4
 },
 "nbformat": 4,
 "nbformat_minor": 2
}
