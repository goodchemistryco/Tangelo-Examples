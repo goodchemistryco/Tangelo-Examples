{
 "cells": [
  {
   "cell_type": "markdown",
   "metadata": {},
   "source": [
    "# Probabilistic Imaginary Time-Evolution"
   ]
  },
  {
   "cell_type": "markdown",
   "metadata": {},
   "source": [
    "We are going to implement the algorithm outlined in [Optimal Scheduling in probabilistic imaginary-time evolution on a quantum computer](https://arxiv.org/abs/2305.04600). It approximates the imaginary time-evolution of a system using controlled time-evolutions followed by a measurement.\n",
    "\n",
    "The circuit for the algorithm is\n",
    "\n",
    "![PITE Circuit](PITE_Circuit.png \"Phase Estimation Circuit\")\n"
   ]
  },
  {
   "cell_type": "markdown",
   "metadata": {},
   "source": [
    "Repeatedly applying the above circuit will drive the system to it's ground state at the cost of exponentially decreasing probability."
   ]
  },
  {
   "cell_type": "code",
   "execution_count": 72,
   "metadata": {},
   "outputs": [],
   "source": [
    "from openfermion import get_sparse_operator\n",
    "import numpy as np\n",
    "\n",
    "from tangelo.linq import Circuit, Gate, get_backend\n",
    "from tangelo.toolboxes.ansatz_generator.ansatz_utils import trotterize\n",
    "from tangelo.molecule_library import mol_H2_sto3g\n",
    "from tangelo.toolboxes.qubit_mappings.mapping_transform import fermion_to_qubit_mapping\n",
    "from tangelo.toolboxes.qubit_mappings.statevector_mapping import get_reference_circuit\n",
    "\n",
    "fe_op = mol_H2_sto3g.fermionic_hamiltonian\n",
    "qu_op = fermion_to_qubit_mapping(fe_op, \"scbk\", n_spinorbitals=4, n_electrons=2)\n",
    "\n",
    "ham = get_sparse_operator(qu_op).toarray()\n",
    "\n",
    "hf_circ = get_reference_circuit(4, 2, \"scbk\", True, 0)\n",
    "\n",
    "eigs, vecs = np.linalg.eigh(ham)\n",
    "sim = get_backend(\"cirq\")\n",
    "_, hf_state = sim.simulate(hf_circ, return_statevector=True)"
   ]
  },
  {
   "cell_type": "code",
   "execution_count": 228,
   "metadata": {},
   "outputs": [],
   "source": [
    "w_circ = Circuit([Gate(\"RZ\", 2, parameter = np.pi/2), Gate(\"RY\", 2, parameter=np.pi/2), Gate(\"PHASE\", 2, parameter = np.pi/4)])\n",
    "\n",
    "def pite_circuit(qubit_op, tau, theta):\n",
    "    Urte = trotterize(qubit_op, tau, control=2, trotter_order=4, n_trotter_steps=4)\n",
    "    circuit = (Circuit([Gate(\"H\", 2)])+w_circ+\n",
    "               Circuit([Gate(\"X\", 2)]) + Urte + Circuit([Gate(\"X\", 2)])+\n",
    "               Urte.inverse()+\n",
    "               Circuit([Gate(\"RZ\", 2, parameter=-2*theta)])+\n",
    "               w_circ.inverse()+\n",
    "               Circuit([Gate(\"MEASURE\", 2)]))\n",
    "    return circuit\n"
   ]
  },
  {
   "cell_type": "code",
   "execution_count": 229,
   "metadata": {},
   "outputs": [
    {
     "name": "stdout",
     "output_type": "stream",
     "text": [
      "1.4142246114952058e-05 1.000028284871264\n",
      "{1: 1646, 2: 2560}\n",
      "{'0000': 0.5953000745830743}\n",
      "[-1.11636966e-01+1.13835121e-15j  0.00000000e+00+0.00000000e+00j\n",
      " -3.20132297e-16-7.93279724e-17j  0.00000000e+00+0.00000000e+00j\n",
      " -1.68242030e-16-2.73487488e-16j  0.00000000e+00+0.00000000e+00j\n",
      "  9.93749057e-01-7.74670176e-15j  0.00000000e+00+0.00000000e+00j]\n"
     ]
    }
   ],
   "source": [
    "n_steps = 4\n",
    "dmeas = \"0\"*n_steps\n",
    "m0 = 1/np.sqrt(2)+0.00001\n",
    "kappa = np.sign(m0-1/np.sqrt(2))\n",
    "\n",
    "\n",
    "theta0 = kappa*np.arccos((m0+np.sqrt(1-m0**2))/np.sqrt(2))\n",
    "s1 = m0/np.sqrt(1-m0**2)\n",
    "\n",
    "print(theta0, s1)\n",
    "\n",
    "\n",
    "pite = hf_circ+pite_circuit(qubit_op=qu_op, tau=s1, theta=-theta0)*n_steps\n",
    "print(pite.counts_n_qubit)\n",
    "f, sv = sim.simulate(pite, desired_meas_result=dmeas, return_statevector=True)\n",
    "print(pite.success_probabilities)\n",
    "print(sv)\n",
    "sv = np.reshape(sv, (4, 2))[:, 0]\n"
   ]
  },
  {
   "cell_type": "code",
   "execution_count": 235,
   "metadata": {},
   "outputs": [
    {
     "name": "stdout",
     "output_type": "stream",
     "text": [
      "initial overlap = 0.9936146058054715\n",
      "final overlap = 0.9999992418252036\n",
      "[-0.11163679+2.25169845e-16j  0.        +0.00000000e+00j\n",
      "  0.        +0.00000000e+00j  0.99374904-1.65528878e-15j]\n",
      "[ 0.11282737+0.j  0.        +0.j  0.        +0.j -0.99361461+0.j]\n"
     ]
    }
   ],
   "source": [
    "print(f'initial overlap = {abs(np.dot(hf_state, vecs[:, 0]))}')\n",
    "print(f'final overlap = {abs(np.dot(sv.conj(), vecs[:, 0]))}')\n"
   ]
  },
  {
   "cell_type": "markdown",
   "metadata": {},
   "source": [
    "We can also use Quantum Signal Processing for the time-evolution. Although, these times are so short that it does not make sense"
   ]
  },
  {
   "cell_type": "code",
   "execution_count": 254,
   "metadata": {},
   "outputs": [],
   "source": [
    "from tangelo.toolboxes.circuits.qsp import get_qsp_hamiltonian_simulation_circuit, get_qsp_hamiltonian_simulation_qubit_list\n",
    "qsp_qubits = get_qsp_hamiltonian_simulation_qubit_list(qu_op)\n",
    "cq = qsp_qubits[-1] + 1\n",
    "w_circ = Circuit([Gate(\"RZ\", cq, parameter = np.pi/2), Gate(\"RY\", cq, parameter=np.pi/2), Gate(\"PHASE\", cq, parameter = np.pi/4)])\n",
    "\n",
    "def pite_circuit(qubit_op, tau, theta):\n",
    "    Urte = get_qsp_hamiltonian_simulation_circuit(qubit_op, tau, eps=0.001, control=cq)\n",
    "    circuit = (Circuit([Gate(\"H\", cq)])+w_circ+\n",
    "               Circuit([Gate(\"X\", cq)]) + Urte + Circuit([Gate(\"X\", cq)])+\n",
    "               Urte.inverse()+\n",
    "               Circuit([Gate(\"RZ\", cq, parameter=-2*theta)])+\n",
    "               w_circ.inverse()+\n",
    "               Circuit([Gate(\"MEASURE\", cq)]))\n",
    "    return circuit\n"
   ]
  },
  {
   "cell_type": "code",
   "execution_count": 255,
   "metadata": {},
   "outputs": [
    {
     "name": "stdout",
     "output_type": "stream",
     "text": [
      "-1.4142042003054168e-05 0.9999717163287355\n",
      "5.745046242204417\n",
      "R=2\n",
      "[PolyCosineTX] rescaling by 0.5.\n",
      "5.745046242204417\n",
      "R=2\n",
      "[PolySineTX] rescaling by 0.5.\n",
      "{1: 25806, 2: 6280, 4: 2632, 7: 7560, 6: 48}\n",
      "{'0000': 0.595559054541099}\n"
     ]
    }
   ],
   "source": [
    "n_steps = 4\n",
    "dmeas = \"0\"*n_steps\n",
    "m0 = 1/np.sqrt(2)-0.00001\n",
    "kappa = np.sign(m0-1/np.sqrt(2))\n",
    "\n",
    "\n",
    "theta0 = kappa*np.arccos((m0+np.sqrt(1-m0**2))/np.sqrt(2))\n",
    "s1 = m0/np.sqrt(1-m0**2)\n",
    "\n",
    "print(theta0, s1)\n",
    "\n",
    "\n",
    "pite = hf_circ+pite_circuit(qubit_op=qu_op, tau=s1, theta=-theta0)*n_steps\n",
    "print(pite.counts_n_qubit)\n",
    "f, sv = sim.simulate(pite, desired_meas_result=dmeas, return_statevector=True)\n",
    "print(pite.success_probabilities)\n",
    "sv = np.reshape(sv, (4, 2**7))[:, 0]"
   ]
  },
  {
   "cell_type": "code",
   "execution_count": 256,
   "metadata": {},
   "outputs": [
    {
     "name": "stdout",
     "output_type": "stream",
     "text": [
      "initial overlap = 0.9936146058054715\n",
      "final overlap = 0.999999240878011\n"
     ]
    }
   ],
   "source": [
    "print(f'initial overlap = {abs(np.dot(hf_state, vecs[:, 0]))}')\n",
    "print(f'final overlap = {abs(np.dot(sv.conj(), vecs[:, 0]))}')"
   ]
  }
 ],
 "metadata": {
  "kernelspec": {
   "display_name": "qsdkmain",
   "language": "python",
   "name": "python3"
  },
  "language_info": {
   "codemirror_mode": {
    "name": "ipython",
    "version": 3
   },
   "file_extension": ".py",
   "mimetype": "text/x-python",
   "name": "python",
   "nbconvert_exporter": "python",
   "pygments_lexer": "ipython3",
   "version": "3.9.18"
  },
  "orig_nbformat": 4,
  "vscode": {
   "interpreter": {
    "hash": "95050af2697fca56ed7491a4fb0b04c1282c0de0a7e0a7cacd318a8297b0b1d8"
   }
  }
 },
 "nbformat": 4,
 "nbformat_minor": 2
}
