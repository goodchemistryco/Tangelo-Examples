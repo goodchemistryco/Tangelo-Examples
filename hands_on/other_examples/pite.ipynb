{
 "cells": [
  {
   "cell_type": "code",
   "execution_count": 229,
   "metadata": {},
   "outputs": [],
   "source": [
    "from openfermion import get_sparse_operator\n",
    "import numpy as np\n",
    "\n",
    "from tangelo.linq import Circuit, Gate, get_backend\n",
    "from tangelo.toolboxes.ansatz_generator.ansatz_utils import trotterize\n",
    "from tangelo.molecule_library import mol_H2_sto3g\n",
    "from tangelo.toolboxes.qubit_mappings.mapping_transform import fermion_to_qubit_mapping\n",
    "from tangelo.toolboxes.qubit_mappings.statevector_mapping import get_reference_circuit\n",
    "\n",
    "fe_op = mol_H2_sto3g.fermionic_hamiltonian\n",
    "qu_op = fermion_to_qubit_mapping(fe_op, \"scbk\", n_spinorbitals=4, n_electrons=2)\n",
    "\n",
    "ham = get_sparse_operator(qu_op).toarray()\n",
    "\n",
    "hf_circ = get_reference_circuit(4, 2, \"scbk\", True, 0)\n",
    "\n",
    "eigs, vecs = np.linalg.eigh(ham)\n",
    "sim = get_backend(\"cirq\")\n",
    "_, hf_state = sim.simulate(hf_circ, return_statevector=True)\n",
    "\n",
    "\n"
   ]
  },
  {
   "cell_type": "code",
   "execution_count": 273,
   "metadata": {},
   "outputs": [],
   "source": [
    "w_circ = Circuit([Gate(\"RY\", 2, parameter=-np.pi/2), Gate(\"PHASE\", 2, parameter = np.pi/2)])\n",
    "\n",
    "def pite_circuit(qubit_op, tau, theta):\n",
    "    circuit = (Circuit([Gate(\"H\", 2)])+w_circ+\n",
    "               Circuit([Gate(\"X\", 2)]) + trotterize(qubit_op, tau, control=2, trotter_order=4, n_trotter_steps=4)+ Circuit([Gate(\"X\", 2)])+\n",
    "               trotterize(qubit_op, tau, control=2, trotter_order=4, n_trotter_steps=4).inverse()+\n",
    "               Circuit([Gate(\"RZ\", 2, parameter=-2*theta)])+\n",
    "               w_circ.inverse()+\n",
    "               Circuit([Gate(\"MEASURE\", 2)]))\n",
    "    return circuit\n"
   ]
  },
  {
   "cell_type": "code",
   "execution_count": 278,
   "metadata": {},
   "outputs": [
    {
     "name": "stdout",
     "output_type": "stream",
     "text": [
      "0.14189705460416518 1.3333333333333337\n",
      "[-4.77838847e-02+1.24445325e-01j  0.00000000e+00+0.00000000e+00j\n",
      "  3.79629188e-16+7.04862515e-16j  0.00000000e+00+0.00000000e+00j\n",
      " -7.83046051e-18-1.01797739e-16j -0.00000000e+00+0.00000000e+00j\n",
      "  4.50366501e-01-8.82836381e-01j -0.00000000e+00+0.00000000e+00j]\n"
     ]
    }
   ],
   "source": [
    "n_steps = 6\n",
    "dmeas = \"0\"*n_steps\n",
    "m0 = 0.8\n",
    "kappa = np.sign(m0-1/np.sqrt(2))\n",
    "\n",
    "\n",
    "theta0 = kappa*np.arccos((m0+np.sqrt(1-m0**2))/np.sqrt(2))\n",
    "s1 = m0/np.sqrt(1-m0**2)\n",
    "\n",
    "print(theta0, s1)\n",
    "\n",
    "\n",
    "pite = pite_circuit(qubit_op=qu_op, tau=s1*9, theta=-theta0)*n_steps\n",
    "f, sv = sim.simulate(hf_circ+pite, desired_meas_result=dmeas, return_statevector=True)\n",
    "print(sv)\n",
    "sv = np.reshape(sv, (4, 2))[:, 0]\n"
   ]
  },
  {
   "cell_type": "code",
   "execution_count": 279,
   "metadata": {},
   "outputs": [
    {
     "name": "stdout",
     "output_type": "stream",
     "text": [
      "initial overlap = 0.9936146058054715\n",
      "final overlap = 0.9997053728327631\n",
      "[-4.77838847e-02+1.24445325e-01j  3.79629188e-16+7.04862515e-16j\n",
      " -7.83046051e-18-1.01797739e-16j  4.50366501e-01-8.82836381e-01j]\n",
      "[ 0.11282737+0.j  0.        +0.j  0.        +0.j -0.99361461+0.j]\n"
     ]
    }
   ],
   "source": [
    "print(f'initial overlap = {abs(np.dot(hf_state, vecs[:, 0]))}')\n",
    "print(f'final overlap = {abs(np.dot(sv.conj(), vecs[:, 0]))}')\n",
    "print(sv)\n",
    "print(vecs[:,0])\n"
   ]
  },
  {
   "cell_type": "code",
   "execution_count": null,
   "metadata": {},
   "outputs": [],
   "source": []
  }
 ],
 "metadata": {
  "kernelspec": {
   "display_name": "qsdkmain",
   "language": "python",
   "name": "python3"
  },
  "language_info": {
   "codemirror_mode": {
    "name": "ipython",
    "version": 3
   },
   "file_extension": ".py",
   "mimetype": "text/x-python",
   "name": "python",
   "nbconvert_exporter": "python",
   "pygments_lexer": "ipython3",
   "version": "3.9.16"
  },
  "orig_nbformat": 4,
  "vscode": {
   "interpreter": {
    "hash": "95050af2697fca56ed7491a4fb0b04c1282c0de0a7e0a7cacd318a8297b0b1d8"
   }
  }
 },
 "nbformat": 4,
 "nbformat_minor": 2
}
