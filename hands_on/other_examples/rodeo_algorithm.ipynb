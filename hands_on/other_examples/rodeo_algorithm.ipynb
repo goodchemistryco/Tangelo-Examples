{
 "cells": [
  {
   "cell_type": "code",
   "execution_count": 27,
   "metadata": {},
   "outputs": [
    {
     "name": "stdout",
     "output_type": "stream",
     "text": [
      "2\n"
     ]
    }
   ],
   "source": [
    "import numpy as np\n",
    "\n",
    "from tangelo import SecondQuantizedMolecule as SQMol\n",
    "from tangelo.linq import Circuit, Gate, get_backend\n",
    "from tangelo.toolboxes.operators import QubitOperator\n",
    "from tangelo.toolboxes.circuits.qsp import get_qsp_hamiltonian_simulation_circuit, get_qsp_hamiltonian_simulation_qubit_list\n",
    "from tangelo.toolboxes.ansatz_generator.ansatz_utils import trotterize\n",
    "from tangelo.toolboxes.qubit_mappings.statevector_mapping import do_scbk_transform\n",
    "from tangelo.toolboxes.qubit_mappings.mapping_transform import fermion_to_qubit_mapping as f2q_mapping\n",
    "from tangelo.toolboxes.qubit_mappings.statevector_mapping import vector_to_circuit\n",
    "li2=  \"\"\"Li 0.  0. 0.\n",
    "         Li 3.0 0. 0. \"\"\"\n",
    "\n",
    "# 2 electrons in 2 orbitals\n",
    "fo = [0,1]+[i for i in range(4,28)]\n",
    "\n",
    "# Runs RHF calculation\n",
    "mol_Li2 = SQMol(li2, q=0, spin=0, basis='6-31g(d,p)', frozen_orbitals=fo, symmetry=True)\n",
    "h_obj =  f2q_mapping(mol_Li2.fermionic_hamiltonian, \"scbk\", mol_Li2.n_active_sos,\n",
    "                     mol_Li2.n_active_electrons, up_then_down=True, spin=mol_Li2.spin)\n",
    "# Stretch factor of 300 to make eigenvalue gap larger. Therefore, time evolution needs to be shorter.\n",
    "h_obj = 300*(h_obj - QubitOperator((), -14.85))\n",
    "n_qubits = 2#len(get_qsp_hamiltonian_simulation_qubit_list(h_obj))\n",
    "print(n_qubits)\n"
   ]
  },
  {
   "cell_type": "code",
   "execution_count": 110,
   "metadata": {},
   "outputs": [],
   "source": [
    "# One rodeo cycle as defined in Fig.1 of arXiv.2110.07747\n",
    "def rodeo_cycle(hobj, energy, t, i):\n",
    "    circuit = Circuit([Gate(\"H\", i)])\n",
    "    circuit += trotterize(hobj, time=t, control=i, trotter_order=4, n_trotter_steps=6)\n",
    "    circuit += Circuit([Gate(\"PHASE\", i, parameter=energy*t), Gate(\"H\", i)])\n",
    "    return circuit"
   ]
  },
  {
   "cell_type": "code",
   "execution_count": 90,
   "metadata": {},
   "outputs": [
    {
     "name": "stdout",
     "output_type": "stream",
     "text": [
      "-15.0 0.04889911706453975\n",
      "-13.5 0.07383494659955121\n",
      "-12.0 0.06765053883083393\n",
      "-10.5 0.08257786221888881\n",
      "-9.0 0.22009543645345775\n",
      "-7.5 0.2748450390791964\n",
      "-6.0 0.3428121238866467\n",
      "-4.5 0.25624178174436296\n",
      "-3.0 0.1648711724097951\n",
      "-1.5 0.07676487811963659\n",
      "0.0 0.13950849086476685\n",
      "1.5 0.2702871764384635\n",
      "3.0 0.3845132440155378\n",
      "4.5 0.3137185746129072\n",
      "6.0 0.18302647551729181\n",
      "7.5 0.09324694702785939\n",
      "9.0 0.10251774756212362\n",
      "10.5 0.08027586627401165\n",
      "12.0 0.06846715675549395\n",
      "13.5 0.06984737812515018\n",
      "15.0 0.051660841367605306\n",
      "16.5 0.1465973535445897\n",
      "18.0 0.2879358847539992\n",
      "19.5 0.3707299366258762\n",
      "21.0 0.22140769854646275\n",
      "22.5 0.17649336913663968\n",
      "24.0 0.12672973478228816\n",
      "25.5 0.08402042553494299\n",
      "27.0 0.06842555674369456\n",
      "28.5 0.06063192554511987\n"
     ]
    }
   ],
   "source": [
    "\n",
    "\n",
    "sim = get_backend()\n",
    "\n",
    "sigma = 0.4\n",
    "\n",
    "# We will use multiple reference states as probability depends on overlap with starting state.\n",
    "ref_states = [vector_to_circuit(do_scbk_transform([1, 1, 0, 0], 4)),\n",
    "              vector_to_circuit(do_scbk_transform([1, 0, 1, 0], 4)),\n",
    "              vector_to_circuit(do_scbk_transform([0, 0, 1, 1], 4))]\n",
    "\n",
    "# Equivalent to energies from -14.9 -> 14.75 for 10 iterations.\n",
    "energies = [-0.05*300 +300*0.005*i for i in range(30)]\n",
    "success_prob = list()\n",
    "for energy in energies:\n",
    "    success=0\n",
    "    for sample in range(40):\n",
    "        t = np.random.normal(0, sigma, 4)\n",
    "        cstart = np.random.choice(ref_states)\n",
    "        sv = np.zeros(2**(n_qubits+1))\n",
    "        sv[0] = 1\n",
    "        c_success = 1\n",
    "        for i, tk in enumerate(t):\n",
    "            if i == 0:\n",
    "                circuit = cstart + rodeo_cycle(h_obj, energy, tk, n_qubits)\n",
    "            else:\n",
    "                circuit = rodeo_cycle(h_obj, energy, tk, n_qubits)\n",
    "            _, sv = sim.simulate(circuit, return_statevector=True, initial_statevector=sv)\n",
    "            sv = np.reshape(sv, (2, 2**n_qubits))[0, :].flatten()\n",
    "            norm = np.linalg.norm(sv)\n",
    "            c_success *= norm**2\n",
    "            sv /= norm\n",
    "            sv = np.kron([1,0], sv)\n",
    "            \n",
    "        #print(sim.mid_circuit_meas_freqs)\n",
    "        success += c_success\n",
    "    success_prob.append(success/40)\n",
    "    print(energy, success/40)\n"
   ]
  },
  {
   "cell_type": "code",
   "execution_count": 91,
   "metadata": {},
   "outputs": [
    {
     "data": {
      "text/plain": [
       "Text(0, 0.5, 'Success Probability')"
      ]
     },
     "execution_count": 91,
     "metadata": {},
     "output_type": "execute_result"
    },
    {
     "data": {
      "image/png": "[encoded data removed]",
      "text/plain": [
       "<Figure size 432x288 with 1 Axes>"
      ]
     },
     "metadata": {},
     "output_type": "display_data"
    }
   ],
   "source": [
    "import matplotlib.pyplot as plt\n",
    "fig, ax = plt.subplots()\n",
    "fig.patch.set_facecolor('w')\n",
    "ax.set_facecolor('w')\n",
    "evals = [-14.8696203,  -14.83876635, -14.78403833]\n",
    "for e in evals:\n",
    "    ax.axvline(x=e, color='r',ls='--')\n",
    "ax.plot(np.array(energies)/300-14.85, success_prob)\n",
    "ax.set_xlabel('Energy (Hartree)')\n",
    "ax.set_ylabel('Success Probability')"
   ]
  },
  {
   "cell_type": "code",
   "execution_count": 92,
   "metadata": {},
   "outputs": [
    {
     "name": "stdout",
     "output_type": "stream",
     "text": [
      "-15.0 0.052744887303785126\n",
      "-13.5 0.06840914543044617\n",
      "-12.0 0.04426364818220732\n",
      "-10.5 0.06969755397279226\n",
      "-9.0 0.13294498037461394\n",
      "-7.5 0.14978473448633142\n",
      "-6.0 0.20779865063867256\n",
      "-4.5 0.11236945555505569\n",
      "-3.0 0.08480389019554127\n",
      "-1.5 0.08064271882033727\n",
      "0.0 0.0900282394439046\n",
      "1.5 0.1611992745799951\n",
      "3.0 0.33039632626671045\n",
      "4.5 0.1553221321999903\n",
      "6.0 0.0840167640156647\n",
      "7.5 0.07462180963250899\n",
      "9.0 0.0653879880311874\n",
      "10.5 0.05566018510055919\n",
      "12.0 0.057519541042564945\n",
      "13.5 0.04244799700232067\n",
      "15.0 0.039787242159317726\n",
      "16.5 0.08059966684468595\n",
      "18.0 0.10639574861778231\n",
      "19.5 0.3203878571022366\n",
      "21.0 0.17553587807290577\n",
      "22.5 0.06467122967550196\n",
      "24.0 0.06662351850850465\n",
      "25.5 0.04148758540615636\n",
      "27.0 0.06482142056498312\n",
      "28.5 0.05286575020774845\n"
     ]
    }
   ],
   "source": [
    "sim = get_backend()\n",
    "\n",
    "sigma = 0.4\n",
    "\n",
    "# We will use multiple reference states as probability depends on overlap with starting state.\n",
    "ref_states = [vector_to_circuit(do_scbk_transform([1, 1, 0, 0], 4)),\n",
    "              vector_to_circuit(do_scbk_transform([1, 0, 1, 0], 4)),\n",
    "              vector_to_circuit(do_scbk_transform([0, 0, 1, 1], 4))]\n",
    "\n",
    "# Equivalent to energies from -14.9 -> 14.75 for 10 iterations.\n",
    "energies = [-0.05*300 +300*0.005*i for i in range(30)]\n",
    "success_prob = list()\n",
    "for energy in energies:\n",
    "    success=0\n",
    "    for sample in range(40):\n",
    "        t = np.random.normal(0, sigma*2, 4)\n",
    "        cstart = np.random.choice(ref_states)\n",
    "        sv = np.zeros(2**(n_qubits+1))\n",
    "        sv[0] = 1\n",
    "        c_success = 1\n",
    "        for i, tk in enumerate(t):\n",
    "            if i == 0:\n",
    "                circuit = cstart + rodeo_cycle(h_obj, energy, tk, n_qubits)\n",
    "            else:\n",
    "                circuit = rodeo_cycle(h_obj, energy, tk, n_qubits)\n",
    "            _, sv = sim.simulate(circuit, return_statevector=True, initial_statevector=sv)\n",
    "            sv = np.reshape(sv, (2, 2**n_qubits))[0, :].flatten()\n",
    "            norm = np.linalg.norm(sv)\n",
    "            c_success *= norm**2\n",
    "            sv /= norm\n",
    "            sv = np.kron([1,0], sv)\n",
    "            \n",
    "        #print(sim.mid_circuit_meas_freqs)\n",
    "        success += c_success\n",
    "    success_prob.append(success/40)\n",
    "    print(energy, success/40)\n"
   ]
  },
  {
   "cell_type": "code",
   "execution_count": 93,
   "metadata": {},
   "outputs": [
    {
     "data": {
      "text/plain": [
       "Text(0, 0.5, 'Success Probability')"
      ]
     },
     "execution_count": 93,
     "metadata": {},
     "output_type": "execute_result"
    },
    {
     "data": {
      "image/png": "[encoded data removed]",
      "text/plain": [
       "<Figure size 432x288 with 1 Axes>"
      ]
     },
     "metadata": {},
     "output_type": "display_data"
    }
   ],
   "source": [
    "import matplotlib.pyplot as plt\n",
    "fig, ax = plt.subplots()\n",
    "fig.patch.set_facecolor('w')\n",
    "ax.set_facecolor('w')\n",
    "evals = [-14.8696203,  -14.83876635, -14.78403833]\n",
    "for e in evals:\n",
    "    ax.axvline(x=e, color='r',ls='--')\n",
    "ax.plot(np.array(energies)/300-14.85, success_prob)\n",
    "ax.set_xlabel('Energy (Hartree)')\n",
    "ax.set_ylabel('Success Probability')"
   ]
  },
  {
   "cell_type": "code",
   "execution_count": 96,
   "metadata": {},
   "outputs": [
    {
     "name": "stdout",
     "output_type": "stream",
     "text": [
      "-14.869620303779788\n"
     ]
    }
   ],
   "source": [
    "from openfermion import get_ground_state, get_sparse_operator\n",
    "h_obj =  f2q_mapping(mol_Li2.fermionic_hamiltonian, \"scbk\", mol_Li2.n_active_sos,\n",
    "                     mol_Li2.n_active_electrons, up_then_down=True, spin=mol_Li2.spin)\n",
    "e_ground, v_ground = get_ground_state(get_sparse_operator(h_obj))\n",
    "h_obj = 300*(h_obj - QubitOperator((), -14.85))"
   ]
  },
  {
   "attachments": {},
   "cell_type": "markdown",
   "metadata": {},
   "source": [
    "Using exact energy"
   ]
  },
  {
   "cell_type": "code",
   "execution_count": 127,
   "metadata": {},
   "outputs": [
    {
     "name": "stdout",
     "output_type": "stream",
     "text": [
      "Using time evolution of 65.7688995623693\n",
      "success probability = 0.857722777659342 with overlap to exact wavefunction 0.9999998177601798\n",
      "Using time evolution of 56.974783999623284\n",
      "success probability = 0.8628847710215928 with overlap to exact wavefunction 0.9999997438211412\n",
      "Using time evolution of 73.62290174725581\n",
      "success probability = 0.8376764940323227 with overlap to exact wavefunction 0.999999991695909\n",
      "Using time evolution of 68.97836920071144\n",
      "success probability = 0.8546929335832387 with overlap to exact wavefunction 0.999999981758423\n",
      "Using time evolution of 41.54138146345455\n",
      "success probability = 0.9288647086354455 with overlap to exact wavefunction 0.9995315400223259\n"
     ]
    }
   ],
   "source": [
    "success_prob = list()\n",
    "energies = [e_ground/300-14.85]\n",
    "\n",
    "# Need larger time evolution\n",
    "for energy in energies:\n",
    "    success=0\n",
    "    for sample in range(5):\n",
    "        t = np.random.normal(0, sigma*20, 10)\n",
    "        cstart = ref_states[1]\n",
    "        sv = np.zeros(2**(n_qubits+1))\n",
    "        sv[0] = 1\n",
    "        c_success = 1\n",
    "        ttime = 0\n",
    "        for i, tk in enumerate(t):\n",
    "            ttime += abs(tk)\n",
    "            if i == 0:\n",
    "                circuit = cstart + rodeo_cycle(h_obj, energy, tk, n_qubits)\n",
    "            else:\n",
    "                circuit = rodeo_cycle(h_obj, energy, tk, n_qubits)\n",
    "            _, sv = sim.simulate(circuit, return_statevector=True, initial_statevector=sv)\n",
    "            sv = np.reshape(sv, (2, 2**n_qubits))[0, :].flatten()\n",
    "            norm = np.linalg.norm(sv)\n",
    "            c_success *= norm**2\n",
    "            sv /= norm\n",
    "            if i != 9:\n",
    "                sv = np.kron([1,0], sv)\n",
    "            else:\n",
    "                sv = np.reshape(sv, [2,2]).T.flatten()\n",
    "                c_overlap = np.abs(np.dot(sv, v_ground))\n",
    "                print(f'Using time evolution of {ttime}')\n",
    "                print(f'success probability = {c_success} with overlap to exact wavefunction {c_overlap}')"
   ]
  }
 ],
 "metadata": {
  "kernelspec": {
   "display_name": "qsdkmain",
   "language": "python",
   "name": "python3"
  },
  "language_info": {
   "codemirror_mode": {
    "name": "ipython",
    "version": 3
   },
   "file_extension": ".py",
   "mimetype": "text/x-python",
   "name": "python",
   "nbconvert_exporter": "python",
   "pygments_lexer": "ipython3",
   "version": "3.9.16"
  },
  "orig_nbformat": 4,
  "vscode": {
   "interpreter": {
    "hash": "95050af2697fca56ed7491a4fb0b04c1282c0de0a7e0a7cacd318a8297b0b1d8"
   }
  }
 },
 "nbformat": 4,
 "nbformat_minor": 2
}
