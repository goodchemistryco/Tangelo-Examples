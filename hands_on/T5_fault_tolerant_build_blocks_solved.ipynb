{
 "cells": [
  {
   "cell_type": "markdown",
   "metadata": {},
   "source": [
    "# Fault Tolerant Building blocks"
   ]
  },
  {
   "cell_type": "markdown",
   "metadata": {},
   "source": [
    "## Before you jump in"
   ]
  },
  {
   "cell_type": "markdown",
   "metadata": {},
   "source": [
    "This hands-on notebook complements existing tutorials, documentation and the developer notes available in the Tangelo GitHub repositories, which present content in much more depth.\n",
    "\n",
    "You will come across code cells that require you to change code or fill in the blanks in order to achieve a desired outcome. There may be many ways to solve these small exercises, and you are encouraged to explore.\n",
    "\n",
    "In order to complete this hands-on tutorial, we recommend you install the latest version of Tangelo.\n",
    "If you encounter errors related to missing Python packages (classical chemistry backend, quantum circuit simulator...), you can install them on-the-fly by typing `!pip install <package-name>` in a new code cell, and then restart the Jupyter notebook kernel."
   ]
  },
  {
   "cell_type": "code",
   "execution_count": 1,
   "metadata": {},
   "outputs": [],
   "source": [
    "# If Tangelo is not found in your current environment, this cell installs all dependencies required for this hands-on\n",
    "try:\n",
    "    import tangelo\n",
    "except ModuleNotFoundError:\n",
    "    !pip install git+https://github.com/goodchemistryco/Tangelo.git@develop  --quiet"
   ]
  },
  {
   "cell_type": "markdown",
   "metadata": {},
   "source": [
    "----\n",
    "\n",
    "For this hands-on, we recommend the following resources:\n",
    "- the first part of this [tutorial notebook](https://github.com/goodchemistryco/Tangelo-Examples/blob/main/examples/workflow_basics/1.the_basics.ipynb) on `linq`, about gates and circuits.\n",
    "- the documentation for the `Gate` ([here](http://tangelo-docs.goodchemistry.com/tangelo.linq.html#module-tangelo.linq.gate)) and `Circuit` ([here](http://tangelo-docs.goodchemistry.com/tangelo.linq.html#module-tangelo.linq.circuit)) classes.\n",
    "\n",
    "----"
   ]
  },
  {
   "cell_type": "markdown",
   "metadata": {},
   "source": [
    "## Hands-On"
   ]
  },
  {
   "cell_type": "markdown",
   "metadata": {},
   "source": [
    "Unlike NISQ algorithms which utilize shallow circuits and require many measurements, fault-tolerant algorithms rely on deeper circuits and fewer measurements. The quantum computer can efficiently store large (exponential) systems efficiently but preparing these states is time-consuming and we generally don't need all the information about the state."
   ]
  },
  {
   "cell_type": "markdown",
   "metadata": {},
   "source": [
    "### 1. Controlled Operations"
   ]
  },
  {
   "cell_type": "markdown",
   "metadata": {},
   "source": [
    "A main component of fault-tolerant algorithms is controlled operations. These are defined such that operations given a state of a certain (set of) qubit(s), one can apply an operation to a different set of qubits. For example, the usual CNOT (CX) Gate applies X to the target qubit only if the control qubit is in the $\\big|1\\big>$ state, and does nothing otherwise. This can be written as\n",
    "\n",
    "$CX\\big|0\\big>\\big|s\\big>=\\big|0\\big>\\big|s\\big>, \\quad CX\\big|1\\big>\\big|s\\big>=\\big|1\\big>X\\big|s\\big>$ where $s$ is any single-qubit state $a\\big|0\\big> + b\\big|1\\big>$.\n",
    "\n",
    "Likewise, this can be generalized to multiple controlled operations. For example, if we want to apply an operation $U$ only when the first 2-qubits are in state $|1\\rangle$. We can define\n",
    "\n",
    "$C_{11}U\\big|11\\big>\\big|s\\big>=\\big|11\\big>U\\big|s\\big>, \\quad C_{11}U\\big|10\\big>\\big|s\\big>=\\big|10\\big>\\big|s\\big>, \\quad C_{11}U\\big|01\\big>\\big|s\\big>=\\big|01\\big>\\big|s\\big>, \\quad C_{00}U\\big|00\\big>\\big|s\\big>=\\big|00\\big>\\big|s\\big>$\n",
    "\n",
    "Where the subscript $(11)$ on the $C$ indicates that the first two qubits should be in state $|1\\rangle$. In general the operation can be controlled on many qubits and $s$ can be a many-qubit state."
   ]
  },
  {
   "cell_type": "code",
   "execution_count": 2,
   "metadata": {},
   "outputs": [],
   "source": [
    "from itertools import product\n",
    "from tangelo.linq import Circuit, Gate, get_backend\n",
    "\n",
    "# We use a cirq backend as the ordering of the statevector is the same as qubit operators, currently from Openfermion\n",
    "sim = get_backend(\"cirq\")"
   ]
  },
  {
   "cell_type": "markdown",
   "metadata": {},
   "source": [
    "> **Q:** Can you fill in the blanks in the cell below, to run the algorithm for a controlled-X gate? In Tangelo, adding \"C\" in front of the gate's name indicates that a controlled operation is requested."
   ]
  },
  {
   "cell_type": "code",
   "execution_count": 3,
   "metadata": {},
   "outputs": [
    {
     "name": "stdout",
     "output_type": "stream",
     "text": [
      "If qubit 0 is in state '0' then the frequencies are {'00': 1.0}\n",
      "If qubit 0 is in state '1' then the frequencies are {'11': 1.0}\n"
     ]
    }
   ],
   "source": [
    "# INSERT YOUR CODE HERE\n",
    "cx = Gate(\"CX\", 1, control=[0])\n",
    "\n",
    "# Run through all possible combinations of inputs and print the result\n",
    "c0 = Circuit([cx])\n",
    "c1 = Circuit([Gate(\"X\", 0), cx])\n",
    "print(f\"If qubit 0 is in state '0' then the frequencies are {sim.simulate(c0)[0]}\")\n",
    "print(f\"If qubit 0 is in state '1' then the frequencies are {sim.simulate(c1)[0]}\")"
   ]
  },
  {
   "cell_type": "markdown",
   "metadata": {},
   "source": [
    "> **Q:** Can you apply the operation controlled on qubits 1 and 2, such that the first qubit flips to state \"1\" only if qubits 1 and and 2 are in state \"1\" ? The $C_{11}X$ operation is also known as the Toffoli gate."
   ]
  },
  {
   "cell_type": "code",
   "execution_count": 4,
   "metadata": {},
   "outputs": [
    {
     "name": "stdout",
     "output_type": "stream",
     "text": [
      "If qubits [0,1] are in state '00' then the frequencies are {'000': 1.0}\n",
      "If qubits [0,1] are in state '10' then the frequencies are {'010': 1.0}\n",
      "If qubits [0,1] are in state '01' then the frequencies are {'100': 1.0}\n",
      "If qubits [0,1] are in state '11' then the frequencies are {'111': 1.0}\n"
     ]
    }
   ],
   "source": [
    "# INSERT YOUR CODE HERE\n",
    "ccx = Gate(\"CX\", 2, control=[0, 1])\n",
    "\n",
    "# Run through all possible combinations of inputs and print the result\n",
    "c00 = Circuit([ccx])\n",
    "c10 = Circuit([Gate(\"X\", 0), ccx])\n",
    "c01 = Circuit([Gate(\"X\", 1), ccx])\n",
    "c11 = Circuit([Gate(\"X\", 0), Gate(\"X\", 1), ccx])\n",
    "print(f\"If qubits [0,1] are in state '00' then the frequencies are {sim.simulate(c00)[0]}\")\n",
    "print(f\"If qubits [0,1] are in state '10' then the frequencies are {sim.simulate(c01)[0]}\")\n",
    "print(f\"If qubits [0,1] are in state '01' then the frequencies are {sim.simulate(c10)[0]}\")\n",
    "print(f\"If qubits [0,1] are in state '11' then the frequencies are {sim.simulate(c11)[0]}\")"
   ]
  },
  {
   "cell_type": "markdown",
   "metadata": {},
   "source": [
    "If one wants to apply the operation $C_{10}X$. The same operations can be used but sandwiched with $X$ gates. We flip second qubit using an $X\\big|0\\big>=\\big|1\\big>$ operation, apply the $ccx$ operation and apply $X\\big|1\\big>=\\big|0\\big>$ on the second qubit again. You can run the code below to obtain the same result.\n"
   ]
  },
  {
   "cell_type": "code",
   "execution_count": 5,
   "metadata": {},
   "outputs": [
    {
     "name": "stdout",
     "output_type": "stream",
     "text": [
      "If qubits [0,1] are in state '00' then the frequencies are {'000': 1.0}\n",
      "If qubits [0,1] are in state '10' then the frequencies are {'010': 1.0}\n",
      "If qubits [0,1] are in state '01' then the frequencies are {'101': 1.0}\n",
      "If qubits [0,1] are in state '11' then the frequencies are {'110': 1.0}\n"
     ]
    }
   ],
   "source": [
    "flip_2nd_qubit = Gate(\"X\", 1)\n",
    "\n",
    "# Run through all possible combinations of inputs and print the result\n",
    "c00 = Circuit([flip_2nd_qubit, ccx, flip_2nd_qubit])\n",
    "c10 = Circuit([Gate(\"X\", 0), flip_2nd_qubit, ccx, flip_2nd_qubit])\n",
    "c01 = Circuit([Gate(\"X\", 1), flip_2nd_qubit, ccx, flip_2nd_qubit])\n",
    "c11 = Circuit([Gate(\"X\", 0), Gate(\"X\", 1), flip_2nd_qubit, ccx, flip_2nd_qubit])\n",
    "print(f\"If qubits [0,1] are in state '00' then the frequencies are {sim.simulate(c00)[0]}\")\n",
    "print(f\"If qubits [0,1] are in state '10' then the frequencies are {sim.simulate(c01)[0]}\")\n",
    "print(f\"If qubits [0,1] are in state '01' then the frequencies are {sim.simulate(c10)[0]}\")\n",
    "print(f\"If qubits [0,1] are in state '11' then the frequencies are {sim.simulate(c11)[0]}\")"
   ]
  },
  {
   "cell_type": "markdown",
   "metadata": {},
   "source": [
    "We successfully applied the operation $C_{01}X$ using the same $CCX$ gate you defined above."
   ]
  },
  {
   "cell_type": "markdown",
   "metadata": {},
   "source": [
    "In general, we can make more complicated controlled unitaries. For instance, we could implement quantum phase estimation, one of the key fault-tolerant algorithms. Using a series of controlled operations followed by a Quantum Fourier Transform (QFT), this algorithm can approximate the eigenvalues of a state."
   ]
  },
  {
   "cell_type": "markdown",
   "metadata": {},
   "source": [
    "### 2. Quantum Phase Estimation"
   ]
  },
  {
   "cell_type": "markdown",
   "metadata": {},
   "source": [
    "The first fault-tolerant algorithm we look at in is quantum phase-estimation (QPE). It is a technique to obtain the energy (E) of an eigenstate $\\big|\\psi_e\\big>$ of a Hamiltonian defined $H\\big|\\psi_e\\big>=E\\big|\\psi_e\\big>$. The energy is a very important quantity to know in chemistry as it determines how chemistry happens from chemical reactions to light-matter interactions.\n",
    "\n",
    "The input is an approximate eigenstate $\\big|\\psi_e\\big>$. QPE then utilizes a series of controlled time-evolutions of a Hamiltonian on different qubits followed by the quantum version of the Fourier Transform (i.e. [Quantum Fourier Transform](https://en.wikipedia.org/wiki/Quantum_Fourier_transform) (QFT)). The circuit is shown below:\n",
    "\n",
    "<img src=\"PE_Circuit.png\" alt=\"H2O\" width=\"700\"/>\n",
    "\n",
    "> Tangelo provides a `QPESolver` class allowing you to simulate QPE with built-in and user-defined unitaries, for time-evolution. If you are already familiar with `VQESolver` then its interface should feel straightforward. We illustrate this ready-made QPE framework briefly at the end of the section. The first part of this section of the hands-on however offers to retrace the steps taken to implement such fault-tolerant algorithms, and manipulating advanced building-blocks (controlled unitaries, trotterization, QFT, circuit inverses, simulation with desired measurements ...)."
   ]
  },
  {
   "cell_type": "markdown",
   "metadata": {},
   "source": [
    "### a) Building QPE from \"scratch\" with fault-tolerant building blocks\n",
    "\n",
    "For our use case, we first generate the qubit Hamiltonian for molecular Hydrogen ($H_2$) in a STO-3G basis. To show the algorithm is working as expected, we calculate all the eigenstates and select the two singlet states with 2 electrons. This is not possible for much larger systems but we can extrapolate the success demonstrated here to show that we can obtain good results."
   ]
  },
  {
   "cell_type": "code",
   "execution_count": 6,
   "metadata": {},
   "outputs": [
    {
     "name": "stderr",
     "output_type": "stream",
     "text": [
      "/Users/valentinsenicourt/Desktop/virtualenvs/hands_on/lib/python3.10/site-packages/pyscf/dft/libxc.py:772: UserWarning: Since PySCF-2.3, B3LYP (and B3P86) are changed to the VWN-RPA variant, the same to the B3LYP functional in Gaussian and ORCA (issue 1480). To restore the VWN5 definition, you can put the setting \"B3LYP_WITH_VWN5 = True\" in pyscf_conf.py\n",
      "  warnings.warn('Since PySCF-2.3, B3LYP (and B3P86) are changed to the VWN-RPA variant, '\n"
     ]
    }
   ],
   "source": [
    "import numpy as np\n",
    "from openfermion import get_sparse_operator\n",
    "\n",
    "from tangelo.molecule_library import mol_H2_sto3g\n",
    "from tangelo.toolboxes.qubit_mappings.mapping_transform import fermion_to_qubit_mapping\n",
    "from tangelo.toolboxes.qubit_mappings.statevector_mapping import get_reference_circuit\n",
    "\n",
    "# Qubit operator representing H2 in a minimal basis\n",
    "mol = mol_H2_sto3g\n",
    "qu_op = fermion_to_qubit_mapping(mol.fermionic_hamiltonian, mapping=\"JW\", \n",
    "                                 n_spinorbitals=mol.n_active_sos, n_electrons=mol.n_active_electrons, \n",
    "                                 spin=mol.spin, up_then_down=False)\n",
    "\n",
    "# Shift ground state eigenvalue to be 0.25, such that a short-time QPE can return the exact energy\n",
    "# (the exact ground state energy is known to be 1.137270174660903)\n",
    "qu_op += (0.25 + 1.137270174660903)\n",
    "eigs, eigenstates = np.linalg.eigh(get_sparse_operator(qu_op).toarray())\n",
    "\n",
    "# When converting from a Fermion Hamiltonian to an Qubit Hamiltonian, a bunch of physical but not desired eigenstates are obtained\n",
    "# We are looking for the ground and first excited Singlet S^2 states.\n",
    "ground_sv = eigenstates[:, 0]\n",
    "first_sv = eigenstates[:, 13]  "
   ]
  },
  {
   "cell_type": "markdown",
   "metadata": {},
   "source": [
    "In order to compare how close the initial approximate state is to the exact eigenstate, we are going to use the overlap (dot product) between the states. If the overlap is 1 then the states are equivalent."
   ]
  },
  {
   "cell_type": "code",
   "execution_count": 7,
   "metadata": {},
   "outputs": [
    {
     "name": "stdout",
     "output_type": "stream",
     "text": [
      "The overlap of the initial (Hartree-Fock) state with the exact ground state is        (0.9936146058054715+0j)\n",
      "The overlap of the initial (Hartree-Fock) state with the exact first excited state is (-0.11282736871006808+0j)\n"
     ]
    }
   ],
   "source": [
    "# Hartree-Fock reference state circuit\n",
    "hf_circuit = get_reference_circuit(n_spinorbitals=mol.n_active_sos, n_electrons=mol.n_active_electrons, mapping=\"JW\",\n",
    "                                   up_then_down=False, spin=mol.spin)\n",
    "f, hf_sv = sim.simulate(hf_circuit, return_statevector=True)\n",
    "\n",
    "# Dot product to compare how close the initial Hartree-Fock reference is to the ground and first excited singlet state.\n",
    "g_ovlp = np.dot(hf_sv, ground_sv)\n",
    "f_ovlp = np.dot(hf_sv, first_sv)\n",
    "print(f\"The overlap of the initial (Hartree-Fock) state with the exact ground state is        {g_ovlp}\")\n",
    "print(f\"The overlap of the initial (Hartree-Fock) state with the exact first excited state is {f_ovlp}\")"
   ]
  },
  {
   "cell_type": "markdown",
   "metadata": {},
   "source": [
    "> **Q:** Can you fill in the blanks in the cell below, to run the algorithm originally illustrated in the circuit diagram ? It should return `\"010\"` with very-high probability (~98%), corresponding to an energy of 0.25. You may need to change the parameters used in the Trotter-Suzuki (`trotterize`) operation to obtain accurate enough time-evolution to get a good result."
   ]
  },
  {
   "cell_type": "code",
   "execution_count": 8,
   "metadata": {},
   "outputs": [
    {
     "name": "stdout",
     "output_type": "stream",
     "text": [
      "The measurement 000 with probability 0.00004 converts to an energy=0.0 \n",
      "The measurement 001 with probability 0.00001 converts to an energy=0.125 \n",
      "The measurement 010 with probability 0.98752 converts to an energy=0.25 \n",
      "The measurement 011 with probability 0.00005 converts to an energy=0.375 \n",
      "The measurement 100 with probability 0.00001 converts to an energy=0.5 \n",
      "The measurement 101 with probability 0.00003 converts to an energy=0.625 \n",
      "The measurement 110 with probability 0.00005 converts to an energy=0.75 \n",
      "The measurement 111 with probability 0.01228 converts to an energy=0.875 \n"
     ]
    }
   ],
   "source": [
    "from tangelo.toolboxes.ansatz_generator.ansatz_utils import trotterize, get_qft_circuit\n",
    "from tangelo.toolboxes.post_processing.histogram import Histogram\n",
    "\n",
    "# Reverse order as cirq uses lsq_first\n",
    "qubit_list = [6, 5, 4]\n",
    "\n",
    "# State preparation\n",
    "pe_circuit = hf_circuit + Circuit([Gate(\"H\", q) for q in qubit_list])\n",
    "\n",
    "for i, qubit in enumerate(qubit_list):\n",
    "    # INSERT CODE HERE\n",
    "    # You can play around with how accurate the time-evolution needs to be\n",
    "    # Use negative time as trotterize uses exp(-iHt) to follow the Schrodinger equation\n",
    "    pe_circuit += trotterize(qu_op, trotter_order=4, n_trotter_steps=12, time=-2*np.pi*2**i, control=qubit)\n",
    "\n",
    "# INSERT CODE HERE\n",
    "# Set inverse to true or false\n",
    "pe_circuit += get_qft_circuit(qubit_list, inverse=True)\n",
    "freqs, _ = sim.simulate(pe_circuit)\n",
    "\n",
    "# Remove qubit indices from histogram corresponding to the state qubits i.e. (0, 1, 2, 3)\n",
    "hist = Histogram(freqs)\n",
    "hist.remove_qubit_indices(0, 1, 2, 3)\n",
    "\n",
    "for key, probability in hist.frequencies.items():\n",
    "      energy = sum(int(k)/2**(i+1) for i, k in enumerate(key))\n",
    "      print(f\"The measurement {key} with probability {probability:3.5f} converts to an energy={energy} \")"
   ]
  },
  {
   "cell_type": "markdown",
   "metadata": {},
   "source": [
    "In Tangelo, simulators can take the option `desired_measurement` to return the quantum state corresponding to the state preparation done under specific values of measurement gates. Assuming you are interested in a specific outcome - `\"010\"` for our use case - we can retrieve both the probability that such measurements are observed, and the corresponding quantum state and compute its overlap with the ground state:"
   ]
  },
  {
   "cell_type": "code",
   "execution_count": 9,
   "metadata": {},
   "outputs": [
    {
     "name": "stdout",
     "output_type": "stream",
     "text": [
      "The probability of this measurement is 0.9875184986388712\n",
      "The final state overlap with the ground state is 0.999972738775133\n"
     ]
    }
   ],
   "source": [
    "desired_measurement = \"010\"\n",
    "pe_plus_measure = pe_circuit + Circuit([Gate(\"MEASURE\", i) for i in qubit_list])\n",
    "_, sv_new = sim.simulate(pe_plus_measure, desired_meas_result=desired_measurement, return_statevector=True)\n",
    "print(f\"The probability of this measurement is {pe_plus_measure.success_probabilities[desired_measurement]}\")\n",
    "\n",
    "# Shrink vector down to 2**4 size to compare with exact ground state.\n",
    "sv_new_post = np.reshape(sv_new, (2**4, 2**3))[:, int(desired_measurement, base=2)]\n",
    "print(f\"The final state overlap with the ground state is {np.abs(np.dot(sv_new_post, ground_sv))}\")"
   ]
  },
  {
   "cell_type": "markdown",
   "metadata": {},
   "source": [
    "We can see that we measured the desired energy with probability 0.987 and the resulting state has overlap with the exact state of 0.99997, while we originally started with an overlap of 0.9936. We not only measured the energy of an eigenstate, we also created the eigenstate on the simulator. This eigenstate can then be used to perform other tasks!"
   ]
  },
  {
   "cell_type": "markdown",
   "metadata": {},
   "source": [
    "> **Q:** By using the previous cell as an example, can you look into what happens for \"111\", which is close to the energy of the first excited singlet state?"
   ]
  },
  {
   "cell_type": "code",
   "execution_count": 10,
   "metadata": {},
   "outputs": [
    {
     "name": "stdout",
     "output_type": "stream",
     "text": [
      "The probability of this measurement is 0.012282064140958449\n",
      "The final state overlap with the first excited singlet state is 0.9998680358098742\n"
     ]
    }
   ],
   "source": [
    "# INSERT CODE HERE\n",
    "desired_measurement = \"111\"\n",
    "pe_plus_measure = pe_circuit + Circuit([Gate(\"MEASURE\", i) for i in qubit_list])\n",
    "_, sv_new = sim.simulate(pe_plus_measure, desired_meas_result=desired_measurement, return_statevector=True)\n",
    "print(f\"The probability of this measurement is {pe_plus_measure.success_probabilities[desired_measurement]}\")\n",
    "\n",
    "# Shrink vector down to 2**4 size to compare with exact ground state.\n",
    "sv_new_post = np.reshape(sv_new, (2**4, 2**3))[:, int(desired_measurement, base=2)]\n",
    "print(f\"The final state overlap with the first excited singlet state is {np.abs(np.dot(sv_new_post, first_sv))}\")"
   ]
  },
  {
   "cell_type": "markdown",
   "metadata": {},
   "source": [
    "We can see that starting with the same Hartree-Fock reference state, we obtained a good approximation ($>0.999$) overlap to the first excited singlet state when measuring a result close to the exact energy with very low probability (around 1%). Also, the energy we obtained $0.875$ is not chemically accurate ($<0.001$ Hartree error). We can only obtain energies mod 1 and the exact energy is $1.867$ so the error is $0.008$. \n",
    "\n",
    "However, even this is fortunate. To ensure we obtain chemical accuracy, we would need to run the algorithm with 7 ancilla qubits $1/2^7\\approx 0.008$. This would require time-evolution that is about 16 times longer that what we ran above."
   ]
  },
  {
   "cell_type": "markdown",
   "metadata": {},
   "source": [
    "### b) Ready-made QPESolver framework\n",
    "\n",
    "Tangelo provides a `QPESolver` class allowing you to simulate QPE with built-in and user-defined unitaries, for time-evolution. If you are already familiar with `VQESolver` then its interface should feel straightforward (instantiate with options, `build`, `simulate`, `get_resources`). You can check out the [source code](https://github.com/goodchemistryco/Tangelo/blob/develop/tangelo/algorithms/projective/tests/test_qpe.py) in the tests in Tangelo to see how one could provide a molecule, or built-in unitaries. Below, we reproduce the work done in the previous section by directly passing the qubit Hamiltonian we obtained for $H_2$ earlier."
   ]
  },
  {
   "cell_type": "code",
   "execution_count": 11,
   "metadata": {},
   "outputs": [
    {
     "name": "stdout",
     "output_type": "stream",
     "text": [
      "QPESolver returned an energy of 0.25\n",
      "The measurement 000 with probability 0.00004 converts to an energy=0.0 \n",
      "The measurement 001 with probability 0.00001 converts to an energy=0.125 \n",
      "The measurement 010 with probability 0.98752 converts to an energy=0.25 \n",
      "The measurement 011 with probability 0.00005 converts to an energy=0.375 \n",
      "The measurement 100 with probability 0.00001 converts to an energy=0.5 \n",
      "The measurement 101 with probability 0.00003 converts to an energy=0.625 \n",
      "The measurement 110 with probability 0.00005 converts to an energy=0.75 \n",
      "The measurement 111 with probability 0.01228 converts to an energy=0.875 \n"
     ]
    }
   ],
   "source": [
    "from tangelo.algorithms.projective.qpe import QPESolver\n",
    "\n",
    "qpe_solver = QPESolver({\"qubit_hamiltonian\": qu_op, \"size_qpe_register\": 3, \"ref_state\": hf_circuit, \"backend_options\": {\"target\": \"cirq\"},\n",
    "                 \"unitary_options\": {\"time\": -2*np.pi, \"n_trotter_steps\": 12, \"n_steps_method\": \"time\", \"trotter_order\": 4}})\n",
    "qpe_solver.build()\n",
    "energy = qpe_solver.simulate()\n",
    "print(f\"QPESolver returned an energy of {energy}\")\n",
    "\n",
    "for key, probability in qpe_solver.qpe_freqs.items():\n",
    "    energy = sum(int(k)/2**(i+1) for i, k in enumerate(key))\n",
    "    print(f\"The measurement {key} with probability {probability:3.5f} converts to an energy={energy} \")"
   ]
  },
  {
   "cell_type": "markdown",
   "metadata": {},
   "source": [
    "Much simpler, isn't it ? If you would like to see more fault-tolerant algorithms available \"out of the box\" in Tangelo, please consider contributing to the project or put a feature request on GitHub."
   ]
  },
  {
   "cell_type": "markdown",
   "metadata": {},
   "source": [
    "### 3 .Block encodings.\n",
    "\n",
    "Another building block of many fault-tolerant algorithms is block encodings. This is a technique to implement any operation as long as it can be decomposed into a linear combination of Unitaries. We can implement the operation using $U_{prep}$ and $U_{select}$ defined for a general operator $A=\\sum_i c_i U_i$ where $U_i$ are unitaries.\n",
    "\n",
    "$U_{prep}\\big|\\psi\\big>\\big|0\\big> = \\sum_{i}\\sqrt{\\frac{|c_i|}{\\alpha}}\\big|\\psi\\big>\\big|i\\big>$\n",
    "\n",
    "$U_{select}\\big|\\psi\\big>\\big|i\\big> = U_i\\big|\\psi\\big>\\big|i\\big>$\n",
    "\n",
    "where $\\alpha$ is the 1-norm of the coefficients $|c_i|$\n",
    "\n",
    "Applying the circuit $U_{prep}U_{select}U_{prep}^{\\dagger}$ results in $A\\big|\\psi\\big>\\big|0\\big> + \\sum_i \\big|\\psi^{\\perp}\\big>\\big|i\\big>$\n",
    "where $\\psi^{\\perp}$ are states orthogonal to $A\\psi$. This means that if we measure the ancilla qubits and the result is zero, we have successfully applied the desired operation $A$."
   ]
  },
  {
   "cell_type": "markdown",
   "metadata": {},
   "source": [
    "For example, let's try to apply $A=\\frac{1}{\\sqrt{2}}X+\\frac{1}{\\sqrt{2}}Y$\n",
    "which is equivalent to\n",
    "$\\left[\\begin{array}{cc}0&\\frac{1-i}{\\sqrt{2}}\\\\ \\frac{1+i}{\\sqrt{2}}&0\\end{array}\\right]$\n",
    "\n"
   ]
  },
  {
   "cell_type": "code",
   "execution_count": 12,
   "metadata": {},
   "outputs": [],
   "source": [
    "from tangelo.toolboxes.operators import QubitOperator\n",
    "from tangelo.linq.helpers.circuits.statevector import StateVector\n",
    "\n",
    "coefs = [1/np.sqrt(2), 1/np.sqrt(2)]\n",
    "a = QubitOperator(\"X0\", coefs[0]) + QubitOperator(\"Y0\", coefs[1])\n",
    "\n",
    "vec = np.array(np.abs(coefs))\n",
    "vec = np.sqrt(vec/np.sum(vec))\n",
    "\n",
    "# In this case prep can be be applied by simply applying the Hadamard gate to the first qubit\n",
    "uprep = Circuit([Gate(\"H\", 1)])\n",
    "\n",
    "sv = StateVector(vec)\n",
    "uprep = sv.initializing_circuit()\n",
    "uprep.reindex_qubits([1])"
   ]
  },
  {
   "cell_type": "markdown",
   "metadata": {},
   "source": [
    "> **Q:** Can you fill in the blanks in the cell below, to apply the $U_{select}$ operation $A$ defined as a linear combination of unitaries $X$ and $Y$ ?"
   ]
  },
  {
   "cell_type": "code",
   "execution_count": 13,
   "metadata": {},
   "outputs": [],
   "source": [
    "# INSERT YOUR CODE HERE\n",
    "\n",
    "# Qubit 1 is the \"prep\" register with coefficients [1/sqrt(2), 1/sqrt(2)]\n",
    "cy1 = [Gate(\"CY\", target=0, control=1)]\n",
    "# Sandwiching with \"X\" gates flips the control bit such that operation is controled on state \"0\"\n",
    "cx0 = [Gate(\"X\", 1), Gate(\"CX\", target=0, control=1), Gate(\"X\", 1)]"
   ]
  },
  {
   "cell_type": "markdown",
   "metadata": {},
   "source": [
    "We can now run the block-encoded circuit. If your code is correct, it will return the correct state with probability 0.5 and the overlap will be 1."
   ]
  },
  {
   "cell_type": "code",
   "execution_count": 14,
   "metadata": {},
   "outputs": [
    {
     "name": "stdout",
     "output_type": "stream",
     "text": [
      "The success probability of the operation was 0.4999999999999999\n",
      "The overlap of the exact with the block encoded application of A is 1.0\n"
     ]
    }
   ],
   "source": [
    "# Uselect\n",
    "uselect = Circuit(cx0 + cy1)\n",
    "\n",
    "# We will use this as a state prep circuit. You can change this to any set of operations on qubit 0\n",
    "state_prep = Circuit([Gate(\"RY\", 0, parameter=np.pi/4)])\n",
    "\n",
    "_, init_state = sim.simulate(state_prep, return_statevector=True)\n",
    "block_circuit = uprep + uselect + uprep.inverse() \n",
    "circuit = state_prep + block_circuit + Circuit([Gate(\"MEASURE\", 1)])\n",
    "\n",
    "desired_measurement = \"0\"\n",
    "f, sv = sim.simulate(circuit, desired_meas_result=desired_measurement, return_statevector=True)\n",
    "final_state = sv.reshape(2,2)[:,int(desired_measurement, base=2)]\n",
    "print(f\"The success probability of the operation was {circuit.success_probabilities['0']}\")\n",
    "\n",
    "final_exact = get_sparse_operator(a).toarray() @ init_state\n",
    "final_exact /= np.linalg.norm(final_exact)\n",
    "\n",
    "print(f\"The overlap of the exact with the block encoded application of A is {np.abs(np.vdot(final_state, final_exact))}\")"
   ]
  },
  {
   "cell_type": "markdown",
   "metadata": {},
   "source": [
    "### 4. Amplitude Amplification\n",
    "\n",
    "We would like to have a higher probability of success than 0.5. This is the main point of [Grover's search](https://en.wikipedia.org/wiki/Grover%27s_algorithm) where $\\sqrt{N}$ amplifications of the desired \"good\" state is required to increase the probability by $N$. Hence, the quadratic speed up. To implement this we need to apply signed operations. However, we are going to implement the generalized [Amplitude Amplification](https://en.wikipedia.org/wiki/Amplitude_amplification) which is defined by the following circuit,\n",
    "\n",
    "$F_{good} F_{full}$,\n",
    "\n",
    "where $F_{good} = (1-\\big|0\\big>^{ancilla}\\big<0\\big|^{ancilla})$ and  $F_{full} = (1-A\\big|\\psi\\big>\\big<\\psi\\big|A)$ are in general (non-unitary operations).\n",
    "\n",
    "For the purposes of applying $A=\\frac{1}{\\sqrt{2}}X+\\frac{1}{\\sqrt{2}}Y$, the \"good\" subspace is all zeros on the ancilla qubits and the \"full\" state is the application of the state preparation and the $A$ block encoding."
   ]
  },
  {
   "cell_type": "markdown",
   "metadata": {},
   "source": [
    "In order to facilitate amplitude amplification, we are going to make the 1-norm of the operator 2 such that the success probability is 25%. In order to facilitate this, the operator being applied is $(I - I + X + Y)$ which as $\\big|\\big| A \\big|\\big|_1=2$ and the probability of success is $1/\\left(\\big|\\big| A \\big|\\big|_1\\right)^4$.  After one application of amplitude amplification, the operator will be applied with 100% probability.\n",
    "\n",
    "> **Note:**  The \"trick\" of adding and subtracting terms proportional to the identity operator is common in fault-tolerant algorithms to obtain a circuit that has a success probability close to 100\\%. "
   ]
  },
  {
   "cell_type": "code",
   "execution_count": 15,
   "metadata": {},
   "outputs": [],
   "source": [
    "from tangelo.toolboxes.circuits.lcu import sign_flip, get_uprep_uselect\n",
    "\n",
    "# Generate operator and make 1-norm equal to 2 to ensure that the operation applies with 100% success\n",
    "uprep, uselect, state_qubits, ancilla_qubits, alpha = get_uprep_uselect(a, make_alpha_eq_2=True)\n",
    "\n",
    "def flip_on_state(qubits: list, circuit: Circuit):\n",
    "    return circuit.inverse() + sign_flip(qubits) + circuit\n",
    "\n",
    "block_circuit = uprep + uselect + uprep.inverse()\n",
    "full_circuit = state_prep + block_circuit"
   ]
  },
  {
   "cell_type": "markdown",
   "metadata": {},
   "source": [
    "> **Q:** Can you fill in the blanks in the cell below to define the appropriate qubits and operation that the sign flip operations are applied to ? Remember that the amplifying circuit is $F_{good}F_{full}$. Which qubits and what circuit generates the \"good\" $|0\\big>^{ancilla}$ state? Which qubits and what circuit generates the \"full\" $A|\\psi\\big>$?"
   ]
  },
  {
   "cell_type": "code",
   "execution_count": 16,
   "metadata": {},
   "outputs": [],
   "source": [
    "# INSERT YOUR CODE HERE\n",
    "amplifying_circuit = flip_on_state(ancilla_qubits, Circuit()) + flip_on_state(state_qubits+ancilla_qubits, full_circuit)"
   ]
  },
  {
   "cell_type": "markdown",
   "metadata": {},
   "source": [
    "We can now check when comparing the unamplified circuit and the amplified circuit that the resulting statevector is the same (i.e. overlap is still 1) but the probability of success is 100%."
   ]
  },
  {
   "cell_type": "code",
   "execution_count": 17,
   "metadata": {},
   "outputs": [
    {
     "name": "stdout",
     "output_type": "stream",
     "text": [
      "The overlap of the two states are  1.00\n",
      "The success probability has been increased from  0.25 to  1.00 after amplitude amplification\n",
      "The overlap of the amplified state with the exact state is  1.00\n"
     ]
    }
   ],
   "source": [
    "unamplified_circuit = state_prep + block_circuit + Circuit([Gate(\"MEASURE\", q) for q in ancilla_qubits])\n",
    "amplified_circuit = state_prep + block_circuit + amplifying_circuit + Circuit([Gate(\"MEASURE\", q) for q in ancilla_qubits])\n",
    "\n",
    "f, sv = sim.simulate(amplified_circuit, return_statevector=True, desired_meas_result=\"0\"*len(ancilla_qubits))\n",
    "amplified_final_state = sv.reshape(2,4)[:,0]\n",
    "f, sv = sim.simulate(unamplified_circuit, return_statevector=True, desired_meas_result=\"0\"*len(ancilla_qubits))\n",
    "unamplified_final_state = sv.reshape(2,4)[:,0]\n",
    "print(f\"The overlap of the two states are {np.abs(np.vdot(amplified_final_state, unamplified_final_state)): 3.2f}\")\n",
    "print(f\"The success probability has been increased from {unamplified_circuit.success_probabilities['00']: 3.2f} to \"\n",
    "      f\"{amplified_circuit.success_probabilities['00']: 3.2f} after amplitude amplification\")\n",
    "print(f\"The overlap of the amplified state with the exact state is {np.abs(np.vdot(final_state, amplified_final_state)): 3.2f}\")"
   ]
  },
  {
   "cell_type": "markdown",
   "metadata": {},
   "source": [
    "## Final Words\n",
    "\n",
    "After this hands-on, you learned some of the building blocks of fault tolerant algorithms. You now understand how one utilizes controlled operations to obtain interesting information about a system (namely energy using QPE). You also learned about block-encodings which allow you to apply any operation probabilistically. Finally you learned about how to increase the probability of success using amplitude amplification.\n",
    "\n",
    "If you are interested in contributing ready-made versions of fault-tolerant algorithms to the project, please do not hesitate !\n",
    "\n",
    "Here are some additional material implementing some other fault-tolerant approaches which may be relevant to you:\n",
    " * Block encoding used for [state preparation through Quantum Signal Processing](https://github.com/goodchemistryco/Tangelo-Examples/blob/main/examples/fault_tolerant/qsp_state_prep.ipynb).\n",
    " * More [QPESolver examples](https://github.com/goodchemistryco/Tangelo/blob/develop/tangelo/algorithms/projective/tests/test_qpe.py)\n",
    " * [AWS Blog post](https://aws.amazon.com/blogs/quantum-computing/exploring-quantum-chemistry-applications-with-tangelo-and-qemist-cloud-using-amazon-braket/) that features a fault-tolerant simulation of a wavepacket"
   ]
  }
 ],
 "metadata": {
  "kernelspec": {
   "display_name": "Python 3 (ipykernel)",
   "language": "python",
   "name": "python3"
  },
  "language_info": {
   "codemirror_mode": {
    "name": "ipython",
    "version": 3
   },
   "file_extension": ".py",
   "mimetype": "text/x-python",
   "name": "python",
   "nbconvert_exporter": "python",
   "pygments_lexer": "ipython3",
   "version": "3.10.0"
  }
 },
 "nbformat": 4,
 "nbformat_minor": 4
}
