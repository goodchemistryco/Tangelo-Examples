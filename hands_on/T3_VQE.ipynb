{
 "cells": [
  {
   "cell_type": "markdown",
   "id": "b9b07a5e",
   "metadata": {},
   "source": [
    "# Tangelo hands-on: VQE framework"
   ]
  },
  {
   "cell_type": "markdown",
   "id": "fa7498a4",
   "metadata": {},
   "source": [
    "## Before you jump in"
   ]
  },
  {
   "cell_type": "markdown",
   "id": "b36d6fff",
   "metadata": {},
   "source": [
    "Before tackling this hands-on, we suggest to have a look at:\n",
    "\n",
    "- the tutorial on the basics of the linq module\n",
    "- the tutorial on the basics of quantum chemistry modeling\n",
    "\n",
    "This hands-on covers some material described in the [following tutorials](https://github.com/goodchemistryco/Tangelo-Examples/tree/main/examples/variational_methods).\n",
    "\n",
    "You can use the cells below to install or import useful packages. We recommend to install qulacs and qiskit."
   ]
  },
  {
   "cell_type": "code",
   "execution_count": 1,
   "id": "d595c697",
   "metadata": {},
   "outputs": [],
   "source": [
    "import numpy as np\n",
    "import time"
   ]
  },
  {
   "cell_type": "markdown",
   "id": "99b9fd0a",
   "metadata": {},
   "source": [
    "If you wish to install anything in your jupyter environment while working on this notebook, including Tangelo, you can go through your terminal and reload the upyter kernel or run `pip` commands directly from this notebook using `!`"
   ]
  },
  {
   "cell_type": "code",
   "execution_count": 2,
   "id": "06b3c83e",
   "metadata": {},
   "outputs": [],
   "source": [
    "# Uncomment and change package name to install it in the current environment\n",
    "# !pip install tangelo-gc --quiet\n",
    "# !pip install qulacs --quiet\n",
    "# !pip install qiskit --quiet"
   ]
  },
  {
   "cell_type": "markdown",
   "id": "23a5cc16",
   "metadata": {},
   "source": [
    "## Level 1: VQE basics\n",
    "\n",
    "Let's define a molecule in second quantization, for the sake of exploring the variational framework. Here we define a molecule explicitly, specifying a geometry, charge, spin and basis set, but you could also quickly just import other existing ones in our [\"molecule library\"](https://github.com/goodchemistryco/Tangelo/blob/main/tangelo/molecule_library.py) if you want to swap between other examples."
   ]
  },
  {
   "cell_type": "code",
   "execution_count": 3,
   "id": "c9f73f3a",
   "metadata": {},
   "outputs": [],
   "source": [
    "# Define H2 molecule in minimal basis set\n",
    "from tangelo import SecondQuantizedMolecule\n",
    "\n",
    "xyz_H2 = [(\"H\", (0., 0., 0.)), (\"H\", (0., 0., 0.7414))]\n",
    "mol_H2_sto3g = SecondQuantizedMolecule(xyz_H2, q=0, spin=0, basis=\"sto-3g\")\n",
    "\n",
    "mol = mol_H2_sto3g"
   ]
  },
  {
   "cell_type": "markdown",
   "id": "c91d1958",
   "metadata": {},
   "source": [
    "### 1a)  Computing the ground state energy with VQE\n",
    "\n",
    "Write a code cell that instantiates a `VQESolver` object and computes the ground state energy of our molecule. You can use the default options. You should find that the result for the optimal geometry of H2 in sto-3g basis is roughly -1.1372702 Ha."
   ]
  },
  {
   "cell_type": "code",
   "execution_count": 4,
   "id": "ec8ff26a",
   "metadata": {},
   "outputs": [
    {
     "name": "stdout",
     "output_type": "stream",
     "text": [
      "-1.1372701683419209\n"
     ]
    }
   ],
   "source": [
    "# TODO: Instantiate VQE Solver, compute ground state energy with VQE\n",
    "\n",
    "from tangelo.algorithms import VQESolver\n",
    "\n",
    "vqe_options = {\"molecule\": mol}\n",
    "vqe_solver = VQESolver(vqe_options)\n",
    "\n",
    "vqe_solver.build()\n",
    "\n",
    "opt_energy = vqe_solver.simulate()\n",
    "print(opt_energy)"
   ]
  },
  {
   "cell_type": "markdown",
   "id": "2ad81d1d",
   "metadata": {},
   "source": [
    "Many Can you find what qubit mapping, ansatz and classical optimizer were used in your code ?"
   ]
  },
  {
   "cell_type": "code",
   "execution_count": 5,
   "id": "aac2244c",
   "metadata": {},
   "outputs": [
    {
     "name": "stdout",
     "output_type": "stream",
     "text": [
      "{'molecule': SecondQuantizedMolecule(xyz=[('H', (0.0, 0.0, 0.0)), ('H', (0.0, 0.0, 0.7413999999999997))], q=0, spin=0, n_atoms=2, n_electrons=2, basis='sto-3g', ecp={}, symmetry=False, uhf=False, mf_energy=-1.1166843870853411, mo_energies=array([-0.57797481,  0.66969867]), mo_occ=array([2., 0.]), mean_field=RHF object of <class 'pyscf.scf.hf.RHF'>, n_mos=2, n_sos=4, active_occupied=[0], frozen_occupied=[], active_virtual=[1], frozen_virtual=[]), 'qubit_mapping': 'jw', 'ansatz': <tangelo.toolboxes.ansatz_generator.uccsd.UCCSD object at 0x1059bc1f0>, 'optimizer': <bound method VQESolver._default_optimizer of <tangelo.algorithms.variational.vqe_solver.VQESolver object at 0x16a77b580>>, 'initial_var_params': [2e-05, 0.036325371102345044], 'backend_options': {'target': None, 'n_shots': None, 'noise_model': None}, 'penalty_terms': None, 'deflation_circuits': [], 'deflation_coeff': 1, 'ansatz_options': {}, 'up_then_down': False, 'qubit_hamiltonian': (-0.0988639693354576+0j) [] +\n",
      "(-0.045322202052874024+0j) [X0 X1 Y2 Y3] +\n",
      "(0.045322202052874024+0j) [X0 Y1 Y2 X3] +\n",
      "(0.045322202052874024+0j) [Y0 X1 X2 Y3] +\n",
      "(-0.045322202052874024+0j) [Y0 Y1 X2 X3] +\n",
      "(0.1711977490343296+0j) [Z0] +\n",
      "(0.16862219158920955+0j) [Z0 Z1] +\n",
      "(0.12054482205301811+0j) [Z0 Z2] +\n",
      "(0.16586702410589216+0j) [Z0 Z3] +\n",
      "(0.17119774903432963+0j) [Z1] +\n",
      "(0.16586702410589216+0j) [Z1 Z2] +\n",
      "(0.12054482205301811+0j) [Z1 Z3] +\n",
      "(-0.2227859304041852+0j) [Z2] +\n",
      "(0.17434844185575676+0j) [Z2 Z3] +\n",
      "(-0.22278593040418523+0j) [Z3], 'verbose': False, 'ref_state': None, 'reference_circuit': <tangelo.linq.circuit.Circuit object at 0x16a77ab90>, 'optimal_energy': -1.1372701683419209, 'optimal_var_params': array([-5.44105155e-05,  5.65245079e-02]), 'builtin_ansatze': {<BuiltInAnsatze.UCC3: <tangelo.toolboxes.ansatz_generator.rucc.RUCC object at 0x16a9b9420>>, <BuiltInAnsatze.UCC1: <tangelo.toolboxes.ansatz_generator.rucc.RUCC object at 0x16a9b9450>>, <BuiltInAnsatze.UCCGD: <class 'tangelo.toolboxes.ansatz_generator.uccgd.UCCGD'>>, <BuiltInAnsatze.QCC: <class 'tangelo.toolboxes.ansatz_generator.qcc.QCC'>>, <BuiltInAnsatze.UpCCGSD: <class 'tangelo.toolboxes.ansatz_generator.upccgsd.UpCCGSD'>>, <BuiltInAnsatze.UCCSD: <class 'tangelo.toolboxes.ansatz_generator.uccsd.UCCSD'>>, <BuiltInAnsatze.HEA: <class 'tangelo.toolboxes.ansatz_generator.hea.HEA'>>, <BuiltInAnsatze.pUCCD: <class 'tangelo.toolboxes.ansatz_generator.puccd.pUCCD'>>, <BuiltInAnsatze.VSQS: <class 'tangelo.toolboxes.ansatz_generator.vsqs.VSQS'>>, <BuiltInAnsatze.QMF: <class 'tangelo.toolboxes.ansatz_generator.qmf.QMF'>>, <BuiltInAnsatze.ILC: <class 'tangelo.toolboxes.ansatz_generator.ilc.ILC'>>}, 'backend': <tangelo.linq.target.target_qulacs.QulacsSimulator object at 0x16a92a560>, 'optimal_circuit': <tangelo.linq.circuit.Circuit object at 0x16af8a830>}\n"
     ]
    }
   ],
   "source": [
    "# TODO : print that information\n",
    "print(vars(vqe_solver))"
   ]
  },
  {
   "cell_type": "markdown",
   "id": "c16ec721",
   "metadata": {},
   "source": [
    "### 1b) A closer look at what happened\n",
    "\n",
    "Please print:\n",
    "\n",
    "- the accuracy of the previous computation (difference between your optimal VQE energy and the result coming from the `FCISolver`)\n",
    "- the optimal circuit, and the optimal parameters\n",
    "- the qubit operator that encoded your molecule "
   ]
  },
  {
   "cell_type": "code",
   "execution_count": 6,
   "id": "d1f59d6b",
   "metadata": {},
   "outputs": [
    {
     "name": "stdout",
     "output_type": "stream",
     "text": [
      "Accuracy :: 6.318983336583983e-09\n",
      "\n",
      "Optimal circuit ::\n",
      " Circuit object. Size 158 \n",
      "\n",
      "X         target : [0]   \n",
      "X         target : [1]   \n",
      "RX        target : [0]   parameter : 1.5707963267948966\n",
      "H         target : [2]   \n",
      "CNOT      target : [1]   control : [0]   \n",
      "CNOT      target : [2]   control : [1]   \n",
      "RZ        target : [2]   parameter : 12.566316203843638\t (variational)\n",
      "CNOT      target : [2]   control : [1]   \n",
      "CNOT      target : [1]   control : [0]   \n",
      "H         target : [2]   \n",
      "RX        target : [0]   parameter : -1.5707963267948966\n",
      "H         target : [0]   \n",
      "RX        target : [2]   parameter : 1.5707963267948966\n",
      "CNOT      target : [1]   control : [0]   \n",
      "CNOT      target : [2]   control : [1]   \n",
      "RZ        target : [2]   parameter : 5.441051553448883e-05\t (variational)\n",
      "CNOT      target : [2]   control : [1]   \n",
      "CNOT      target : [1]   control : [0]   \n",
      "RX        target : [2]   parameter : -1.5707963267948966\n",
      "H         target : [0]   \n",
      "RX        target : [1]   parameter : 1.5707963267948966\n",
      "H         target : [3]   \n",
      "CNOT      target : [2]   control : [1]   \n",
      "CNOT      target : [3]   control : [2]   \n",
      "RZ        target : [3]   parameter : 12.566316203843638\t (variational)\n",
      "CNOT      target : [3]   control : [2]   \n",
      "CNOT      target : [2]   control : [1]   \n",
      "H         target : [3]   \n",
      "RX        target : [1]   parameter : -1.5707963267948966\n",
      "H         target : [1]   \n",
      "RX        target : [3]   parameter : 1.5707963267948966\n",
      "CNOT      target : [2]   control : [1]   \n",
      "CNOT      target : [3]   control : [2]   \n",
      "RZ        target : [3]   parameter : 5.441051553448883e-05\t (variational)\n",
      "CNOT      target : [3]   control : [2]   \n",
      "CNOT      target : [2]   control : [1]   \n",
      "RX        target : [3]   parameter : -1.5707963267948966\n",
      "H         target : [1]   \n",
      "RX        target : [0]   parameter : 1.5707963267948966\n",
      "RX        target : [1]   parameter : 1.5707963267948966\n",
      "RX        target : [2]   parameter : 1.5707963267948966\n",
      "H         target : [3]   \n",
      "CNOT      target : [1]   control : [0]   \n",
      "CNOT      target : [2]   control : [1]   \n",
      "CNOT      target : [3]   control : [2]   \n",
      "RZ        target : [3]   parameter : 0.028262253940683525\t (variational)\n",
      "CNOT      target : [3]   control : [2]   \n",
      "CNOT      target : [2]   control : [1]   \n",
      "CNOT      target : [1]   control : [0]   \n",
      "H         target : [3]   \n",
      "RX        target : [2]   parameter : -1.5707963267948966\n",
      "RX        target : [1]   parameter : -1.5707963267948966\n",
      "RX        target : [0]   parameter : -1.5707963267948966\n",
      "RX        target : [0]   parameter : 1.5707963267948966\n",
      "H         target : [1]   \n",
      "RX        target : [2]   parameter : 1.5707963267948966\n",
      "RX        target : [3]   parameter : 1.5707963267948966\n",
      "CNOT      target : [1]   control : [0]   \n",
      "CNOT      target : [2]   control : [1]   \n",
      "CNOT      target : [3]   control : [2]   \n",
      "RZ        target : [3]   parameter : 12.538108360418489\t (variational)\n",
      "CNOT      target : [3]   control : [2]   \n",
      "CNOT      target : [2]   control : [1]   \n",
      "CNOT      target : [1]   control : [0]   \n",
      "RX        target : [3]   parameter : -1.5707963267948966\n",
      "RX        target : [2]   parameter : -1.5707963267948966\n",
      "H         target : [1]   \n",
      "RX        target : [0]   parameter : -1.5707963267948966\n",
      "H         target : [0]   \n",
      "H         target : [1]   \n",
      "RX        target : [2]   parameter : 1.5707963267948966\n",
      "H         target : [3]   \n",
      "CNOT      target : [1]   control : [0]   \n",
      "CNOT      target : [2]   control : [1]   \n",
      "CNOT      target : [3]   control : [2]   \n",
      "RZ        target : [3]   parameter : 12.538108360418489\t (variational)\n",
      "CNOT      target : [3]   control : [2]   \n",
      "CNOT      target : [2]   control : [1]   \n",
      "CNOT      target : [1]   control : [0]   \n",
      "H         target : [3]   \n",
      "RX        target : [2]   parameter : -1.5707963267948966\n",
      "H         target : [1]   \n",
      "H         target : [0]   \n",
      "H         target : [0]   \n",
      "RX        target : [1]   parameter : 1.5707963267948966\n",
      "RX        target : [2]   parameter : 1.5707963267948966\n",
      "RX        target : [3]   parameter : 1.5707963267948966\n",
      "CNOT      target : [1]   control : [0]   \n",
      "CNOT      target : [2]   control : [1]   \n",
      "CNOT      target : [3]   control : [2]   \n",
      "RZ        target : [3]   parameter : 12.538108360418489\t (variational)\n",
      "CNOT      target : [3]   control : [2]   \n",
      "CNOT      target : [2]   control : [1]   \n",
      "CNOT      target : [1]   control : [0]   \n",
      "RX        target : [3]   parameter : -1.5707963267948966\n",
      "RX        target : [2]   parameter : -1.5707963267948966\n",
      "RX        target : [1]   parameter : -1.5707963267948966\n",
      "H         target : [0]   \n",
      "RX        target : [0]   parameter : 1.5707963267948966\n",
      "H         target : [1]   \n",
      "H         target : [2]   \n",
      "H         target : [3]   \n",
      "CNOT      target : [1]   control : [0]   \n",
      "CNOT      target : [2]   control : [1]   \n",
      "CNOT      target : [3]   control : [2]   \n",
      "RZ        target : [3]   parameter : 0.028262253940683525\t (variational)\n",
      "CNOT      target : [3]   control : [2]   \n",
      "CNOT      target : [2]   control : [1]   \n",
      "CNOT      target : [1]   control : [0]   \n",
      "H         target : [3]   \n",
      "H         target : [2]   \n",
      "H         target : [1]   \n",
      "RX        target : [0]   parameter : -1.5707963267948966\n",
      "RX        target : [0]   parameter : 1.5707963267948966\n",
      "RX        target : [1]   parameter : 1.5707963267948966\n",
      "H         target : [2]   \n",
      "RX        target : [3]   parameter : 1.5707963267948966\n",
      "CNOT      target : [1]   control : [0]   \n",
      "CNOT      target : [2]   control : [1]   \n",
      "CNOT      target : [3]   control : [2]   \n",
      "RZ        target : [3]   parameter : 0.028262253940683525\t (variational)\n",
      "CNOT      target : [3]   control : [2]   \n",
      "CNOT      target : [2]   control : [1]   \n",
      "CNOT      target : [1]   control : [0]   \n",
      "RX        target : [3]   parameter : -1.5707963267948966\n",
      "H         target : [2]   \n",
      "RX        target : [1]   parameter : -1.5707963267948966\n",
      "RX        target : [0]   parameter : -1.5707963267948966\n",
      "H         target : [0]   \n",
      "RX        target : [1]   parameter : 1.5707963267948966\n",
      "H         target : [2]   \n",
      "H         target : [3]   \n",
      "CNOT      target : [1]   control : [0]   \n",
      "CNOT      target : [2]   control : [1]   \n",
      "CNOT      target : [3]   control : [2]   \n",
      "RZ        target : [3]   parameter : 0.028262253940683525\t (variational)\n",
      "CNOT      target : [3]   control : [2]   \n",
      "CNOT      target : [2]   control : [1]   \n",
      "CNOT      target : [1]   control : [0]   \n",
      "H         target : [3]   \n",
      "H         target : [2]   \n",
      "RX        target : [1]   parameter : -1.5707963267948966\n",
      "H         target : [0]   \n",
      "H         target : [0]   \n",
      "H         target : [1]   \n",
      "H         target : [2]   \n",
      "RX        target : [3]   parameter : 1.5707963267948966\n",
      "CNOT      target : [1]   control : [0]   \n",
      "CNOT      target : [2]   control : [1]   \n",
      "CNOT      target : [3]   control : [2]   \n",
      "RZ        target : [3]   parameter : 12.538108360418489\t (variational)\n",
      "CNOT      target : [3]   control : [2]   \n",
      "CNOT      target : [2]   control : [1]   \n",
      "CNOT      target : [1]   control : [0]   \n",
      "RX        target : [3]   parameter : -1.5707963267948966\n",
      "H         target : [2]   \n",
      "H         target : [1]   \n",
      "H         target : [0]   \n",
      "\n",
      "Optimal parameters ::\n",
      " [-5.44105155e-05  5.65245079e-02]\n"
     ]
    }
   ],
   "source": [
    "from tangelo.algorithms import FCISolver\n",
    "\n",
    "fci_solver = FCISolver(mol)\n",
    "fci_energy = fci_solver.simulate()\n",
    "\n",
    "print(f\"Accuracy :: {abs(opt_energy - fci_energy)}\\n\")\n",
    "print(f\"Optimal circuit ::\\n {vqe_solver.optimal_circuit}\")\n",
    "print(f\"Optimal parameters ::\\n {vqe_solver.optimal_var_params}\")"
   ]
  },
  {
   "cell_type": "markdown",
   "id": "e7de3c96",
   "metadata": {},
   "source": [
    "## Level 2: Impact of some of the options in VQE\n",
    "\n",
    "A number of options are available in the VQE framework. Let's see how these choices impact the calculations.\n",
    "\n",
    "### 2a) Qubit mappings\n",
    "\n",
    "Our VQE framework supports a number of qubit mappings, such as Jordan-Wigner (`'jw'`), Bravyi-Kitaev (`'bk'`) or Symmetry-Conserving Bravyi-Kitaev (`'bk'`). We also support more uncommon ones, such as JKMN or HCB, and probably more in the future !\n",
    "\n",
    "Can you instantiate `VQESolver` objects using these different qubit mappings, and see how they impact the complexity of the algorithm ?"
   ]
  },
  {
   "cell_type": "code",
   "execution_count": 7,
   "id": "cd889622",
   "metadata": {},
   "outputs": [
    {
     "name": "stdout",
     "output_type": "stream",
     "text": [
      "{'qubit_hamiltonian_terms': 15, 'circuit_width': 4, 'circuit_depth': 100, 'circuit_2qubit_gates': 64, 'circuit_var_gates': 12, 'vqe_variational_parameters': 2}\n",
      "JW :: -1.1372701683419209\n",
      "(-0.0988639693354576+0j) [] +\n",
      "(-0.045322202052874024+0j) [X0 X1 Y2 Y3] +\n",
      "(0.045322202052874024+0j) [X0 Y1 Y2 X3] +\n",
      "(0.045322202052874024+0j) [Y0 X1 X2 Y3] +\n",
      "(-0.045322202052874024+0j) [Y0 Y1 X2 X3] +\n",
      "(0.1711977490343296+0j) [Z0] +\n",
      "(0.16862219158920955+0j) [Z0 Z1] +\n",
      "(0.12054482205301811+0j) [Z0 Z2] +\n",
      "(0.16586702410589216+0j) [Z0 Z3] +\n",
      "(0.17119774903432963+0j) [Z1] +\n",
      "(0.16586702410589216+0j) [Z1 Z2] +\n",
      "(0.12054482205301811+0j) [Z1 Z3] +\n",
      "(-0.2227859304041852+0j) [Z2] +\n",
      "(0.17434844185575676+0j) [Z2 Z3] +\n",
      "(-0.22278593040418523+0j) [Z3]\n",
      "\n",
      "{'qubit_hamiltonian_terms': 15, 'circuit_width': 4, 'circuit_depth': 100, 'circuit_2qubit_gates': 64, 'circuit_var_gates': 12, 'vqe_variational_parameters': 2}\n",
      "{'qubit_hamiltonian_terms': 15, 'circuit_width': 4, 'circuit_depth': 76, 'circuit_2qubit_gates': 46, 'circuit_var_gates': 12, 'vqe_variational_parameters': 2}\n",
      "BK :: -1.1372701669097491\n",
      "(-0.0988639693354576+0j) [] +\n",
      "(0.045322202052874024+0j) [X0 Z1 X2] +\n",
      "(0.045322202052874024+0j) [X0 Z1 X2 Z3] +\n",
      "(0.045322202052874024+0j) [Y0 Z1 Y2] +\n",
      "(0.045322202052874024+0j) [Y0 Z1 Y2 Z3] +\n",
      "(0.1711977490343296+0j) [Z0] +\n",
      "(0.17119774903432963+0j) [Z0 Z1] +\n",
      "(0.16586702410589216+0j) [Z0 Z1 Z2] +\n",
      "(0.16586702410589216+0j) [Z0 Z1 Z2 Z3] +\n",
      "(0.12054482205301811+0j) [Z0 Z2] +\n",
      "(0.12054482205301811+0j) [Z0 Z2 Z3] +\n",
      "(0.16862219158920955+0j) [Z1] +\n",
      "(-0.22278593040418523+0j) [Z1 Z2 Z3] +\n",
      "(0.17434844185575676+0j) [Z1 Z3] +\n",
      "(-0.2227859304041852+0j) [Z2]\n",
      "\n",
      "{'qubit_hamiltonian_terms': 15, 'circuit_width': 4, 'circuit_depth': 76, 'circuit_2qubit_gates': 46, 'circuit_var_gates': 12, 'vqe_variational_parameters': 2}\n",
      "{'qubit_hamiltonian_terms': 5, 'circuit_width': 2, 'circuit_depth': 14, 'circuit_2qubit_gates': 4, 'circuit_var_gates': 4, 'vqe_variational_parameters': 2}\n",
      "SCBK :: -1.1372701683419355\n",
      "-0.33995361344149383 [] +\n",
      "0.1812888082114961 [X0 X1] +\n",
      "0.3939836794385148 [Z0] +\n",
      "0.011236585233181995 [Z0 Z1] +\n",
      "0.39398367943851487 [Z1]\n",
      "\n",
      "{'qubit_hamiltonian_terms': 5, 'circuit_width': 2, 'circuit_depth': 14, 'circuit_2qubit_gates': 4, 'circuit_var_gates': 4, 'vqe_variational_parameters': 2}\n",
      "{'qubit_hamiltonian_terms': 15, 'circuit_width': 4, 'circuit_depth': 94, 'circuit_2qubit_gates': 60, 'circuit_var_gates': 12, 'vqe_variational_parameters': 2}\n",
      "JKMN :: -1.137270168341928\n",
      "-0.0988639693354576 [] +\n",
      "-0.045322202052874024 [X0 X1 X2 X3] +\n",
      "-0.045322202052874024 [X0 Y1 X2 Y3] +\n",
      "0.045322202052874024 [Y0 X1 X2 Y3] +\n",
      "-0.045322202052874024 [Y0 Y1 X2 X3] +\n",
      "0.12054482205301811 [Z0 Z1] +\n",
      "0.1711977490343296 [Z0 Z1 Z2] +\n",
      "0.16586702410589216 [Z0 Z1 Z2 Z3] +\n",
      "0.16862219158920955 [Z0 Z2] +\n",
      "0.17119774903432963 [Z1] +\n",
      "0.16586702410589216 [Z1 Z2] +\n",
      "0.12054482205301811 [Z1 Z3] +\n",
      "-0.2227859304041852 [Z2] +\n",
      "0.17434844185575676 [Z2 Z3] +\n",
      "-0.22278593040418523 [Z3]\n",
      "\n",
      "{'qubit_hamiltonian_terms': 15, 'circuit_width': 4, 'circuit_depth': 94, 'circuit_2qubit_gates': 60, 'circuit_var_gates': 12, 'vqe_variational_parameters': 2}\n"
     ]
    },
    {
     "name": "stderr",
     "output_type": "stream",
     "text": [
      "/Users/valentinsenicourt/Desktop/Tangelo_fork/Tangelo/tangelo/toolboxes/qubit_mappings/statevector_mapping.py:149: RuntimeWarning: Symmetry-conserving Bravyi-Kitaev enforces all spin-up followed by all spin-down ordering.\n",
      "  warnings.warn(\"Symmetry-conserving Bravyi-Kitaev enforces all spin-up followed by all spin-down ordering.\", RuntimeWarning)\n"
     ]
    }
   ],
   "source": [
    "for qb_mapping in [\"JW\", \"BK\", \"SCBK\", \"JKMN\"]:\n",
    "    # TODO: Try different qubit mappings. How do they impact to the computational resource requirements ?\n",
    "    vqe_options = {\"molecule\": mol_H2_sto3g, \"qubit_mapping\": qb_mapping}\n",
    "    vqe_solver = VQESolver(vqe_options)\n",
    "    vqe_solver.build()\n",
    "    print(vqe_solver.get_resources())    \n",
    "    opt_energy = vqe_solver.simulate()\n",
    "    print(f\"{qb_mapping} :: {opt_energy:=}\\n{vqe_solver.qubit_hamiltonian}\\n\")\n",
    "    print(vqe_solver.get_resources())"
   ]
  },
  {
   "cell_type": "markdown",
   "id": "2934bee3",
   "metadata": {},
   "source": [
    "### 2b) Compute backends"
   ]
  },
  {
   "cell_type": "markdown",
   "id": "90c8e1a8",
   "metadata": {},
   "source": [
    "Tangelo is backend-agnostic. That means that you do not have to rewrite your code if you want to run it on a different simulator or quantum device, and it takes little effort to swap or integrate with a new backend overall.\n",
    "\n",
    "There's a lot of quantum simulators out there, with different tradeoffs between speed, accuracy, maximal circuit size or ability to simulate noise. Likewise, there's a growing number of quantum devices out there, based on different technologies.\n",
    "\n",
    "Let's revisit H2 in a bigger basis set, and see what impact the choice of backend has on our experience."
   ]
  },
  {
   "cell_type": "code",
   "execution_count": 8,
   "id": "97a5a42a",
   "metadata": {},
   "outputs": [],
   "source": [
    "from tangelo.molecule_library import mol_H2_321g\n",
    "\n",
    "mol = mol_H2_321g"
   ]
  },
  {
   "cell_type": "code",
   "execution_count": 9,
   "id": "aca9e218",
   "metadata": {},
   "outputs": [
    {
     "name": "stdout",
     "output_type": "stream",
     "text": [
      "{'qubit_hamiltonian_terms': 185, 'circuit_width': 8, 'circuit_depth': 586, 'circuit_2qubit_gates': 432, 'circuit_var_gates': 52, 'vqe_variational_parameters': 9}\n"
     ]
    }
   ],
   "source": [
    "# TODO: Without simulating the algorithm, get an idea of the amount of resources this problem would require\n",
    "# Assume we are interested in using VQE with the Jordan-Wigner qubit mapping\n",
    "\n",
    "vqe_options = {\"molecule\": mol}\n",
    "vqe_solver = VQESolver(vqe_options)\n",
    "vqe_solver.build()\n",
    "print(vqe_solver.get_resources())"
   ]
  },
  {
   "cell_type": "markdown",
   "id": "c881054a",
   "metadata": {},
   "source": [
    "Now let's see what happens when you try to run VQE with the `'jw'` mapping but with the following backends. It may take some time depending of your machine, and how optimally these packages were installed (If you've waited more than a few minutes, you can try to revert to H2 in sto-3g basis)"
   ]
  },
  {
   "cell_type": "code",
   "execution_count": 10,
   "id": "f8b577a2",
   "metadata": {},
   "outputs": [
    {
     "name": "stdout",
     "output_type": "stream",
     "text": [
      "qulacs     :: 0.537 s \t (energy = -1.1478302259877777)\n",
      "cirq       :: 13.520 s \t (energy = -1.1478302259878528)\n",
      "qiskit     :: 88.960 s \t (energy = -1.1478302259876476)\n"
     ]
    }
   ],
   "source": [
    "for b in [\"qulacs\", \"cirq\", \"qiskit\"]:\n",
    "    \n",
    "    # TODO : Create the dictionary of options to build our VQE object with the desired backends\n",
    "    backend_options = {\"target\":b}\n",
    "    vqe_options = {\"molecule\": mol, \"qubit_mapping\": 'jw', \"backend_options\": backend_options}\n",
    "\n",
    "    # Start timer\n",
    "    t_start = time.time()\n",
    "    \n",
    "    # Run VQE algorithm\n",
    "    vqe_solver = VQESolver(vqe_options)\n",
    "    vqe_solver.build()\n",
    "    opt_energy = vqe_solver.simulate()\n",
    "    \n",
    "    # Stop timer, print elapsed time\n",
    "    t_stop = time.time()\n",
    "    print(f\"{b:10} :: {t_stop - t_start:3.3f} s \\t (energy = {opt_energy})\")"
   ]
  },
  {
   "cell_type": "markdown",
   "id": "517e29aa",
   "metadata": {},
   "source": [
    "Roughly, what is the speedup between the best- and poorest-performing backends on your machine ?"
   ]
  },
  {
   "cell_type": "markdown",
   "id": "da76482d",
   "metadata": {},
   "source": [
    "## Boss fight: H2O\n",
    "\n",
    "You want to compute the ground state energy of H2O in sto-3g basis set using VQE: this problem is more challenging than the previous ones. Use all you can find in the source code, documentation and tutorials to give it a go !\n",
    "\n",
    "- More accuracy is better. Can you reach chemical accuracy (~0.001 Ha) ?\n",
    "- Research time is important: how much can you reduce time-to-solution with your code ?\n",
    "- Quantum computers and simulators are limited: how much can you reduce computational requirements"
   ]
  },
  {
   "cell_type": "code",
   "execution_count": 11,
   "id": "3445c8f9",
   "metadata": {},
   "outputs": [
    {
     "name": "stdout",
     "output_type": "stream",
     "text": [
      "H2O FCI energy = -75.01277542934066\n"
     ]
    }
   ],
   "source": [
    "from tangelo.molecule_library import mol_H2O_sto3g\n",
    "mol = mol_H2O_sto3g\n",
    "\n",
    "fci_h2o = FCISolver(mol)\n",
    "opt_e = fci_h2o.simulate()\n",
    "print(f\"H2O FCI energy = {opt_e}\")"
   ]
  },
  {
   "cell_type": "code",
   "execution_count": 12,
   "id": "cc16eeb3",
   "metadata": {},
   "outputs": [
    {
     "name": "stderr",
     "output_type": "stream",
     "text": [
      "/Users/valentinsenicourt/Desktop/Tangelo_fork/Tangelo/tangelo/toolboxes/qubit_mappings/statevector_mapping.py:149: RuntimeWarning: Symmetry-conserving Bravyi-Kitaev enforces all spin-up followed by all spin-down ordering.\n",
      "  warnings.warn(\"Symmetry-conserving Bravyi-Kitaev enforces all spin-up followed by all spin-down ordering.\", RuntimeWarning)\n"
     ]
    },
    {
     "name": "stdout",
     "output_type": "stream",
     "text": [
      "{'qubit_hamiltonian_terms': 1086, 'circuit_width': 12, 'circuit_depth': 4337, 'circuit_2qubit_gates': 3800, 'circuit_var_gates': 360, 'vqe_variational_parameters': 65}\n",
      "qulacs     :: 183.112 s \t (energy = -75.01263529694484)\n"
     ]
    }
   ],
   "source": [
    "# TODO: fight !\n",
    "\n",
    "b = \"qulacs\"\n",
    "backend_options = {\"target\":b}\n",
    "vqe_options = {\"molecule\": mol, \"qubit_mapping\": 'scbk', \"backend_options\": backend_options}\n",
    "\n",
    "# Start timer\n",
    "t_start = time.time()\n",
    "\n",
    "# Run VQE algorithm\n",
    "vqe_solver = VQESolver(vqe_options)\n",
    "vqe_solver.build()\n",
    "print(vqe_solver.get_resources())\n",
    "opt_energy = vqe_solver.simulate()\n",
    "\n",
    "# Stop timer, print elapsed time\n",
    "t_stop = time.time()\n",
    "print(f\"{b:10} :: {t_stop - t_start:3.3f} s \\t (energy = {opt_energy})\")"
   ]
  },
  {
   "cell_type": "code",
   "execution_count": 13,
   "id": "cdfcc2e3",
   "metadata": {},
   "outputs": [
    {
     "name": "stdout",
     "output_type": "stream",
     "text": [
      "{'qubit_hamiltonian_terms': 1086, 'circuit_width': 12, 'circuit_depth': 14, 'circuit_2qubit_gates': 22, 'circuit_var_gates': 108, 'vqe_variational_parameters': 108}\n",
      "qulacs     :: 111.157 s \t (energy = -74.96311173224746)\n"
     ]
    }
   ],
   "source": [
    "from tangelo.algorithms import BuiltInAnsatze as Ansatze\n",
    "\n",
    "b = \"qulacs\"\n",
    "backend_options = {\"target\":b}\n",
    "vqe_options = {\"molecule\": mol, \"qubit_mapping\": 'scbk', \"backend_options\": backend_options, 'ansatz': Ansatze.HEA}\n",
    "\n",
    "# Start timer\n",
    "t_start = time.time()\n",
    "\n",
    "# Run VQE algorithm\n",
    "vqe_solver = VQESolver(vqe_options)\n",
    "vqe_solver.build()\n",
    "print(vqe_solver.get_resources())\n",
    "opt_energy = vqe_solver.simulate()\n",
    "\n",
    "# Stop timer, print elapsed time\n",
    "t_stop = time.time()\n",
    "print(f\"{b:10} :: {t_stop - t_start:3.3f} s \\t (energy = {opt_energy})\")"
   ]
  },
  {
   "cell_type": "markdown",
   "id": "3d15f952",
   "metadata": {},
   "source": [
    "# Final words"
   ]
  },
  {
   "cell_type": "markdown",
   "id": "bed07cac",
   "metadata": {},
   "source": [
    "After all these examples, what observations can you make about the VQE algorithm and what seems to be important in order to apply it successfully to your research ? What were the challenges you've encountered ?\n",
    "\n",
    "We've only grazed the surface here, but there's more to VQE and its variations. If it is relavant to you, take a look at the [following tutorials](https://github.com/goodchemistryco/Tangelo-Examples/tree/main/examples/variational_methods). Did you know that VQE can also compute [excited states](https://github.com/goodchemistryco/Tangelo-Examples/blob/main/examples/chemistry/excited_states.ipynb)? Keep an eye out, maybe 'watch' the Github repo: the community keeps coming up with new innovations. Maybe we'll owe the next one to you :)\n",
    "\n",
    "What will you do with Tangelo ?"
   ]
  }
 ],
 "metadata": {
  "kernelspec": {
   "display_name": "perf_tests_linq",
   "language": "python",
   "name": "perf_tests_linq"
  },
  "language_info": {
   "codemirror_mode": {
    "name": "ipython",
    "version": 3
   },
   "file_extension": ".py",
   "mimetype": "text/x-python",
   "name": "python",
   "nbconvert_exporter": "python",
   "pygments_lexer": "ipython3",
   "version": "3.10.0"
  }
 },
 "nbformat": 4,
 "nbformat_minor": 5
}
