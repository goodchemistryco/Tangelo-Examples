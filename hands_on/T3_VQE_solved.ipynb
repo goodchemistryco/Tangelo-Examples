{
  "cells": [
    {
      "cell_type": "markdown",
      "id": "b9b07a5e",
      "metadata": {
        "id": "b9b07a5e"
      },
      "source": [
        "# Tangelo hands-on: VQE framework\n",
        "\n",
        "## Before you jump in\n",
        "\n",
        "This hands-on notebook complements existing tutorials, documentation and the developer notes available in the Tangelo GitHub repositories, which present content in much more depth.\n",
        "\n",
        "You will come across code cells that require you to change code or fill in the blanks in order to achieve a desired outcome. There may be many ways to solve these simple exercises, and you are encouraged to explore.\n",
        "\n",
        "----\n",
        "\n",
        "**Getting started**\n",
        "\n",
        "Please have a look at the landing page of this repository for guidance about how to deploy these notebooks and get started easily.\n",
        "\n",
        "In order to complete this hands-on tutorial, we recommend you use the latest version of Tangelo.\n",
        "If you encounter errors related to missing Python packages (classical chemistry backend, quantum circuit simulator...), you can install them on-the-fly by typing `!pip install <package-name>` in a new code cell, and then restart the Jupyter notebook kernel."
      ]
    },
    {
      "cell_type": "code",
      "source": [
        "# If Tangelo is not found in your current environment, this cell installs all dependencies required for this hands-on\n",
        "try:\n",
        "    import tangelo\n",
        "except ModuleNotFoundError:\n",
        "    !pip install git+https://github.com/goodchemistryco/Tangelo.git@develop  --quiet\n",
        "    !pip install pyscf\n",
        "    !pip install qulacs qiskit qiskit-aer"
      ],
      "metadata": {
        "id": "d3kXtsxtpUED"
      },
      "id": "d3kXtsxtpUED",
      "execution_count": null,
      "outputs": []
    },
    {
      "cell_type": "markdown",
      "source": [
        "----\n",
        "\n",
        "For this hands-on, we recommend you consider the following resources:\n",
        "- the VQE [tutorial notebook](https://github.com/goodchemistryco/Tangelo-Examples/blob/main/examples/variational_methods/vqe.ipynb)\n",
        "- Optional: [Other tutorials tagged with VQA](https://github.com/goodchemistryco/Tangelo-Examples/blob/main/contents.rst). VQE can be used to compute excited states, or take as input a user-defined ansatz or Hamtiltonian. Moreover, there are quite a few variants of VQE available in Tangelo (ADAPT, etc).\n",
        "- Optional: [Introduction notebook on the basics of modelling a chemical system](https://github.com/goodchemistryco/Tangelo-Examples/blob/main/examples/chemistry/qchem_modelling_basics.ipynb) (Second Quantized molecule, Hartree-Fock, FCI, CCSD, active space selection ...)\n",
        "\n",
        "----"
      ],
      "metadata": {
        "id": "_N9XR7NCphYS"
      },
      "id": "_N9XR7NCphYS"
    },
    {
      "cell_type": "markdown",
      "source": [
        "## Hands-on\n",
        "\n",
        "The use cases for this hands-on will be small molecular systems. In-depth understanding of the chemistry behind second quantization, Hartree-Fock, active space selection and classical solvers is nice to have, but not necessary to go throuygh these hands-on. Feel free to have a look at the list of resources recommended in the first section of this hands-on if you would like to know more about these topics.\n",
        "\n",
        "We'll start with the iconic second quantized $H_2$ molecule in `sto-3g` basis as an initial use case for this hands-on. We'll quickly ramp up in higher basis sets and also play with $H_2O$.\n",
        "\n",
        "The cell below defines the molecule explicitly, specifying a geometry, charge, spin and basis set. Under the hood, a classical chemistry library (pyscf, psi4...) is used to create this object and compute its mean-field, which will enable more advanced calculations."
      ],
      "metadata": {
        "id": "OV8cs7LnsZk_"
      },
      "id": "OV8cs7LnsZk_"
    },
    {
      "cell_type": "code",
      "execution_count": 2,
      "id": "c9f73f3a",
      "metadata": {
        "id": "c9f73f3a",
        "outputId": "3add8d0d-9e45-45a5-e19e-8b21922b9519",
        "colab": {
          "base_uri": "https://localhost:8080/"
        }
      },
      "outputs": [
        {
          "output_type": "stream",
          "name": "stderr",
          "text": [
            "/usr/local/lib/python3.10/dist-packages/pyscf/dft/libxc.py:772: UserWarning: Since PySCF-2.3, B3LYP (and B3P86) are changed to the VWN-RPA variant, the same to the B3LYP functional in Gaussian and ORCA (issue 1480). To restore the VWN5 definition, you can put the setting \"B3LYP_WITH_VWN5 = True\" in pyscf_conf.py\n",
            "  warnings.warn('Since PySCF-2.3, B3LYP (and B3P86) are changed to the VWN-RPA variant, '\n"
          ]
        }
      ],
      "source": [
        "# Define H2 molecule in minimal basis set\n",
        "from tangelo import SecondQuantizedMolecule\n",
        "\n",
        "xyz_H2 = [(\"H\", (0., 0., 0.)), (\"H\", (0., 0., 0.7414))]\n",
        "mol_H2_sto3g = SecondQuantizedMolecule(xyz_H2, q=0, spin=0, basis=\"sto-3g\")\n",
        "\n",
        "mol = mol_H2_sto3g"
      ]
    },
    {
      "cell_type": "markdown",
      "source": [
        "Before we delve into quantum algorithms implementing variational approaches, let's use classical solvers such as FCI and CCSD to compute references results for the ground state energy of our molecule. These classical solvers can be used to benchmark the accuracy of our variational algorithms later in this hands-on. The results are computed in Hartrees, and in practice an accuracy of 3 digits of precision (e.g about `1 mHa`) is considered satisfying."
      ],
      "metadata": {
        "id": "WPXCUug1udhJ"
      },
      "id": "WPXCUug1udhJ"
    },
    {
      "cell_type": "code",
      "source": [
        "from tangelo.algorithms import FCISolver, CCSDSolver\n",
        "\n",
        "# The FCI solver is the reference for chemists, but computational cost scales badly.\n",
        "fci_solver = FCISolver(mol)\n",
        "fci_energy = fci_solver.simulate()\n",
        "print(f'FCI  energy for H2 ={fci_energy}')\n",
        "\n",
        "# The CCSD solver has better scaling, but is less accurate.\n",
        "ccsd_solver = CCSDSolver(mol)\n",
        "ccsd_energy = ccsd_solver.simulate()\n",
        "print(f'CCSD energy for H2 ={ccsd_energy}')"
      ],
      "metadata": {
        "id": "lRhu78uBsZDa",
        "outputId": "ed0a93c1-9804-4ea1-8b86-4954db0540a2",
        "colab": {
          "base_uri": "https://localhost:8080/"
        }
      },
      "id": "lRhu78uBsZDa",
      "execution_count": 3,
      "outputs": [
        {
          "output_type": "stream",
          "name": "stdout",
          "text": [
            "FCI  energy for H2 =-1.1372701746609042\n",
            "CCSD energy for H2 =-1.1372701746673048\n"
          ]
        }
      ]
    },
    {
      "cell_type": "markdown",
      "id": "23a5cc16",
      "metadata": {
        "id": "23a5cc16"
      },
      "source": [
        "## Level 1: VQE basics\n",
        "\n",
        "The variational solvers in Tangelo currently work in 3 steps:\n",
        "- creation of solver object, which takes options (molecule, ansatz, backend, etc) as input\n",
        "- construction of the underlying objects (quantum circuits, initial parameters, ...)\n",
        "- simulation of the algorithm"
      ]
    },
    {
      "cell_type": "markdown",
      "id": "c91d1958",
      "metadata": {
        "id": "c91d1958"
      },
      "source": [
        "> **Q:** Can you use the `VQESolver` class to compute the ground state energy of our $H_2$ molecule? Use the default `vqe_options` below. You should find a result of about `-1.137270168 Ha`."
      ]
    },
    {
      "cell_type": "code",
      "execution_count": 4,
      "id": "ec8ff26a",
      "metadata": {
        "id": "ec8ff26a",
        "outputId": "84aaf10e-2fce-435e-cc57-0551838e312b",
        "colab": {
          "base_uri": "https://localhost:8080/"
        }
      },
      "outputs": [
        {
          "output_type": "stream",
          "name": "stdout",
          "text": [
            "VQE energy = -1.1372701683419073 (difference with FCI = 6.3189968813048836e-09)\n"
          ]
        }
      ],
      "source": [
        "from tangelo.algorithms import VQESolver\n",
        "\n",
        "vqe_options = {\"molecule\": mol}\n",
        "\n",
        "# INSERT CODE HERE\n",
        "vqe_solver = VQESolver(vqe_options)\n",
        "vqe_solver.build()\n",
        "opt_energy = vqe_solver.simulate()\n",
        "\n",
        "# Print the optimal energy found by VQE and how far it is from FCI\n",
        "print(f'VQE energy = {opt_energy} (difference with FCI = {abs(opt_energy - fci_energy)})')"
      ]
    },
    {
      "cell_type": "markdown",
      "id": "2ad81d1d",
      "metadata": {
        "id": "2ad81d1d"
      },
      "source": [
        "A lot has happened under the hood, let's highlight a few of them:\n",
        "\n",
        "- the molecule has been mapped into qubits using a qubit mapping\n",
        "- an ansatz circuit with variational parameters has been built\n",
        "- a backend (here a simulator) was to simulate quantum circuits\n",
        "- a classical optimizer has been chosen to drive the optimization of variational parameters\n",
        "\n",
        "The cell below use the `vars` function in python which prints the attributes of an objects, and `pprint` to print things nicely. If we use that on your `vqe_solver` object, we should be able to understand what has happened in the previous cell better.\n",
        "\n",
        "> **Q:** Using the output of the cell below, can you find what qubit mapping, ansatz, backend and classical optimizer were used in your previous simulation ?"
      ]
    },
    {
      "cell_type": "code",
      "execution_count": 6,
      "id": "aac2244c",
      "metadata": {
        "id": "aac2244c",
        "outputId": "3921c7bd-7454-4581-dd5e-64ed02bbea9b",
        "colab": {
          "base_uri": "https://localhost:8080/"
        }
      },
      "outputs": [
        {
          "output_type": "stream",
          "name": "stdout",
          "text": [
            "{'ansatz': <tangelo.toolboxes.ansatz_generator.uccsd.UCCSD object at 0x7fe03f9bee30>,\n",
            " 'ansatz_options': {},\n",
            " 'backend': <tangelo.linq.target.target_qulacs.QulacsSimulator object at 0x7fe04d857a60>,\n",
            " 'backend_options': {'n_shots': None, 'noise_model': None, 'target': None},\n",
            " 'builtin_ansatze': {<BuiltInAnsatze.UCCSD: <class 'tangelo.toolboxes.ansatz_generator.uccsd.UCCSD'>>,\n",
            "                     <BuiltInAnsatze.pUCCD: <class 'tangelo.toolboxes.ansatz_generator.puccd.pUCCD'>>,\n",
            "                     <BuiltInAnsatze.ILC: <class 'tangelo.toolboxes.ansatz_generator.ilc.ILC'>>,\n",
            "                     <BuiltInAnsatze.UCCGD: <class 'tangelo.toolboxes.ansatz_generator.uccgd.UCCGD'>>,\n",
            "                     <BuiltInAnsatze.VSQS: <class 'tangelo.toolboxes.ansatz_generator.vsqs.VSQS'>>,\n",
            "                     <BuiltInAnsatze.QCC: <class 'tangelo.toolboxes.ansatz_generator.qcc.QCC'>>,\n",
            "                     <BuiltInAnsatze.QMF: <class 'tangelo.toolboxes.ansatz_generator.qmf.QMF'>>,\n",
            "                     <BuiltInAnsatze.UpCCGSD: <class 'tangelo.toolboxes.ansatz_generator.upccgsd.UpCCGSD'>>,\n",
            "                     <BuiltInAnsatze.HEA: <class 'tangelo.toolboxes.ansatz_generator.hea.HEA'>>,\n",
            "                     <BuiltInAnsatze.UCC3: <tangelo.toolboxes.ansatz_generator.rucc.RUCC object at 0x7fe09086fbe0>>,\n",
            "                     <BuiltInAnsatze.UCC1: <tangelo.toolboxes.ansatz_generator.rucc.RUCC object at 0x7fe09086e620>>},\n",
            " 'deflation_circuits': [],\n",
            " 'deflation_coeff': 1,\n",
            " 'initial_var_params': [2e-05, 0.03632537110234506],\n",
            " 'molecule': SecondQuantizedMolecule(xyz=[('H', (0.0, 0.0, 0.0)),\n",
            "                                          ('H',\n",
            "                                           (0.0, 0.0, 0.7413999999999998))],\n",
            "                                     q=0,\n",
            "                                     spin=0,\n",
            "                                     solver=<tangelo.toolboxes.molecular_computation.integral_solver_pyscf.IntegralSolverPySCF object at 0x7fe09086f4f0>,\n",
            "                                     n_atoms=2,\n",
            "                                     n_electrons=2,\n",
            "                                     basis='sto-3g',\n",
            "                                     ecp={},\n",
            "                                     symmetry=False,\n",
            "                                     uhf=False,\n",
            "                                     mf_energy=-1.1166843870853411,\n",
            "                                     mo_energies=array([-0.57797481,  0.66969867]),\n",
            "                                     mo_occ=array([2., 0.]),\n",
            "                                     n_mos=2,\n",
            "                                     n_sos=4,\n",
            "                                     active_occupied=[0],\n",
            "                                     frozen_occupied=[],\n",
            "                                     active_virtual=[1],\n",
            "                                     frozen_virtual=[]),\n",
            " 'optimal_circuit': <tangelo.linq.circuit.Circuit object at 0x7fe03fa00a90>,\n",
            " 'optimal_energy': -1.1372701683419073,\n",
            " 'optimal_var_params': array([-5.44105775e-05,  5.65245079e-02]),\n",
            " 'optimizer': <bound method VQESolver._default_optimizer of <tangelo.algorithms.variational.vqe_solver.VQESolver object at 0x7fe03fa02650>>,\n",
            " 'penalty_terms': None,\n",
            " 'projective_circuit': None,\n",
            " 'qubit_hamiltonian': (-0.0988639693354576+0j) [] +\n",
            "(-0.04532220205287404+0j) [X0 X1 Y2 Y3] +\n",
            "(0.04532220205287404+0j) [X0 Y1 Y2 X3] +\n",
            "(0.04532220205287404+0j) [Y0 X1 X2 Y3] +\n",
            "(-0.04532220205287404+0j) [Y0 Y1 X2 X3] +\n",
            "(0.1711977490343296+0j) [Z0] +\n",
            "(0.16862219158920955+0j) [Z0 Z1] +\n",
            "(0.12054482205301811+0j) [Z0 Z2] +\n",
            "(0.16586702410589216+0j) [Z0 Z3] +\n",
            "(0.17119774903432963+0j) [Z1] +\n",
            "(0.16586702410589216+0j) [Z1 Z2] +\n",
            "(0.12054482205301811+0j) [Z1 Z3] +\n",
            "(-0.22278593040418523+0j) [Z2] +\n",
            "(0.17434844185575676+0j) [Z2 Z3] +\n",
            "(-0.22278593040418523+0j) [Z3],\n",
            " 'qubit_mapping': 'jw',\n",
            " 'ref_state': None,\n",
            " 'reference_circuit': <tangelo.linq.circuit.Circuit object at 0x7fe03fa028f0>,\n",
            " 'simulate_options': {},\n",
            " 'up_then_down': False,\n",
            " 'verbose': False}\n"
          ]
        }
      ],
      "source": [
        "from pprint import pprint\n",
        "pprint(vars(vqe_solver))"
      ]
    },
    {
      "cell_type": "markdown",
      "id": "c16ec721",
      "metadata": {
        "id": "c16ec721"
      },
      "source": [
        "> **Q:** Now that you've taken a peek inside the `vqe_solver` object, can you print:\n",
        "> - the optimal parameters values found by VQE ?\n",
        "> - the optimal circuit ?"
      ]
    },
    {
      "cell_type": "code",
      "execution_count": 5,
      "id": "d1f59d6b",
      "metadata": {
        "id": "d1f59d6b",
        "outputId": "ad42342a-eabc-4cff-8e4d-aa3405d49f59",
        "colab": {
          "base_uri": "https://localhost:8080/"
        }
      },
      "outputs": [
        {
          "output_type": "stream",
          "name": "stdout",
          "text": [
            "Optimal circuit ::\n",
            " Circuit object. Size 158 \n",
            "\n",
            "X         target : [0]   \n",
            "X         target : [1]   \n",
            "RX        target : [0]   parameter : 1.5707963267948966\n",
            "H         target : [2]   \n",
            "CNOT      target : [1]   control : [0]   \n",
            "CNOT      target : [2]   control : [1]   \n",
            "RZ        target : [2]   parameter : 12.566316203781657\t (variational)\n",
            "CNOT      target : [2]   control : [1]   \n",
            "CNOT      target : [1]   control : [0]   \n",
            "H         target : [2]   \n",
            "RX        target : [0]   parameter : -1.5707963267948966\n",
            "H         target : [0]   \n",
            "RX        target : [2]   parameter : 1.5707963267948966\n",
            "CNOT      target : [1]   control : [0]   \n",
            "CNOT      target : [2]   control : [1]   \n",
            "RZ        target : [2]   parameter : 5.4410577516247575e-05\t (variational)\n",
            "CNOT      target : [2]   control : [1]   \n",
            "CNOT      target : [1]   control : [0]   \n",
            "RX        target : [2]   parameter : -1.5707963267948966\n",
            "H         target : [0]   \n",
            "RX        target : [1]   parameter : 1.5707963267948966\n",
            "H         target : [3]   \n",
            "CNOT      target : [2]   control : [1]   \n",
            "CNOT      target : [3]   control : [2]   \n",
            "RZ        target : [3]   parameter : 12.566316203781657\t (variational)\n",
            "CNOT      target : [3]   control : [2]   \n",
            "CNOT      target : [2]   control : [1]   \n",
            "H         target : [3]   \n",
            "RX        target : [1]   parameter : -1.5707963267948966\n",
            "H         target : [1]   \n",
            "RX        target : [3]   parameter : 1.5707963267948966\n",
            "CNOT      target : [2]   control : [1]   \n",
            "CNOT      target : [3]   control : [2]   \n",
            "RZ        target : [3]   parameter : 5.4410577516247575e-05\t (variational)\n",
            "CNOT      target : [3]   control : [2]   \n",
            "CNOT      target : [2]   control : [1]   \n",
            "RX        target : [3]   parameter : -1.5707963267948966\n",
            "H         target : [1]   \n",
            "RX        target : [0]   parameter : 1.5707963267948966\n",
            "RX        target : [1]   parameter : 1.5707963267948966\n",
            "RX        target : [2]   parameter : 1.5707963267948966\n",
            "H         target : [3]   \n",
            "CNOT      target : [1]   control : [0]   \n",
            "CNOT      target : [2]   control : [1]   \n",
            "CNOT      target : [3]   control : [2]   \n",
            "RZ        target : [3]   parameter : 0.02826225393670368\t (variational)\n",
            "CNOT      target : [3]   control : [2]   \n",
            "CNOT      target : [2]   control : [1]   \n",
            "CNOT      target : [1]   control : [0]   \n",
            "H         target : [3]   \n",
            "RX        target : [2]   parameter : -1.5707963267948966\n",
            "RX        target : [1]   parameter : -1.5707963267948966\n",
            "RX        target : [0]   parameter : -1.5707963267948966\n",
            "RX        target : [0]   parameter : 1.5707963267948966\n",
            "H         target : [1]   \n",
            "RX        target : [2]   parameter : 1.5707963267948966\n",
            "RX        target : [3]   parameter : 1.5707963267948966\n",
            "CNOT      target : [1]   control : [0]   \n",
            "CNOT      target : [2]   control : [1]   \n",
            "CNOT      target : [3]   control : [2]   \n",
            "RZ        target : [3]   parameter : 12.538108360422468\t (variational)\n",
            "CNOT      target : [3]   control : [2]   \n",
            "CNOT      target : [2]   control : [1]   \n",
            "CNOT      target : [1]   control : [0]   \n",
            "RX        target : [3]   parameter : -1.5707963267948966\n",
            "RX        target : [2]   parameter : -1.5707963267948966\n",
            "H         target : [1]   \n",
            "RX        target : [0]   parameter : -1.5707963267948966\n",
            "H         target : [0]   \n",
            "H         target : [1]   \n",
            "RX        target : [2]   parameter : 1.5707963267948966\n",
            "H         target : [3]   \n",
            "CNOT      target : [1]   control : [0]   \n",
            "CNOT      target : [2]   control : [1]   \n",
            "CNOT      target : [3]   control : [2]   \n",
            "RZ        target : [3]   parameter : 12.538108360422468\t (variational)\n",
            "CNOT      target : [3]   control : [2]   \n",
            "CNOT      target : [2]   control : [1]   \n",
            "CNOT      target : [1]   control : [0]   \n",
            "H         target : [3]   \n",
            "RX        target : [2]   parameter : -1.5707963267948966\n",
            "H         target : [1]   \n",
            "H         target : [0]   \n",
            "H         target : [0]   \n",
            "RX        target : [1]   parameter : 1.5707963267948966\n",
            "RX        target : [2]   parameter : 1.5707963267948966\n",
            "RX        target : [3]   parameter : 1.5707963267948966\n",
            "CNOT      target : [1]   control : [0]   \n",
            "CNOT      target : [2]   control : [1]   \n",
            "CNOT      target : [3]   control : [2]   \n",
            "RZ        target : [3]   parameter : 12.538108360422468\t (variational)\n",
            "CNOT      target : [3]   control : [2]   \n",
            "CNOT      target : [2]   control : [1]   \n",
            "CNOT      target : [1]   control : [0]   \n",
            "RX        target : [3]   parameter : -1.5707963267948966\n",
            "RX        target : [2]   parameter : -1.5707963267948966\n",
            "RX        target : [1]   parameter : -1.5707963267948966\n",
            "H         target : [0]   \n",
            "RX        target : [0]   parameter : 1.5707963267948966\n",
            "H         target : [1]   \n",
            "H         target : [2]   \n",
            "H         target : [3]   \n",
            "CNOT      target : [1]   control : [0]   \n",
            "CNOT      target : [2]   control : [1]   \n",
            "CNOT      target : [3]   control : [2]   \n",
            "RZ        target : [3]   parameter : 0.02826225393670368\t (variational)\n",
            "CNOT      target : [3]   control : [2]   \n",
            "CNOT      target : [2]   control : [1]   \n",
            "CNOT      target : [1]   control : [0]   \n",
            "H         target : [3]   \n",
            "H         target : [2]   \n",
            "H         target : [1]   \n",
            "RX        target : [0]   parameter : -1.5707963267948966\n",
            "RX        target : [0]   parameter : 1.5707963267948966\n",
            "RX        target : [1]   parameter : 1.5707963267948966\n",
            "H         target : [2]   \n",
            "RX        target : [3]   parameter : 1.5707963267948966\n",
            "CNOT      target : [1]   control : [0]   \n",
            "CNOT      target : [2]   control : [1]   \n",
            "CNOT      target : [3]   control : [2]   \n",
            "RZ        target : [3]   parameter : 0.02826225393670368\t (variational)\n",
            "CNOT      target : [3]   control : [2]   \n",
            "CNOT      target : [2]   control : [1]   \n",
            "CNOT      target : [1]   control : [0]   \n",
            "RX        target : [3]   parameter : -1.5707963267948966\n",
            "H         target : [2]   \n",
            "RX        target : [1]   parameter : -1.5707963267948966\n",
            "RX        target : [0]   parameter : -1.5707963267948966\n",
            "H         target : [0]   \n",
            "RX        target : [1]   parameter : 1.5707963267948966\n",
            "H         target : [2]   \n",
            "H         target : [3]   \n",
            "CNOT      target : [1]   control : [0]   \n",
            "CNOT      target : [2]   control : [1]   \n",
            "CNOT      target : [3]   control : [2]   \n",
            "RZ        target : [3]   parameter : 0.02826225393670368\t (variational)\n",
            "CNOT      target : [3]   control : [2]   \n",
            "CNOT      target : [2]   control : [1]   \n",
            "CNOT      target : [1]   control : [0]   \n",
            "H         target : [3]   \n",
            "H         target : [2]   \n",
            "RX        target : [1]   parameter : -1.5707963267948966\n",
            "H         target : [0]   \n",
            "H         target : [0]   \n",
            "H         target : [1]   \n",
            "H         target : [2]   \n",
            "RX        target : [3]   parameter : 1.5707963267948966\n",
            "CNOT      target : [1]   control : [0]   \n",
            "CNOT      target : [2]   control : [1]   \n",
            "CNOT      target : [3]   control : [2]   \n",
            "RZ        target : [3]   parameter : 12.538108360422468\t (variational)\n",
            "CNOT      target : [3]   control : [2]   \n",
            "CNOT      target : [2]   control : [1]   \n",
            "CNOT      target : [1]   control : [0]   \n",
            "RX        target : [3]   parameter : -1.5707963267948966\n",
            "H         target : [2]   \n",
            "H         target : [1]   \n",
            "H         target : [0]   \n",
            "\n",
            "Optimal parameters ::\n",
            " [-5.44105775e-05  5.65245079e-02]\n"
          ]
        }
      ],
      "source": [
        "# INSERT CODE HERE\n",
        "print(f\"Optimal circuit ::\\n {vqe_solver.optimal_circuit}\")\n",
        "print(f\"Optimal parameters ::\\n {vqe_solver.optimal_var_params}\")"
      ]
    },
    {
      "cell_type": "markdown",
      "source": [
        "> **Q:** The `simulate` method runs the entire VQE algorithm, which performed many energy estimations along the way, driven by the classical optimizer. Can you instead perform a single energy estimation, using `vqe_solver` ? If you pass the optimal parameters as input, you should see that the output is the optimal energy."
      ],
      "metadata": {
        "id": "vJSMToGK2Wcg"
      },
      "id": "vJSMToGK2Wcg"
    },
    {
      "cell_type": "code",
      "source": [
        "# INSERT CODE HERE\n",
        "print(vqe_solver.energy_estimation([-5.44105775e-05, 5.65245079e-02]))"
      ],
      "metadata": {
        "id": "wT5TOBAD2TQ0",
        "outputId": "1f8ab0c8-ddca-4273-8a2d-97c7a872aa78",
        "colab": {
          "base_uri": "https://localhost:8080/"
        }
      },
      "id": "wT5TOBAD2TQ0",
      "execution_count": 7,
      "outputs": [
        {
          "output_type": "stream",
          "name": "stdout",
          "text": [
            "-1.137270168341911\n"
          ]
        }
      ]
    },
    {
      "cell_type": "markdown",
      "id": "e7de3c96",
      "metadata": {
        "id": "e7de3c96"
      },
      "source": [
        "## Level 2: Impact of some of the options in VQE\n",
        "\n",
        "A number of options are available in the VQE framework. In this hands-on, we only graze the surface but some of the additional resources at the beginning of this notebook are more comprehensive. Let's see how some of choices impact the calculations. Some of these options require more information from the user, as they may be chemically-inspired. Others may work right away. Some combination of options may be incompatible. Tangelo is doing its best to return appropriate error messages when things don't work out.\n",
        "\n",
        "### 2a) Qubit mappings\n",
        "\n",
        "Our VQE framework supports a number of qubit mappings, such as Jordan-Wigner (`'jw'`), Bravyi-Kitaev (`'bk'`) or Symmetry-Conserving Bravyi-Kitaev (`'bk'`). But there's more to life than these ! Tangelo also supports more uncommon ones, such as JKMN, Hardcore Boson (HCB), combinational mapping, and probably more in the future.\n",
        "\n",
        "`VQESolver` provides a rather high-level interface, but all the building blocks used underneath are available to you ! You can check out the [qubit_mapping toolbox](https://github.com/goodchemistryco/Tangelo/tree/main/tangelo/toolboxes/qubit_mappings) in Tangelo if you'd like to learn more. The `fermion_to_qubit_mapping` function and the individual mapping functions will be helpful if you decide to explore this topic more in depth, or try to build custom Hamiltonians.\n",
        "\n",
        "> **Q:** Can you instantiate `VQESolver` objects using a few of these different qubit mappings, and see how they impact the complexity of the algorithm using the `get_resources` method and printing the `qubit_hamiltonian`?"
      ]
    },
    {
      "cell_type": "code",
      "execution_count": 10,
      "id": "cd889622",
      "metadata": {
        "id": "cd889622",
        "outputId": "874a9429-75aa-4562-eab5-243ebc88591b",
        "colab": {
          "base_uri": "https://localhost:8080/"
        }
      },
      "outputs": [
        {
          "output_type": "stream",
          "name": "stdout",
          "text": [
            "\n",
            "JW :: -1.1372701683419073\n",
            "(-0.0988639693354576+0j) [] +\n",
            "(-0.04532220205287404+0j) [X0 X1 Y2 Y3] +\n",
            "(0.04532220205287404+0j) [X0 Y1 Y2 X3] +\n",
            "(0.04532220205287404+0j) [Y0 X1 X2 Y3] +\n",
            "(-0.04532220205287404+0j) [Y0 Y1 X2 X3] +\n",
            "(0.1711977490343296+0j) [Z0] +\n",
            "(0.16862219158920955+0j) [Z0 Z1] +\n",
            "(0.12054482205301811+0j) [Z0 Z2] +\n",
            "(0.16586702410589216+0j) [Z0 Z3] +\n",
            "(0.17119774903432963+0j) [Z1] +\n",
            "(0.16586702410589216+0j) [Z1 Z2] +\n",
            "(0.12054482205301811+0j) [Z1 Z3] +\n",
            "(-0.22278593040418523+0j) [Z2] +\n",
            "(0.17434844185575676+0j) [Z2 Z3] +\n",
            "(-0.22278593040418523+0j) [Z3]\n",
            "\n",
            "{'qubit_hamiltonian_terms': 15, 'circuit_width': 4, 'circuit_depth': 100, 'circuit_2qubit_gates': 64, 'circuit_var_gates': 12, 'vqe_variational_parameters': 2}\n",
            "\n",
            "SCBK :: -1.1372701683419335\n",
            "-0.33995361344149383 [] +\n",
            "0.18128880821149615 [X0 X1] +\n",
            "0.39398367943851487 [Z0] +\n",
            "0.011236585233181995 [Z0 Z1] +\n",
            "0.39398367943851487 [Z1]\n",
            "\n",
            "{'qubit_hamiltonian_terms': 5, 'circuit_width': 2, 'circuit_depth': 14, 'circuit_2qubit_gates': 4, 'circuit_var_gates': 4, 'vqe_variational_parameters': 2}\n",
            "\n",
            "JKMN :: -1.1372701683419368\n",
            "-0.0988639693354576 [] +\n",
            "-0.04532220205287404 [X0 X1 X2 X3] +\n",
            "-0.04532220205287404 [X0 Y1 X2 Y3] +\n",
            "0.04532220205287404 [Y0 X1 X2 Y3] +\n",
            "-0.04532220205287404 [Y0 Y1 X2 X3] +\n",
            "0.12054482205301811 [Z0 Z1] +\n",
            "0.1711977490343296 [Z0 Z1 Z2] +\n",
            "0.16586702410589216 [Z0 Z1 Z2 Z3] +\n",
            "0.16862219158920955 [Z0 Z2] +\n",
            "0.17119774903432963 [Z1] +\n",
            "0.16586702410589216 [Z1 Z2] +\n",
            "0.12054482205301811 [Z1 Z3] +\n",
            "-0.22278593040418523 [Z2] +\n",
            "0.17434844185575676 [Z2 Z3] +\n",
            "-0.22278593040418523 [Z3]\n",
            "\n",
            "{'qubit_hamiltonian_terms': 15, 'circuit_width': 4, 'circuit_depth': 94, 'circuit_2qubit_gates': 60, 'circuit_var_gates': 12, 'vqe_variational_parameters': 2}\n"
          ]
        }
      ],
      "source": [
        "for qb_mapping in [\"JW\", \"SCBK\", \"JKMN\"]:\n",
        "\n",
        "    # INSERT CODE HERE\n",
        "    vqe_options = {\"molecule\": mol, \"qubit_mapping\": qb_mapping}\n",
        "\n",
        "    vqe_solver = VQESolver(vqe_options)\n",
        "    vqe_solver.build()\n",
        "    opt_energy = vqe_solver.simulate()\n",
        "\n",
        "    # INSERT PRINT INSTRUCTIONS HERE\n",
        "    print(f\"\\n{qb_mapping} :: {opt_energy:=}\\n{vqe_solver.qubit_hamiltonian}\\n\")\n",
        "    print(vqe_solver.get_resources())"
      ]
    },
    {
      "cell_type": "markdown",
      "id": "2934bee3",
      "metadata": {
        "id": "2934bee3"
      },
      "source": [
        "### 2b) Compute backends"
      ]
    },
    {
      "cell_type": "markdown",
      "id": "90c8e1a8",
      "metadata": {
        "id": "90c8e1a8"
      },
      "source": [
        "Algorithms in Tangelo are backend-agnostic. That means that you do not have to rewrite your code if you want to run it on a different simulator or quantum device, switching between them is rather effortless. There's a lot of quantum simulators out there, with different tradeoffs between speed, accuracy, maximal circuit size or ability to simulate noise.\n",
        "\n",
        "Let's revisit $H_2$ in a bigger basis set (this means a more accurate representation, but more intensive calculations), and see what impact the choice of backend has on our experience."
      ]
    },
    {
      "cell_type": "code",
      "execution_count": 20,
      "id": "97a5a42a",
      "metadata": {
        "id": "97a5a42a"
      },
      "outputs": [],
      "source": [
        "# Tangelo has some built-in molecules that are often reused in tests and tutorials.\n",
        "from tangelo.molecule_library import mol_H2_321g\n",
        "\n",
        "mol = mol_H2_321g"
      ]
    },
    {
      "cell_type": "markdown",
      "source": [
        "We'll use FCI to get the exact value of the ground state of this molecule, for reference:"
      ],
      "metadata": {
        "id": "VRXKb7FkAumM"
      },
      "id": "VRXKb7FkAumM"
    },
    {
      "cell_type": "code",
      "source": [
        "fci_energy = FCISolver(mol).simulate()\n",
        "print(fci_energy)"
      ],
      "metadata": {
        "id": "vrDyYOBUA0Hj",
        "outputId": "2207c4b0-c6d3-456a-94a7-85185fd5aa12",
        "colab": {
          "base_uri": "https://localhost:8080/"
        }
      },
      "id": "vrDyYOBUA0Hj",
      "execution_count": 16,
      "outputs": [
        {
          "output_type": "stream",
          "name": "stdout",
          "text": [
            "-1.1478303189235124\n"
          ]
        }
      ]
    },
    {
      "cell_type": "code",
      "execution_count": 12,
      "id": "aca9e218",
      "metadata": {
        "id": "aca9e218",
        "outputId": "ee600577-907d-4be2-83f6-21c6f2ae2357",
        "colab": {
          "base_uri": "https://localhost:8080/"
        }
      },
      "outputs": [
        {
          "output_type": "stream",
          "name": "stdout",
          "text": [
            "{'qubit_hamiltonian_terms': 185, 'circuit_width': 8, 'circuit_depth': 586, 'circuit_2qubit_gates': 432, 'circuit_var_gates': 52, 'vqe_variational_parameters': 9}\n"
          ]
        }
      ],
      "source": [
        "# Before we attempt to simulate anything: let's get an idea of the compute requirements\n",
        "# We'd rather not try to simulate something that we think is not worth it.\n",
        "\n",
        "vqe_options = {\"molecule\": mol}\n",
        "vqe_solver = VQESolver(vqe_options)\n",
        "vqe_solver.build()\n",
        "print(vqe_solver.get_resources())"
      ]
    },
    {
      "cell_type": "markdown",
      "id": "c881054a",
      "metadata": {
        "id": "c881054a"
      },
      "source": [
        "> **Q:** Can you fill in the cell below to run the same VQE approach on this molecule, with the different backends below ? What do you observe ?\n",
        "\n",
        "This cell may take a few minutes to run, depending on the machine used. Feel free to continue reading, interrupt the execution of the cell, or revert the molecule to our smaller original use case `mol_H2_sto3g`."
      ]
    },
    {
      "cell_type": "code",
      "execution_count": 21,
      "id": "f8b577a2",
      "metadata": {
        "id": "f8b577a2",
        "outputId": "6f79aaa2-9c79-4ac3-c83f-dbae5c354db2",
        "colab": {
          "base_uri": "https://localhost:8080/"
        }
      },
      "outputs": [
        {
          "output_type": "stream",
          "name": "stdout",
          "text": [
            "qulacs     ::  2.059 s \t (energy = -1.1478302233980724)\n",
            "cirq       :: 69.248 s \t (energy = -1.1478302233982864)\n",
            "qiskit     :: 246.155 s \t (energy = -1.147830223398106)\n"
          ]
        }
      ],
      "source": [
        "import time\n",
        "\n",
        "for b in [\"qulacs\", \"cirq\", \"qiskit\"]:\n",
        "\n",
        "    # INSERT CODE HERE\n",
        "    backend_options = {\"target\":b}\n",
        "    vqe_options = {\"molecule\": mol, \"backend_options\": backend_options}\n",
        "\n",
        "    # Start timer\n",
        "    t_start = time.time()\n",
        "\n",
        "    # Run VQE algorithm\n",
        "    vqe_solver = VQESolver(vqe_options)\n",
        "    vqe_solver.build()\n",
        "    opt_energy = vqe_solver.simulate()\n",
        "\n",
        "    # Stop timer, print elapsed time\n",
        "    t_stop = time.time()\n",
        "    print(f\"{b:10} :: {t_stop - t_start:6.3f} s \\t (energy = {opt_energy})\")"
      ]
    },
    {
      "cell_type": "markdown",
      "id": "da76482d",
      "metadata": {
        "id": "da76482d"
      },
      "source": [
        "## Optional boss fight: $H_2O$ sto-3g\n",
        "\n",
        "Boss fight, boss fight !\n",
        "\n",
        "<img src=\"https://upload.wikimedia.org/wikipedia/commons/thumb/c/c7/Water_molecule_2.svg/2560px-Water_molecule_2.svg.png\" alt=\"H2O\" width=\"400\"/>\n",
        "\n",
        "$H_2O$ is a humble molecule, but already quite a challenge with VQE. Assume you want to compute the ground state energy of $H_2O$ in the `sto-3g` basis set using VQE. Use everything at your disposal here, and don't be afraid to explore (but maybe use `get_resources` before blindly jumping into `simulate`).\n",
        "\n",
        "It's still pretty easy for FCI on a laptop though, and we can get a reference value:\n",
        "\n"
      ]
    },
    {
      "cell_type": "code",
      "execution_count": 24,
      "id": "3445c8f9",
      "metadata": {
        "id": "3445c8f9",
        "outputId": "784402fc-ddc8-4ecf-9b7a-fb6c2441583b",
        "colab": {
          "base_uri": "https://localhost:8080/"
        }
      },
      "outputs": [
        {
          "output_type": "stream",
          "name": "stdout",
          "text": [
            "H2O FCI energy = -75.01277542934052\n"
          ]
        }
      ],
      "source": [
        "from tangelo.molecule_library import mol_H2O_sto3g\n",
        "mol = mol_H2O_sto3g\n",
        "\n",
        "fci_H2O_energy = FCISolver(mol_H2O_sto3g).simulate()\n",
        "print(f\"H2O FCI energy = {fci_H2O_energy}\")"
      ]
    },
    {
      "cell_type": "markdown",
      "source": [
        "On your machine, VQE may take a while. But it is possible for a laptop to handle it in a few minutes or less. It is already valuable for you to explore ideas without performing any simulation: what \"levers\" do you have to shorten time-to-solution, improve accuracy and reduce resource requirements ?\n",
        "\n",
        "> **Q:** Can you compute the ground state energy of this molecule ?\n",
        "> - How close can you get to FCI reference results ?\n",
        "> - How much can you reduce computational requirements ?\n",
        "> - How low can you bring your time-to-solution ?"
      ],
      "metadata": {
        "id": "UqHCa-lXH45f"
      },
      "id": "UqHCa-lXH45f"
    },
    {
      "cell_type": "code",
      "execution_count": 22,
      "id": "cc16eeb3",
      "metadata": {
        "id": "cc16eeb3",
        "outputId": "663c9cbd-b94c-491a-b612-251b909c977e",
        "colab": {
          "base_uri": "https://localhost:8080/"
        }
      },
      "outputs": [
        {
          "output_type": "stream",
          "name": "stderr",
          "text": [
            "/usr/local/lib/python3.10/dist-packages/tangelo/toolboxes/qubit_mappings/statevector_mapping.py:149: RuntimeWarning: Symmetry-conserving Bravyi-Kitaev enforces all spin-up followed by all spin-down ordering.\n",
            "  warnings.warn(\"Symmetry-conserving Bravyi-Kitaev enforces all spin-up followed by all spin-down ordering.\", RuntimeWarning)\n"
          ]
        },
        {
          "output_type": "stream",
          "name": "stdout",
          "text": [
            "{'qubit_hamiltonian_terms': 159, 'circuit_width': 6, 'circuit_depth': 432, 'circuit_2qubit_gates': 304, 'circuit_var_gates': 52, 'vqe_variational_parameters': 9}\n",
            "VQESolver optimization results:\n",
            "\tOptimal VQE energy: -1.1478236014490957\n",
            "\tOptimal VQE variational parameters: [-1.52527274e-05 -5.78210157e-03 -4.21170819e-06  4.19117796e-02\n",
            "  2.37629226e-02  1.88366230e-02 -5.89326404e-06 -4.34092726e-02\n",
            " -4.24223052e-06]\n",
            "\tNumber of Iterations : 7\n",
            "\tNumber of Function Evaluations : 76\n",
            "\tNumber of Gradient Evaluations : 7\n",
            "qulacs     :: 6.904 s \t (energy = -1.1478236014490957)\n"
          ]
        }
      ],
      "source": [
        "# INSERT YOUR OWN CODE\n",
        "\n",
        "b = \"qulacs\"\n",
        "backend_options = {\"target\":'qulacs'}\n",
        "vqe_options = {\"molecule\": mol, \"qubit_mapping\": 'scbk', \"backend_options\": backend_options, \"verbose\": True}\n",
        "\n",
        "# --------------------\n",
        "\n",
        "# Start timer\n",
        "t_start = time.time()\n",
        "\n",
        "# Run VQE algorithm\n",
        "vqe_solver = VQESolver(vqe_options)\n",
        "vqe_solver.build()\n",
        "print(vqe_solver.get_resources())\n",
        "opt_energy = vqe_solver.simulate()\n",
        "\n",
        "# Stop timer, print elapsed time\n",
        "t_stop = time.time()\n",
        "print(f\"{b:10} :: {t_stop - t_start:3.3f} s \\t (energy = {opt_energy})\")"
      ]
    },
    {
      "cell_type": "markdown",
      "id": "3d15f952",
      "metadata": {
        "id": "3d15f952"
      },
      "source": [
        "# Final words"
      ]
    },
    {
      "cell_type": "markdown",
      "id": "bed07cac",
      "metadata": {
        "id": "bed07cac"
      },
      "source": [
        "After this hands-on, you now understand how to use the VQE algorithm and its options. It is a very flexible NISQ algorithm which can yield approaches with very differing accuracies and compute requirements depending on the use cases. A lot of research is being done on the topic, in order to apply this to current quantum computers.\n",
        "\n",
        "Do not hesitate to explore the resources mentioned at the beginning of this notebook at your own pace to learn more about the topics discussed here. There is so much more we can do with variational algortihms."
      ]
    }
  ],
  "metadata": {
    "kernelspec": {
      "display_name": "perf_tests_linq",
      "language": "python",
      "name": "perf_tests_linq"
    },
    "language_info": {
      "codemirror_mode": {
        "name": "ipython",
        "version": 3
      },
      "file_extension": ".py",
      "mimetype": "text/x-python",
      "name": "python",
      "nbconvert_exporter": "python",
      "pygments_lexer": "ipython3",
      "version": "3.10.0"
    },
    "colab": {
      "provenance": []
    }
  },
  "nbformat": 4,
  "nbformat_minor": 5
}
