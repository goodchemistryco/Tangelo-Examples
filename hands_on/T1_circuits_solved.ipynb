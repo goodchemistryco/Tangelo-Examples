{
 "cells": [
  {
   "cell_type": "markdown",
   "id": "b36d6fff",
   "metadata": {},
   "source": [
    "# Tangelo hands-on: gates and circuits\n",
    "\n",
    "## Before you jump in\n",
    "\n",
    "This hands-on notebook complements existing tutorials, documentation and the developer notes available in the Tangelo GitHub repositories, which present content in much more depth.\n",
    "\n",
    "You will come across code cells that require you to change code or fill in the blanks in order to achieve a desired outcome. There may be many ways to solve these simple exercises, and you are encouraged to explore.\n",
    "\n",
    "----\n",
    "\n",
    "**Getting started**\n",
    "\n",
    "Please have a look at the landing page of this repository for guidance about how to deploy these notebooks and get started easily.\n",
    "\n",
    "In order to complete this hands-on tutorial, we recommend you use the latest version of Tangelo.\n",
    "If you encounter errors related to missing Python packages (classical chemistry backend, quantum circuit simulator...), you can install them on-the-fly by typing `!pip install <package-name>` in a new code cell, and then restart the Jupyter notebook kernel."
   ]
  },
  {
   "cell_type": "code",
   "execution_count": null,
   "id": "9c50050d-4061-401e-a692-99842eb8e103",
   "metadata": {},
   "outputs": [],
   "source": [
    "# If Tangelo is not found in your current environment, this cell installs all dependencies required for this hands-on\n",
    "try:\n",
    "    import tangelo\n",
    "except ModuleNotFoundError:\n",
    "    !pip install git+https://github.com/goodchemistryco/Tangelo.git@develop  --quiet"
   ]
  },
  {
   "cell_type": "markdown",
   "id": "81313913-94f9-4d00-880d-904e7c158f23",
   "metadata": {},
   "source": [
    "----\n",
    "\n",
    "For this hands-on, the following resources you can rely on to complete the hands-on are:\n",
    "- the first part of this [tutorial notebook](https://github.com/goodchemistryco/Tangelo-Examples/blob/main/examples/workflow_basics/1.the_basics.ipynb) on `linq`, about gates and circuits.\n",
    "- the documentation for the `Gate` ([here](http://tangelo-docs.goodchemistry.com/tangelo.linq.html#module-tangelo.linq.gate)) and `Circuit` ([here](http://tangelo-docs.goodchemistry.com/tangelo.linq.html#module-tangelo.linq.circuit)) classes.\n",
    "\n",
    "----"
   ]
  },
  {
   "cell_type": "markdown",
   "id": "99f6143d-55d4-4667-860d-1b0c978bda7e",
   "metadata": {},
   "source": [
    "## Hands-on"
   ]
  },
  {
   "cell_type": "markdown",
   "id": "d299f723-7e81-4247-9f7f-caa659967089",
   "metadata": {},
   "source": [
    "### 1. Bell-pair circuit \n",
    "\n",
    "A Bell-pair circuit consists in a Hadamard (H) gate applied to qubit 0, followed by a controlled-NOT (CNOT) gate with control qubit 0, and target qubit 1. It is shown in the picture below:\n",
    "\n",
    "![bp](https://upload.wikimedia.org/wikipedia/commons/f/fc/The_Hadamard-CNOT_transform_on_the_zero-state.png)\n",
    "\n",
    "\n",
    "> **Q:** Can you fill in the blanks in the cell below, to build the Bell-pair circuit shown in the picture below ? We already imported the `Gate` and `Circuit` classes from `tangelo.linq`, which contains most things related to gates and circuits."
   ]
  },
  {
   "cell_type": "code",
   "execution_count": 61,
   "id": "06b3c83e",
   "metadata": {},
   "outputs": [
    {
     "name": "stderr",
     "output_type": "stream",
     "text": [
      "findfont: Font family 'Arial' not found.\n",
      "findfont: Font family 'Arial' not found.\n",
      "findfont: Font family 'Arial' not found.\n",
      "findfont: Font family 'Arial' not found.\n",
      "findfont: Font family 'Arial' not found.\n"
     ]
    },
    {
     "data": {
      "image/svg+xml": [
       "<svg xmlns=\"http://www.w3.org/2000/svg\" width=\"220.0\" height=\"100.0\"><line x1=\"30.0\" x2=\"190.0\" y1=\"25.0\" y2=\"25.0\" stroke=\"#1967d2\" stroke-width=\"1\" /><line x1=\"30.0\" x2=\"190.0\" y1=\"75.0\" y2=\"75.0\" stroke=\"#1967d2\" stroke-width=\"1\" /><line x1=\"150.0\" x2=\"150.0\" y1=\"25.0\" y2=\"75.0\" stroke=\"black\" stroke-width=\"3\" /><rect x=\"10.0\" y=\"5.0\" width=\"40\" height=\"40\" stroke=\"black\" fill=\"white\" stroke-width=\"0\" /><text x=\"30.0\" y=\"25.0\" dominant-baseline=\"middle\" text-anchor=\"middle\" font-size=\"14px\" font-family=\"Arial\">0: </text><rect x=\"10.0\" y=\"55.0\" width=\"40\" height=\"40\" stroke=\"black\" fill=\"white\" stroke-width=\"0\" /><text x=\"30.0\" y=\"75.0\" dominant-baseline=\"middle\" text-anchor=\"middle\" font-size=\"14px\" font-family=\"Arial\">1: </text><rect x=\"70.0\" y=\"5.0\" width=\"40\" height=\"40\" stroke=\"black\" fill=\"white\" stroke-width=\"1\" /><text x=\"90.0\" y=\"25.0\" dominant-baseline=\"middle\" text-anchor=\"middle\" font-size=\"18px\" font-family=\"Arial\">H</text><circle cx=\"150.0\" cy=\"25.0\" r=\"10.0\" /><rect x=\"130.0\" y=\"55.0\" width=\"40\" height=\"40\" stroke=\"black\" fill=\"white\" stroke-width=\"1\" /><text x=\"150.0\" y=\"75.0\" dominant-baseline=\"middle\" text-anchor=\"middle\" font-size=\"18px\" font-family=\"Arial\">X</text></svg>"
      ],
      "text/plain": [
       "<cirq.contrib.svg.svg.SVGCircuit at 0x7f4f94a3cbb0>"
      ]
     },
     "execution_count": 61,
     "metadata": {},
     "output_type": "execute_result"
    }
   ],
   "source": [
    "from tangelo.linq import Gate, Circuit\n",
    "\n",
    "# Insert your code here\n",
    "bell_pair_circuit = Circuit([Gate('H', 0), Gate('CNOT', target=1, control=0)])\n",
    "\n",
    "# Use Tangelo to draw or print the circuit for a quick comparison with the reference picture\n",
    "bell_pair_circuit.draw()"
   ]
  },
  {
   "cell_type": "code",
   "execution_count": 62,
   "id": "a4ef8ca2-0d5e-4d3a-a8b4-3e9399b250e1",
   "metadata": {},
   "outputs": [
    {
     "name": "stdout",
     "output_type": "stream",
     "text": [
      "Circuit object. Size 2 \n",
      "\n",
      "H         target : [0]   \n",
      "CNOT      target : [1]   control : [0]   \n",
      "\n"
     ]
    }
   ],
   "source": [
    "# You can also print a circuit\n",
    "print(bell_pair_circuit)"
   ]
  },
  {
   "cell_type": "markdown",
   "id": "23a5cc16",
   "metadata": {},
   "source": [
    "### 2. Hardware Efficient Ansatz\n",
    "\n",
    "Research in quantum computer often calls building complex quantum circuits involving the repetition of operations that can generalize to arbitrary numbers of qubits. Tangelo was designed to make building circuits intuitive and easy: if you know how to use lists in Python, you pretty much already know how to build complex circuits in Tangelo ! In particular, the `+` and `*` operators will make your life easy.\n",
    "\n",
    "Research from different groups, including IBM, has explored \"Hardware Efficient Ansatz\" circuits, which exhibit these traits. We will work on the example illustrated below:\n",
    "\n",
    "![this circuit](https://encrypted-tbn0.gstatic.com/images?q=tbn:ANd9GcThMadQYqXA2Ovtq2xv_ooTnQd-vEDR75FFlQ&usqp=CAU)"
   ]
  },
  {
   "cell_type": "markdown",
   "id": "d146dfbd-ae6d-4575-865e-43279acd3c0c",
   "metadata": {},
   "source": [
    "The sequence of gates between the square brackets applies a Rx rotation followed by a Rz rotation to each qubit, followed by CNOTs entangling successive qubit pairs (0 with 1, then 1 with 2...). This \"layer\" can be repeated an arbitrary amount of times `D` before an final layer consisting of another Rx and Rz gates is applied to each qubit."
   ]
  },
  {
   "cell_type": "markdown",
   "id": "422a6e20-5fe8-4607-aceb-a0ae8efcfc0b",
   "metadata": {},
   "source": [
    "> **Q:** Can you build a tangelo circuit that implements the sequence of gates between square brackets ? The circuit uses 4 qubits, and you can set the angles of all rotation gates to 0, for simplicity. We encourage you to use python features such as for loops or list comprehension."
   ]
  },
  {
   "cell_type": "code",
   "execution_count": 63,
   "id": "c90fc367-e600-45b0-a49e-d3fa9b90b5d7",
   "metadata": {},
   "outputs": [
    {
     "name": "stdout",
     "output_type": "stream",
     "text": [
      "Circuit object. Size 11 \n",
      "\n",
      "RX        target : [0]   parameter : 0.0\n",
      "RX        target : [1]   parameter : 0.0\n",
      "RX        target : [2]   parameter : 0.0\n",
      "RX        target : [3]   parameter : 0.0\n",
      "RZ        target : [0]   parameter : 0.0\n",
      "RZ        target : [1]   parameter : 0.0\n",
      "RZ        target : [2]   parameter : 0.0\n",
      "RZ        target : [3]   parameter : 0.0\n",
      "CNOT      target : [1]   control : [0]   \n",
      "CNOT      target : [2]   control : [1]   \n",
      "CNOT      target : [3]   control : [2]   \n",
      "\n"
     ]
    }
   ],
   "source": [
    "# Insert your code here\n",
    "gates = []\n",
    "gates += [Gate('RX', i, parameter=0.)  for i in range(4)]\n",
    "gates += [Gate('RZ', i, parameter=0.)  for i in range(4)]\n",
    "gates += [Gate('CNOT', target=i+1, control=i) for i in range(3)]\n",
    "\n",
    "c = Circuit(gates)\n",
    "print(c)"
   ]
  },
  {
   "cell_type": "markdown",
   "id": "7741ef79-c76b-43b4-95fd-dd4b4c7912e8",
   "metadata": {},
   "source": [
    "Using the previous code cell as inspiration, we should be able to define a function in Python that can build the circuit in the reference picture for an arbitrary number of qubits `nq` and number of repetitions `d`.\n",
    "\n",
    "> **Q:** Can you complete the code cell below to build `hea_circuit` with the desired behaviour ? Some variables have already been defined, for convenience."
   ]
  },
  {
   "cell_type": "code",
   "execution_count": 64,
   "id": "e947d799-de0a-4bb9-88d7-1f2c718221e5",
   "metadata": {},
   "outputs": [],
   "source": [
    "def build_hea_circuit(nq, d):\n",
    "    rot_gates = [Gate('RX', i, parameter=0.)  for i in range(nq)] + [Gate('RZ', i, parameter=0.)  for i in range(nq)]\n",
    "    ctrl_gates = [Gate('CNOT', target=i+1, control=i) for i in range(nq-1)]\n",
    "\n",
    "    # Insert your code here\n",
    "    all_gates = (rot_gates + ctrl_gates)*d + rot_gates\n",
    "    hea_circuit = Circuit(all_gates)\n",
    "    \n",
    "    return hea_circuit\n",
    "\n",
    "# Insert code here: check that the case nq=4 and d=1 returns the circuit featured in the reference picture\n",
    "hea_c = build_hea_circuit(4,1)"
   ]
  },
  {
   "cell_type": "markdown",
   "id": "dd4e8a79-e3e0-4c36-a71b-e19019e1a0ce",
   "metadata": {},
   "source": [
    "Quantum circuits can quickly grow complex. The `Circuit` class helps us track various quantities. \n",
    "\n",
    "> **Q:** In the case of (nq=3, d=2), how many gates do you expect to be present in your circuit ? Can you find an easy way to print:\n",
    "> - the total number of gates in your circuit ?\n",
    "> - the number of Rx, Rz, and CNOT gates ?"
   ]
  },
  {
   "cell_type": "code",
   "execution_count": 65,
   "id": "f107fee8-19e3-42e6-af7e-68cb52b116ef",
   "metadata": {},
   "outputs": [
    {
     "name": "stdout",
     "output_type": "stream",
     "text": [
      "{'RX': 9, 'RZ': 9, 'CNOT': 4}\n",
      "22\n"
     ]
    }
   ],
   "source": [
    "c = build_hea_circuit(3,2)\n",
    "\n",
    "# Insert your code here\n",
    "print(c.counts)\n",
    "print(c.size)"
   ]
  },
  {
   "cell_type": "markdown",
   "id": "2123cf3d-a322-441f-87f7-7b0d20ed457a",
   "metadata": {},
   "source": [
    "You can type `dir(Circuit)` to see all the attributes, methods and magic methods defined on the `Circuit` class, and you can consult the resources defined at the beginning of this notebook. A few operators (`+`, `*`, etc) are defined for circuits, to replicate and concatenate them."
   ]
  },
  {
   "cell_type": "markdown",
   "id": "df6d86f5-80fe-4e2b-b72d-2e640cda40a6",
   "metadata": {},
   "source": [
    "### 3. Variations of quantum circuits.\n",
    "\n",
    "In Tangelo, the gates in a circuit can be traversed using \"for\" loops, and the different attributes of the gates can be examined. We can use this to easily create variations of circuits for all sorts of purposes (remove or replicate gates matching a specific pattern, add control qubits to others, perform some equivalent substitutions...).\n",
    "\n",
    "Let's give it a try on the simple circuit below:"
   ]
  },
  {
   "cell_type": "code",
   "execution_count": 66,
   "id": "7930a8f1-99bb-4fd6-b5f5-1b8e566cca7b",
   "metadata": {},
   "outputs": [
    {
     "name": "stderr",
     "output_type": "stream",
     "text": [
      "findfont: Font family 'Arial' not found.\n",
      "findfont: Font family 'Arial' not found.\n",
      "findfont: Font family 'Arial' not found.\n",
      "findfont: Font family 'Arial' not found.\n",
      "findfont: Font family 'Arial' not found.\n",
      "findfont: Font family 'Arial' not found.\n",
      "findfont: Font family 'Arial' not found.\n",
      "findfont: Font family 'Arial' not found.\n",
      "findfont: Font family 'Arial' not found.\n",
      "findfont: Font family 'Arial' not found.\n",
      "findfont: Font family 'Arial' not found.\n"
     ]
    },
    {
     "data": {
      "image/svg+xml": [
       "<svg xmlns=\"http://www.w3.org/2000/svg\" width=\"485.275078125\" height=\"100.0\"><line x1=\"30.0\" x2=\"455.275078125\" y1=\"25.0\" y2=\"25.0\" stroke=\"#1967d2\" stroke-width=\"1\" /><line x1=\"30.0\" x2=\"455.275078125\" y1=\"75.0\" y2=\"75.0\" stroke=\"#1967d2\" stroke-width=\"1\" /><line x1=\"177.05328125\" x2=\"177.05328125\" y1=\"25.0\" y2=\"75.0\" stroke=\"black\" stroke-width=\"3\" /><line x1=\"323.1700390625\" x2=\"323.1700390625\" y1=\"25.0\" y2=\"75.0\" stroke=\"black\" stroke-width=\"3\" /><rect x=\"10.0\" y=\"5.0\" width=\"40\" height=\"40\" stroke=\"black\" fill=\"white\" stroke-width=\"0\" /><text x=\"30.0\" y=\"25.0\" dominant-baseline=\"middle\" text-anchor=\"middle\" font-size=\"14px\" font-family=\"Arial\">0: </text><rect x=\"10.0\" y=\"55.0\" width=\"40\" height=\"40\" stroke=\"black\" fill=\"white\" stroke-width=\"0\" /><text x=\"30.0\" y=\"75.0\" dominant-baseline=\"middle\" text-anchor=\"middle\" font-size=\"14px\" font-family=\"Arial\">1: </text><rect x=\"70.0\" y=\"5.0\" width=\"67.05328125\" height=\"40\" stroke=\"black\" fill=\"white\" stroke-width=\"1\" /><text x=\"103.526640625\" y=\"25.0\" dominant-baseline=\"middle\" text-anchor=\"middle\" font-size=\"14px\" font-family=\"Arial\">Rx(0.5π)</text><rect x=\"70.0\" y=\"55.0\" width=\"67.05328125\" height=\"40\" stroke=\"black\" fill=\"white\" stroke-width=\"1\" /><text x=\"103.526640625\" y=\"75.0\" dominant-baseline=\"middle\" text-anchor=\"middle\" font-size=\"18px\" font-family=\"Arial\">H</text><circle cx=\"177.05328125\" cy=\"25.0\" r=\"10.0\" /><rect x=\"157.05328125\" y=\"55.0\" width=\"40\" height=\"40\" stroke=\"black\" fill=\"white\" stroke-width=\"1\" /><text x=\"177.05328125\" y=\"75.0\" dominant-baseline=\"middle\" text-anchor=\"middle\" font-size=\"18px\" font-family=\"Arial\">X</text><rect x=\"217.05328125\" y=\"55.0\" width=\"66.1167578125\" height=\"40\" stroke=\"black\" fill=\"white\" stroke-width=\"1\" /><text x=\"250.11166015625\" y=\"75.0\" dominant-baseline=\"middle\" text-anchor=\"middle\" font-size=\"14px\" font-family=\"Arial\">Rz(0.1π)</text><circle cx=\"323.1700390625\" cy=\"25.0\" r=\"10.0\" /><rect x=\"303.1700390625\" y=\"55.0\" width=\"40\" height=\"40\" stroke=\"black\" fill=\"white\" stroke-width=\"1\" /><text x=\"323.1700390625\" y=\"75.0\" dominant-baseline=\"middle\" text-anchor=\"middle\" font-size=\"18px\" font-family=\"Arial\">X</text><rect x=\"363.1700390625\" y=\"5.0\" width=\"72.1050390625\" height=\"40\" stroke=\"black\" fill=\"white\" stroke-width=\"1\" /><text x=\"399.22255859375\" y=\"25.0\" dominant-baseline=\"middle\" text-anchor=\"middle\" font-size=\"14px\" font-family=\"Arial\">Rx(-0.5π)</text><rect x=\"363.1700390625\" y=\"55.0\" width=\"72.1050390625\" height=\"40\" stroke=\"black\" fill=\"white\" stroke-width=\"1\" /><text x=\"399.22255859375\" y=\"75.0\" dominant-baseline=\"middle\" text-anchor=\"middle\" font-size=\"18px\" font-family=\"Arial\">H</text></svg>"
      ],
      "text/plain": [
       "<cirq.contrib.svg.svg.SVGCircuit at 0x7f4f94a5da00>"
      ]
     },
     "execution_count": 66,
     "metadata": {},
     "output_type": "execute_result"
    }
   ],
   "source": [
    "import numpy as np\n",
    "\n",
    "gates = [Gate('RX', 0, parameter=np.pi/2), Gate('H', 1),\n",
    "         Gate('CNOT', 1, 0), Gate('RZ', 1, parameter=np.pi/10), Gate('CNOT', 1, 0),\n",
    "         Gate('RX', 0, parameter=-np.pi/2), Gate('H', 1)]\n",
    "\n",
    "c1 = Circuit(gates)\n",
    "c1.draw()"
   ]
  },
  {
   "cell_type": "markdown",
   "id": "9f54e231-5a9e-4db1-b9a8-a11b0ce51740",
   "metadata": {},
   "source": [
    "> **Q:** Below, we attempt to define a function `modify_circuit` that takes a circuit `c` as input and returns a new circuit such that:\n",
    "> - `H` gates are discarded.\n",
    "> - Every time a `Rz` gate is encountered, it is tagged as variational and the angle is divided by 2.\n",
    "> - Each `CNOT` gate encountered is applied 3 times in a row instead of just 1 (e.g it is replicated and applied 2 additional times).\n",
    "\n",
    "Can you complete the code cell below and verify that it has the desired behaviour on the circuit above ?"
   ]
  },
  {
   "cell_type": "code",
   "execution_count": 67,
   "id": "8b1d77d3-f823-4f46-894b-170f0816797a",
   "metadata": {},
   "outputs": [
    {
     "name": "stderr",
     "output_type": "stream",
     "text": [
      "findfont: Font family 'Arial' not found.\n",
      "findfont: Font family 'Arial' not found.\n",
      "findfont: Font family 'Arial' not found.\n",
      "findfont: Font family 'Arial' not found.\n",
      "findfont: Font family 'Arial' not found.\n",
      "findfont: Font family 'Arial' not found.\n",
      "findfont: Font family 'Arial' not found.\n",
      "findfont: Font family 'Arial' not found.\n",
      "findfont: Font family 'Arial' not found.\n",
      "findfont: Font family 'Arial' not found.\n",
      "findfont: Font family 'Arial' not found.\n",
      "findfont: Font family 'Arial' not found.\n",
      "findfont: Font family 'Arial' not found.\n",
      "findfont: Font family 'Arial' not found.\n",
      "findfont: Font family 'Arial' not found.\n",
      "findfont: Font family 'Arial' not found.\n",
      "findfont: Font family 'Arial' not found.\n"
     ]
    },
    {
     "data": {
      "image/svg+xml": [
       "<svg xmlns=\"http://www.w3.org/2000/svg\" width=\"734.1823046874999\" height=\"100.0\"><line x1=\"30.0\" x2=\"704.1823046874999\" y1=\"25.0\" y2=\"25.0\" stroke=\"#1967d2\" stroke-width=\"1\" /><line x1=\"30.0\" x2=\"704.1823046874999\" y1=\"75.0\" y2=\"75.0\" stroke=\"#1967d2\" stroke-width=\"1\" /><line x1=\"177.05328125\" x2=\"177.05328125\" y1=\"25.0\" y2=\"75.0\" stroke=\"black\" stroke-width=\"3\" /><line x1=\"237.05328125\" x2=\"237.05328125\" y1=\"25.0\" y2=\"75.0\" stroke=\"black\" stroke-width=\"3\" /><line x1=\"297.05328125\" x2=\"297.05328125\" y1=\"25.0\" y2=\"75.0\" stroke=\"black\" stroke-width=\"3\" /><line x1=\"452.077265625\" x2=\"452.077265625\" y1=\"25.0\" y2=\"75.0\" stroke=\"black\" stroke-width=\"3\" /><line x1=\"512.077265625\" x2=\"512.077265625\" y1=\"25.0\" y2=\"75.0\" stroke=\"black\" stroke-width=\"3\" /><line x1=\"572.077265625\" x2=\"572.077265625\" y1=\"25.0\" y2=\"75.0\" stroke=\"black\" stroke-width=\"3\" /><rect x=\"10.0\" y=\"5.0\" width=\"40\" height=\"40\" stroke=\"black\" fill=\"white\" stroke-width=\"0\" /><text x=\"30.0\" y=\"25.0\" dominant-baseline=\"middle\" text-anchor=\"middle\" font-size=\"14px\" font-family=\"Arial\">0: </text><rect x=\"10.0\" y=\"55.0\" width=\"40\" height=\"40\" stroke=\"black\" fill=\"white\" stroke-width=\"0\" /><text x=\"30.0\" y=\"75.0\" dominant-baseline=\"middle\" text-anchor=\"middle\" font-size=\"14px\" font-family=\"Arial\">1: </text><rect x=\"70.0\" y=\"5.0\" width=\"67.05328125\" height=\"40\" stroke=\"black\" fill=\"white\" stroke-width=\"1\" /><text x=\"103.526640625\" y=\"25.0\" dominant-baseline=\"middle\" text-anchor=\"middle\" font-size=\"14px\" font-family=\"Arial\">Rx(0.5π)</text><circle cx=\"177.05328125\" cy=\"25.0\" r=\"10.0\" /><rect x=\"157.05328125\" y=\"55.0\" width=\"40\" height=\"40\" stroke=\"black\" fill=\"white\" stroke-width=\"1\" /><text x=\"177.05328125\" y=\"75.0\" dominant-baseline=\"middle\" text-anchor=\"middle\" font-size=\"18px\" font-family=\"Arial\">X</text><circle cx=\"237.05328125\" cy=\"25.0\" r=\"10.0\" /><rect x=\"217.05328125\" y=\"55.0\" width=\"40\" height=\"40\" stroke=\"black\" fill=\"white\" stroke-width=\"1\" /><text x=\"237.05328125\" y=\"75.0\" dominant-baseline=\"middle\" text-anchor=\"middle\" font-size=\"18px\" font-family=\"Arial\">X</text><circle cx=\"297.05328125\" cy=\"25.0\" r=\"10.0\" /><rect x=\"277.05328125\" y=\"55.0\" width=\"40\" height=\"40\" stroke=\"black\" fill=\"white\" stroke-width=\"1\" /><text x=\"297.05328125\" y=\"75.0\" dominant-baseline=\"middle\" text-anchor=\"middle\" font-size=\"18px\" font-family=\"Arial\">X</text><rect x=\"337.05328125\" y=\"55.0\" width=\"75.02398437500001\" height=\"40\" stroke=\"black\" fill=\"white\" stroke-width=\"1\" /><text x=\"374.5652734375\" y=\"75.0\" dominant-baseline=\"middle\" text-anchor=\"middle\" font-size=\"14px\" font-family=\"Arial\">Rz(0.05π)</text><circle cx=\"452.077265625\" cy=\"25.0\" r=\"10.0\" /><rect x=\"432.077265625\" y=\"55.0\" width=\"40\" height=\"40\" stroke=\"black\" fill=\"white\" stroke-width=\"1\" /><text x=\"452.077265625\" y=\"75.0\" dominant-baseline=\"middle\" text-anchor=\"middle\" font-size=\"18px\" font-family=\"Arial\">X</text><circle cx=\"512.077265625\" cy=\"25.0\" r=\"10.0\" /><rect x=\"492.077265625\" y=\"55.0\" width=\"40\" height=\"40\" stroke=\"black\" fill=\"white\" stroke-width=\"1\" /><text x=\"512.077265625\" y=\"75.0\" dominant-baseline=\"middle\" text-anchor=\"middle\" font-size=\"18px\" font-family=\"Arial\">X</text><circle cx=\"572.077265625\" cy=\"25.0\" r=\"10.0\" /><rect x=\"552.077265625\" y=\"55.0\" width=\"40\" height=\"40\" stroke=\"black\" fill=\"white\" stroke-width=\"1\" /><text x=\"572.077265625\" y=\"75.0\" dominant-baseline=\"middle\" text-anchor=\"middle\" font-size=\"18px\" font-family=\"Arial\">X</text><rect x=\"612.077265625\" y=\"5.0\" width=\"72.1050390625\" height=\"40\" stroke=\"black\" fill=\"white\" stroke-width=\"1\" /><text x=\"648.12978515625\" y=\"25.0\" dominant-baseline=\"middle\" text-anchor=\"middle\" font-size=\"14px\" font-family=\"Arial\">Rx(-0.5π)</text></svg>"
      ],
      "text/plain": [
       "<cirq.contrib.svg.svg.SVGCircuit at 0x7f4f94a5d580>"
      ]
     },
     "execution_count": 67,
     "metadata": {},
     "output_type": "execute_result"
    }
   ],
   "source": [
    "def modify_circuit(c):\n",
    "\n",
    "    # Empty list that will contain the gates for our new circuit\n",
    "    new_gates = []\n",
    "\n",
    "    # This loop examines each gate in the input circuit, in order of appearance\n",
    "    for gate in c:\n",
    "        if gate.name == 'H':\n",
    "            continue # Insert your code here\n",
    "        elif gate.name == 'CNOT':\n",
    "            new_gates += [gate]*3 # Insert your code here\n",
    "        elif gate.name == 'RZ':\n",
    "            new_gates.append(Gate('RZ', gate.target, parameter=gate.parameter/2, is_variational=True)) # Insert your code here\n",
    "        else:\n",
    "            new_gates.append(gate) # Insert your code here\n",
    "\n",
    "    return Circuit(new_gates)\n",
    "\n",
    "cmod = modify_circuit(c1)\n",
    "cmod.draw()"
   ]
  },
  {
   "cell_type": "markdown",
   "id": "3d15f952",
   "metadata": {},
   "source": [
    "# Final words"
   ]
  },
  {
   "cell_type": "markdown",
   "id": "bed07cac",
   "metadata": {},
   "source": [
    "You have reached the end of this hands-on. You should now have a better idea of how to use quantum gates and circuits in Tangelo.\n",
    "\n",
    "Do not hesitate to explore the resources mentioned at the beginning of this notebook at your own pace to learn more about the topics discussed here. There is so much more we can do."
   ]
  }
 ],
 "metadata": {
  "kernelspec": {
   "display_name": "qce23",
   "language": "python",
   "name": "qce23"
  },
  "language_info": {
   "codemirror_mode": {
    "name": "ipython",
    "version": 3
   },
   "file_extension": ".py",
   "mimetype": "text/x-python",
   "name": "python",
   "nbconvert_exporter": "python",
   "pygments_lexer": "ipython3",
   "version": "3.8.10"
  }
 },
 "nbformat": 4,
 "nbformat_minor": 5
}
