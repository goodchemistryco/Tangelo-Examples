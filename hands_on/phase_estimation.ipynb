{
 "cells": [
  {
   "attachments": {},
   "cell_type": "markdown",
   "id": "b9b07a5e",
   "metadata": {},
   "source": [
    "# Tangelo hands-on: Phase Estimation"
   ]
  },
  {
   "cell_type": "markdown",
   "id": "fa7498a4",
   "metadata": {},
   "source": [
    "## Before you jump in"
   ]
  },
  {
   "attachments": {},
   "cell_type": "markdown",
   "id": "b36d6fff",
   "metadata": {},
   "source": [
    "Before tackling this hands-on, we suggest to have a look at:\n",
    "\n",
    "- the tutorial on the basics of the linq module\n",
    "\n",
    "You can use the cells below to install or import useful packages. We recommend to install qulacs as some of these circuits could be long."
   ]
  },
  {
   "cell_type": "code",
   "execution_count": 3,
   "id": "d595c697",
   "metadata": {},
   "outputs": [],
   "source": [
    "import numpy as np\n",
    "import time"
   ]
  },
  {
   "cell_type": "markdown",
   "id": "99b9fd0a",
   "metadata": {},
   "source": [
    "If you wish to install anything in your jupyter environment while working on this notebook, including Tangelo, you can go through your terminal and reload the upyter kernel or run `pip` commands directly from this notebook using `!`"
   ]
  },
  {
   "cell_type": "code",
   "execution_count": 4,
   "id": "06b3c83e",
   "metadata": {},
   "outputs": [],
   "source": [
    "# Uncomment and change package name to install it in the current environment\n",
    "# !pip install tangelo-gc --quiet\n",
    "# !pip install qulacs --quiet"
   ]
  },
  {
   "attachments": {},
   "cell_type": "markdown",
   "id": "23a5cc16",
   "metadata": {},
   "source": [
    "## Level 1: Exact statevector\n",
    "\n",
    "Let's define a molecule in second quantization, for the sake of exploring the variational framework. Here we define a molecule explicitly, specifying a geometry, charge, spin and basis set, but you could also quickly just import other existing ones in our [\"molecule library\"](https://github.com/goodchemistryco/Tangelo/blob/main/tangelo/molecule_library.py) if you want to swap between other examples."
   ]
  },
  {
   "cell_type": "code",
   "execution_count": 7,
   "id": "00215945",
   "metadata": {},
   "outputs": [
    {
     "name": "stdout",
     "output_type": "stream",
     "text": [
      "0.25\n"
     ]
    }
   ],
   "source": [
    "from openfermion import get_sparse_operator\n",
    "\n",
    "from tangelo.toolboxes.operators import QubitOperator\n",
    "\n",
    "# Generate qubit operator with state 9 having eigenvalue 0.25\n",
    "qu_op = QubitOperator(\"X0 X1\", 0.125) + QubitOperator(\"Y1 Y2\", 0.125) + QubitOperator(\"Z2 Z3\", 0.125) + QubitOperator(\"\", 0.125)\n",
    "\n",
    "ham_mat = get_sparse_operator(qu_op).toarray()\n",
    "eigs, wavefunctions = np.linalg.eigh(ham_mat)\n",
    "\n",
    "# Eigenvector 9 has eigenvalue 0.25\n",
    "print(eigs[9])"
   ]
  },
  {
   "cell_type": "code",
   "execution_count": 14,
   "id": "cb57a6e9",
   "metadata": {},
   "outputs": [
    {
     "name": "stdout",
     "output_type": "stream",
     "text": [
      "sim has statevector ordering of lsq_first\n"
     ]
    }
   ],
   "source": [
    "from tangelo.linq import get_backend\n",
    "\n",
    "# Choose backend with lsq_first (least significant qubit first) ordering\n",
    "sim = get_backend(\"cirq\")\n",
    "print(f\"sim has statevector ordering of {sim.backend_info()['statevector_order']}\")"
   ]
  },
  {
   "cell_type": "code",
   "execution_count": 15,
   "id": "163308a3",
   "metadata": {},
   "outputs": [],
   "source": [
    "from tangelo.linq.helpers.circuits.statevector import StateVector\n",
    "\n",
    "# Create the circuit that initialized the 9th\n",
    "sv = StateVector(wavefunctions[:, 9], order=sim.backend_info()['statevector_order'])\n",
    "\n",
    "sv_circuit = sv.initializing_circuit()\n"
   ]
  },
  {
   "cell_type": "code",
   "execution_count": 19,
   "id": "9455d86d",
   "metadata": {},
   "outputs": [
    {
     "name": "stdout",
     "output_type": "stream",
     "text": [
      "sv_circuit prepared a state with energy 0.25\n"
     ]
    }
   ],
   "source": [
    "# check that state has correct energy\n",
    "print(f\"sv_circuit prepared a state with energy {sim.get_expectation_value(qubit_operator=qu_op, state_prep_circuit=sv_circuit)}\")\n",
    "n_state_qubits = sv_circuit.width\n",
    "print(f\"The state register is composed of {n_state_qubits}\")"
   ]
  },
  {
   "attachments": {},
   "cell_type": "markdown",
   "id": "7426712f",
   "metadata": {},
   "source": [
    "Now you can prepare the circuit for phase estimation. Remember this figure.\n",
    "\n",
    "![Phase Estimation Circuit](PE_Circuit.png \"Phase Estimation Circuit\")"
   ]
  },
  {
   "cell_type": "code",
   "execution_count": null,
   "id": "12624faf",
   "metadata": {},
   "outputs": [],
   "source": [
    "from tangelo.toolboxes.ansatz_generator.ansatz_utils import trotterize, get_qft_circuit\n",
    "from tangelo.toolboxes.post_processing.histogram import Histogram\n",
    "from tangelo.linq import Gate, Circuit\n",
    "\n",
    "# Reverse order as cirq uses lsq_first\n",
    "qubit_list = [6, 5, 4]\n",
    "\n",
    "# State preparation\n",
    "pe_circuit = sv_circuit + Circuit([Gate(\"H\", q) for q in qubit_list ])\n",
    "\n",
    "for i, qubit in enumerate(qubit_list):\n",
    "    # You can play around with how accurate the time-evolution needs to be\n",
    "    # Use negative time as trotterize uses exp(-iHt) to follow the Schrodinger equation\n",
    "    pe_circuit += trotterize(qu_op, trotter_order=, n_trotter_steps=, time=, control=qubit)\n",
    "\n",
    "# set inverse to true or false\n",
    "pe_circuit += get_qft_circuit(qubit_list, inverse=True)\n",
    "\n",
    "freqs, _ = sim.simulate(pe_circuit)\n",
    "\n",
    "# Remove qubit indices from histogram corresponding to the state qubits i.e. (0, 1, 2, 3)\n",
    "hist = Histogram(freqs)\n",
    "hist.remove_qubit_indices(0, 1, 2, 3)\n",
    "\n",
    "for key, probability in hist.frequencies.items():\n",
    "      energy = sum(int(k)/2**(i+1) for i, k in enumerate(key))\n",
    "      print(f\"The probability that the statevector energy={energy} is {probability:3.5f}\")"
   ]
  },
  {
   "attachments": {},
   "cell_type": "markdown",
   "id": "ee291d07",
   "metadata": {},
   "source": [
    "## Approximate example"
   ]
  },
  {
   "cell_type": "code",
   "execution_count": 93,
   "id": "c9f73f3a",
   "metadata": {},
   "outputs": [
    {
     "name": "stdout",
     "output_type": "stream",
     "text": [
      "0.24999999999999986\n"
     ]
    }
   ],
   "source": [
    "# Define H2 molecule in minimal basis set\n",
    "from tangelo import SecondQuantizedMolecule\n",
    "from tangelo.toolboxes.qubit_mappings.mapping_transform import fermion_to_qubit_mapping\n",
    "from tangelo.toolboxes.qubit_mappings.statevector_mapping import get_reference_circuit\n",
    "\n",
    "xyz_H2 = [(\"H\", (0., 0., 0.)), (\"H\", (0., 0., 0.7414))]\n",
    "mol_H2_sto3g = SecondQuantizedMolecule(xyz_H2, q=0, spin=0, basis=\"sto-3g\")\n",
    "\n",
    "mol = mol_H2_sto3g\n",
    "\n",
    "qu_op = fermion_to_qubit_mapping(mol.fermionic_hamiltonian, mapping=\"JW\", n_spinorbitals=mol.n_active_sos, n_electrons=mol.n_active_electrons, spin=mol.spin, up_then_down=False)\n",
    "\n",
    "# Cheat to get the ground state eigenvalue to be 0.125mod(1) exact ground state is 1.137270174660903\n",
    "qu_op += (0.25 + 1.137270174660903)\n",
    "eigs, statevectors = np.linalg.eigh(get_sparse_operator(qu_op).toarray())\n",
    "\n",
    "print(eigs[0])\n",
    "ground_sv = statevectors[:, 0]"
   ]
  },
  {
   "cell_type": "code",
   "execution_count": 94,
   "id": "03162cc4",
   "metadata": {},
   "outputs": [
    {
     "name": "stdout",
     "output_type": "stream",
     "text": [
      "The overlap of the initial state with the final state is (0.9936146058054713+0j)\n"
     ]
    }
   ],
   "source": [
    "# Hartree-Fock reference state circuit\n",
    "hf_circuit = get_reference_circuit(n_spinorbitals=mol.n_active_sos, n_electrons=mol.n_active_electrons, mapping=\"JW\", up_then_down=False, spin=mol.spin)\n",
    "\n",
    "f, sv = sim.simulate(hf_circuit, return_statevector=True)\n",
    "\n",
    "print(f\"The overlap of the initial state with the final state is {np.dot(sv, ground_sv)}\")"
   ]
  },
  {
   "attachments": {},
   "cell_type": "markdown",
   "id": "2acb75ad",
   "metadata": {},
   "source": [
    "Use phase-estimation to do state preparation. Warning, you will probably need very high order time-evolution to get a good result."
   ]
  },
  {
   "cell_type": "code",
   "execution_count": 118,
   "id": "19ec9db0",
   "metadata": {},
   "outputs": [
    {
     "name": "stdout",
     "output_type": "stream",
     "text": [
      "The probability that the statevector energy=0.0 is 0.00001\n",
      "The probability that the statevector energy=0.125 is 0.00002\n",
      "The probability that the statevector energy=0.25 is 0.99768\n",
      "The probability that the statevector energy=0.375 is 0.00002\n",
      "The probability that the statevector energy=0.5 is 0.00001\n",
      "The probability that the statevector energy=0.625 is 0.00001\n",
      "The probability that the statevector energy=0.75 is 0.00001\n",
      "The probability that the statevector energy=0.875 is 0.00225\n"
     ]
    }
   ],
   "source": [
    "# Reverse order as cirq uses lsq_first\n",
    "qubit_list = [6, 5, 4]\n",
    "\n",
    "# State preparation\n",
    "pe_circuit = hf_circuit + Circuit([Gate(\"H\", q) for q in qubit_list ])\n",
    "\n",
    "for i, qubit in enumerate(qubit_list):\n",
    "    # You can play around with how accurate the time-evolution needs to be\n",
    "    # Use negative time as trotterize uses exp(-iHt) to follow the Schrodinger equation\n",
    "    pe_circuit += trotterize(qu_op, trotter_order=, n_trotter_steps=, time=, control=qubit)\n",
    "\n",
    "# set inverse to true or false\n",
    "pe_circuit += get_qft_circuit(qubit_list, inverse=)\n",
    "\n",
    "sim = get_backend(\"cirq\")\n",
    "freqs, _ = sim.simulate(pe_circuit)\n",
    "\n",
    "# Remove qubit indices from histogram corresponding to the state qubits i.e. (0, 1, 2, 3)\n",
    "hist = Histogram(freqs)\n",
    "hist.remove_qubit_indices(0, 1, 2, 3)\n",
    "\n",
    "for key, probability in hist.frequencies.items():\n",
    "      energy = sum(int(k)/2**(i+1) for i, k in enumerate(key))\n",
    "      print(f\"The probability that the statevector energy={energy} is {probability:3.5f}\")"
   ]
  },
  {
   "attachments": {},
   "cell_type": "markdown",
   "id": "d054a129",
   "metadata": {},
   "source": [
    "How good is our final state?"
   ]
  },
  {
   "cell_type": "code",
   "execution_count": 119,
   "id": "0b97df16",
   "metadata": {},
   "outputs": [
    {
     "name": "stdout",
     "output_type": "stream",
     "text": [
      "The final state overlap with the ground state is 0.9978169790123522\n"
     ]
    }
   ],
   "source": [
    "pe_plus_measure = pe_circuit + Circuit([Gate(\"MEASURE\", i) for i in qubit_list])\n",
    "\n",
    "_, sv_new = sim.simulate(pe_plus_measure, desired_meas_result=\"010\", return_statevector=True)\n",
    "\n",
    "# Shrink vector down to 2**4 size to compare with exact ground state.\n",
    "sv_new_post = np.reshape(sv_new, (2**4, 2**3))[:, int(\"010\", base=2)]\n",
    "\n",
    "print(f\"The final state overlap with the ground state is {np.abs(np.dot(sv_new_post, ground_sv))}\")"
   ]
  },
  {
   "attachments": {},
   "cell_type": "markdown",
   "id": "0525f1ef",
   "metadata": {},
   "source": [
    "Phase estimation is the backbone of many fault-tolerant quantum algorithms. Both as a state preparation method and a component of other algorithms such as HHL and Shor's algorithm.\n",
    "\n",
    "What will you do with Tangelo ?"
   ]
  }
 ],
 "metadata": {
  "kernelspec": {
   "display_name": "qsdkmain",
   "language": "python",
   "name": "python3"
  },
  "language_info": {
   "codemirror_mode": {
    "name": "ipython",
    "version": 3
   },
   "file_extension": ".py",
   "mimetype": "text/x-python",
   "name": "python",
   "nbconvert_exporter": "python",
   "pygments_lexer": "ipython3",
   "version": "3.9.16"
  },
  "vscode": {
   "interpreter": {
    "hash": "95050af2697fca56ed7491a4fb0b04c1282c0de0a7e0a7cacd318a8297b0b1d8"
   }
  }
 },
 "nbformat": 4,
 "nbformat_minor": 5
}
