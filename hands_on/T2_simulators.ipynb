{
 "cells": [
  {
   "cell_type": "markdown",
   "id": "b9b07a5e",
   "metadata": {},
   "source": [
    "# Tangelo hands-on: simulating quantum circuits\n",
    "\n",
    "## Before you jump in\n",
    "\n",
    "This hands-on notebook complements existing tutorials, documentation and the developer notes available in the Tangelo GitHub repositories, which present content in much more depth.\n",
    "\n",
    "You will come across code cells that require you to change code or fill in the blanks in order to achieve a desired outcome. There may be many ways to solve these simple exercises, and you are encouraged to explore.\n",
    "\n",
    "----\n",
    "\n",
    "**Getting started**\n",
    "\n",
    "Please have a look at the landing page of this repository for guidance about how to deploy these notebooks and get started easily.\n",
    "\n",
    "In order to complete this hands-on tutorial, we recommend you use the latest version of Tangelo.\n",
    "If you encounter errors related to missing Python packages (classical chemistry backend, quantum circuit simulator...), you can install them on-the-fly by typing `!pip install <package-name>` in a new code cell, and then restart the Jupyter notebook kernel."
   ]
  },
  {
   "cell_type": "code",
   "execution_count": null,
   "id": "e37c8e64-dbd7-423b-9b73-ffb23eecd82a",
   "metadata": {},
   "outputs": [],
   "source": [
    "# If Tangelo is not found in your current environment, this cell installs all dependencies required for this hands-on\n",
    "try:\n",
    "    import tangelo\n",
    "except ModuleNotFoundError:\n",
    "    !pip install git+https://github.com/goodchemistryco/Tangelo.git@develop  --quiet\n",
    "    !pip install qulacs qiskit qiskit-aer --quiet"
   ]
  },
  {
   "cell_type": "markdown",
   "id": "eb25a04f-e5e4-4a7c-9205-1ebd8693f65a",
   "metadata": {},
   "source": [
    "----\n",
    "\n",
    "For this hands-on, we recommend you consider the following resources:\n",
    "- the latter half of this [tutorial notebook](https://github.com/goodchemistryco/Tangelo-Examples/blob/main/examples/workflow_basics/1.the_basics.ipynb) on `linq`, on conversion functions as well as built-in simulators\n",
    "- Optional: our [blog post](https://goodchemistry.com/blog/) about harnessing the diversity of compute backends\n",
    "- Optional: If you're familiar with quantum simulators (Qiskit, Qulacs, Cirq, etc), you can also check out the [source code](https://github.com/goodchemistryco/Tangelo/tree/main/tangelo/linq/target) for the `Backend` class and the different targets supported to see how we leverage them to perform calculations in various scenarios.\n",
    "\n",
    "----"
   ]
  },
  {
   "cell_type": "markdown",
   "id": "99f6143d-55d4-4667-860d-1b0c978bda7e",
   "metadata": {},
   "source": [
    "## Hands-on"
   ]
  },
  {
   "cell_type": "markdown",
   "id": "d299f723-7e81-4247-9f7f-caa659967089",
   "metadata": {},
   "source": [
    "### 1. Noiseless simulation\n",
    "\n",
    "There are a number of quantum circuit simulators available in popular projects such as Cirq, Qiskit, Qulacs, etc. Let's see how we can leverage them in Tangelo using the simple circuit below."
   ]
  },
  {
   "cell_type": "code",
   "execution_count": 1,
   "id": "06b3c83e",
   "metadata": {},
   "outputs": [
    {
     "name": "stderr",
     "output_type": "stream",
     "text": [
      "findfont: Font family 'Arial' not found.\n",
      "findfont: Font family 'Arial' not found.\n",
      "findfont: Font family 'Arial' not found.\n",
      "findfont: Font family 'Arial' not found.\n"
     ]
    },
    {
     "data": {
      "image/svg+xml": [
       "<svg xmlns=\"http://www.w3.org/2000/svg\" width=\"160.0\" height=\"100.0\"><line x1=\"30.0\" x2=\"130.0\" y1=\"25.0\" y2=\"25.0\" stroke=\"#1967d2\" stroke-width=\"1\" /><line x1=\"30.0\" x2=\"130.0\" y1=\"75.0\" y2=\"75.0\" stroke=\"#1967d2\" stroke-width=\"1\" /><rect x=\"10.0\" y=\"5.0\" width=\"40\" height=\"40\" stroke=\"black\" fill=\"white\" stroke-width=\"0\" /><text x=\"30.0\" y=\"25.0\" dominant-baseline=\"middle\" text-anchor=\"middle\" font-size=\"14px\" font-family=\"Arial\">0: </text><rect x=\"10.0\" y=\"55.0\" width=\"40\" height=\"40\" stroke=\"black\" fill=\"white\" stroke-width=\"0\" /><text x=\"30.0\" y=\"75.0\" dominant-baseline=\"middle\" text-anchor=\"middle\" font-size=\"14px\" font-family=\"Arial\">1: </text><rect x=\"70.0\" y=\"5.0\" width=\"40\" height=\"40\" stroke=\"black\" fill=\"white\" stroke-width=\"1\" /><text x=\"90.0\" y=\"25.0\" dominant-baseline=\"middle\" text-anchor=\"middle\" font-size=\"18px\" font-family=\"Arial\">H</text><rect x=\"70.0\" y=\"55.0\" width=\"40\" height=\"40\" stroke=\"black\" fill=\"white\" stroke-width=\"1\" /><text x=\"90.0\" y=\"75.0\" dominant-baseline=\"middle\" text-anchor=\"middle\" font-size=\"18px\" font-family=\"Arial\">X</text></svg>"
      ],
      "text/plain": [
       "<cirq.contrib.svg.svg.SVGCircuit at 0x7f7172f1ebe0>"
      ]
     },
     "execution_count": 1,
     "metadata": {},
     "output_type": "execute_result"
    }
   ],
   "source": [
    "from tangelo.linq import Gate, Circuit\n",
    "\n",
    "c = Circuit([Gate('H', 0), Gate('X', 1)])\n",
    "c.draw()"
   ]
  },
  {
   "cell_type": "markdown",
   "id": "35a0e305-625a-43a3-a272-8d9b2da82927",
   "metadata": {},
   "source": [
    "Assuming the qubits are initialized in the $|00\\rangle$ state, the outcome is the quantum state $\\frac{1}{\\sqrt 2}(|01\\rangle + |11\\rangle)$, where the leftmost bit describe the state of qubit 0 and the rightmost one qubit 1. Upon measurement, both states $|01\\rangle$ and $|11\\rangle$ should therefore have a probability of being observed of 0.5, while the probability of observing states $|00\\rangle$ and $|10\\rangle$ should be 0.\n",
    "\n",
    "> **Q:** Can you use the function `get_backend` to simulate the previously defined quantum circuit c, and print the resulting probability histogram as well as the underlying statevector ? Try a few backends such as `\"cirq\"`, `\"qulacs\"` and `\"qiskit\"`. What do you observe ?"
   ]
  },
  {
   "cell_type": "code",
   "execution_count": 1,
   "id": "a4ef8ca2-0d5e-4d3a-a8b4-3e9399b250e1",
   "metadata": {},
   "outputs": [],
   "source": [
    "from tangelo.linq import get_backend\n",
    "\n",
    "# Insert code here"
   ]
  },
  {
   "cell_type": "markdown",
   "id": "ac0d0640-708f-405c-a908-45aba37feac8",
   "metadata": {},
   "source": [
    "These simulators may have different features, accuracy and speed. Not all of them are able to return a state vector. They have their own interface and learning curve, but the interface above enables you to switch between different \"built-in backends\" easily, rather than explicitly learning how to use them on your own and adapting your code.\n",
    "\n",
    "Actual quantum computers are not able to give us access to the quantum state. Instead, we rely on repeatedly preparing and sampling the quantum state in order to approximate its underlying probability distribution. Each repetition is called a \"shot\".\n",
    "\n",
    "> **Q:** Can you simulate the previous circuit and print the histogram of frequencies obtained for 100, 10000 and 1000000 shots ? What do you observe ?"
   ]
  },
  {
   "cell_type": "code",
   "execution_count": 3,
   "id": "b1be2321-2e88-4e5a-854d-7554aa59e2f9",
   "metadata": {},
   "outputs": [],
   "source": [
    "for ns in [100, 10000, 1000000]:\n",
    "    # Insert code here"
   ]
  },
  {
   "cell_type": "markdown",
   "id": "53e4496c-283a-496a-bdcd-24349eed3326",
   "metadata": {},
   "source": [
    "The objects returned by `get_backend` are children classes of the `Backend` class. It is easy for Tangelo developers to define new backends or modify the behaviour of existing ones using object-oriented programming concepts such as inheritance."
   ]
  },
  {
   "cell_type": "markdown",
   "id": "23a5cc16",
   "metadata": {},
   "source": [
    "### 2. Expectation values\n",
    "\n",
    "Quantum algorithms often call for the computation of the expectation of a qubit operator $H$ (usually as a linear combination of Pauli words) with regard to a given state preparation $|\\psi\\rangle$ represented as a quantum circuit. This expectation value, often noted as $\\langle H \\rangle_{\\psi}$ or $\\langle\\psi | H | \\psi\\rangle$, is a complex number conputed using the coefficients and terms present in the operator `H` itself, as well as $|\\psi\\rangle$. It is therefore influenced by things such as the accuracy of your backend and the number of shots chosen.\n",
    "\n",
    "Very often, this operator encodes the use case a given algorithm attempts to solve. Mapping a problem into qubit operators is a topic of research, and several mappings are offered in Tangelo for the purpose of encoding molecular systems: we will touch that in another hands-on.\n",
    "\n",
    "In Tangelo, qubit operators are currently following the OpenFermion format. The `QubitOperator` class implements a number of mathematical operations on this data-structure, such as multiplication, addition, division, etc.\n",
    "\n",
    "Below we define the operator `qb_op` = $0.3 X_0 + 0.5 Z_0Z_1 + 2$, which consists of a linear combination of 3 Pauli words. The coefficient in front of each word is sometimes called a prefactor."
   ]
  },
  {
   "cell_type": "code",
   "execution_count": 22,
   "id": "1c65f0f4-7c4e-4577-8839-60279c861823",
   "metadata": {},
   "outputs": [
    {
     "name": "stdout",
     "output_type": "stream",
     "text": [
      "2.0 [] +\n",
      "0.3 [X0] +\n",
      "0.5 [Z0 Z1]\n"
     ]
    }
   ],
   "source": [
    "from tangelo.toolboxes.operators import QubitOperator\n",
    "\n",
    "qb_op = 0.3 * QubitOperator('X0') + 0.5 * QubitOperator('Z0 Z1') + 2\n",
    "print(qb_op)"
   ]
  },
  {
   "cell_type": "markdown",
   "id": "422a6e20-5fe8-4607-aceb-a0ae8efcfc0b",
   "metadata": {},
   "source": [
    "> **Q:** Pick a simulator backend of your choice. Can you compute the expectation of `qb_op` with regards to the state preparation defined by circuit `c` ?"
   ]
  },
  {
   "cell_type": "code",
   "execution_count": 4,
   "id": "c90fc367-e600-45b0-a49e-d3fa9b90b5d7",
   "metadata": {},
   "outputs": [],
   "source": [
    "sim = get_backend(\"cirq\")\n",
    "\n",
    "# Insert code here"
   ]
  },
  {
   "cell_type": "markdown",
   "id": "7741ef79-c76b-43b4-95fd-dd4b4c7912e8",
   "metadata": {},
   "source": [
    "It may be that you have obtained frequencies from execuitng a quantum circuit on a real quantum device, or a previous simulation. That step may have been time-consuming or expensive: in that case, it makes sense to compute the expectation value of a Pauli word by providing those frequencies as input.\n",
    "\n",
    "> **Q:** What method of the backend class can be used to compute the expectation value of a single Pauli word, by providing a histogram of frequency as input ? (you can refer to the resources described at the beginning of this hands-on or explore the Backend class)\n",
    "\n",
    "We will show in a later hands-on how this method can be used in practice to help us post-process experimental results."
   ]
  },
  {
   "cell_type": "markdown",
   "id": "579a26a5-f953-45a1-a5ce-c4ad5000196c",
   "metadata": {},
   "source": [
    "### 3. Conversion functions\n",
    "\n",
    "The Tangelo format used to represent gates and circuits is rather abstract, since it never describes the actual mathematical operations associated to the gates defined by the user: it merely stores data. However, backends such as Qiskit, Qulacs, Cirq, etc, have their own representations for these objects. Under the hood, Tangelo must convert between its own format and the \"target\" format.\n",
    "\n",
    "> **Q:** Can you use the translate functions to produce a Qiskit equivalent of our quantum circuit `c` and our operator `qu_op` ? And then convert those objects from the Qiskit format into the Cirq format ?"
   ]
  },
  {
   "cell_type": "code",
   "execution_count": null,
   "id": "72004368-7115-456c-812f-cd102acf0613",
   "metadata": {},
   "outputs": [],
   "source": [
    "from tangelo.linq import translate_circuit, translate_operator\n",
    "\n",
    "# Insert code here\n",
    "c_qiskit = \n",
    "op_qiskit = \n",
    "\n",
    "print(c_qiskit)\n",
    "print(op_qiskit)"
   ]
  },
  {
   "cell_type": "code",
   "execution_count": null,
   "id": "f386966e-5f13-4516-914c-743b9feb9a2d",
   "metadata": {},
   "outputs": [],
   "source": [
    "# Insert code here\n",
    "c_cirq = \n",
    "op_cirq = \n",
    "\n",
    "print(c_cirq)\n",
    "print(op_cirq)"
   ]
  },
  {
   "cell_type": "markdown",
   "id": "7e15ef3b-224a-4c70-90bf-0ef7b2490dd4",
   "metadata": {},
   "source": [
    "Although Tangelo does not require you to perform format conversion to leverage its built-in simulators, you are free to use them in order to leverage various frameworks simultaneously in your projects, or exports your circuits and operators in the preferred format for yourself or your collaborators."
   ]
  },
  {
   "cell_type": "markdown",
   "id": "3d15f952",
   "metadata": {},
   "source": [
    "# Final words"
   ]
  },
  {
   "cell_type": "markdown",
   "id": "bed07cac",
   "metadata": {},
   "source": [
    "You have reached the end of this hands-on. By now you should have an understanding of how to use built-in backends in tangelo to simulate a quantum circuit and compute expectation values. These two operations are pretty much the essential buildings blocks of quantum algorithms !\n",
    "\n",
    "Do not hesitate to explore the resources mentioned at the beginning of this notebook at your own pace to learn more about the topics discussed here. There is so much more we can do, including noisy simulation, or desired measurement values for circuits containing mid-circuit measurements."
   ]
  }
 ],
 "metadata": {
  "kernelspec": {
   "display_name": "qce23",
   "language": "python",
   "name": "qce23"
  },
  "language_info": {
   "codemirror_mode": {
    "name": "ipython",
    "version": 3
   },
   "file_extension": ".py",
   "mimetype": "text/x-python",
   "name": "python",
   "nbconvert_exporter": "python",
   "pygments_lexer": "ipython3",
   "version": "3.8.10"
  }
 },
 "nbformat": 4,
 "nbformat_minor": 5
}
