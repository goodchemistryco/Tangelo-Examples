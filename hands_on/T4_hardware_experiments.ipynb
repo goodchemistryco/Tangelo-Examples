{
 "cells": [
  {
   "cell_type": "markdown",
   "id": "b9b07a5e",
   "metadata": {
    "id": "b9b07a5e"
   },
   "source": [
    "# Tangelo hands-on: hardware experiments\n",
    "\n",
    "## Before you jump in\n",
    "\n",
    "This hands-on notebook complements existing tutorials, documentation and the developer notes available in the Tangelo GitHub repositories, which present content in much more depth.\n",
    "\n",
    "You will come across code cells that require you to change code or fill in the blanks in order to achieve a desired outcome. There may be many ways to solve these simple exercises, and you are encouraged to explore.\n",
    "\n",
    "----\n",
    "\n",
    "**Getting started**\n",
    "\n",
    "Please have a look at the landing page of this repository for guidance about how to deploy these notebooks and get started easily.\n",
    "\n",
    "In order to complete this hands-on tutorial, we recommend you use the latest version of Tangelo.\n",
    "If you encounter errors related to missing Python packages (classical chemistry backend, quantum circuit simulator...), you can install them on-the-fly by typing `!pip install <package-name>` in a new code cell, and then restart the Jupyter notebook kernel."
   ]
  },
  {
   "cell_type": "code",
   "execution_count": 1,
   "id": "a09e497d-b840-4f6c-b25a-f7092604a565",
   "metadata": {
    "id": "a09e497d-b840-4f6c-b25a-f7092604a565"
   },
   "outputs": [],
   "source": [
    "# If Tangelo is not found in your current environment, this cell installs all dependencies required for this hands-on\n",
    "try:\n",
    "    import tangelo\n",
    "except ModuleNotFoundError:\n",
    "    !pip install git+https://github.com/goodchemistryco/Tangelo.git@develop  --quiet\n",
    "    !pip install qulacs qiskit qiskit-ibm-runtime qiskit-aer amazon-braket-sdk --quiet\n",
    "    !pip install pyscf --quiet"
   ]
  },
  {
   "cell_type": "markdown",
   "id": "b36d6fff",
   "metadata": {
    "id": "b36d6fff"
   },
   "source": [
    "----\n",
    "\n",
    "For this hands-on, we recommend you consider the following resources:\n",
    "- Optional: For connecting to quantum devices, have a look at this [tutorial notebook](https://github.com/goodchemistryco/Tangelo-Examples/blob/main/examples/workflow_basics/2.qpu_connection.ipynb).\n",
    "- Optional: [A Tangelo post released on AWS Quantum Blog](https://aws.amazon.com/blogs/quantum-computing/exploring-quantum-chemistry-applications-with-tangelo-and-qemist-cloud-using-amazon-braket/) exploring the Umbrella inversion on molecules such as $H_3O^+$ and $NH_3$ in `cc-pvdz` basis.\n",
    "- Optional: [Any tutorial](https://github.com/goodchemistryco/Tangelo-Examples/blob/main/contents.rst) tagged ![](https://img.shields.io/badge/-Experiment-7373e3). Some of them have fully detailed accounts of hardware experiments that resulted in published work.\n",
    "\n",
    "----"
   ]
  },
  {
   "cell_type": "markdown",
   "id": "99f6143d-55d4-4667-860d-1b0c978bda7e",
   "metadata": {
    "id": "99f6143d-55d4-4667-860d-1b0c978bda7e"
   },
   "source": [
    "## Hands-on"
   ]
  },
  {
   "cell_type": "markdown",
   "id": "d299f723-7e81-4247-9f7f-caa659967089",
   "metadata": {
    "id": "d299f723-7e81-4247-9f7f-caa659967089"
   },
   "source": [
    "### 1. Connecting to a quantum device\n",
    "\n",
    "No experiment on quantum hardware would be possible without the ability to send a task to a quantum device. It is very straightforward with the connection objects in Tangelo. Let's define a simple circuit as a use case:\n",
    "\n"
   ]
  },
  {
   "cell_type": "code",
   "execution_count": 2,
   "id": "06b3c83e",
   "metadata": {
    "colab": {
     "base_uri": "https://localhost:8080/",
     "height": 190
    },
    "id": "06b3c83e",
    "outputId": "7695684a-b8c6-48d5-e72b-3cf33f674f3e"
   },
   "outputs": [
    {
     "name": "stderr",
     "output_type": "stream",
     "text": [
      "findfont: Font family 'Arial' not found.\n",
      "findfont: Font family 'Arial' not found.\n",
      "findfont: Font family 'Arial' not found.\n",
      "findfont: Font family 'Arial' not found.\n"
     ]
    },
    {
     "data": {
      "image/svg+xml": [
       "<svg xmlns=\"http://www.w3.org/2000/svg\" width=\"160.0\" height=\"100.0\"><line x1=\"30.0\" x2=\"130.0\" y1=\"25.0\" y2=\"25.0\" stroke=\"#1967d2\" stroke-width=\"1\" /><line x1=\"30.0\" x2=\"130.0\" y1=\"75.0\" y2=\"75.0\" stroke=\"#1967d2\" stroke-width=\"1\" /><rect x=\"10.0\" y=\"5.0\" width=\"40\" height=\"40\" stroke=\"black\" fill=\"white\" stroke-width=\"0\" /><text x=\"30.0\" y=\"25.0\" dominant-baseline=\"middle\" text-anchor=\"middle\" font-size=\"14px\" font-family=\"Arial\">0: </text><rect x=\"10.0\" y=\"55.0\" width=\"40\" height=\"40\" stroke=\"black\" fill=\"white\" stroke-width=\"0\" /><text x=\"30.0\" y=\"75.0\" dominant-baseline=\"middle\" text-anchor=\"middle\" font-size=\"14px\" font-family=\"Arial\">1: </text><rect x=\"70.0\" y=\"5.0\" width=\"40\" height=\"40\" stroke=\"black\" fill=\"white\" stroke-width=\"1\" /><text x=\"90.0\" y=\"25.0\" dominant-baseline=\"middle\" text-anchor=\"middle\" font-size=\"18px\" font-family=\"Arial\">H</text><rect x=\"70.0\" y=\"55.0\" width=\"40\" height=\"40\" stroke=\"black\" fill=\"white\" stroke-width=\"1\" /><text x=\"90.0\" y=\"75.0\" dominant-baseline=\"middle\" text-anchor=\"middle\" font-size=\"18px\" font-family=\"Arial\">X</text></svg>"
      ],
      "text/plain": [
       "<cirq.contrib.svg.svg.SVGCircuit at 0x7f0694143760>"
      ]
     },
     "execution_count": 2,
     "metadata": {},
     "output_type": "execute_result"
    }
   ],
   "source": [
    "from tangelo.linq import Gate, Circuit\n",
    "\n",
    "c = Circuit([Gate('H', 0), Gate('X', 1)])\n",
    "c.draw()"
   ]
  },
  {
   "cell_type": "markdown",
   "id": "53e4496c-283a-496a-bdcd-24349eed3326",
   "metadata": {
    "id": "53e4496c-283a-496a-bdcd-24349eed3326"
   },
   "source": [
    "**Example: IBM Quantum**\n",
    "\n",
    "If you have an account with [IBM Quantum](https://quantum-computing.ibm.com/login), you can log in and retrieve your API token in order to run the cell below. You should see the task pop up in your IBM Quantum dashboard. You just submitted an experiment on IBM Quantum using Tangelo !\n",
    "\n",
    "Submitting a task to an actual quantum device may take a long time, as your job will likely be queued. The cell below uses the `ibmq_qasm_simulator` backend, which should be available right away and fast."
   ]
  },
  {
   "cell_type": "code",
   "execution_count": null,
   "id": "rV-4loo8Kn5d",
   "metadata": {
    "colab": {
     "base_uri": "https://localhost:8080/"
    },
    "id": "rV-4loo8Kn5d",
    "outputId": "19c7f9c8-95d8-4867-afaa-8385a2b05281"
   },
   "outputs": [],
   "source": [
    "from tangelo.linq.qpu_connection import IBMConnection\n",
    "\n",
    "conn = IBMConnection(ibm_quantum_token='')\n",
    "job_id = conn.job_submit('sampler', 'ibmq_qasm_simulator', 10**5, c)\n",
    "job_results = conn.job_results(job_id)\n",
    "\n",
    "print(f\"Simulation results from IBM Quantum : {job_results}\")"
   ]
  },
  {
   "cell_type": "markdown",
   "id": "23a5cc16",
   "metadata": {
    "id": "23a5cc16"
   },
   "source": [
    "### 2. A \"simple experiment\"\n",
    "\n",
    "Remember VQE ? It is a NISQ algorithm that uses relatively shallow parameterized circuits and the variational principle to compute the energy of a molecule, as an expectation value. For this use case, let's apply it to a simple $H_2$ molecule to generate a qubit Hamiltonian and a quantum circuit with optimized variational parameters.\n",
    "\n",
    "The optimized VQE energy is the expectation of the qubit Hamiltonian of the system, with regards to the state preparation define by the optimized circuit."
   ]
  },
  {
   "cell_type": "code",
   "execution_count": 3,
   "id": "wA8v8-U8-mxG",
   "metadata": {
    "colab": {
     "base_uri": "https://localhost:8080/"
    },
    "id": "wA8v8-U8-mxG",
    "outputId": "a90923f4-eaf2-441b-c793-8520c613be6f"
   },
   "outputs": [
    {
     "name": "stdout",
     "output_type": "stream",
     "text": [
      "-1.1372701683419155\n"
     ]
    },
    {
     "name": "stderr",
     "output_type": "stream",
     "text": [
      "/home/valentin/Desktop/virtualenvs/qce23/lib/python3.8/site-packages/pyscf/dft/libxc.py:772: UserWarning: Since PySCF-2.3, B3LYP (and B3P86) are changed to the VWN-RPA variant, the same to the B3LYP functional in Gaussian and ORCA (issue 1480). To restore the VWN5 definition, you can put the setting \"B3LYP_WITH_VWN5 = True\" in pyscf_conf.py\n",
      "  warnings.warn('Since PySCF-2.3, B3LYP (and B3P86) are changed to the VWN-RPA variant, '\n"
     ]
    }
   ],
   "source": [
    "from tangelo import SecondQuantizedMolecule\n",
    "from tangelo.algorithms import VQESolver\n",
    "\n",
    "# Define H2 molecule\n",
    "xyz_H2 = [(\"H\", (0., 0., 0.)), (\"H\", (0., 0., 0.7414))]\n",
    "mol_H2_sto3g = SecondQuantizedMolecule(xyz_H2, q=0, spin=0, basis=\"sto-3g\")\n",
    "mol = mol_H2_sto3g\n",
    "\n",
    "# Run VQE\n",
    "vqe_options = {\"molecule\": mol, \"qubit_mapping\": 'jw'}\n",
    "vqe_solver = VQESolver(vqe_options)\n",
    "vqe_solver.build()\n",
    "opt_energy = vqe_solver.simulate()\n",
    "print(opt_energy)\n",
    "\n",
    "# Retrieve optimal circuit and qubit Hamiltonian\n",
    "c = vqe_solver.optimal_circuit\n",
    "qb_ham = vqe_solver.qubit_hamiltonian"
   ]
  },
  {
   "cell_type": "markdown",
   "id": "kCj6tKOhHkB1",
   "metadata": {
    "id": "kCj6tKOhHkB1"
   },
   "source": [
    "### Quantum circuit simplification\n",
    "\n",
    "Operations on current quantum devices are not carried with 100% fidelity: noise accumulates as the device executes the quantum circuit. As a result, it is desirable to compile circuits that are as efficient and shallow as possible for the target device.\n",
    "\n",
    "As it turns out, the circuit returned by VQE features a number of operations that can be discarded or simplified. For instance, `RZ` gates with an angle very close to 0 will be very close to the identity, and could be discarded (for instance, some of current quantum devices can only perform rotation gates with an accuracy of about `0.001` on the angle, and would therefore treat a smaller value as a 0).\n",
    "\n",
    "> **Q**: Take a look at the [Circuit class methods](https://github.com/goodchemistryco/Tangelo/blob/main/tangelo/linq/circuit.py). Can you try to simplify this circuit ? What happened ?"
   ]
  },
  {
   "cell_type": "code",
   "execution_count": null,
   "id": "mIhrtAhNEvME",
   "metadata": {
    "colab": {
     "base_uri": "https://localhost:8080/"
    },
    "id": "mIhrtAhNEvME",
    "outputId": "444d2f47-238e-4f3d-97d1-6abe70f1a134"
   },
   "outputs": [],
   "source": [
    "c2 = c.copy()\n",
    "\n",
    "# INSERT CODE HERE\n",
    "\n",
    "print(c.size, c2.size)"
   ]
  },
  {
   "cell_type": "markdown",
   "id": "422a6e20-5fe8-4607-aceb-a0ae8efcfc0b",
   "metadata": {
    "id": "422a6e20-5fe8-4607-aceb-a0ae8efcfc0b"
   },
   "source": [
    "It is important to know that devices have a native gate set. In reality, the physical operations realized on the device may correspond to a different gate set. That is, your quantum circuit may be compiled to an equivalent one that may look very different. For instance, current IonQ devices do not directly apply the CNOT gate but instead entangle pairs of qubits with the XX gate. IBM devices do not compile circuits into Rx, Ry and Rz gates but instead use their U1, U2 and U3 rotations gates.\n",
    "\n",
    "Compilation for different gate sets and topologies are a topic of research, and multiple projects have been developed by the community during the years (cirq, pytket, ...). Tangelo will provide tools to facilitate this step. In the meantime, the format conversion functions in Tangelo allow you to easily leverage these projects yourself."
   ]
  },
  {
   "cell_type": "markdown",
   "id": "z6_ERABoGlvI",
   "metadata": {
    "id": "z6_ERABoGlvI"
   },
   "source": [
    "### Hamiltonian factorization\n",
    "\n",
    "The qubit Hamiltonian resulting from the previous algorithm has 15 terms, printed in the cell below.\n"
   ]
  },
  {
   "cell_type": "code",
   "execution_count": null,
   "id": "-BSW89-7kLA7",
   "metadata": {
    "colab": {
     "base_uri": "https://localhost:8080/"
    },
    "id": "-BSW89-7kLA7",
    "outputId": "21f2c259-788d-49b5-f01c-5c2a25c58ce5"
   },
   "outputs": [],
   "source": [
    "print(qb_ham)"
   ]
  },
  {
   "cell_type": "markdown",
   "id": "GJMGI4RukgPV",
   "metadata": {
    "id": "GJMGI4RukgPV"
   },
   "source": [
    "In order to compute the expectation value of a single term of this qubit Hamiltonian on a device, one would have to add additional gates at the end of the circuit to rotate the qubits in the right measurement basis (the gate depends on the Pauli operator involved).\n",
    "\n",
    "A naive approach would be to generate one circuit per term (here 15), and invidually compute the expectation value of each term using the corresponding circuit. A linear combination of these values, using the Hamiltonian's coefficients, would then yield the desired expectation value.\n",
    "\n",
    "However, we may be able to devise measurement protocols that require fewer measurement bases, and thus fewer circuits to be simulated. The data obtained for a measurement basis may be used to compute the expectation value of several \"compatible\" Pauli words for instance.\n",
    "\n",
    "> **Q:** Use the `group_qwc` function from the `measurements` toolbox to apply qubit-wise commutativity to the Hamiltonian. How many measurement bases are needed overall ? How many terms can be computed using the `Z0 Z1 Z2 Z3` basis ?"
   ]
  },
  {
   "cell_type": "code",
   "execution_count": null,
   "id": "3BVRsjJzDNNt",
   "metadata": {
    "colab": {
     "base_uri": "https://localhost:8080/"
    },
    "id": "3BVRsjJzDNNt",
    "outputId": "11f13184-fc0c-4603-c927-ba9e43657fa8"
   },
   "outputs": [],
   "source": [
    "from pprint import pprint\n",
    "from tangelo.toolboxes.measurements import group_qwc\n",
    "\n",
    "# INSERT YOUR CODE HERE\n",
    "grouped_ops =\n",
    "pprint(grouped_ops)"
   ]
  },
  {
   "cell_type": "markdown",
   "id": "re0lqce60Diu",
   "metadata": {
    "id": "re0lqce60Diu"
   },
   "source": [
    "In practice, you may have to recombine histograms of experimental results in order to compute the quantities that are relevant to you. Below, we show -using a simulator- that it is rather easy to generate all the necessary circuits in Tangelo and recombine the histograms afterwards in this situation:"
   ]
  },
  {
   "cell_type": "code",
   "execution_count": null,
   "id": "O12whWzCG4Ho",
   "metadata": {
    "colab": {
     "base_uri": "https://localhost:8080/"
    },
    "id": "O12whWzCG4Ho",
    "outputId": "fb8cf5da-7c76-439b-f469-267b39553579"
   },
   "outputs": [],
   "source": [
    "from tangelo.toolboxes.measurements import exp_value_from_measurement_bases\n",
    "from tangelo.helpers import measurement_basis_gates\n",
    "from tangelo.linq import Circuit, get_backend\n",
    "\n",
    "histograms = dict()\n",
    "sim = get_backend()\n",
    "\n",
    "# Generate circuits corresponding to each measurement bassis required, compute the histogram\n",
    "for basis, sub_op in grouped_ops.items():\n",
    "    c_full = c + Circuit(measurement_basis_gates(basis))\n",
    "    histograms[basis], _ = sim.simulate(c_full)\n",
    "\n",
    "# Compute the expectation value by using the histograms and the measurement map\n",
    "exp_value = exp_value_from_measurement_bases(grouped_ops, histograms)\n",
    "print(exp_value)"
   ]
  },
  {
   "cell_type": "markdown",
   "id": "UqNcSJfI16mg",
   "metadata": {
    "id": "UqNcSJfI16mg"
   },
   "source": [
    "### Post processing of histograms\n",
    "\n",
    "Quantum devices return histograms of bitstrings, indicating the states that were measured. This data is then agllomerated in some form to compute quantities that are relevant to us, and learn from the experiment.\n",
    "\n",
    "Tangelo offers the `Histogram` class, from the `post_processing` toolbox (you can check out the [documentation](http://tangelo-docs.goodchemistry.com/tangelo.toolboxes.post_processing.html#module-tangelo.toolboxes.post_processing.histogram))\n",
    "\n",
    "> **Q:** Assume the 2 `freqs` objects are experimental results obtained on by simulating a 2-qubit circuit, with 1000 shots each. Can you define the two corresponding `Histogram` objects ?"
   ]
  },
  {
   "cell_type": "code",
   "execution_count": null,
   "id": "63Uv3x3S4rDu",
   "metadata": {
    "id": "63Uv3x3S4rDu"
   },
   "outputs": [],
   "source": [
    "from tangelo.toolboxes.post_processing import Histogram, aggregate_histograms, filter_hist\n",
    "\n",
    "freqs1 = {'01': 0.3, '00':0.2, '10': 0.5}\n",
    "freqs2 = {'01': 0.6, '10': 0.4}\n",
    "\n",
    "# INSERT CODE HERE"
   ]
  },
  {
   "cell_type": "markdown",
   "id": "u0oArG658tdr",
   "metadata": {
    "id": "u0oArG658tdr"
   },
   "source": [
    "> **Q:** Assume the data coming from these histograms can be aggregated into a single histogram worth 2000 shots of data. How can you obtain such a histogram ?"
   ]
  },
  {
   "cell_type": "code",
   "execution_count": null,
   "id": "LpMLmMBH5VJz",
   "metadata": {
    "colab": {
     "base_uri": "https://localhost:8080/"
    },
    "id": "LpMLmMBH5VJz",
    "outputId": "581176b6-924b-4c78-b997-dcb818848980"
   },
   "outputs": [],
   "source": [
    "# INSERT CODE HERE\n",
    "hist3 = \n",
    "\n",
    "print(hist3.n_shots, hist3.frequencies)"
   ]
  },
  {
   "cell_type": "markdown",
   "id": "pnJa9msQ9G_q",
   "metadata": {
    "id": "pnJa9msQ9G_q"
   },
   "source": [
    "Sometimes, we can predict in advance what bitstrings should not be found in our histograms, and thus are caused by noise. For example, circuits may feature additional qubits with the role to detect errors (`0` if no error, `1` otherwise), or certain properties in the use case itself may give us those insights.\n",
    "\n",
    "In these situation, removing those entries from our histograms can significantly improve the results of our calculation. It is a form of error-mitigation called post-selection.\n",
    "\n",
    "Below, we have defined a function `my_predicate` that returns `False` if a bitstring is '00' and `True` otherwise. This function could be as elaborate and extend to many more bitstrings encountered in your use cases.\n",
    "\n",
    "> **Q:** Can you find how to apply this predicate to remove undesired entries from the histogram ?"
   ]
  },
  {
   "cell_type": "code",
   "execution_count": null,
   "id": "1l0qzB3V8JDG",
   "metadata": {
    "colab": {
     "base_uri": "https://localhost:8080/"
    },
    "id": "1l0qzB3V8JDG",
    "outputId": "2162035d-001a-420e-899f-6c11ce5a025f"
   },
   "outputs": [],
   "source": [
    "def my_predicate(bs):\n",
    "  # Return True if a bitstring \"bs\" is acceptable, False otherwise\n",
    "  return bs not in ['00']\n",
    "\n",
    "# INSERT YOUR CODE HERE\n",
    "hist4 = \n",
    "\n",
    "print(hist4.frequencies)"
   ]
  },
  {
   "cell_type": "markdown",
   "id": "qYf7gbW5BaKQ",
   "metadata": {
    "id": "qYf7gbW5BaKQ"
   },
   "source": [
    "If you've looked into the documentation, you may have noticed there is more you can do with `Histogram` objects ! In past quantum experiments the Tangelo team has used `post_select`, `remove_qubits`, `resample` and other methods in order to obtain numerical results and compute their statistical uncertainty. We encourage you to further explore !"
   ]
  },
  {
   "cell_type": "markdown",
   "id": "7741ef79-c76b-43b4-95fd-dd4b4c7912e8",
   "metadata": {
    "id": "7741ef79-c76b-43b4-95fd-dd4b4c7912e8"
   },
   "source": [
    "### Bonus: Anticipating experimental results\n",
    "\n",
    "We simulated calculations on a \"perfect backend\" for the sake of simplicity, but quantum devices are noisy. Before you embark on a quantum experiment, with may be time- and money-consuming, it is good practice to use a noisy simulator to try to anticipate the behavior of the device. This may lead you to change the design of your experiment in order to raise it's rate of success, or keep the cost acceptable.\n",
    "\n",
    "> **Q:** What if you tried to compute the expectation value for the $H_2$ use case with a backend running with a given amount of shots and a noise model of your choice ? You may be surprised at how much these parameters affect the results.\n",
    "\n",
    "Note: Noisy simulation cost is usually linear with the number of shots, which means execution time may increase linearly with it as well."
   ]
  },
  {
   "cell_type": "markdown",
   "id": "3d15f952",
   "metadata": {
    "id": "3d15f952"
   },
   "source": [
    "# Final words"
   ]
  },
  {
   "cell_type": "markdown",
   "id": "bed07cac",
   "metadata": {
    "id": "bed07cac"
   },
   "source": [
    "You have reached the end of this hands-on. This should give you a good idea of how to submit tasks to quantum devices using Tangelo, reducing resource requirements, as well as manipulating histograms coming from calculations. Designing successful experiments on current quantum devices can be challenging, as we are under budget constraints and quantum computation is subject to noise. Understanding experimental results and extracting value from them is not always straightforward.\n",
    "\n",
    "Do not hesitate to explore the resources mentioned at the beginning of this notebook at your own pace to learn more about the topics discussed here. The hardware experiment notebooks go more into details about these topics, with insights from practictioners."
   ]
  }
 ],
 "metadata": {
  "colab": {
   "provenance": []
  },
  "kernelspec": {
   "display_name": "qce23",
   "language": "python",
   "name": "qce23"
  },
  "language_info": {
   "codemirror_mode": {
    "name": "ipython",
    "version": 3
   },
   "file_extension": ".py",
   "mimetype": "text/x-python",
   "name": "python",
   "nbconvert_exporter": "python",
   "pygments_lexer": "ipython3",
   "version": "3.8.10"
  }
 },
 "nbformat": 4,
 "nbformat_minor": 5
}
