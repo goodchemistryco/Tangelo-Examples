{
 "cells": [
  {
   "cell_type": "markdown",
   "metadata": {},
   "source": [
    "# Using quantum cloud services API with Tangelo"
   ]
  },
  {
   "cell_type": "markdown",
   "metadata": {},
   "source": [
    "[![Open In Colab](https://colab.research.google.com/assets/colab-badge.svg)](https://colab.research.google.com/github/goodchemistryco/Tangelo/blob/develop/examples/linq/2.qpu_connection.ipynb)\n",
    "\n",
    "This notebook elaborates on how the `tangelo.linq` module can facilitate hardware experiments by integrating the API provided by some hardware providers (IonQ, Honeywell...) or broader quantum cloud services providers such as Azure Quantum or Braket. We essentially provide convenience wrappers to these APIs: the API of your favorite cloud provider is still called underneath, using your own credentials.\n",
    "\n",
    "This notebook should be relevant to Tangelo users that prefer to install all the dependencies on their machine, use their own credentials, and be billed directly by the target quantum cloud service(s).\n",
    "\n",
    "This approach is an alternative to using [QEMIST Cloud](https://goodchemistry.com/qemist-cloud/), which we intend to make a single and convenient entry point to reach many different platforms. What's pretty cool with this other option is that users do not have to set up the environment required by the quantum cloud(s) of their choice (e.g Braket, Azure Quantum, etc) or even an account with those services. A QEMIST Cloud account provides a single entry point enabling you to reach all of them, and pay with your QEMIST Cloud credits.\n",
    "\n",
    "\n",
    "## Table of contents\n",
    "* [1. IonQ Rest API](#1)\n",
    "    * [1.1 References](#1.1)\n",
    "    * [1.2 Environment](#1.2)\n",
    "    * [1.3 Quantum Circuit](#1.3)\n",
    "    * [1.4 IonQConnection class](#1.4)\n",
    "* [2. Azure Quantum](#2)\n",
    "* [3. Braket](#3)\n",
    "\n",
    "---"
   ]
  },
  {
   "cell_type": "markdown",
   "metadata": {},
   "source": [
    "## Requirements\n",
    "\n",
    "- Tangelo needs to be installed in your environment. The cell below does this installation for you if it is not found.\n",
    "- Ensure you have valid ID tokens and logins for the services of your choice (IonQ, Braket...), and that your environment is ready to use them (e.g install their SDK and dependencies according to the instructions they provide)"
   ]
  },
  {
   "cell_type": "code",
   "execution_count": null,
   "metadata": {},
   "outputs": [],
   "source": [
    "# Installation of tangelo if not already installed.\n",
    "try:\n",
    "    import tangelo\n",
    "except ModuleNotFoundError:\n",
    "    !pip install git+https://github.com/goodchemistryco/Tangelo.git@develop  --quiet"
   ]
  },
  {
   "cell_type": "markdown",
   "metadata": {},
   "source": [
    "## 1. IonQ Rest API <a class=\"anchor\" id=\"1\"></a>\n",
    "\n",
    "\n",
    "### 1.1 References <a class=\"anchor\" id=\"1.1\"></a>\n",
    "\n",
    "Tangelo provides a few Python wrappers around the REST API provided by IonQ, to facilitate job submission and monitoring. The most up-to-date list of supported features and information regarding the IonQ API is available at https://docs.ionq.co\n",
    "\n",
    "### 1.2 Environment <a class=\"anchor\" id=\"1.2\"></a>\n",
    "\n",
    "Users allowed to use the IonQ API should have an ID token, e.g a string of alphanumeric characters and dashes, which can be obtained through the [IonQ dashboard](https://cloud.ionq.com/). Users need to set their `IONQ_APIKEY` environment variable to this value; here are two ways to do it:\n",
    "\n",
    "- in your terminal (`export IONQ_APIKEY=<value>`)\n",
    "- or, in your Python script (`os.environ['IONQ_APIKEY'] = <value>`)\n",
    "\n",
    "Here's an example of what it could look like for you (make sure you use a valid key, or you'll get an \"unauthorized\" error :) )"
   ]
  },
  {
   "cell_type": "code",
   "execution_count": 1,
   "metadata": {},
   "outputs": [],
   "source": [
    "import os\n",
    "os.environ[\"IONQ_APIKEY\"] = '2T14z1YQEzMLCwuYM110oXPDT2h850E4'"
   ]
  },
  {
   "cell_type": "markdown",
   "metadata": {},
   "source": [
    "### 1.3 Quantum circuit <a class=\"anchor\" id=\"1.3\"></a>\n",
    "\n",
    "IonQ uses a JSON representation for quantum circuits, which `tangelo.linq` can generate from an abstract circuit, using the `translator` module. IonQ also offers partial support for other common formats (OpenQASM, ...). For this example, we'll work with their JSON format, which is pretty much nested lists and dictionaries. For more detailed and up-to-date information, check out their [documentation](https://docs.ionq.com/#tag/quantum_programs).\n",
    "\n",
    "Below, we show how users can produce a simple quantum circuit in the JSON format:"
   ]
  },
  {
   "cell_type": "code",
   "execution_count": 2,
   "metadata": {},
   "outputs": [
    {
     "name": "stdout",
     "output_type": "stream",
     "text": [
      "{'qubits': 2, 'circuit': [{'gate': 'h', 'target': 0}, {'gate': 'x', 'target': 1}]}\n"
     ]
    }
   ],
   "source": [
    "from tangelo.linq import Circuit, Gate, translate_json_ionq\n",
    "\n",
    "circ1 = Circuit([Gate(\"H\", 0), Gate(\"X\", 1)])\n",
    "json_circ1 = translate_json_ionq(circ1)\n",
    "print(json_circ1)"
   ]
  },
  {
   "cell_type": "markdown",
   "metadata": {},
   "source": [
    "Our convenience wrappers below do not require users to translate their circuit into the IonQ format: providing a circuit in the Tangelo format is enough."
   ]
  },
  {
   "cell_type": "markdown",
   "metadata": {},
   "source": [
    "### 1.4 IonQConnection class <a class=\"anchor\" id=\"1.4\"></a>\n",
    "\n",
    "The `IonQConnection` class encapsulates a collection of wrappers to the IonQ REST API. Internally, it stores information about the endpoint and the authorization header, containing your identification token. This class only is instantiated succesfully if your ID token has been set properly.\n",
    "\n",
    "More generally speaking, all calls to the REST API are checked for errors, and would return the IonQ error message corresponding to the unsuccessful request."
   ]
  },
  {
   "cell_type": "code",
   "execution_count": 3,
   "metadata": {},
   "outputs": [
    {
     "name": "stdout",
     "output_type": "stream",
     "text": []
    }
   ],
   "source": [
    "from tangelo.linq.qpu_connection import IonQConnection\n",
    "\n",
    "ionq_connection = IonQConnection()"
   ]
  },
  {
   "cell_type": "markdown",
   "metadata": {},
   "source": [
    "#### Backend info\n",
    "\n",
    "Tangelo's `get_backend_info` method allows us to return some information about all the devices listed on IonQ's platform. Tangelo currently returns this info inside a `pandas.DataFrame` object, to help with visualization. "
   ]
  },
  {
   "cell_type": "code",
   "execution_count": 4,
   "metadata": {},
   "outputs": [
    {
     "data": {
      "text/html": [
       "<div>\n",
       "<style scoped>\n",
       "    .dataframe tbody tr th:only-of-type {\n",
       "        vertical-align: middle;\n",
       "    }\n",
       "\n",
       "    .dataframe tbody tr th {\n",
       "        vertical-align: top;\n",
       "    }\n",
       "\n",
       "    .dataframe thead th {\n",
       "        text-align: right;\n",
       "    }\n",
       "</style>\n",
       "<table border=\"1\" class=\"dataframe\">\n",
       "  <thead>\n",
       "    <tr style=\"text-align: right;\">\n",
       "      <th></th>\n",
       "      <th>backend</th>\n",
       "      <th>qubits</th>\n",
       "      <th>status</th>\n",
       "      <th>last updated</th>\n",
       "      <th>average queue time</th>\n",
       "      <th>characterization_url</th>\n",
       "    </tr>\n",
       "  </thead>\n",
       "  <tbody>\n",
       "    <tr>\n",
       "      <th>0</th>\n",
       "      <td>qpu.harmony</td>\n",
       "      <td>11</td>\n",
       "      <td>available</td>\n",
       "      <td>2022-07-29 06:16:04</td>\n",
       "      <td>735</td>\n",
       "      <td>None</td>\n",
       "    </tr>\n",
       "    <tr>\n",
       "      <th>1</th>\n",
       "      <td>simulator</td>\n",
       "      <td>19</td>\n",
       "      <td>available</td>\n",
       "      <td>2022-07-29 06:16:04</td>\n",
       "      <td>0</td>\n",
       "      <td>None</td>\n",
       "    </tr>\n",
       "    <tr>\n",
       "      <th>2</th>\n",
       "      <td>qpu.s11</td>\n",
       "      <td>11</td>\n",
       "      <td>available</td>\n",
       "      <td>2022-07-29 06:16:04</td>\n",
       "      <td>735</td>\n",
       "      <td>/characterizations/e8d7ac98-b7c2-443c-9eb8-105...</td>\n",
       "    </tr>\n",
       "  </tbody>\n",
       "</table>\n",
       "</div>"
      ],
      "text/plain": [
       "       backend  qubits     status         last updated  average queue time  \\\n",
       "0  qpu.harmony      11  available  2022-07-29 06:16:04                 735   \n",
       "1    simulator      19  available  2022-07-29 06:16:04                   0   \n",
       "2      qpu.s11      11  available  2022-07-29 06:16:04                 735   \n",
       "\n",
       "                                characterization_url  \n",
       "0                                               None  \n",
       "1                                               None  \n",
       "2  /characterizations/e8d7ac98-b7c2-443c-9eb8-105...  "
      ]
     },
     "execution_count": 4,
     "metadata": {},
     "output_type": "execute_result"
    }
   ],
   "source": [
    "res = ionq_connection.get_backend_info()\n",
    "res # to display the dataframe neatly in the notebook"
   ]
  },
  {
   "cell_type": "markdown",
   "metadata": {},
   "source": [
    "This information can help users to filter or sort devices according to their needs. For example, filtering out devices who do not have enough qubits for the target experiment, as well as the unavailable devices.\n",
    "\n",
    "We can also retrieve \"characterizations\": a snapshot of the IonQ platform's performance at a moment in time. We can use the `get_characterization` method with either a backend string (ex: `qpu.harmony` or `simulator`) or a  characterization url, if available (see dataframe above)."
   ]
  },
  {
   "cell_type": "code",
   "execution_count": 5,
   "metadata": {},
   "outputs": [
    {
     "name": "stdout",
     "output_type": "stream",
     "text": [
      "{'1q': {'mean': 0.9979}, '2q': {'mean': 0.961}, 'spam': {'mean': 0.99752}}\n",
      "{'t1': 10000, 't2': 0.2, '1q': 1e-05, '2q': 0.0002, 'readout': 0.00013, 'reset': 2e-05}\n"
     ]
    }
   ],
   "source": [
    "charac_dict = ionq_connection.get_characterization('qpu.s11')\n",
    "print(charac_dict['fidelity'])\n",
    "print(charac_dict['timing'])"
   ]
  },
  {
   "cell_type": "markdown",
   "metadata": {},
   "source": [
    "This information can help users having a better understanding of the capabilities of a device, and anticipate its performance on their usecases.\n",
    "\n",
    "Please check [IonQ's documentation](https://docs.ionq.com/#tag/characterizations) to confirm what these quantities mean, and the units in which they are expressed in."
   ]
  },
  {
   "cell_type": "markdown",
   "metadata": {},
   "source": [
    "#### Job submission"
   ]
  },
  {
   "cell_type": "markdown",
   "metadata": {},
   "source": [
    "Job submission can be achieved through the `job_submit` method, which attempts to submit a job on a backend (simulator or QPU), and returns a job ID if submission was succesful.\n",
    "\n",
    "This method takes input arguments that need to be provided by the user:\n",
    "\n",
    "- the target backend (a string such as 'simulator' or one that refers to a QPU)\n",
    "- the quantum circuit (in Tangelo format)\n",
    "- the number of shots required\n",
    "- a name for your job\n",
    "- any other option as key arguments (see source code and IonQ documentation)\n",
    "\n",
    "Assuming a valid API key, we can then submit a simple job targeting their statevector simulator. The status of the job may be in various states (queued, ready, running ...)."
   ]
  },
  {
   "cell_type": "code",
   "execution_count": 7,
   "metadata": {},
   "outputs": [
    {
     "name": "stdout",
     "output_type": "stream",
     "text": [
      "Job submission \tID :: dfb38687-8c70-4b40-833d-c6166a902efe \t status :: ready\n"
     ]
    }
   ],
   "source": [
    "job_id = ionq_connection.job_submit('simulator', circ1, 100, 'test_json_job')"
   ]
  },
  {
   "cell_type": "markdown",
   "metadata": {},
   "source": [
    "#### Job history and job info\n",
    "\n",
    "Users can access their job history and info through the `job_get_history` and `job_status` methods, shown as below. But IonQ also provides an [online dashboard](https://cloud.ionq.com/), which may be more convenient to you.\n",
    "\n",
    "Depending on the timing of your REST requests, the job info may differ widely, from a failed job to a completed job with results included."
   ]
  },
  {
   "cell_type": "code",
   "execution_count": 8,
   "metadata": {
    "scrolled": true
   },
   "outputs": [
    {
     "name": "stdout",
     "output_type": "stream",
     "text": [
      "Job info \tID:: dfb38687-8c70-4b40-833d-c6166a902efe \t status :: completed \n",
      "{'status': 'completed', 'name': 'test_json_job', 'target': 'simulator', 'predicted_execution_time': 4, 'execution_time': 19, 'id': 'dfb38687-8c70-4b40-833d-c6166a902efe', 'qubits': 2, 'type': 'circuit', 'request': 1659075527, 'start': 1659075529, 'response': 1659075529, 'gate_counts': {'1q': 2}, 'data': {'histogram': {'2': 0.5, '3': 0.5}, 'registers': None}}\n"
     ]
    }
   ],
   "source": [
    "job_status = ionq_connection.job_status(job_id)\n",
    "print(job_status)"
   ]
  },
  {
   "cell_type": "markdown",
   "metadata": {},
   "source": [
    "The output of `job_get_history` should at least feature the job we just submitted, and can also show a number of previous jobs run under your account. The output is a `pandas` dataframe, in order to facilitate parsing of information:"
   ]
  },
  {
   "cell_type": "code",
   "execution_count": 9,
   "metadata": {},
   "outputs": [
    {
     "data": {
      "text/html": [
       "<div>\n",
       "<style scoped>\n",
       "    .dataframe tbody tr th:only-of-type {\n",
       "        vertical-align: middle;\n",
       "    }\n",
       "\n",
       "    .dataframe tbody tr th {\n",
       "        vertical-align: top;\n",
       "    }\n",
       "\n",
       "    .dataframe thead th {\n",
       "        text-align: right;\n",
       "    }\n",
       "</style>\n",
       "<table border=\"1\" class=\"dataframe\">\n",
       "  <thead>\n",
       "    <tr style=\"text-align: right;\">\n",
       "      <th></th>\n",
       "      <th>id</th>\n",
       "      <th>status</th>\n",
       "      <th>target</th>\n",
       "    </tr>\n",
       "  </thead>\n",
       "  <tbody>\n",
       "    <tr>\n",
       "      <th>0</th>\n",
       "      <td>dfb38687-8c70-4b40-833d-c6166a902efe</td>\n",
       "      <td>completed</td>\n",
       "      <td>simulator</td>\n",
       "    </tr>\n",
       "    <tr>\n",
       "      <th>1</th>\n",
       "      <td>b486e66a-2ae2-4275-8c9e-015a751dcbbe</td>\n",
       "      <td>completed</td>\n",
       "      <td>simulator</td>\n",
       "    </tr>\n",
       "    <tr>\n",
       "      <th>2</th>\n",
       "      <td>5dea41e0-ce02-4193-8e50-e48fc0cd0c22</td>\n",
       "      <td>canceled</td>\n",
       "      <td>qpu.harmony</td>\n",
       "    </tr>\n",
       "    <tr>\n",
       "      <th>3</th>\n",
       "      <td>34cc2763-f617-427a-8b3a-621086946a3b</td>\n",
       "      <td>completed</td>\n",
       "      <td>qpu.harmony</td>\n",
       "    </tr>\n",
       "    <tr>\n",
       "      <th>4</th>\n",
       "      <td>777237b4-79e8-44d0-8ac6-762f24864e7a</td>\n",
       "      <td>completed</td>\n",
       "      <td>simulator</td>\n",
       "    </tr>\n",
       "  </tbody>\n",
       "</table>\n",
       "</div>"
      ],
      "text/plain": [
       "                                     id     status       target\n",
       "0  dfb38687-8c70-4b40-833d-c6166a902efe  completed    simulator\n",
       "1  b486e66a-2ae2-4275-8c9e-015a751dcbbe  completed    simulator\n",
       "2  5dea41e0-ce02-4193-8e50-e48fc0cd0c22   canceled  qpu.harmony\n",
       "3  34cc2763-f617-427a-8b3a-621086946a3b  completed  qpu.harmony\n",
       "4  777237b4-79e8-44d0-8ac6-762f24864e7a  completed    simulator"
      ]
     },
     "execution_count": 9,
     "metadata": {},
     "output_type": "execute_result"
    }
   ],
   "source": [
    "job_history = ionq_connection.job_get_history()\n",
    "job_history[:5] # Here we only display info of the last 5 jobs run"
   ]
  },
  {
   "cell_type": "markdown",
   "metadata": {},
   "source": [
    "#### Job results\n",
    "\n",
    "The method `job_results` provides a wrapper to a blocking call, querying for the state of the target job at regular intervals, attempting to retrieve the results. If the job has successfully completed, this method returns a dictionary with bitstring keys (ex: `01`, `11`...)\n",
    "\n",
    "IonQ raw results use a \"most-significant qubit first\" representation, encoded as an integer, but Tangelo returns them as a bitstring in least-significant order (e.g we read left-to-right), to stay consistant with its own format and what is common across other cloud services.\n",
    "\n",
    "For our example circuit, IonQ's raw results would return `{'2': 0.5, '3': 0.5}` with an exact simulator.\n",
    "- 2 is '10' in binary, indicating $q_0$ mesured in state $|0\\rangle$, and $q_1$ in state $|1\\rangle$\n",
    "- 3 is '11' in binary, indicating $q_0$ mesured in state $|1\\rangle$, and $q_1$ in state $|1\\rangle$\n",
    "\n",
    "Tangelo returns `{'01': 0.5, '11': 0.5}`."
   ]
  },
  {
   "cell_type": "code",
   "execution_count": 10,
   "metadata": {},
   "outputs": [
    {
     "name": "stdout",
     "output_type": "stream",
     "text": [
      "Job info \tID:: dfb38687-8c70-4b40-833d-c6166a902efe \t status :: completed \n",
      "{'01': 0.5, '11': 0.5}\n"
     ]
    }
   ],
   "source": [
    "results = ionq_connection.job_results(job_id)\n",
    "print(results)"
   ]
  },
  {
   "cell_type": "markdown",
   "metadata": {},
   "source": [
    "#### Job cancel / delete\n",
    "\n",
    "A wrapper called `job_cancel` provides a method to cancel before execution (if the job hasn't run yet), or delete a job from the history. The cell below cancels / deletes the previously-submitted job: it therefore should not appear in the history anymore."
   ]
  },
  {
   "cell_type": "code",
   "execution_count": 11,
   "metadata": {},
   "outputs": [
    {
     "name": "stdout",
     "output_type": "stream",
     "text": [
      "Job cancel \tID :: dfb38687-8c70-4b40-833d-c6166a902efe \t status :: deleted \n"
     ]
    },
    {
     "data": {
      "text/html": [
       "<div>\n",
       "<style scoped>\n",
       "    .dataframe tbody tr th:only-of-type {\n",
       "        vertical-align: middle;\n",
       "    }\n",
       "\n",
       "    .dataframe tbody tr th {\n",
       "        vertical-align: top;\n",
       "    }\n",
       "\n",
       "    .dataframe thead th {\n",
       "        text-align: right;\n",
       "    }\n",
       "</style>\n",
       "<table border=\"1\" class=\"dataframe\">\n",
       "  <thead>\n",
       "    <tr style=\"text-align: right;\">\n",
       "      <th></th>\n",
       "      <th>id</th>\n",
       "      <th>status</th>\n",
       "      <th>target</th>\n",
       "    </tr>\n",
       "  </thead>\n",
       "  <tbody>\n",
       "    <tr>\n",
       "      <th>0</th>\n",
       "      <td>b486e66a-2ae2-4275-8c9e-015a751dcbbe</td>\n",
       "      <td>completed</td>\n",
       "      <td>simulator</td>\n",
       "    </tr>\n",
       "    <tr>\n",
       "      <th>1</th>\n",
       "      <td>5dea41e0-ce02-4193-8e50-e48fc0cd0c22</td>\n",
       "      <td>canceled</td>\n",
       "      <td>qpu.harmony</td>\n",
       "    </tr>\n",
       "    <tr>\n",
       "      <th>2</th>\n",
       "      <td>34cc2763-f617-427a-8b3a-621086946a3b</td>\n",
       "      <td>completed</td>\n",
       "      <td>qpu.harmony</td>\n",
       "    </tr>\n",
       "    <tr>\n",
       "      <th>3</th>\n",
       "      <td>777237b4-79e8-44d0-8ac6-762f24864e7a</td>\n",
       "      <td>completed</td>\n",
       "      <td>simulator</td>\n",
       "    </tr>\n",
       "    <tr>\n",
       "      <th>4</th>\n",
       "      <td>9da8401b-5334-4358-ab3f-ddcd3e2f1ff4</td>\n",
       "      <td>completed</td>\n",
       "      <td>simulator</td>\n",
       "    </tr>\n",
       "    <tr>\n",
       "      <th>5</th>\n",
       "      <td>9dd67d5f-aa29-46fb-a707-1858d022aacc</td>\n",
       "      <td>completed</td>\n",
       "      <td>simulator</td>\n",
       "    </tr>\n",
       "    <tr>\n",
       "      <th>6</th>\n",
       "      <td>45e33c7e-33bd-43d6-aef3-87b78e7bdd77</td>\n",
       "      <td>completed</td>\n",
       "      <td>simulator</td>\n",
       "    </tr>\n",
       "    <tr>\n",
       "      <th>7</th>\n",
       "      <td>be130388-8daf-49dd-8e17-5b4c5274d69f</td>\n",
       "      <td>completed</td>\n",
       "      <td>simulator</td>\n",
       "    </tr>\n",
       "    <tr>\n",
       "      <th>8</th>\n",
       "      <td>2c3526c0-44d4-4573-9bc1-c39a5c0135ae</td>\n",
       "      <td>completed</td>\n",
       "      <td>simulator</td>\n",
       "    </tr>\n",
       "    <tr>\n",
       "      <th>9</th>\n",
       "      <td>373f3175-e7be-48cd-bf47-ac5e331a0eb0</td>\n",
       "      <td>completed</td>\n",
       "      <td>simulator</td>\n",
       "    </tr>\n",
       "    <tr>\n",
       "      <th>10</th>\n",
       "      <td>b567e71c-fa20-4fb9-9ce9-62521de7a1ec</td>\n",
       "      <td>completed</td>\n",
       "      <td>simulator</td>\n",
       "    </tr>\n",
       "    <tr>\n",
       "      <th>11</th>\n",
       "      <td>b1743e6d-359c-4175-bf56-99b8662fdcaf</td>\n",
       "      <td>completed</td>\n",
       "      <td>simulator</td>\n",
       "    </tr>\n",
       "    <tr>\n",
       "      <th>12</th>\n",
       "      <td>f9865e17-25d8-4d84-b8f8-dc31e07a8fae</td>\n",
       "      <td>completed</td>\n",
       "      <td>simulator</td>\n",
       "    </tr>\n",
       "    <tr>\n",
       "      <th>13</th>\n",
       "      <td>e54a5d12-65e4-4fef-8774-68584ccad94c</td>\n",
       "      <td>completed</td>\n",
       "      <td>simulator</td>\n",
       "    </tr>\n",
       "    <tr>\n",
       "      <th>14</th>\n",
       "      <td>be0c8bc7-5539-4e4f-b12c-5370a525076d</td>\n",
       "      <td>completed</td>\n",
       "      <td>simulator</td>\n",
       "    </tr>\n",
       "  </tbody>\n",
       "</table>\n",
       "</div>"
      ],
      "text/plain": [
       "                                      id     status       target\n",
       "0   b486e66a-2ae2-4275-8c9e-015a751dcbbe  completed    simulator\n",
       "1   5dea41e0-ce02-4193-8e50-e48fc0cd0c22   canceled  qpu.harmony\n",
       "2   34cc2763-f617-427a-8b3a-621086946a3b  completed  qpu.harmony\n",
       "3   777237b4-79e8-44d0-8ac6-762f24864e7a  completed    simulator\n",
       "4   9da8401b-5334-4358-ab3f-ddcd3e2f1ff4  completed    simulator\n",
       "5   9dd67d5f-aa29-46fb-a707-1858d022aacc  completed    simulator\n",
       "6   45e33c7e-33bd-43d6-aef3-87b78e7bdd77  completed    simulator\n",
       "7   be130388-8daf-49dd-8e17-5b4c5274d69f  completed    simulator\n",
       "8   2c3526c0-44d4-4573-9bc1-c39a5c0135ae  completed    simulator\n",
       "9   373f3175-e7be-48cd-bf47-ac5e331a0eb0  completed    simulator\n",
       "10  b567e71c-fa20-4fb9-9ce9-62521de7a1ec  completed    simulator\n",
       "11  b1743e6d-359c-4175-bf56-99b8662fdcaf  completed    simulator\n",
       "12  f9865e17-25d8-4d84-b8f8-dc31e07a8fae  completed    simulator\n",
       "13  e54a5d12-65e4-4fef-8774-68584ccad94c  completed    simulator\n",
       "14  be0c8bc7-5539-4e4f-b12c-5370a525076d  completed    simulator"
      ]
     },
     "execution_count": 11,
     "metadata": {},
     "output_type": "execute_result"
    }
   ],
   "source": [
    "ionq_connection.job_cancel(job_id)\n",
    "job_history = ionq_connection.job_get_history()\n",
    "job_history"
   ]
  },
  {
   "cell_type": "markdown",
   "metadata": {},
   "source": [
    "## 2. Azure Quantum <a class=\"anchor\" id=\"2\"></a>\n",
    "\n",
    "Though this package does not currently provide a way to directly submit jobs through Microsoft's Azure Quantum cloud services, the `translate_qsharp` function in the `translator` module can parse an abstract circuit and generate Q# code that can be written to file. \n",
    "\n",
    "Azure quantum also supports circuits in a number of other formats (`cirq`, `qiskit`, IonQ...), which means any of your favorite translate function from `tangelo.linq` can come in handy: check out their [documentation](https://docs.microsoft.com/en-us/azure/quantum/concepts-circuits) for the most reliable information.\n",
    "\n",
    "Our generated Q# code is compatible with both the local QDK simulator (good for testing before submitting to an actual QPU) or by Azure Quantum. Submission through Azure Quantum will require the user to have an account on Azure, install the local CLI and Python dependencies.\n",
    "\n",
    "For an example of how one can use this package to first generate circuits, and then submit jobs through Azure quantum, please look into the `example/qsharp` folder of this package."
   ]
  },
  {
   "cell_type": "markdown",
   "metadata": {},
   "source": [
    "## 3. Braket <a class=\"anchor\" id=\"3\"></a>\n",
    "\n",
    "Tangelo currently offers to generate a quantum circuit in the Braket format using the `translate_braket` function from the translator module, and may provide convenience wrappers later on around Braket's API. Once you have a circuit in Braket's format, you can pretty much do anything you want using their SDK."
   ]
  },
  {
   "cell_type": "code",
   "execution_count": 12,
   "metadata": {},
   "outputs": [
    {
     "name": "stdout",
     "output_type": "stream",
     "text": [
      "T  : |0|1|\n",
      "          \n",
      "q0 : -H-C-\n",
      "        | \n",
      "q1 : ---X-\n",
      "\n",
      "T  : |0|1|\n"
     ]
    }
   ],
   "source": [
    "from tangelo.linq import Gate, Circuit\n",
    "from tangelo.linq.translator import translate_braket\n",
    "\n",
    "abstract_circuit = Circuit([Gate('H',0), Gate('CNOT', target=1, control=0)])\n",
    "braket_circuit = translate_braket(abstract_circuit)\n",
    "\n",
    "print(braket_circuit)"
   ]
  },
  {
   "cell_type": "markdown",
   "metadata": {},
   "source": [
    "Users can use the [Braket python SDK](https://github.com/aws/amazon-braket-sdk-python/) provided by Amazon (`amazon-braket-sdk`) to submit experiments to backends available in the Braket cloud and retrieve results, or simply run them using the [LocalSimulator](https://docs.aws.amazon.com/braket/latest/developerguide/braket-get-started-run-circuit.html) that comes with the SDK.\n",
    "\n",
    "Braket relies on you installing the AWS CLI, and assumes you have an IAM user with proper permissions (Braket, S3 buckets). The Braket services can also be accessed through your web browser, which gives you access to managed python notebooks.\n",
    "\n",
    "> Signing up for [QEMIST Cloud](https://goodchemistry.com/qemist-cloud/) allows you to otherwise use a single entry-point, does not require you to install Braket dependencies, and pay with your QEMIST Cloud credits."
   ]
  },
  {
   "cell_type": "markdown",
   "metadata": {},
   "source": [
    "This simple [Braket example](https://github.com/aws/amazon-braket-sdk-python/blob/main/examples/bell.py) shows how you can retrieve measurement counts. Bitstrings are read left-to-right (first is qubit 0, then qubit 1...).\n",
    "\n",
    "The `measurement_counts` method returns an object of the built-in Python `Counter` class."
   ]
  },
  {
   "cell_type": "code",
   "execution_count": 13,
   "metadata": {},
   "outputs": [],
   "source": [
    "# Illustrates what Braket may return for a 2-qubit circuit, run with 100 shots.\n",
    "from collections import Counter\n",
    "counts = Counter({'00':53, '11':47})"
   ]
  },
  {
   "cell_type": "markdown",
   "metadata": {},
   "source": [
    "This object can then be passed to other Tangelo functions right away. Below, we show how to compute an expectation value:"
   ]
  },
  {
   "cell_type": "code",
   "execution_count": 14,
   "metadata": {},
   "outputs": [
    {
     "name": "stdout",
     "output_type": "stream",
     "text": [
      "Frequencies: {'00': 0.53, '11': 0.47}\n",
      "Expectation value for ZZ operator 1.0\n"
     ]
    }
   ],
   "source": [
    "from tangelo.linq import get_expectation_value_from_frequencies_oneterm\n",
    "from tangelo.linq.helpers.circuits.measurement_basis import pauli_string_to_of\n",
    "\n",
    "# Rescale counts to obtain frequency histogram\n",
    "freqs = {k:v/100 for k,v in counts.items()}\n",
    "print(f\"Frequencies: {freqs}\")\n",
    "\n",
    "# Compute expectation value for ZZ operator\n",
    "exp_ZZ = get_expectation_value_from_frequencies_oneterm(pauli_string_to_of(\"ZZ\"), freqs)\n",
    "print(f\"Expectation value for ZZ operator {exp_ZZ}\")"
   ]
  }
 ],
 "metadata": {
  "kernelspec": {
   "display_name": "Python 3 (ipykernel)",
   "language": "python",
   "name": "python3"
  },
  "language_info": {
   "codemirror_mode": {
    "name": "ipython",
    "version": 3
   },
   "file_extension": ".py",
   "mimetype": "text/x-python",
   "name": "python",
   "nbconvert_exporter": "python",
   "pygments_lexer": "ipython3",
   "version": "3.8.10"
  },
  "vscode": {
   "interpreter": {
    "hash": "95050af2697fca56ed7491a4fb0b04c1282c0de0a7e0a7cacd318a8297b0b1d8"
   }
  }
 },
 "nbformat": 4,
 "nbformat_minor": 2
}
