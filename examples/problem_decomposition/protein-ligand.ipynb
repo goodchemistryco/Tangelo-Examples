{
 "cells": [
  {
   "cell_type": "markdown",
   "metadata": {},
   "source": [
    "# Protein-Ligand example\n",
    "\n",
    "This loosely follows the technique outlined in [Quantum Computational Quantification of Protein-Ligand Interactions](https://arxiv.org/pdf/2110.08163.pdf). This utilizes a ranking metric.\n",
    "\n",
    "$E_{b}(\\bar{P},W)= E(\\bar{P}, W, \\bar{L})-E(\\bar{W}, \\tilde{L})$\n",
    "\n",
    "Where $E_{b}$ is the binding energy, $\\bar{P}$ and $\\bar{P}$ is the protein and ligand structure from experiment. $W$ is the explicit water molecules and $\\tilde{L}$ is the optimized ligand in a solvent (in this case water). "
   ]
  },
  {
   "cell_type": "markdown",
   "metadata": {},
   "source": [
    "## Example: Glucose in hexokinase\n",
    "\n",
    "The geometry was found at [rcsb](https://www.rcsb.org/structure/1bdg) and is in the file \"pdb1bdg.pdb\". This contains the protein (hexokinase) with the ligand (glucose) in the pocket along with some explicit solvent of water and sulfate ion. To perform the study we will use RDKIT to separate the ligand and protein+solvent."
   ]
  },
  {
   "cell_type": "code",
   "execution_count": 1,
   "metadata": {},
   "outputs": [],
   "source": [
    "try:\n",
    "    import tangelo\n",
    "except ImportError:\n",
    "    %pip install git+https://github.com/goodchemistryco/Tangelo.git --quiet\n",
    "    %pip install pyscf --quiet\n",
    "    %pip install rdkit\n",
    "    %pip install openbabel-wheel\n",
    "\n",
    "# Download the data folder at https://github.com/goodchemistryco/Tangelo/branches/develop/tangelo/problem_decomposition/tests/incremental/data\n",
    "import os\n",
    "if not os.path.isfile(\"pdb1bdg.pdb\"):\n",
    "    !sudo apt install subversion\n",
    "    !svn export https://github.com/goodchemistryco/Tangelo/branches/develop/tangelo/problem_decomposition/tests/incremen"
   ]
  },
  {
   "cell_type": "code",
   "execution_count": 2,
   "metadata": {},
   "outputs": [],
   "source": [
    "\n",
    "from rdkit import Chem\n",
    "from rdkit.Chem import rdmolops\n",
    "\n",
    "mol = Chem.MolFromPDBFile(\"pdb1bdg.pdb\")\n",
    "mol_frags = rdmolops.GetMolFrags(mol, asMols=True)\n",
    "\n",
    "# Print here for smiles representation of fragments.\n",
    "#for i, moli in enumerate(mol_frags):\n",
    "#    print(i, Chem.MolToSmiles(moli))\n",
    "\n",
    "# 0 and 1 are the protein fragments\n",
    "protein_mol = rdmolops.CombineMols(mol_frags[0], mol_frags[1])\n",
    "# 2 is the ligand fragment\n",
    "ligand_mol = mol_frags[2]\n",
    "\n",
    "#3 to end is SO4 or H2O molecules.\n",
    "for i in range(3,len(mol_frags)):\n",
    "    protein_mol = rdmolops.CombineMols(protein_mol, mol_frags[i])\n",
    "\n",
    "protein_ligand_combined = rdmolops.CombineMols(protein_mol, ligand_mol)\n",
    "ligand_mol = Chem.AddHs(ligand_mol, addCoords=1)\n",
    "\n",
    "# Export Ligand\n",
    "Chem.MolToXYZFile(ligand_mol, \"ligand.xyz\")\n",
    "# Export Protein+Solvent\n",
    "Chem.MolToPDBFile(protein_mol, \"protein.pdb\")"
   ]
  },
  {
   "cell_type": "markdown",
   "metadata": {},
   "source": [
    "## Implicit Solvation for Ligand in water\n",
    "\n",
    "We will define a new IntegralSolver that implements the ddCOSMO implicit solvation method as outlined in [solvation methods](https://pyscf.org/user/solvent.html). There is only one line changed from IntegralSolverPySCF in compute_mean_field."
   ]
  },
  {
   "cell_type": "code",
   "execution_count": 76,
   "metadata": {},
   "outputs": [],
   "source": [
    "from tangelo.toolboxes.molecular_computation.integral_solver_pyscf import IntegralSolverPySCF, mol_to_pyscf\n",
    "import os\n",
    "import numpy as np\n",
    "\n",
    "# Introduce new Integral Solver that includes implicit solvation with ddCOSMO using pyscf\n",
    "class IntegralSolverPyscf_ddCOSMO(IntegralSolverPySCF):\n",
    "    def compute_mean_field(self, sqmol):\n",
    "        \"\"\"Run a unrestricted/restricted (openshell-)Hartree-Fock calculation and modify/add the following\n",
    "        variables to sqmol\n",
    "\n",
    "        Modify sqmol variables.\n",
    "            sqmol.mf_energy (float): Mean-field energy (RHF or ROHF energy depending on the spin).\n",
    "            sqmol.mo_energies (list of float): Molecular orbital energies.\n",
    "            sqmol.mo_occ (list of float): Molecular orbital occupancies (between 0. and 2.).\n",
    "            sqmol.n_mos (int): Number of molecular orbitals with a given basis set.\n",
    "            sqmol.n_sos (int): Number of spin-orbitals with a given basis set.\n",
    "\n",
    "        Add to sqmol:\n",
    "            self.mo_coeff (ndarray or List[ndarray]): array of molecular orbital coefficients (MO coeffs) if RHF ROHF\n",
    "                                                        list of arrays [alpha MO coeffs, beta MO coeffs] if UHF\n",
    "\n",
    "        Args:\n",
    "            sqmol (SecondQuantizedMolecule): Populated variables of Molecule plus\n",
    "                sqmol.basis (string): Basis set.\n",
    "                sqmol.ecp (dict): The effective core potential (ecp) for any atoms in the molecule.\n",
    "                    e.g. {\"C\": \"crenbl\"} use CRENBL ecp for Carbon atoms.\n",
    "                sqmol.symmetry (bool or str): Whether to use symmetry in RHF or ROHF calculation.\n",
    "                    Can also specify point group using string. e.g. \"Dooh\", \"D2h\", \"C2v\", ...\n",
    "                sqmol.uhf (bool): If True, Use UHF instead of RHF or ROHF reference. Default False\n",
    "\n",
    "\n",
    "        \"\"\"\n",
    "\n",
    "        molecule = mol_to_pyscf(sqmol, sqmol.basis, sqmol.symmetry, sqmol.ecp)\n",
    "\n",
    "        if self.newton:\n",
    "            sqmol.mean_field = self.scf.RHF(molecule).newton() if not sqmol.uhf else self.scf.UHF(molecule)\n",
    "        else:\n",
    "            # This is the line changed to include implicit solvation with ddCOSMO, water is default\n",
    "            sqmol.mean_field = molecule.RHF().ddCOSMO() if not sqmol.uhf else self.scf.UHF(molecule)\n",
    "        sqmol.mean_field.verbose = 0\n",
    "\n",
    "        chkfile_found = False\n",
    "        if self.chkfile:\n",
    "            chkfile_found = os.path.exists(self.chkfile)\n",
    "            sqmol.mean_field.chkfile = self.chkfile\n",
    "\n",
    "        # Force broken symmetry for uhf calculation when spin is 0 as shown in\n",
    "        # https://github.com/sunqm/pyscf/blob/master/examples/scf/32-break_spin_symm.py\n",
    "        if sqmol.uhf and sqmol.spin == 0 and not chkfile_found:\n",
    "            dm_alpha, dm_beta = sqmol.mean_field.get_init_guess()\n",
    "            dm_beta[:1, :] = 0\n",
    "            dm = (dm_alpha, dm_beta)\n",
    "            sqmol.mean_field.kernel(dm)\n",
    "        else:\n",
    "            sqmol.mean_field.init_guess = \"chkfile\" if chkfile_found else \"minao\"\n",
    "            sqmol.mean_field.kernel()\n",
    "\n",
    "        sqmol.mean_field.analyze()\n",
    "        if not sqmol.mean_field.converged:\n",
    "            raise ValueError(\"Hartree-Fock calculation did not converge\")\n",
    "\n",
    "        if sqmol.symmetry:\n",
    "            sqmol.mo_symm_ids = list(self.symm.label_orb_symm(sqmol.mean_field.mol, sqmol.mean_field.mol.irrep_id,\n",
    "                                                              sqmol.mean_field.mol.symm_orb, sqmol.mean_field.mo_coeff))\n",
    "            irrep_map = {i: s for s, i in zip(molecule.irrep_name, molecule.irrep_id)}\n",
    "            sqmol.mo_symm_labels = [irrep_map[i] for i in sqmol.mo_symm_ids]\n",
    "        else:\n",
    "            sqmol.mo_symm_ids = None\n",
    "            sqmol.mo_symm_labels = None\n",
    "\n",
    "        sqmol.mf_energy = sqmol.mean_field.e_tot\n",
    "        sqmol.mo_energies = sqmol.mean_field.mo_energy\n",
    "        sqmol.mo_occ = sqmol.mean_field.mo_occ\n",
    "\n",
    "        sqmol.n_mos = molecule.nao_nr()\n",
    "        sqmol.n_sos = 2*sqmol.n_mos\n",
    "\n",
    "        self.mo_coeff = sqmol.mean_field.mo_coeff\n",
    "\n",
    "    def get_integrals(self, sqmol, mo_coeff=None):\n",
    "        r\"\"\"Computes core constant, one_body, and two-body integrals for all orbitals\n",
    "\n",
    "        one-body integrals should be in the form\n",
    "        h[p,q]= \\int \\phi_p(x)* (T + V_{ext}) \\phi_q(x) dx\n",
    "\n",
    "        two-body integrals should be in the form\n",
    "        h[p,q,r,s] = \\int \\phi_p(x) * \\phi_q(y) * V_{elec-elec} \\phi_r(y) \\phi_s(x) dxdy\n",
    "\n",
    "        Using molecular orbitals \\phi_j(x) = \\sum_{ij} A_i(x) mo_coeff_{i,j} where A_i(x) are the atomic orbitals.\n",
    "\n",
    "        For UHF (if sqmol.uhf is True)\n",
    "        one_body coefficients are [alpha one_body, beta one_body]\n",
    "        two_body coefficients are [alpha-alpha two_body, alpha-beta two_body, beta-beta two_body]\n",
    "\n",
    "        where one_body and two_body are appropriately sized arrays for each spin sector.\n",
    "\n",
    "        Args:\n",
    "            sqmol (SecondQuantizedMolecule) : SecondQuantizedMolecule populated with all variables defined above\n",
    "            mo_coeff : Molecular orbital coefficients to use for calculating the integrals, instead of self.mo_coeff\n",
    "\n",
    "        Returns:\n",
    "            (float, array or List[array], array or List[array]): (core_constant, one_body coefficients, two_body coefficients)\n",
    "        \"\"\"\n",
    "\n",
    "        # Pyscf molecule to get integrals.\n",
    "        pyscf_mol = mol_to_pyscf(sqmol, sqmol.basis, sqmol.symmetry, sqmol.ecp)\n",
    "        if mo_coeff is None:\n",
    "            mo_coeff = self.mo_coeff\n",
    "\n",
    "        if sqmol.uhf:\n",
    "            one_body, two_body = self.compute_uhf_integrals(sqmol, mo_coeff)\n",
    "            return float(sqmol.mean_field.energy_nuc()), one_body, two_body\n",
    "\n",
    "        # Corresponding to nuclear repulsion energy and static coulomb energy.\n",
    "        core_constant = float(sqmol.mean_field.energy_nuc())\n",
    "\n",
    "        # get_hcore is equivalent to int1e_kin + int1e_nuc + solvent.v.\n",
    "        dm1 = sqmol.mean_field.make_rdm1(sqmol.mo_coeff, sqmol.mean_field.mo_occ)\n",
    "        one_electron_integrals = mo_coeff.T @ (sqmol.mean_field.get_hcore()+sqmol.mean_field.with_solvent.v) @ mo_coeff\n",
    "\n",
    "        # Add solvent.e and remove duplication of Tr(solvent.v, dm1)\n",
    "        core_constant += sqmol.mean_field.with_solvent.e - np.einsum('ij,ji->', sqmol.mean_field.with_solvent.v, dm1)\n",
    "\n",
    "        # Getting 2-body integrals in atomic and converting to molecular basis.\n",
    "        two_electron_integrals = self.ao2mo.kernel(sqmol.mean_field.mol.intor(\"int2e\"), mo_coeff)\n",
    "        two_electron_integrals = self.ao2mo.restore(1, two_electron_integrals, len(mo_coeff))\n",
    "\n",
    "        # PQRS convention in openfermion:\n",
    "        # h[p,q]=\\int \\phi_p(x)* (T + V_{ext}) \\phi_q(x) dx\n",
    "        # h[p,q,r,s]=\\int \\phi_p(x)* \\phi_q(y)* V_{elec-elec} \\phi_r(y) \\phi_s(x) dxdy\n",
    "        # The convention is not the same with PySCF integrals. So, a change is\n",
    "        # made before performing the truncation for frozen orbitals.\n",
    "        two_electron_integrals = two_electron_integrals.transpose(0, 2, 3, 1)\n",
    "\n",
    "        return core_constant, one_electron_integrals, two_electron_integrals"
   ]
  },
  {
   "cell_type": "code",
   "execution_count": 77,
   "metadata": {},
   "outputs": [],
   "source": [
    "from tangelo.toolboxes.molecular_computation.molecule import atom_string_to_list\n",
    "with open(\"ligand.xyz\") as file:\n",
    "    data = file.read()\n",
    "ligand_list = atom_string_to_list(data)"
   ]
  },
  {
   "cell_type": "code",
   "execution_count": 78,
   "metadata": {},
   "outputs": [],
   "source": [
    "from tangelo import SecondQuantizedMolecule\n",
    "ligand_sq_mol = SecondQuantizedMolecule(ligand_list, 0, 0, IntegralSolverPyscf_ddCOSMO(), \"sto-3g\")\n"
   ]
  },
  {
   "cell_type": "code",
   "execution_count": 79,
   "metadata": {},
   "outputs": [
    {
     "name": "stdout",
     "output_type": "stream",
     "text": [
      "-674.4533978096994\n"
     ]
    }
   ],
   "source": [
    "print(ligand_sq_mol.mf_energy)"
   ]
  },
  {
   "cell_type": "code",
   "execution_count": 80,
   "metadata": {},
   "outputs": [
    {
     "name": "stdout",
     "output_type": "stream",
     "text": [
      "<pyscf.solvent.ddcosmo.DDCOSMO object at 0x139dbc220>\n"
     ]
    }
   ],
   "source": [
    "#dm = ligand_sq_mol.mean_field.make_rdm1(ligand_sq_mol.mo_coeff, ligand_sq_mol.mo_occ)\n",
    "#ligand_sq_mol.mean_field.with_solvent.kernel(dm)\n",
    "print(ligand_sq_mol.mean_field.with_solvent)"
   ]
  },
  {
   "cell_type": "code",
   "execution_count": 94,
   "metadata": {},
   "outputs": [],
   "source": [
    "from tangelo.toolboxes.molecular_computation.frozen_orbitals import get_orbitals_excluding_homo_lumo\n",
    "excluding_homo_lumo = get_orbitals_excluding_homo_lumo(ligand_sq_mol)\n",
    "ligand_sq_mol.freeze_mos(excluding_homo_lumo)"
   ]
  },
  {
   "cell_type": "code",
   "execution_count": 92,
   "metadata": {},
   "outputs": [],
   "source": [
    "from tangelo.algorithms.variational import VQESolver, BuiltInAnsatze\n",
    "\n",
    "vqe = VQESolver({\"molecule\": ligand_sq_mol, \"ansatz\": BuiltInAnsatze.UCCSD})\n",
    "vqe.build()\n",
    "\n"
   ]
  },
  {
   "cell_type": "code",
   "execution_count": 93,
   "metadata": {},
   "outputs": [
    {
     "name": "stdout",
     "output_type": "stream",
     "text": [
      "-674.453633707917\n"
     ]
    }
   ],
   "source": [
    "energy_vqe = vqe.simulate()\n",
    "print(energy_vqe)"
   ]
  },
  {
   "cell_type": "markdown",
   "metadata": {},
   "source": [
    "## QMMM with partial charges for Protein environment"
   ]
  },
  {
   "cell_type": "markdown",
   "metadata": {},
   "source": [
    "In the paper they state that \"Protein structures were aligned with respect to the 1b protein-ligand complex. Fixed-point charges were placed on the protein atoms using the AMBER10:EHT method, as implemented in MOE.\" \n",
    "\n",
    "AMBER10 is not supported in RDKIT which is natively supported in Tangelo so we will use partial charges of the protein+solvent enviroment using the MMFF94 force field. Below we define a version of this that solves for the charges after adding Hs to the protein. The default version in Tangelo does not do this. One can implement your own interface that includes AMBER10:EHT by implementing the get_charges function as defined in the parent `MMChargesSolver` class."
   ]
  },
  {
   "cell_type": "code",
   "execution_count": 101,
   "metadata": {},
   "outputs": [],
   "source": [
    "from typing import List, Tuple\n",
    "from tangelo.toolboxes.molecular_computation.mm_charges_solver import convert_files_to_pdbs, MMChargesSolver\n",
    "\n",
    "class MMChargesSolverRDKit(MMChargesSolver):\n",
    "    def __init__(self, mmffVariant=\"MMFF94\"):\n",
    "        self.mmffVariant = mmffVariant\n",
    "\n",
    "    def get_charges(self, files) -> List[Tuple[float, Tuple[float, float, float]]]:\n",
    "        import rdkit.Chem as rdkc\n",
    "        from rdkit.Chem import AllChem\n",
    "\n",
    "        pdbfiles = convert_files_to_pdbs(files)\n",
    "        rdmol = rdkc.rdmolfiles.MolFromPDBFile(pdbfiles[0], removeHs=False)\n",
    "        rdmol = rdkc.AddHs(rdmol, addCoords=1)\n",
    "        for file in pdbfiles[1:]:\n",
    "            mol_to_add = rdkc.rdmolfiles.MolFromPDBFile(file, removeHs=False)\n",
    "            rdmol = rdkc.rdmolops.CombineMols(rdmol, mol_to_add)\n",
    "        rdkc.SanitizeMol(rdmol)\n",
    "\n",
    "        # Read charges and geometry\n",
    "        mmff_props = AllChem.MMFFGetMoleculeProperties(rdmol, mmffVariant=self.mmffVariant)\n",
    "        charges = [mmff_props.GetMMFFPartialCharge(i) for i in range(rdmol.GetNumAtoms())]\n",
    "        rdkc.SanitizeMol(rdmol)\n",
    "        new_xyz = rdkc.rdmolfiles.MolToXYZBlock(rdmol)\n",
    "\n",
    "        # Strip first two lines and convert to standard format\n",
    "        geom = atom_string_to_list(\"\".join([val+\"\\n\" for val in new_xyz.split('\\n')[2:]]))\n",
    "\n",
    "        return charges, geom"
   ]
  },
  {
   "cell_type": "markdown",
   "metadata": {},
   "source": [
    "We are going to once again only use the HOMO+LUMO for the post- Hartree-Fock calculation with VQE and the QCC ansatz."
   ]
  },
  {
   "cell_type": "code",
   "execution_count": 100,
   "metadata": {},
   "outputs": [],
   "source": [
    "from tangelo.problem_decomposition.qmmm.qmmm_problem_decomposition import QMMMProblemDecomposition\n",
    "from tangelo.problem_decomposition.oniom._helpers.helper_classes import Fragment, Link\n",
    "\n",
    "# Test when supplying an integral solver.\n",
    "frag = Fragment(solver_high=\"vqe\", broken_links=[],\n",
    "                        options_high={\"basis\": \"sto-3g\", \"ansatz\": BuiltInAnsatze.QCC,\n",
    "                                      \"up_then_down\": True, \"frozen_orbitals\": excluding_homo_lumo})\n",
    "qmmm = QMMMProblemDecomposition({\"geometry\": ligand_list, \"charges\": [\"protein.pdb\"],\n",
    "                                                \"qmfragment\": frag, \"mmpackage\": MMChargesSolverRDKit()})\n",
    "\n",
    "energy_qmmm = qmmm.simulate()"
   ]
  },
  {
   "cell_type": "code",
   "execution_count": 102,
   "metadata": {},
   "outputs": [
    {
     "name": "stdout",
     "output_type": "stream",
     "text": [
      "The total binding energy is 0.033990723020110636\n"
     ]
    }
   ],
   "source": [
    "print(f\"The total binding energy is {energy_qmmm-energy_vqe}\")\n"
   ]
  },
  {
   "cell_type": "markdown",
   "metadata": {},
   "source": [
    "We know that glucose binds in hexokinase so this calculation is not accurate enough or makes poor assumptions when the binding energy is positive. \n",
    "\n",
    "The paper does add an explicit water solvation shell to the ligand-in-protein calculation which may be straightforward to implement (by modifying `MMChargesSolverRDKit`) and could improve the results."
   ]
  }
 ],
 "metadata": {
  "kernelspec": {
   "display_name": "qsdkmain",
   "language": "python",
   "name": "python3"
  },
  "language_info": {
   "codemirror_mode": {
    "name": "ipython",
    "version": 3
   },
   "file_extension": ".py",
   "mimetype": "text/x-python",
   "name": "python",
   "nbconvert_exporter": "python",
   "pygments_lexer": "ipython3",
   "version": "3.9.18"
  },
  "orig_nbformat": 4
 },
 "nbformat": 4,
 "nbformat_minor": 2
}
