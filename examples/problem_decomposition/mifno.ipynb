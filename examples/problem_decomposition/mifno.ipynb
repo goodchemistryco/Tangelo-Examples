{
 "cells": [
  {
   "cell_type": "markdown",
   "metadata": {},
   "source": [
    "# Exploring the Method of Increments with QEMIST Cloud and Tangelo\n",
    "\n",
    "In this notebook, we illustrate how users can leverage QEMIST Cloud and Tangelo to explore the impact of quantum computing on problems tackled with the MI-FNO problem decomposition technique.\n",
    "\n",
    "You do not need to have the `qemist-client` python package installed to run this notebook: only `tangelo` is required. For more information about [QEMIST Cloud](https://goodchemistry.com/qemist-cloud/) (installation, features, issues, `qemist_client` API...), please refer to the [QEMIST Cloud documentation](https://alpha-api.qemist.cloud/#/docs) or contact their development team.\n",
    "\n",
    "The first section provides a high-level description of the MI-FNO approach. The second one briefly shows how QEMIST Cloud can apply this approach to a usecase, and provide reference results computed with high-accuracy classical solvers. We then focus on the API provided in Tangelo allowing users to combine the MI-FNO performed by QEMIST Cloud and any quantum workflow written with Tangelo.\n",
    "\n",
    "This notebook assumes that you already have installed Tangelo in your Python environment, or have updated your Python path so that the imports can be resolved. If not, executing the cell below installs the minimal requirements for this notebook."
   ]
  },
  {
   "cell_type": "code",
   "execution_count": 1,
   "metadata": {},
   "outputs": [],
   "source": [
    "# Installation of tangelo if not already installed.\n",
    "try:\n",
    "    import tangelo\n",
    "except ModuleNotFoundError:\n",
    "    !pip install pyscf\n",
    "    !pip install git+https://github.com/goodchemistryco/Tangelo.git@develop --quiet\n",
    "\n",
    "# Download the data folder at https://github.com/goodchemistryco/Tangelo/branches/develop/tangelo/problem_decomposition/tests/incremental/data\n",
    "import os\n",
    "if not os.path.isdir(\"data\"):\n",
    "    !sudo apt install subversion\n",
    "    !svn export https://github.com/goodchemistryco/Tangelo/branches/develop/tangelo/problem_decomposition/tests/incremental/data"
   ]
  },
  {
   "cell_type": "markdown",
   "metadata": {},
   "source": [
    "## Use case\n",
    "\n",
    "Our use case here is the beryllium hydride (BeH$_2$) system defined below, using the `sto-3g` basis, chosen for simplicity. However, the MI-FNO method can be used to tackle much larger systems."
   ]
  },
  {
   "cell_type": "code",
   "execution_count": 2,
   "metadata": {},
   "outputs": [],
   "source": [
    "BeH2_coordinates = \"\"\"\n",
    "Be  0.0000000   0.0000000    0.0000000\n",
    "H   0.0000000   0.0000000    1.3300000\n",
    "H   0.0000000   0.0000000   -1.3300000\n",
    "\"\"\"\n",
    "basis = \"sto-3g\"\n",
    "charge = 0 \n",
    "spin = 0"
   ]
  },
  {
   "cell_type": "markdown",
   "metadata": {},
   "source": [
    "## What is MI-FNO ?\n",
    "\n",
    "The method of increment (MI) expresses the electron correlation energy of a molecular system as a truncated many-body expansion in terms of orbitals, atoms, molecules, or fragments. The electron correlation of the system is expanded in terms of occupied orbitals, and MI is employed to systematically reduce the occupied orbital space. At the same time, the virtual orbital space is reduced based on the frozen natural orbitals (FNO), which are obtained using a one-particle density matrix from second-order, many-body perturbation theory. In this way, a method referred to as the MI-FNO approach is available for the systematic reduction of both the occupied space and the virtual space in quantum chemistry simulations. \n",
    "\n",
    "MI was first introduced in quantum chemistry by Nesbet ([Phys. Rev. 1967, 155, 51](https://doi.org/10.1103/PhysRev.155.51), [Phys. Rev. 1967, 155, 56](https://doi.org/10.1103/PhysRev.155.56) and [Phys. Rev. 1968, 175, 2](https://doi.org/10.1103/PhysRev.175.2)), is based upon the n-body Bethe–Goldstone expansion ([Proc. R. Soc. A, 1957, 238, 551](https://doi.org/10.1098/rspa.1957.0017)) of the correlation energy of a molecule. The correlation energy ($E_c$), defined as the difference between the exact ($E_{\\text{exact}}$) and the Hartree–Fock (mean-field) energy ($E_{\\text{HF}}$), can be expanded as\n",
    "\n",
    "$$\n",
    "\\begin{align*}\n",
    "E_c &= E_{\\text{exact}} - E_{\\text{HF}} \\\\\n",
    "&= \\sum_i \\epsilon_i + \\sum_{i>j} \\epsilon_{ij} + \\sum_{i>j>k} \\epsilon_{ijk} + \\sum_{i>j>k>l} \\epsilon_{ijkl} + \\dots\n",
    "\\end{align*}\n",
    "$$\n",
    "\n",
    "where $\\epsilon_i$, $\\epsilon_{ij}$, $\\epsilon_{ijk}$, and $\\epsilon_{ijkl}$ are, respectively, the one-, two-, three-, and four-body increments (expansions) defined as\n",
    "\n",
    "$$\n",
    "\\begin{align*}\n",
    "\\epsilon_i &= E_c(i) \\\\\n",
    "\\epsilon_{ij} &= E_c(ij) - \\epsilon_i - \\epsilon_j \\\\\n",
    "\\epsilon_{ijk} &= E_c(ijk) - \\epsilon_{ij} - \\epsilon_{ik} - \\epsilon_{jk} - \\epsilon_{i} - \\epsilon_{j} - \\epsilon_{k} \\\\\n",
    "\\epsilon_{ijkl} &= E_c(ijkl) - \\epsilon_{ijk} - \\epsilon_{ijl} - \\epsilon_{jkl} - \\dots \\\\\n",
    "&\\vdots\n",
    "\\end{align*}\n",
    "$$\n",
    "\n",
    "The following figure, taken from [J. Chem. Phys. 2021, 155, 034110](https://doi.org/10.1063/5.0054647), illustrates this problem decomposition scheme in terms of 1-body and many-body interactions. On each subproblem, an FNO truncation\n",
    "is applied to reduce their virtual space. The subproblems resulting from the MI-FNO reduction can then be solved by any algorithm, including quantum algorithms such as the phase estimation algorithm and the variational quantum eigensolver (VQE), to predict the correlation energies of a molecular system.\n",
    "\n",
    "\n",
    "<div>\n",
    "<img src=\"../img/mifno.png\" width=\"600\"/>\n",
    "</div>\n",
    "\n",
    "This problem decomposition pipeline is available in QEMIST Cloud. In this notebook, we illustrate how to export MI-FNO fragment data computed in QEMIST Cloud, and import it in Tangelo for further treatment, such as using quantum solvers."
   ]
  },
  {
   "cell_type": "markdown",
   "metadata": {},
   "source": [
    "## Performing MI-FNO calculations with QEMIST Cloud\n",
    "\n",
    "[QEMIST Cloud](https://goodchemistry.com/qemist-cloud/) is an engine that enables faster, more accurate, and scalable ways to perform computational chemistry simulations. This platform leverages easily and readily accessible computers on the cloud to perform chemistry simulations that were previously intractable even on expensive, high-performance computing environments.\n",
    "\n",
    "In order to leverage this platform to perform the MI-FNO calculations, subscribing to the services and installing the `qemist_client` python package is necessary. This notebook does not require either of these things: we provide the code snippet used to generate the problem decomposition results, and use those as pre-computed values for the rest of the notebook.\n",
    "\n",
    "For more information about QEMIST Cloud (installation, features, issues, `qemist_client` API...), please refer to the [QEMIST Cloud documentation](https://alpha-api.qemist.cloud/#/docs) or contact their development team.\n",
    "\n",
    "In the script below, each fragment's virtual space is truncated to keep only the virtual orbitals with the highest occupation number. MI-FNO is paired with the Heath-Bath Configuration Interaction (HBCI) classical solver."
   ]
  },
  {
   "cell_type": "markdown",
   "metadata": {},
   "source": [
    "```python\n",
    "import os\n",
    "os.environ['QEMIST_PROJECT_ID'] = \"your_project_id_string\"\n",
    "os.environ['QEMIST_AUTH_TOKEN'] = \"your_qemist_authentication_token\"\n",
    "\n",
    "from qemist_client.molecule import Molecule\n",
    "from qemist_client.problem_decomposition import IncrementalDecomposition\n",
    "from qemist_client.problem_reduction import FNO\n",
    "from qemist_client.electronic_structure_solvers import HBCI\n",
    "from qemist_client.util import get_results\n",
    "\n",
    "BeH2_coordinates = \"\"\"\n",
    "Be  0.0000000   0.0000000    0.0000000\n",
    "H   0.0000000   0.0000000    1.3300000\n",
    "H   0.0000000   0.0000000   -1.3300000\n",
    "\"\"\"\n",
    "basis = \"sto-3g\"\n",
    "charge = 0\n",
    "spin = 0\n",
    "\n",
    "# Creating the QEMIST molecule object.\n",
    "BeH2_mol = Molecule(BeH2_coordinates, basis=basis, \n",
    "                    charge=charge, spin=spin)\n",
    "\n",
    "# Defining the solvers, Heath-Bath Configuration Interaction (HBCI),\n",
    "# Frozen Natural Orbitals (FNO), and the problem decomposition approach,\n",
    "# Method of Increments (MI).\n",
    "hbci_solver = HBCI()\n",
    "fno = FNO(hbci_solver, export_fragment_data=True)\n",
    "mi_solver = IncrementalDecomposition(solver=fno, truncation_order=3)\n",
    "\n",
    "# Submitting the problem to the cloud.\n",
    "BeH2_handle = mi_solver.simulate(molecule=BeH2_mol)\n",
    "print(f\"\\nBeH2 handle: {BeH2_handle}\")\n",
    "\n",
    "# Retrieving the results.\n",
    "BeH2_result = get_results(BeH2_handle)\n",
    "print(BeH2_result)\n",
    "```\n",
    "\n",
    "Using the problem handle, you can download the log file containing all the necessary information for further processing in Tangelo or for archiving purposes. This action is performed in the subsequent cell using the following code.\n",
    "\n",
    "```python\n",
    "import urllib.request\n",
    "import json\n",
    "from qemist_client.util import get_problems_url\n",
    "\n",
    "url = get_problems_url(BeH2_handle)\n",
    "urllib.request.urlretrieve(url[problem_handle][\"full_result\"], f\"{problem_handle}.log\")\n",
    "```\n",
    "\n",
    "If the urls are not presigned (an authentification error is raised when trying to access them), they can be made presigned by calling the `get_problems_url` function. To perform this operation, simply append the following code to to the log file retrieval code shown above.\n",
    "\n",
    "```python\n",
    "with open(f\"{problem_handle}.log\", \"r\") as json_file:\n",
    "    BeH2_full_result = json.loads(\"\\n\".join(json_file.readlines()[1:]))\n",
    "\n",
    "for n_trunc, frags in BeH2_full_result[\"subproblem_data\"].items():\n",
    "    for frag_id, frag in frags.items():\n",
    "        prob_handle = frag[\"problem_handle\"]\n",
    "        url = get_problems_url(prob_handle)[prob_handle][\"mo_coefficients\"]\n",
    "        frag[\"mo_coefficients\"][\"url\"] = url\n",
    "\n",
    "with open(f\"{problem_handle}.json\", \"w\") as f:\n",
    "    json.dump(mifno_result, f)\n",
    "```"
   ]
  },
  {
   "cell_type": "markdown",
   "metadata": {},
   "source": [
    "## Combining quantum algorithms with MI-FNO using Tangelo\n",
    "\n",
    "In the future, pairing problem decomposition techniques such as MI-FNO with quantum solvers running in the cloud could be streamlined in QEMIST Cloud, which could directly call the solvers available in Tangelo.\n",
    "\n",
    "But we think quantum hardware and quantum algorithm development has a bit of a way to go before this can be seen as a practical approach. However, we can manually explore how to combine MI-FNO with quantum solvers right now, in order to explore use cases intractable otherwise: maybe our discoveries can contribute in advancing the field, and bring that future a bit sooner.\n",
    "\n",
    "This section illustrates how Tangelo can retrieve the results from a MI-FNO job run in QEMIST Cloud, and enable our quantum explorations.\n",
    "\n",
    "### 1. Importing results from QEMIST Cloud\n",
    "\n",
    "In Tangelo, the `MIFNOHelper` class facilitates importing the results generated by QEMIST Cloud."
   ]
  },
  {
   "cell_type": "code",
   "execution_count": 3,
   "metadata": {},
   "outputs": [],
   "source": [
    "from tangelo.problem_decomposition import MIFNOHelper"
   ]
  },
  {
   "cell_type": "markdown",
   "metadata": {},
   "source": [
    "`MIFNOHelper` can either directly take a \"results\" object in json format produced by QEMIST Cloud (using `mifno_full_result=...`), or the path to a file containing that object (using `mifno_log_file=...`). In our example, let's just assume the full results has been saved in `../data/BeH2_STO3G_MIFNO_trunc2.json` and let's see what information has been retrieved."
   ]
  },
  {
   "cell_type": "code",
   "execution_count": 4,
   "metadata": {},
   "outputs": [
    {
     "name": "stdout",
     "output_type": "stream",
     "text": [
      "(All the energy values are in hartree)\n",
      "Total MI-FNO energy = -15.595118283461277\n",
      "Correlation energy = -0.03501990246337883\n",
      "Mean-field energy = -15.560098380997898\n",
      "        energy_total  energy_correlation  correction   epsilon\n",
      "(0,)      -15.560249           -0.000150   -0.000150 -0.000150\n",
      "(1,)      -15.576167           -0.016069   -0.000038 -0.016069\n",
      "(2,)      -15.576167           -0.016069   -0.000038 -0.016069\n",
      "(0, 1)    -15.576410           -0.016312   -0.000097 -0.000092\n",
      "(0, 2)    -15.576410           -0.016312   -0.000097 -0.000092\n",
      "(1, 2)    -15.594784           -0.034685    0.000000 -0.002547\n"
     ]
    }
   ],
   "source": [
    "fno_fragments = MIFNOHelper(mifno_log_file=\"./data/BeH2_STO3G_MIFNO_HBCI.json\")\n",
    "print(fno_fragments)"
   ]
  },
  {
   "cell_type": "markdown",
   "metadata": {},
   "source": [
    "It parsed information contained in the \"result blob\" from QEMIST Cloud. We see that there is information about the whole system, including the mean-field energy and the total energy, as well as how each of the fragment -denoted by a tuple of integers- contributed to the correlation energy.\n",
    "\n",
    "Although not displayed here, the object also contains information about the frozen orbitals used for each of these fragments (\"frozen lists\")."
   ]
  },
  {
   "cell_type": "markdown",
   "metadata": {},
   "source": [
    "### 2. Importing molecular coefficients files\n",
    "\n",
    "In order to build a `FermionOperator` or `QubitOperator` object compatible with our quantum algorithms, we can retrieve the MO coeffs exported by QEMIST Cloud. The \"result blob\" contains a URL where these are located, for each fragment: the `retrieve_mo_coeff` method downloads them in the target directory provided by the user, and then loads the MO coeffs into the `MIFNOHelper` object.\n",
    "\n",
    "- The default target folder is the folder where the user script is executed.\n",
    "- If the user does not provide a path to a valid existing directory, the call returns an error.\n",
    "- If the files already exists in the target directory, they are not re-downloaded. The method keeps the user informed of progress as it is downloading files, otherwise it prints nothing."
   ]
  },
  {
   "cell_type": "code",
   "execution_count": 5,
   "metadata": {},
   "outputs": [],
   "source": [
    "fno_fragments.retrieve_mo_coeff(\"./data\")"
   ]
  },
  {
   "cell_type": "markdown",
   "metadata": {},
   "source": [
    "### 3. Reconstructing a fragment Hamiltonian\n",
    "\n",
    "We can use the MO coeffs to modify the molecular integrals, in order to take into account the FNO localization, using our \"frozen lists\".\n",
    "\n",
    "The `compute_fermionoperator` method handles the frozen orbitals for each fragment, and produces a `FermionOperator`. We are free to use the qubit mapping of our choice to produce a `QubitOperator` object, as input for a quantum algorithm."
   ]
  },
  {
   "cell_type": "code",
   "execution_count": 6,
   "metadata": {},
   "outputs": [
    {
     "name": "stderr",
     "output_type": "stream",
     "text": [
      "/home/alex/VirtEnvs/qsdk/lib/python3.10/site-packages/pyscf/dft/libxc.py:772: UserWarning: Since PySCF-2.3, B3LYP (and B3P86) are changed to the VWN-RPA variant, the same to the B3LYP functional in Gaussian and ORCA (issue 1480). To restore the VWN5 definition, you can put the setting \"B3LYP_WITH_VWN5 = True\" in pyscf_conf.py\n",
      "  warnings.warn('Since PySCF-2.3, B3LYP (and B3P86) are changed to the VWN-RPA variant, '\n"
     ]
    },
    {
     "name": "stdout",
     "output_type": "stream",
     "text": [
      "Fragment (1,) mapped to 6 qubits.\n"
     ]
    }
   ],
   "source": [
    "from tangelo import SecondQuantizedMolecule\n",
    "from tangelo.toolboxes.operators import count_qubits\n",
    "from tangelo.toolboxes.qubit_mappings.mapping_transform import fermion_to_qubit_mapping\n",
    "\n",
    "# Needed to compute the molecular integrals.\n",
    "mol = SecondQuantizedMolecule(BeH2_coordinates, q=charge, spin=spin, basis=basis)\n",
    "\n",
    "# Selection of a fragment and fetching the number of electrons and spinorbitals.\n",
    "selected_fragment = \"(1,)\"\n",
    "n_electrons, n_spinorbitals = fno_fragments.n_electrons_spinorbs(selected_fragment)\n",
    "\n",
    "# Computing the related FermionOperator.\n",
    "ferm_op = fno_fragments.compute_fermionoperator(mol, selected_fragment)\n",
    "\n",
    "# Transformation of the FermionOperator to a QubitOperator.\n",
    "qu_op = fermion_to_qubit_mapping(ferm_op, \"scBK\", n_spinorbitals, n_electrons, up_then_down=True)\n",
    "\n",
    "print(f\"Fragment {selected_fragment} mapped to {count_qubits(qu_op)} qubits.\")"
   ]
  },
  {
   "cell_type": "markdown",
   "metadata": {},
   "source": [
    "### 4. Do your thing !\n",
    "\n",
    "Now that we are able to construct `FermionOperator` and `QubitOperator` objects representing the subproblems defined by our fragments, we are free to throw them at any algorithm available in Tangelo. You could even decide to use your own custom workflow instead. Each fragment that is relevant to you could be solved with a different quantum solver, if you wish to do so. \n",
    "\n",
    "Below, we treat a given fragment with Quantum Imaginary Time Evolution (QITE) to obtain its energy. We made sure to enter values for `n_electrons` and `n_spinorbitals` that are consistent with our MI-FNO parameters.\n",
    "\n",
    "This code cell can take several minutes to execute. After its execution, the value of `qite.final_energy` should be about `-15.5760`."
   ]
  },
  {
   "cell_type": "code",
   "execution_count": 7,
   "metadata": {},
   "outputs": [
    {
     "name": "stdout",
     "output_type": "stream",
     "text": [
      "Iteration 1 of QITE with starting energy -15.560098380997923\n",
      "Iteration 2 of QITE with starting energy -15.565635973113471\n",
      "Iteration 3 of QITE with starting energy -15.56926613851335\n",
      "Iteration 4 of QITE with starting energy -15.571640808284947\n",
      "Iteration 5 of QITE with starting energy -15.573192508327143\n",
      "Iteration 6 of QITE with starting energy -15.574206095376253\n",
      "Iteration 7 of QITE with starting energy -15.574868306596551\n",
      "Iteration 8 of QITE with starting energy -15.575301213500483\n",
      "Iteration 9 of QITE with starting energy -15.575584484500121\n",
      "Iteration 10 of QITE with starting energy -15.575770073238283\n",
      "Iteration 11 of QITE with starting energy -15.575891850852267\n",
      "Final energy of QITE is -15.575971903346913\n"
     ]
    },
    {
     "data": {
      "text/plain": [
       "-15.575971903346913"
      ]
     },
     "execution_count": 7,
     "metadata": {},
     "output_type": "execute_result"
    }
   ],
   "source": [
    "from tangelo.algorithms.projective import QITESolver\n",
    "from tangelo.toolboxes.operators import qubitop_to_qubitham\n",
    "\n",
    "qubit_ham = qubitop_to_qubitham(qu_op, mapping=\"scBK\", up_then_down=True)\n",
    "qite = QITESolver({\n",
    "    \"qubit_hamiltonian\": qubit_ham, \n",
    "    \"qubit_mapping\":\"scBK\", \n",
    "    \"n_electrons\": n_electrons, \n",
    "    \"n_spinorbitals\": n_spinorbitals,\n",
    "    \"up_then_down\": True,\n",
    "    \"min_de\": 1e-4\n",
    "})\n",
    "qite.build()\n",
    "qite.simulate()"
   ]
  },
  {
   "cell_type": "markdown",
   "metadata": {},
   "source": [
    "### 5. Recomputing the total energy of the system\n",
    "\n",
    "In order to assess the impact of quantum workflows applied to one or several fragments on the total energy of the system, the helper class provides a `mi_summation` method. This class recomputes the total energy of the system, using the reference values obtained classically by QEMIST Cloud, or instead using the values obtained by your quantum workflows for the fragments you specify. This summation was described by the formulas in the first section of this notebook.\n",
    "\n",
    "If no argument is passed to `mi_summation`, then only reference values are used in the summation, which should then be in agreement (up to machine precision) with `fno_fragments.e_tot`, originally read from the QEMIST Cloud result blob.\n",
    "\n",
    "Otherwise, passing a dictionary using fragment labels as keys and the energy as the corresponding values does the trick. For these fragments, MP2 correction is automatically added, and a new total energy is computed.\n",
    "\n",
    "The difference between this new total energy and the reference total energy gives you a measure of the accuracy and the impact of combining quantum workflows with classical calculations performed with MI-FNO."
   ]
  },
  {
   "cell_type": "code",
   "execution_count": 8,
   "metadata": {},
   "outputs": [
    {
     "name": "stdout",
     "output_type": "stream",
     "text": [
      "Reconstructed energy: -15.59527586088432\n",
      "MIFNO QEMIST Cloud energy: -15.595118283461277\n",
      "Difference: 0.00015757742304245426\n"
     ]
    }
   ],
   "source": [
    "e = fno_fragments.mi_summation({\"(1,)\": qite.final_energy})\n",
    "print(f\"Reconstructed energy: {e}\\nMIFNO QEMIST Cloud energy: {fno_fragments.e_tot}\\nDifference: {abs(e-fno_fragments.e_tot)}\")"
   ]
  },
  {
   "cell_type": "markdown",
   "metadata": {},
   "source": [
    "## Closing words\n",
    "\n",
    "This feature allows us to bring together the state-of-the-art MI-FNO problem decomposition schemes available at scale in QEMIST cloud, and quantum workflows written with Tangelo. It facilitates exploring larger, more industrially-relevant use cases with a combination of classical and quantum workflows of your choice, on subproblems that are more ammenable to current devices. \n",
    "\n",
    "For now, this exploration is manual, as we believe the current state of the field does not benefit from a fully automated and streamlined platform... yet! In the future, platforms such as QEMIST Cloud will be able to directly use Tangelo to run entire workflows on cloud infrastructure, using both quantum and classical devices.\n",
    "\n",
    "Maybe your discoveries can contribute to advancing the field, and bring that future a bit sooner. \n",
    "\n",
    "What will you do with Tangelo?"
   ]
  }
 ],
 "metadata": {
  "kernelspec": {
   "display_name": "",
   "name": ""
  },
  "language_info": {
   "name": "python"
  }
 },
 "nbformat": 4,
 "nbformat_minor": 4
}
