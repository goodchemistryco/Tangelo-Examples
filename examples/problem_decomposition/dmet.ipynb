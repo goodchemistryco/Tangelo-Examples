{
 "cells": [
  {
   "cell_type": "markdown",
   "metadata": {},
   "source": [
    "# Density Matrix Embedding Theory (DMET)"
   ]
  },
  {
   "attachments": {},
   "cell_type": "markdown",
   "metadata": {},
   "source": [
    "This notebook introduces a problem-decomposition technique called DMET (Density-Matrix Embedding Technique), which enables us to break down a molecular systems into a collection of subproblems with lower computational resource requirements.\n",
    "\n",
    "Such approaches enable us to study how combining classical and quantum algorithms may play a role in the resolution of problems beyond toy models, and even maybe provide a configurable and scalable path forward in the future, towards much more ambitious molecular systems.\n",
    "\n",
    "This notebook assumes that you already have installed Tangelo in your Python environment, or have updated your Python path so that the imports can be resolved. If not, executing the cell below installs the minimal requirements for this notebook."
   ]
  },
  {
   "cell_type": "code",
   "execution_count": 1,
   "metadata": {},
   "outputs": [],
   "source": [
    "# Installation of tangelo if not already installed.\n",
    "try:\n",
    "    import tangelo\n",
    "except ModuleNotFoundError:\n",
    "    !pip install git+https://github.com/goodchemistryco/Tangelo.git@develop --quiet"
   ]
  },
  {
   "cell_type": "markdown",
   "metadata": {},
   "source": [
    "## Table of contents:\n",
    "* [1. Introduction](#1)\n",
    "* [2. Theory of DMET](#2)\n",
    "* [3. First example: DMET-CCSD on Butane](#3)\n",
    "* [4. Second example: DMET-VQE on an hydrogen ring](#4)\n",
    "* [5. DMET features](#5)\n",
    "* [6. Closing words](#6)"
   ]
  },
  {
   "attachments": {},
   "cell_type": "markdown",
   "metadata": {},
   "source": [
    "## 1. Introduction <a class=\"anchor\" id=\"1\"></a>\n",
    "One of the main objectives of quantum chemistry calculations in the area of materials science is to solve the electronic structure problem, $H\\Psi=E\\Psi$, as accurately as possible, in order to accelerate the materials design process. In the first example, the butane molecule is shown as an example. \n",
    "\n",
    "<img src=\"../img/exact.png\" alt=\"exact\" width=\"200\" />\n",
    "\n",
    "The computational cost for performing accurate calculations of the electronic structure of molecules, however, is usually very expensive. For example, the cost of performing the full CI calculation scales exponentially on a classical computer as the size of the system increases. Therefore, when we target large-sized molecules, those relevant for industry problems, it becomes essential to employ an appropriate strategy for reducing the computational cost. The difficulty is to employ a strategy that consolidate accuracy while reducing computational costs when performing electronic structure calculations. Next, we will developp one of such strategies called Density-Matrix Embedding Theory (DMET)."
   ]
  },
  {
   "attachments": {},
   "cell_type": "markdown",
   "metadata": {},
   "source": [
    "## 2. Theory of DMET <a class=\"anchor\" id=\"2\"></a>\n",
    "\n",
    "The idea is to decompose a molecular system into its constituent fragments and its environment. Each fragment are treated independently and recombined at the end to recover the full molecular energy. This has the advantages of cutting down the maximal computational complexity depending on the biggest fragment and being naturally implemented on parrallel computer. On the other side, the fragmenting comes at the cost of reducing accuraccy of the computation.\n",
    "\n",
    "First, the environment is calculated using a less-accurate method than will be used to calculate the electronic structure of a fragment. Then, the electronic structure problem for a given fragment is solved to a high degree of accuracy, which includes the quantum mechanical effects of the environment. The quantum mechanical description is updated (i.e., solved iteratively as shown below) by incorporating the just-performed highly accurate calculation. In the following schematic illustration, the molecule shown above is decomposed into fragments. Each molecular fragment CH$_\\mathrm{3}$ and CH$_\\text{2}$ are the fragments chosen for the electronic structure calculation, with the rest of the molecular system being the surrounding environment.\n",
    "\n",
    "<img src=\"../img/iterations.png\" alt=\"iterations\" width=\"600\" />\n",
    "\n",
    "One successful decomposition approach is the DMET method. The DMET method decomposes a molecule into fragments, and each fragment is treated as an open quantum system that is entangled with each of the other fragments, all taken together to be that fragment's surrounding environment (or \"bath\"). In this framework, the electronic structure of a given fragment is obtained by solving the following Hamiltonian, by using a highly accurate quantum chemistry method, such as the full CI method or a coupled-cluster method.\n",
    "\n",
    "$$ H_{I}=\\sum^{\\text{frag}+\\text{bath}}_{rs}  \\left[ h_{rs} + \\sum_{mn} \\left[ (rs|mn) - (rn|ms) \\right] D^{\\text{(mf)env}}_{mn} \\right] a_{r}^{\\dagger}a_{s} + \\sum_{pqrs}^{\\text{frag}+\\text{bath}} (pq|rs) a_{p}^{\\dagger}a_{r}^{\\dagger}a_{s}a_{q} - \\mu\\sum_{r}^{\\text{frag}} a_{r}^{\\dagger}a_{r} $$\n",
    "\n",
    "The expression $\\sum_{mn} \\left[ (rs|mn) - (rn|ms) \\right] D^{\\text{(mf)env}}_{mn}$ describes the quantum mechanical effects of the environment on the fragment, where $D^{\\text{(mf)env}}_{mn}$ is the mean-field electronic density obtained by solving the Hartree&ndash;Fock equation. The quantum mechanical effects from the environment are incorporated through the one-particle term of the Hamiltonian. The extra term $\\mu\\sum_{r}^{\\text{frag}} a_{r}^{\\dagger}a_{r}$ ensures, through the adjustment of $\\mu$, that the number of electrons in all of the fragments, taken together, becomes equal to the total number of electrons in the entire system."
   ]
  },
  {
   "cell_type": "markdown",
   "metadata": {},
   "source": [
    "## 3. First example: DMET-CCSD on Butane <a class=\"anchor\" id=\"3\"></a>\n",
    "\n",
    "Before we proceed, let's import all the relevant data-structures and classes from `tangelo`:"
   ]
  },
  {
   "cell_type": "code",
   "execution_count": 2,
   "metadata": {},
   "outputs": [],
   "source": [
    "# Import for a pretty jupyter notebook.\n",
    "import json\n",
    "\n",
    "# Molecule definition.\n",
    "from tangelo import SecondQuantizedMolecule\n",
    "\n",
    "# The minimal import for DMET.\n",
    "from tangelo.problem_decomposition import DMETProblemDecomposition\n",
    "# Ability to change localization method.\n",
    "from tangelo.problem_decomposition.dmet import Localization\n",
    "# Use for VQE ressources estimation vs DMET.\n",
    "from tangelo.algorithms import VQESolver\n",
    "# Use for comparison.\n",
    "from tangelo.algorithms import FCISolver"
   ]
  },
  {
   "cell_type": "markdown",
   "metadata": {},
   "source": [
    "The first example will show how to partition the system into fragments. A different method for solving electronic structures can be chosen for each fragment, but here we will stick with CCSD. The first thing to do is building the butane molecule object."
   ]
  },
  {
   "cell_type": "code",
   "execution_count": 3,
   "metadata": {},
   "outputs": [],
   "source": [
    "butane = \"\"\"\n",
    "C   2.142   1.395  -8.932\n",
    "H   1.604   0.760  -8.260              \n",
    "H   1.745   2.388  -8.880\n",
    "H   2.043   1.024  -9.930\n",
    "C   3.631   1.416  -8.537\n",
    "H   4.169   2.051  -9.210\n",
    "H   3.731   1.788  -7.539             \n",
    "C   4.203  -0.012  -8.612\n",
    "H   3.665  -0.647  -7.940\n",
    "H   4.104  -0.384  -9.610\n",
    "C   5.691   0.009  -8.218  \n",
    "H   6.088  -0.983  -8.270\n",
    "H   5.791   0.381  -7.220\n",
    "H   6.230   0.644  -8.890\n",
    "\"\"\"\n",
    "\n",
    "# Building the molecule object.\n",
    "mol_butane = SecondQuantizedMolecule(butane, q=0, spin=0, basis=\"minao\")"
   ]
  },
  {
   "cell_type": "markdown",
   "metadata": {},
   "source": [
    "The options for the DMET decomposition method are stored in a python dictionary.\n",
    "* **molecule**: The SecondQuantizedMolecule object.\n",
    "* **fragment_atoms**: List for the number of atoms in each fragment. Each atoms are chosen with their order in the coordinates definition (variable `butane`). Also, the sum of all numbers must be equal to total number of atoms in the molecule.\n",
    "* **fragment_solvers**: A string or a list of string representing the solver for each fragment. The number of items in the list must be equal to the number of fragment. There is one exception: when a single string is defined, the solver is the same for all fragments.\n",
    "* **verbose**: Activate verbose output.\n",
    "\n",
    "The next step `dmet.build()` ensures that the fragments and environment orbitals are defined according to the electron localization scheme."
   ]
  },
  {
   "cell_type": "code",
   "execution_count": 4,
   "metadata": {},
   "outputs": [],
   "source": [
    "options_butane_dmet = {\"molecule\": mol_butane,\n",
    "                       # Fragment definition = CH3, CH2, CH2, CH3\n",
    "                       \"fragment_atoms\": [4, 3, 3, 4],\n",
    "                       \"fragment_solvers\": \"ccsd\",\n",
    "                       \"verbose\": True\n",
    "                       }\n",
    "\n",
    "dmet_butane = DMETProblemDecomposition(options_butane_dmet)\n",
    "dmet_butane.build()"
   ]
  },
  {
   "cell_type": "markdown",
   "metadata": {},
   "source": [
    "Finally, we can call the `dmet_butane.simulate()` method to get the DMET-CCSD energy."
   ]
  },
  {
   "cell_type": "code",
   "execution_count": 5,
   "metadata": {},
   "outputs": [
    {
     "name": "stdout",
     "output_type": "stream",
     "text": [
      " \tIteration =  1\n",
      " \t----------------\n",
      " \n",
      "\tSCF Occupancy Eigenvalues for Fragment Number : # 0\n",
      "\t[3.36931478e-16 9.72588938e-17 3.39641618e-16 8.75648287e-16\n",
      " 1.22377807e-15 1.18235557e-08 1.54788144e-03 7.95895352e-03\n",
      " 9.86702530e-03 9.86001986e-01 1.99097470e+00 1.99252585e+00\n",
      " 1.99774972e+00 2.00000000e+00 2.00000000e+00 2.00000000e+00\n",
      " 2.00000000e+00 2.00000000e+00 2.00000000e+00 2.00000000e+00\n",
      " 2.00000000e+00 2.00000000e+00]\n",
      "\n",
      "\tSCF Occupancy Eigenvalues for Fragment Number : # 1\n",
      "\t[5.24416832e-16 4.50229428e-16 8.21351598e-17 7.78415247e-16\n",
      " 8.99214435e-16 1.10760090e-15 9.76359001e-08 8.20538062e-03\n",
      " 1.75395416e-02 9.84827613e-01 1.02687253e+00 1.98352646e+00\n",
      " 1.99247854e+00 2.00000000e+00 2.00000000e+00 2.00000000e+00\n",
      " 2.00000000e+00 2.00000000e+00 2.00000000e+00 2.00000000e+00\n",
      " 2.00000000e+00 2.00000000e+00 2.00000000e+00]\n",
      "\n",
      "\tSCF Occupancy Eigenvalues for Fragment Number : # 2\n",
      "\t[8.92591758e-16 6.44818871e-16 2.69760442e-16 7.77103779e-16\n",
      " 1.00962499e-15 1.42712260e-15 9.76668362e-08 8.22640158e-03\n",
      " 1.76029681e-02 9.84556283e-01 1.02694084e+00 1.98350112e+00\n",
      " 1.99247021e+00 2.00000000e+00 2.00000000e+00 2.00000000e+00\n",
      " 2.00000000e+00 2.00000000e+00 2.00000000e+00 2.00000000e+00\n",
      " 2.00000000e+00 2.00000000e+00 2.00000000e+00]\n",
      "\n",
      "\tSCF Occupancy Eigenvalues for Fragment Number : # 3\n",
      "\t[4.22298270e-16 1.39910752e-16 2.40014929e-16 3.77173476e-16\n",
      " 6.91333956e-16 1.18120633e-08 1.54951494e-03 7.98766539e-03\n",
      " 9.89989420e-03 9.86049455e-01 1.99090855e+00 1.99248962e+00\n",
      " 1.99774109e+00 2.00000000e+00 2.00000000e+00 2.00000000e+00\n",
      " 2.00000000e+00 2.00000000e+00 2.00000000e+00 2.00000000e+00\n",
      " 2.00000000e+00 2.00000000e+00]\n",
      "\n",
      "\t\tFragment Number : #  1\n",
      "\t\t------------------------\n",
      "\t\tFragment Energy = -72.05405827697915\n",
      "\t\tNumber of Electrons in Fragment = 9.012005183942202\n",
      "\t\tFragment Number : #  2\n",
      "\t\t------------------------\n",
      "\t\tFragment Energy = -72.40954115245789\n",
      "\t\tNumber of Electrons in Fragment = 7.989043831461051\n",
      "\t\tFragment Number : #  3\n",
      "\t\t------------------------\n",
      "\t\tFragment Energy = -72.41729771227314\n",
      "\t\tNumber of Electrons in Fragment = 7.989177971762682\n",
      "\t\tFragment Number : #  4\n",
      "\t\t------------------------\n",
      "\t\tFragment Energy = -72.06317456714274\n",
      "\t\tNumber of Electrons in Fragment = 9.012007209592664\n",
      " \tIteration =  2\n",
      " \t----------------\n",
      " \n",
      "\tSCF Occupancy Eigenvalues for Fragment Number : # 0\n",
      "\t[3.36931478e-16 9.72588938e-17 3.39641618e-16 8.75648287e-16\n",
      " 1.22377807e-15 1.18235557e-08 1.54788144e-03 7.95895352e-03\n",
      " 9.86702530e-03 9.86001986e-01 1.99097470e+00 1.99252585e+00\n",
      " 1.99774972e+00 2.00000000e+00 2.00000000e+00 2.00000000e+00\n",
      " 2.00000000e+00 2.00000000e+00 2.00000000e+00 2.00000000e+00\n",
      " 2.00000000e+00 2.00000000e+00]\n",
      "\n",
      "\tSCF Occupancy Eigenvalues for Fragment Number : # 1\n",
      "\t[5.24416832e-16 4.50229428e-16 8.21351598e-17 7.78415247e-16\n",
      " 8.99214435e-16 1.10760090e-15 9.76359001e-08 8.20538062e-03\n",
      " 1.75395416e-02 9.84827613e-01 1.02687253e+00 1.98352646e+00\n",
      " 1.99247854e+00 2.00000000e+00 2.00000000e+00 2.00000000e+00\n",
      " 2.00000000e+00 2.00000000e+00 2.00000000e+00 2.00000000e+00\n",
      " 2.00000000e+00 2.00000000e+00 2.00000000e+00]\n",
      "\n",
      "\tSCF Occupancy Eigenvalues for Fragment Number : # 2\n",
      "\t[8.92591758e-16 6.44818871e-16 2.69760442e-16 7.77103779e-16\n",
      " 1.00962499e-15 1.42712260e-15 9.76668362e-08 8.22640158e-03\n",
      " 1.76029681e-02 9.84556283e-01 1.02694084e+00 1.98350112e+00\n",
      " 1.99247021e+00 2.00000000e+00 2.00000000e+00 2.00000000e+00\n",
      " 2.00000000e+00 2.00000000e+00 2.00000000e+00 2.00000000e+00\n",
      " 2.00000000e+00 2.00000000e+00 2.00000000e+00]\n",
      "\n",
      "\tSCF Occupancy Eigenvalues for Fragment Number : # 3\n",
      "\t[4.22298270e-16 1.39910752e-16 2.40014929e-16 3.77173476e-16\n",
      " 6.91333956e-16 1.18120633e-08 1.54951494e-03 7.98766539e-03\n",
      " 9.89989420e-03 9.86049455e-01 1.99090855e+00 1.99248962e+00\n",
      " 1.99774109e+00 2.00000000e+00 2.00000000e+00 2.00000000e+00\n",
      " 2.00000000e+00 2.00000000e+00 2.00000000e+00 2.00000000e+00\n",
      " 2.00000000e+00 2.00000000e+00]\n",
      "\n",
      "\t\tFragment Number : #  1\n",
      "\t\t------------------------\n",
      "\t\tFragment Energy = -72.05448289255352\n",
      "\t\tNumber of Electrons in Fragment = 9.012106057806507\n",
      "\t\tFragment Number : #  2\n",
      "\t\t------------------------\n",
      "\t\tFragment Energy = -72.41037312477995\n",
      "\t\tNumber of Electrons in Fragment = 7.989213886180624\n",
      "\t\tFragment Number : #  3\n",
      "\t\t------------------------\n",
      "\t\tFragment Energy = -72.41812944720778\n",
      "\t\tNumber of Electrons in Fragment = 7.98934795152628\n",
      "\t\tFragment Number : #  4\n",
      "\t\t------------------------\n",
      "\t\tFragment Energy = -72.06359892277479\n",
      "\t\tNumber of Electrons in Fragment = 9.012107987700809\n",
      " \tIteration =  3\n",
      " \t----------------\n",
      " \n",
      "\tSCF Occupancy Eigenvalues for Fragment Number : # 0\n",
      "\t[3.36931478e-16 9.72588938e-17 3.39641618e-16 8.75648287e-16\n",
      " 1.22377807e-15 1.18235557e-08 1.54788144e-03 7.95895352e-03\n",
      " 9.86702530e-03 9.86001986e-01 1.99097470e+00 1.99252585e+00\n",
      " 1.99774972e+00 2.00000000e+00 2.00000000e+00 2.00000000e+00\n",
      " 2.00000000e+00 2.00000000e+00 2.00000000e+00 2.00000000e+00\n",
      " 2.00000000e+00 2.00000000e+00]\n",
      "\n",
      "\tSCF Occupancy Eigenvalues for Fragment Number : # 1\n",
      "\t[5.24416832e-16 4.50229428e-16 8.21351598e-17 7.78415247e-16\n",
      " 8.99214435e-16 1.10760090e-15 9.76359001e-08 8.20538062e-03\n",
      " 1.75395416e-02 9.84827613e-01 1.02687253e+00 1.98352646e+00\n",
      " 1.99247854e+00 2.00000000e+00 2.00000000e+00 2.00000000e+00\n",
      " 2.00000000e+00 2.00000000e+00 2.00000000e+00 2.00000000e+00\n",
      " 2.00000000e+00 2.00000000e+00 2.00000000e+00]\n",
      "\n",
      "\tSCF Occupancy Eigenvalues for Fragment Number : # 2\n",
      "\t[8.92591758e-16 6.44818871e-16 2.69760442e-16 7.77103779e-16\n",
      " 1.00962499e-15 1.42712260e-15 9.76668362e-08 8.22640158e-03\n",
      " 1.76029681e-02 9.84556283e-01 1.02694084e+00 1.98350112e+00\n",
      " 1.99247021e+00 2.00000000e+00 2.00000000e+00 2.00000000e+00\n",
      " 2.00000000e+00 2.00000000e+00 2.00000000e+00 2.00000000e+00\n",
      " 2.00000000e+00 2.00000000e+00 2.00000000e+00]\n",
      "\n",
      "\tSCF Occupancy Eigenvalues for Fragment Number : # 3\n",
      "\t[4.22298270e-16 1.39910752e-16 2.40014929e-16 3.77173476e-16\n",
      " 6.91333956e-16 1.18120633e-08 1.54951494e-03 7.98766539e-03\n",
      " 9.89989420e-03 9.86049455e-01 1.99090855e+00 1.99248962e+00\n",
      " 1.99774109e+00 2.00000000e+00 2.00000000e+00 2.00000000e+00\n",
      " 2.00000000e+00 2.00000000e+00 2.00000000e+00 2.00000000e+00\n",
      " 2.00000000e+00 2.00000000e+00]\n",
      "\n",
      "\t\tFragment Number : #  1\n",
      "\t\t------------------------\n",
      "\t\tFragment Energy = -72.0523069412512\n",
      "\t\tNumber of Electrons in Fragment = 9.011589139717747\n",
      "\t\tFragment Number : #  2\n",
      "\t\t------------------------\n",
      "\t\tFragment Energy = -72.40610957186692\n",
      "\t\tNumber of Electrons in Fragment = 7.988342441325332\n",
      "\t\tFragment Number : #  3\n",
      "\t\t------------------------\n",
      "\t\tFragment Energy = -72.4138671106591\n",
      "\t\tNumber of Electrons in Fragment = 7.988476890759629\n",
      "\t\tFragment Number : #  4\n",
      "\t\t------------------------\n",
      "\t\tFragment Energy = -72.06142430323813\n",
      "\t\tNumber of Electrons in Fragment = 9.011591560247792\n",
      " \tIteration =  4\n",
      " \t----------------\n",
      " \n",
      "\tSCF Occupancy Eigenvalues for Fragment Number : # 0\n",
      "\t[3.36931478e-16 9.72588938e-17 3.39641618e-16 8.75648287e-16\n",
      " 1.22377807e-15 1.18235557e-08 1.54788144e-03 7.95895352e-03\n",
      " 9.86702530e-03 9.86001986e-01 1.99097470e+00 1.99252585e+00\n",
      " 1.99774972e+00 2.00000000e+00 2.00000000e+00 2.00000000e+00\n",
      " 2.00000000e+00 2.00000000e+00 2.00000000e+00 2.00000000e+00\n",
      " 2.00000000e+00 2.00000000e+00]\n",
      "\n",
      "\tSCF Occupancy Eigenvalues for Fragment Number : # 1\n",
      "\t[5.24416832e-16 4.50229428e-16 8.21351598e-17 7.78415247e-16\n",
      " 8.99214435e-16 1.10760090e-15 9.76359001e-08 8.20538062e-03\n",
      " 1.75395416e-02 9.84827613e-01 1.02687253e+00 1.98352646e+00\n",
      " 1.99247854e+00 2.00000000e+00 2.00000000e+00 2.00000000e+00\n",
      " 2.00000000e+00 2.00000000e+00 2.00000000e+00 2.00000000e+00\n",
      " 2.00000000e+00 2.00000000e+00 2.00000000e+00]\n",
      "\n",
      "\tSCF Occupancy Eigenvalues for Fragment Number : # 2\n",
      "\t[8.92591758e-16 6.44818871e-16 2.69760442e-16 7.77103779e-16\n",
      " 1.00962499e-15 1.42712260e-15 9.76668362e-08 8.22640158e-03\n",
      " 1.76029681e-02 9.84556283e-01 1.02694084e+00 1.98350112e+00\n",
      " 1.99247021e+00 2.00000000e+00 2.00000000e+00 2.00000000e+00\n",
      " 2.00000000e+00 2.00000000e+00 2.00000000e+00 2.00000000e+00\n",
      " 2.00000000e+00 2.00000000e+00 2.00000000e+00]\n",
      "\n",
      "\tSCF Occupancy Eigenvalues for Fragment Number : # 3\n",
      "\t[4.22298270e-16 1.39910752e-16 2.40014929e-16 3.77173476e-16\n",
      " 6.91333956e-16 1.18120633e-08 1.54951494e-03 7.98766539e-03\n",
      " 9.89989420e-03 9.86049455e-01 1.99090855e+00 1.99248962e+00\n",
      " 1.99774109e+00 2.00000000e+00 2.00000000e+00 2.00000000e+00\n",
      " 2.00000000e+00 2.00000000e+00 2.00000000e+00 2.00000000e+00\n",
      " 2.00000000e+00 2.00000000e+00]\n",
      "\n",
      "\t\tFragment Number : #  1\n",
      "\t\t------------------------\n",
      "\t\tFragment Energy = -72.05230691612667\n",
      "\t\tNumber of Electrons in Fragment = 9.011589133749332\n",
      "\t\tFragment Number : #  2\n",
      "\t\t------------------------\n",
      "\t\tFragment Energy = -72.40610952262412\n",
      "\t\tNumber of Electrons in Fragment = 7.988342431259673\n",
      "\t\tFragment Number : #  3\n",
      "\t\t------------------------\n",
      "\t\tFragment Energy = -72.41386706143031\n",
      "\t\tNumber of Electrons in Fragment = 7.9884768806983875\n",
      "\t\tFragment Number : #  4\n",
      "\t\t------------------------\n",
      "\t\tFragment Energy = -72.0614242781289\n",
      "\t\tNumber of Electrons in Fragment = 9.011591554285026\n",
      " \t*** DMET Cycle Done *** \n",
      " \tDMET Energy ( a.u. ) =   -157.1137415226\n",
      " \tChemical Potential   =     -0.0004124579\n",
      "DMET energy (hartree): \t -157.11374152257955\n"
     ]
    }
   ],
   "source": [
    "energy_butane_dmet = dmet_butane.simulate()\n",
    "print(f\"DMET energy (hartree): \\t {energy_butane_dmet}\")"
   ]
  },
  {
   "cell_type": "markdown",
   "metadata": {},
   "source": [
    "As seen below, the correlation energy $E_{corr} = E_{DMET}-E_{HF}$ retrieved from this calculation is significant. "
   ]
  },
  {
   "cell_type": "code",
   "execution_count": 6,
   "metadata": {},
   "outputs": [
    {
     "name": "stdout",
     "output_type": "stream",
     "text": [
      "Correlation energy (hartree): \t 0.26456371960301794\n",
      "Correlation energy (kcal/mol): \t 166.01373405089376\n"
     ]
    }
   ],
   "source": [
    "energy_butane_hf = dmet_butane.mean_field.e_tot\n",
    "energy_corr_butane = abs(energy_butane_dmet - energy_butane_hf)\n",
    "\n",
    "print(f\"Correlation energy (hartree): \\t {energy_corr_butane}\")\n",
    "print(f\"Correlation energy (kcal/mol): \\t {627.5*energy_corr_butane}\")"
   ]
  },
  {
   "cell_type": "markdown",
   "metadata": {},
   "source": [
    "## 4. Second example: DMET-VQE on an hydrogen ring <a class=\"anchor\" id=\"4\"></a>"
   ]
  },
  {
   "cell_type": "markdown",
   "metadata": {},
   "source": [
    "### 4.1 Why not only using VQE?\n",
    "\n",
    "We saw in the last section that the computation of DMET fragments is able to get back a significant amount of correlation energy. A valid question that can be asked is: \"Why can't we just directly tackle the initial problem without DMET?\". As stated earlier, DMET breaks the system into its constituent fragments; reducing the initial problem to a collection of subproblems requiring less computational resources. This can be crucial to making the problem tractable with classical simulators or nascent quantum computers.\n",
    "\n",
    "We have selected a ring of 10 hydrogen atoms as a simple example of a molecular system. The distance between adjacent hydrogen atoms has been set to 1$~$Å."
   ]
  },
  {
   "cell_type": "code",
   "execution_count": 7,
   "metadata": {},
   "outputs": [],
   "source": [
    "H10=\"\"\"\n",
    "H          1.6180339887          0.0000000000          0.0000000000\n",
    "H          1.3090169944          0.9510565163          0.0000000000\n",
    "H          0.5000000000          1.5388417686          0.0000000000\n",
    "H         -0.5000000000          1.5388417686          0.0000000000\n",
    "H         -1.3090169944          0.9510565163          0.0000000000\n",
    "H         -1.6180339887          0.0000000000          0.0000000000\n",
    "H         -1.3090169944         -0.9510565163          0.0000000000\n",
    "H         -0.5000000000         -1.5388417686          0.0000000000\n",
    "H          0.5000000000         -1.5388417686          0.0000000000\n",
    "H          1.3090169944         -0.9510565163          0.0000000000\n",
    "\"\"\"\n",
    "\n",
    "mol_h10 = SecondQuantizedMolecule(H10, q=0, spin=0, basis=\"minao\")"
   ]
  },
  {
   "cell_type": "markdown",
   "metadata": {},
   "source": [
    "In the example below, we show resource requirements using standard parameters. Please note that other encodings could reduce the required resources, but resources would still be too much for current hardware."
   ]
  },
  {
   "cell_type": "code",
   "execution_count": 8,
   "metadata": {},
   "outputs": [],
   "source": [
    "options_h10_vqe = {\"molecule\": mol_h10, \"qubit_mapping\": \"jw\", \"verbose\": False}\n",
    "vqe_h10 = VQESolver(options_h10_vqe)\n",
    "vqe_h10.build()"
   ]
  },
  {
   "cell_type": "markdown",
   "metadata": {},
   "source": [
    "Here are some resources estimation that would be needed for a direct VQE calculation on the initial problem, without DMET: for quantum computers in the NISQ era, tackling this head-on is a daunting task."
   ]
  },
  {
   "cell_type": "code",
   "execution_count": 9,
   "metadata": {},
   "outputs": [
    {
     "name": "stdout",
     "output_type": "stream",
     "text": [
      "{\n",
      "  \"qubit_hamiltonian_terms\": 4039,\n",
      "  \"circuit_width\": 20,\n",
      "  \"circuit_depth\": 34696,\n",
      "  \"circuit_2qubit_gates\": 30784,\n",
      "  \"circuit_var_gates\": 1900,\n",
      "  \"vqe_variational_parameters\": 350\n",
      "}\n"
     ]
    }
   ],
   "source": [
    "# This can take up to 10 minutes.\n",
    "# resources_h10_vqe = vqe_h10.get_resources()\n",
    "resources_h10_vqe = {\n",
    "  \"qubit_hamiltonian_terms\": 4039,\n",
    "  \"circuit_width\": 20,\n",
    "  \"circuit_depth\": 34696,\n",
    "  \"circuit_2qubit_gates\": 30784,\n",
    "  \"circuit_var_gates\": 1900,\n",
    "  \"vqe_variational_parameters\": 350\n",
    "}\n",
    "print(json.dumps(resources_h10_vqe, indent=2))"
   ]
  },
  {
   "cell_type": "markdown",
   "metadata": {},
   "source": [
    "### 4.2 DMET-VQE\n",
    "\n",
    "Here, we demonstrate how to perform  DMET-VQE calculations using Tangelo package. The aim is to obtain improved results (vs HF energy) when compairing to the Full CI method (without using problem decomposition) and also using a quantum algorithm (VQE)."
   ]
  },
  {
   "cell_type": "code",
   "execution_count": 10,
   "metadata": {},
   "outputs": [],
   "source": [
    "options_h10_dmet = {\"molecule\": mol_h10,\n",
    "                    \"fragment_atoms\": [1]*10,\n",
    "                    \"fragment_solvers\": \"vqe\",\n",
    "                    \"verbose\": False\n",
    "                    }\n",
    "\n",
    "dmet_h10 = DMETProblemDecomposition(options_h10_dmet)\n",
    "dmet_h10.build()"
   ]
  },
  {
   "attachments": {},
   "cell_type": "markdown",
   "metadata": {},
   "source": [
    "The `dmet.build()` method creates fragments (10) from the H10 molecule. When we decompose the ring of atoms into fragments including only one hydrogen atom each, the DMET method creates a fragment orbital (left: the single orbital distribution is shown in both pink and blue, with the colours depicting the phases) and the bath orbital (right: the single orbital distribution of the remaining nine hydrogen atoms is shown in both pink and blue, with the colours depicting the phases). \n",
    "\n",
    "<img src=\"../img/frag_and_bath.png\" alt=\"fragment_and_bath_orbitals\" width=\"450\"/>\n",
    "\n",
    "Resource estimation is done by calling `dmet_h10.get_resources()`. Here, a list of ten dictionaries is returned and stored in `resources_h10_dmet`. Each dictionary refers to a fragment. As every fragment is the same in this system (a single hydrogen atom), we only print one."
   ]
  },
  {
   "cell_type": "code",
   "execution_count": 11,
   "metadata": {},
   "outputs": [
    {
     "name": "stdout",
     "output_type": "stream",
     "text": [
      "{\n",
      "  \"qubit_hamiltonian_terms\": 27,\n",
      "  \"circuit_width\": 4,\n",
      "  \"circuit_depth\": 100,\n",
      "  \"circuit_2qubit_gates\": 64,\n",
      "  \"circuit_var_gates\": 12,\n",
      "  \"vqe_variational_parameters\": 2\n",
      "}\n"
     ]
    }
   ],
   "source": [
    "resources_h10_dmet = dmet_h10.get_resources()\n",
    "print(json.dumps(resources_h10_dmet[0], indent=2))"
   ]
  },
  {
   "cell_type": "markdown",
   "metadata": {},
   "source": [
    "Compared to a direct VQE algorithm, those resources are greatly reduced: from 20 qubits down to only 4 qubits in our case. Below, `dmet_h10.simulate()` computes the DMET-VQE energy. \n",
    "\n",
    "The options currently selected specify that VQE must be run for each fragment, at each iteration of DMET: as such, it may take 2-3 minutes for this cell to finish. The `verbose` option is turned off to hide the lengthy prints: feel free to turn it back on to track the progress of this cell, if you'd like."
   ]
  },
  {
   "cell_type": "code",
   "execution_count": 12,
   "metadata": {},
   "outputs": [
    {
     "name": "stdout",
     "output_type": "stream",
     "text": [
      "DMET energy (hartree): \t -5.367523534963826\n"
     ]
    }
   ],
   "source": [
    "dmet_h10.verbose = False\n",
    "energy_h10_dmet = dmet_h10.simulate()\n",
    "\n",
    "print(f\"DMET energy (hartree): \\t {energy_h10_dmet}\")"
   ]
  },
  {
   "cell_type": "markdown",
   "metadata": {},
   "source": [
    "A comparison with an FCI calculation is then made."
   ]
  },
  {
   "cell_type": "code",
   "execution_count": 13,
   "metadata": {},
   "outputs": [
    {
     "name": "stdout",
     "output_type": "stream",
     "text": [
      "FCI energy (hartree): \t -5.380926000731037\n"
     ]
    }
   ],
   "source": [
    "fci_h10 = FCISolver(mol_h10)\n",
    "energy_h10_fci = fci_h10.simulate()\n",
    "\n",
    "print(f\"FCI energy (hartree): \\t {energy_h10_fci}\")"
   ]
  },
  {
   "cell_type": "markdown",
   "metadata": {},
   "source": [
    "Lastly, we note that the DMET energy is closer to the FCI energy than the HF energy. DMET-VQE results are an improvement but are still not at the FCI level. This discrepancy is attributable to missing three, four ... many body interactions. When dismantling the system into fragments, we get a single hydrogen atom per fragment. Therefore, those fragments cannot propagate higher level (three and more) excitations. DMET user should have in mind this dilemma between fragment sizes and accuracy of the total electronic energy."
   ]
  },
  {
   "cell_type": "code",
   "execution_count": 14,
   "metadata": {},
   "outputs": [
    {
     "name": "stdout",
     "output_type": "stream",
     "text": [
      "Difference FCI vs HF energies (hartree): \t\t 0.11680533556191364\n",
      "Difference FCI vs DMET-VQE energies (hartree): \t\t 0.013402465767210714\n",
      "Difference FCI vs HF energies (kcal/mol): \t\t 73.29534806510081\n",
      "Difference FCI vs DMET-VQE energies (kcal/mol): \t 8.410047268924723\n"
     ]
    }
   ],
   "source": [
    "energy_h10_hf = dmet_h10.mean_field.e_tot\n",
    "delta_h10_fci_hf = abs(energy_h10_fci - energy_h10_hf)\n",
    "delta_h10_fci_dmet = abs(energy_h10_fci - energy_h10_dmet)\n",
    "\n",
    "print(f\"Difference FCI vs HF energies (hartree): \\t\\t {delta_h10_fci_hf}\")\n",
    "print(f\"Difference FCI vs DMET-VQE energies (hartree): \\t\\t {delta_h10_fci_dmet}\")\n",
    "print(f\"Difference FCI vs HF energies (kcal/mol): \\t\\t {627.5*delta_h10_fci_hf}\")\n",
    "print(f\"Difference FCI vs DMET-VQE energies (kcal/mol): \\t {627.5*delta_h10_fci_dmet}\")"
   ]
  },
  {
   "cell_type": "markdown",
   "metadata": {},
   "source": [
    "## 5. DMET features<a class=\"anchor\" id=\"5\"></a>\n",
    "\n",
    "In this section, some DMET features are shown. A four hydrogen atoms system is defined for this purpose."
   ]
  },
  {
   "cell_type": "code",
   "execution_count": 15,
   "metadata": {},
   "outputs": [],
   "source": [
    "H4 = \"\"\"\n",
    "H 0.7071 0. 0.\n",
    "H 0. 0.7071 0.\n",
    "H -1.0071 0. 0.\n",
    "H 0. -1.0071 0.\n",
    "\"\"\"\n",
    "\n",
    "mol_h4 = SecondQuantizedMolecule(H4, q=0, spin=0, basis=\"3-21g\")"
   ]
  },
  {
   "cell_type": "markdown",
   "metadata": {},
   "source": [
    "### 5.1 Localization method\n",
    "\n",
    "Electron localization is used to define the bath and the environment orbitals. There are two options available:\n",
    "\n",
    "- `Localization.meta_lowdin` (default): Described in Q. Sun et al., JCTC 10, 3784-3790 (2014).\n",
    "- `Localization.iao`: Described in G. Knizia, JCTC 9, 4834-4843 (2013). This algorithm maps the orbitals to an minao set. So, at least a double zeta basis set must be used with this localization method."
   ]
  },
  {
   "cell_type": "code",
   "execution_count": 16,
   "metadata": {},
   "outputs": [
    {
     "data": {
      "text/plain": [
       "{'molecule': <pyscf.gto.mole.Mole at 0x2a2a7f0d0>,\n",
       " 'electron_localization': <Localization.iao: 1>,\n",
       " 'fragment_atoms': [1, 1, 1, 1],\n",
       " 'fragment_solvers': ['ccsd', 'ccsd', 'ccsd', 'ccsd'],\n",
       " 'fragment_frozen_orbitals': [None, None, None, None],\n",
       " 'optimizer': <bound method DMETProblemDecomposition._default_optimizer of <tangelo.problem_decomposition.dmet.dmet_problem_decomposition.DMETProblemDecomposition object at 0x2a2837e10>>,\n",
       " 'initial_chemical_potential': 0.0,\n",
       " 'solvers_options': [{}, {}, {}, {}],\n",
       " 'virtual_orbital_threshold': 1e-13,\n",
       " 'verbose': False,\n",
       " 'builtin_localization': {<Localization.iao: 1>,\n",
       "  <Localization.meta_lowdin: 0>,\n",
       "  <Localization.nao: 2>},\n",
       " 'fragment_builder': tangelo.problem_decomposition.dmet.fragment.SecondQuantizedDMETFragment,\n",
       " 'uhf': False,\n",
       " 'mean_field': <pyscf.scf.hf.RHF at 0x2a2ab86d0>,\n",
       " 'chemical_potential': None,\n",
       " 'dmet_energy': None,\n",
       " 'orbitals': None,\n",
       " 'orb_list': None,\n",
       " 'orb_list2': None,\n",
       " 'onerdm_low': None,\n",
       " 'solver_fragment_dict': {},\n",
       " 'n_iter': 0}"
      ]
     },
     "execution_count": 16,
     "metadata": {},
     "output_type": "execute_result"
    }
   ],
   "source": [
    "options_h4_dmet = {\"molecule\": mol_h4,\n",
    "                   \"fragment_atoms\": [1]*4,\n",
    "                   \"electron_localization\": Localization.iao,\n",
    "                   \"verbose\": False}\n",
    "\n",
    "dmet_h4 = DMETProblemDecomposition(options_h4_dmet)\n",
    "vars(dmet_h4)"
   ]
  },
  {
   "cell_type": "markdown",
   "metadata": {},
   "source": [
    "### 5.2 Fragment solvers\n",
    "\n",
    "A list of solvers can be passed to the `DMETProblemDecomposition` class. If a single solver is detected, it will be applied to all fragments. Here is an example where the first fragment is solved with VQE, the second one with CCSD, the third one with FCI and the last one with VQE."
   ]
  },
  {
   "cell_type": "code",
   "execution_count": 17,
   "metadata": {},
   "outputs": [
    {
     "data": {
      "text/plain": [
       "{'molecule': <pyscf.gto.mole.Mole at 0x2a8344290>,\n",
       " 'electron_localization': <Localization.meta_lowdin: 0>,\n",
       " 'fragment_atoms': [1, 1, 1, 1],\n",
       " 'fragment_solvers': ['vqe', 'ccsd', 'fci', 'vqe'],\n",
       " 'fragment_frozen_orbitals': [None, None, None, None],\n",
       " 'optimizer': <bound method DMETProblemDecomposition._default_optimizer of <tangelo.problem_decomposition.dmet.dmet_problem_decomposition.DMETProblemDecomposition object at 0x2a6b18110>>,\n",
       " 'initial_chemical_potential': 0.0,\n",
       " 'solvers_options': [{'qubit_mapping': 'jw',\n",
       "   'initial_var_params': 'ones',\n",
       "   'verbose': False},\n",
       "  {},\n",
       "  {},\n",
       "  {'qubit_mapping': 'jw', 'initial_var_params': 'ones', 'verbose': False}],\n",
       " 'virtual_orbital_threshold': 1e-13,\n",
       " 'verbose': False,\n",
       " 'builtin_localization': {<Localization.iao: 1>,\n",
       "  <Localization.meta_lowdin: 0>,\n",
       "  <Localization.nao: 2>},\n",
       " 'fragment_builder': tangelo.problem_decomposition.dmet.fragment.SecondQuantizedDMETFragment,\n",
       " 'uhf': False,\n",
       " 'mean_field': <pyscf.scf.hf.RHF at 0x2a2ab86d0>,\n",
       " 'chemical_potential': None,\n",
       " 'dmet_energy': None,\n",
       " 'orbitals': None,\n",
       " 'orb_list': None,\n",
       " 'orb_list2': None,\n",
       " 'onerdm_low': None,\n",
       " 'solver_fragment_dict': {},\n",
       " 'n_iter': 0}"
      ]
     },
     "execution_count": 17,
     "metadata": {},
     "output_type": "execute_result"
    }
   ],
   "source": [
    "options_h4_dmet = {\"molecule\": mol_h4,\n",
    "                   \"fragment_atoms\": [1]*4,\n",
    "                   \"fragment_solvers\": [\"vqe\", \"ccsd\", \"fci\", \"vqe\"],\n",
    "                   \"verbose\": False}\n",
    "\n",
    "dmet_h4 = DMETProblemDecomposition(options_h4_dmet)\n",
    "vars(dmet_h4)"
   ]
  },
  {
   "cell_type": "markdown",
   "metadata": {},
   "source": [
    "### 5.3 Initial chemical potential\n",
    "\n",
    "The DMET optimizes a parameter $\\mu$, the chemical potential. It ensures that the sum of all fragment electrons is consistent with the total number of electrons. As it is numerically optimized, the initial value can be important. Here is an example where the `initial_chemical_potential` is set to 0.1."
   ]
  },
  {
   "cell_type": "code",
   "execution_count": 18,
   "metadata": {},
   "outputs": [
    {
     "data": {
      "text/plain": [
       "{'molecule': <pyscf.gto.mole.Mole at 0x2a28cd7d0>,\n",
       " 'electron_localization': <Localization.meta_lowdin: 0>,\n",
       " 'fragment_atoms': [1, 1, 1, 1],\n",
       " 'fragment_solvers': ['ccsd', 'ccsd', 'ccsd', 'ccsd'],\n",
       " 'fragment_frozen_orbitals': [None, None, None, None],\n",
       " 'optimizer': <bound method DMETProblemDecomposition._default_optimizer of <tangelo.problem_decomposition.dmet.dmet_problem_decomposition.DMETProblemDecomposition object at 0x2a834ee10>>,\n",
       " 'initial_chemical_potential': 0.1,\n",
       " 'solvers_options': [{}, {}, {}, {}],\n",
       " 'virtual_orbital_threshold': 1e-13,\n",
       " 'verbose': False,\n",
       " 'builtin_localization': {<Localization.iao: 1>,\n",
       "  <Localization.meta_lowdin: 0>,\n",
       "  <Localization.nao: 2>},\n",
       " 'fragment_builder': tangelo.problem_decomposition.dmet.fragment.SecondQuantizedDMETFragment,\n",
       " 'uhf': False,\n",
       " 'mean_field': <pyscf.scf.hf.RHF at 0x2a2ab86d0>,\n",
       " 'chemical_potential': None,\n",
       " 'dmet_energy': None,\n",
       " 'orbitals': None,\n",
       " 'orb_list': None,\n",
       " 'orb_list2': None,\n",
       " 'onerdm_low': None,\n",
       " 'solver_fragment_dict': {},\n",
       " 'n_iter': 0}"
      ]
     },
     "execution_count": 18,
     "metadata": {},
     "output_type": "execute_result"
    }
   ],
   "source": [
    "options_h4_dmet = {\"molecule\": mol_h4,\n",
    "                   \"fragment_atoms\": [1]*4,\n",
    "                   \"initial_chemical_potential\" : 0.1,\n",
    "                   \"verbose\": False}\n",
    "\n",
    "dmet_h4 = DMETProblemDecomposition(options_h4_dmet)\n",
    "vars(dmet_h4)"
   ]
  },
  {
   "cell_type": "markdown",
   "metadata": {},
   "source": [
    "### 5.4 Solvers options\n",
    "\n",
    "A list of options can be passed to the solvers. Each element of the list must be consistent with the appropriate value in `fragment_solvers`. If a single dictionary of options is detected, it is applied to all fragment solvers. Here is an example where one wants to set the qubit mapping to the Bravyi-Kitaev method when performing VQE."
   ]
  },
  {
   "cell_type": "code",
   "execution_count": 19,
   "metadata": {},
   "outputs": [
    {
     "data": {
      "text/plain": [
       "{'molecule': <pyscf.gto.mole.Mole at 0x2a28cf590>,\n",
       " 'electron_localization': <Localization.meta_lowdin: 0>,\n",
       " 'fragment_atoms': [1, 1, 1, 1],\n",
       " 'fragment_solvers': ['vqe', 'vqe', 'vqe', 'vqe'],\n",
       " 'fragment_frozen_orbitals': [None, None, None, None],\n",
       " 'optimizer': <bound method DMETProblemDecomposition._default_optimizer of <tangelo.problem_decomposition.dmet.dmet_problem_decomposition.DMETProblemDecomposition object at 0x2a28cfe90>>,\n",
       " 'initial_chemical_potential': 0.0,\n",
       " 'solvers_options': [{'qubit_mapping': 'bk'},\n",
       "  {'qubit_mapping': 'bk'},\n",
       "  {'qubit_mapping': 'bk'},\n",
       "  {'qubit_mapping': 'bk'}],\n",
       " 'virtual_orbital_threshold': 1e-13,\n",
       " 'verbose': False,\n",
       " 'builtin_localization': {<Localization.iao: 1>,\n",
       "  <Localization.meta_lowdin: 0>,\n",
       "  <Localization.nao: 2>},\n",
       " 'fragment_builder': tangelo.problem_decomposition.dmet.fragment.SecondQuantizedDMETFragment,\n",
       " 'uhf': False,\n",
       " 'mean_field': <pyscf.scf.hf.RHF at 0x2a2ab86d0>,\n",
       " 'chemical_potential': None,\n",
       " 'dmet_energy': None,\n",
       " 'orbitals': None,\n",
       " 'orb_list': None,\n",
       " 'orb_list2': None,\n",
       " 'onerdm_low': None,\n",
       " 'solver_fragment_dict': {},\n",
       " 'n_iter': 0}"
      ]
     },
     "execution_count": 19,
     "metadata": {},
     "output_type": "execute_result"
    }
   ],
   "source": [
    "vqe_options = {\"qubit_mapping\": \"bk\"}\n",
    "\n",
    "options_h4_dmet = {\"molecule\": mol_h4,\n",
    "                   \"fragment_atoms\": [1]*4,\n",
    "                   \"fragment_solvers\": \"vqe\",\n",
    "                   \"solvers_options\": vqe_options, \n",
    "                   \"verbose\": False}\n",
    "\n",
    "dmet_h4 = DMETProblemDecomposition(options_h4_dmet)\n",
    "vars(dmet_h4)"
   ]
  },
  {
   "cell_type": "markdown",
   "metadata": {},
   "source": [
    "### 5.5 Restricting the fragment active space\n",
    "\n",
    "Problem decomposition is successful at reducing the problem size, but the subproblems still can demand too much resources for a quantum computer. It is possible to define an active space in each DMET fragment, and an example is shown below."
   ]
  },
  {
   "cell_type": "code",
   "execution_count": 20,
   "metadata": {},
   "outputs": [
    {
     "name": "stdout",
     "output_type": "stream",
     "text": [
      "{\n",
      "  \"0\": {\n",
      "    \"qubit_hamiltonian_terms\": 27,\n",
      "    \"circuit_width\": 4,\n",
      "    \"circuit_depth\": 76,\n",
      "    \"circuit_2qubit_gates\": 46,\n",
      "    \"circuit_var_gates\": 12,\n",
      "    \"vqe_variational_parameters\": 2\n",
      "  },\n",
      "  \"1\": {\n",
      "    \"qubit_hamiltonian_terms\": 27,\n",
      "    \"circuit_width\": 4,\n",
      "    \"circuit_depth\": 76,\n",
      "    \"circuit_2qubit_gates\": 46,\n",
      "    \"circuit_var_gates\": 12,\n",
      "    \"vqe_variational_parameters\": 2\n",
      "  },\n",
      "  \"2\": {\n",
      "    \"qubit_hamiltonian_terms\": 361,\n",
      "    \"circuit_width\": 8,\n",
      "    \"circuit_depth\": 1573,\n",
      "    \"circuit_2qubit_gates\": 1180,\n",
      "    \"circuit_var_gates\": 160,\n",
      "    \"vqe_variational_parameters\": 14\n",
      "  },\n",
      "  \"3\": {\n",
      "    \"qubit_hamiltonian_terms\": 361,\n",
      "    \"circuit_width\": 8,\n",
      "    \"circuit_depth\": 1573,\n",
      "    \"circuit_2qubit_gates\": 1180,\n",
      "    \"circuit_var_gates\": 160,\n",
      "    \"vqe_variational_parameters\": 14\n",
      "  }\n",
      "}\n"
     ]
    }
   ],
   "source": [
    "def define_dmet_frag_as(homo_minus_m=0, lumo_plus_n=0):\n",
    "    def callable_for_dmet_object(info_fragment):\n",
    "        mf_fragment, _, _, _, _, _, _ = info_fragment\n",
    "\n",
    "        n_molecular_orb = len(mf_fragment.mo_occ)\n",
    "\n",
    "        n_lumo = mf_fragment.mo_occ.tolist().index(0.)\n",
    "        n_homo = n_lumo - 1\n",
    "\n",
    "        frozen_orbitals = [n for n in range(n_molecular_orb) if n not in range(n_homo-homo_minus_m, n_lumo+lumo_plus_n+1)]\n",
    "\n",
    "        return frozen_orbitals\n",
    "\n",
    "    return callable_for_dmet_object\n",
    "\n",
    "options_h4_dmet = {\"molecule\": mol_h4,\n",
    "                   \"fragment_atoms\": [1]*4,\n",
    "                   # The fragment active space can be selected with a nested list on ints (corresponding \n",
    "                   # to orbital indices), or a function.\n",
    "                   \"fragment_frozen_orbitals\": [define_dmet_frag_as(0, 0), [0, 3, 4], define_dmet_frag_as(1, 1), None],\n",
    "                   \"fragment_solvers\": \"vqe\",\n",
    "                   \"solvers_options\": vqe_options, \n",
    "                   \"verbose\": False}\n",
    "\n",
    "dmet_h4 = DMETProblemDecomposition(options_h4_dmet)\n",
    "dmet_h4.build()\n",
    "print(json.dumps(dmet_h4.get_resources(), indent=2))"
   ]
  },
  {
   "cell_type": "markdown",
   "metadata": {},
   "source": [
    "## 6. Closing words<a class=\"anchor\" id=\"6\"></a>\n",
    "\n",
    "This concludes our overview of `DMETProblemDecomposition`. There are many flavors of DMET and only one has been discussed here. Here we refer some papers relevant for the reader who wants more details:\n",
    "\n",
    "- Theory\n",
    "\n",
    "  - S. Wouters, C.A. Jiménez-Hoyos, Q. Sun, and G.K.L. Chan, J. Chem. Theory Comput. 12, 2706 (2016).\n",
    "  - G. Knizia and G.K.L. Chan, J. Chem. Theory Comput. 9, 1428 (2013).\n",
    "  - G. Knizia and G.K.L. Chan, Phys. Rev. Lett. 109, 186404 (2012).\n",
    "  \n",
    "- Good Chemistry Company papers on the subject\n",
    "\n",
    "  - Y. Kawashima, M.P. Coons, Y. Nam, E. Lloyd, S. Matsuura, A.J. Garza, S. Johri, L. Huntington, V. Senicourt, A.O. Maksymov, J.H. V. Nguyen, J. Kim, N. Alidoust, A. Zaribafiyan, and T. Yamazaki, ArXiv:2102.07045 (2021).\n",
    "  - T. Yamazaki, S. Matsuura, A. Narimani, A. Saidmuradov, and A. Zaribafiyan, ArXiv:1806.01305 (2018)."
   ]
  }
 ],
 "metadata": {
  "language_info": {
   "codemirror_mode": {
    "name": "ipython",
    "version": 3
   },
   "file_extension": ".py",
   "mimetype": "text/x-python",
   "name": "python",
   "nbconvert_exporter": "python",
   "pygments_lexer": "ipython3",
   "version": "3.11.7"
  },
  "vscode": {
   "interpreter": {
    "hash": "95050af2697fca56ed7491a4fb0b04c1282c0de0a7e0a7cacd318a8297b0b1d8"
   }
  }
 },
 "nbformat": 4,
 "nbformat_minor": 4
}
