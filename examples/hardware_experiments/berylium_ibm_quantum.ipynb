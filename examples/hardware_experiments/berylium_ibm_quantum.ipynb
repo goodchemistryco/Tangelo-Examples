{
 "cells": [
  {
   "cell_type": "markdown",
   "metadata": {
    "id": "MNGAKlOQ1jtC"
   },
   "source": [
    "# Combining Tangelo, QEMIST Cloud and IBM Quantum for quantum experiments\n",
    "\n",
    "This notebook demonstrates how problem decomposition from QEMIST Cloud can be combined with Tangelo and IBM's technology, in order to apply quantum computing to the study of chemical systems. It supported a brief presentation made at IBM Quantum Summit 2022, available on [Youtube](https://youtu.be/hPYFDGLmKZg?t=183). We meant to showcase how these different software can be combined, and how experiment on IBM Quantum are streamlined with Tangelo. We do not comment on the numerical results, as they are not the focus.\n",
    "\n",
    "The use case for this study is a single Berylium atom in the cc-PVDZ basis. Tackled head-on with an algorithm such as VQE, this problem would require more than 25 qubits, and deep quantum circuits (thousands of gates for UCCSD). By approaching this problem with a more elaborate approach, it is possible to make this system more tractable for current devices and reduce resource requirements to about 6 qubits and much shallower circuits.\n",
    "\n",
    "Here, we implement a workflow combining problem decomposition (MI-FNO), a quantum algorithm (custom QCC ADAPT approach), the IBM Kolkata device, and several post-processing techniques offered by IBM including Zero-Noise Extrapolation (ZNE). We share the experimental results obtained when attempting to compute the energy of a fragment of the system, using different noise-mitigation techniques available on the IBM devices.\n",
    "\n",
    "We refer the reader to various dedicated notebook tutorials about the different techniques mentioned above, and detail some of them in the following sections.\n",
    "\n"
   ]
  },
  {
   "cell_type": "markdown",
   "metadata": {
    "id": "XjylHSFPO235"
   },
   "source": [
    "## Setting up the environment\n",
    "\n",
    "The installation of Tangelo, Qiskit and Qiskit-runtime is required for this notebook. \n",
    "\n",
    "In order to perform problem decomposition in QEMIST Cloud, users need to [sign up](https://goodchemistry.com/contact/) and install the client library in their environment. For simplicity, this notebook simply loads pre-computed MI-FNO results obtained from a previous run on QEMIST Cloud, and focuses on the quantum side of things."
   ]
  },
  {
   "cell_type": "code",
   "execution_count": null,
   "metadata": {
    "colab": {
     "base_uri": "https://localhost:8080/"
    },
    "id": "l8qpzVLG1jtG",
    "outputId": "78ac62b0-95ac-4f85-8053-45440bf8b062"
   },
   "outputs": [
    {
     "name": "stdout",
     "output_type": "stream",
     "text": [
      "  Preparing metadata (setup.py) ... \u001b[?25l\u001b[?25hdone\n",
      "\u001b[2K     \u001b[90m━━━━━━━━━━━━━━━━━━━━━━━━━━━━━━━━━━━━━━━\u001b[0m \u001b[32m240.4/240.4 KB\u001b[0m \u001b[31m8.1 MB/s\u001b[0m eta \u001b[36m0:00:00\u001b[0m\n",
      "\u001b[2K     \u001b[90m━━━━━━━━━━━━━━━━━━━━━━━━━━━━━━━━━━━━━━━━\u001b[0m \u001b[32m1.1/1.1 MB\u001b[0m \u001b[31m42.6 MB/s\u001b[0m eta \u001b[36m0:00:00\u001b[0m\n",
      "\u001b[2K     \u001b[90m━━━━━━━━━━━━━━━━━━━━━━━━━━━━━━━━━━━━━━━━\u001b[0m \u001b[32m1.8/1.8 MB\u001b[0m \u001b[31m60.4 MB/s\u001b[0m eta \u001b[36m0:00:00\u001b[0m\n",
      "\u001b[?25h  Preparing metadata (setup.py) ... \u001b[?25l\u001b[?25hdone\n",
      "\u001b[2K     \u001b[90m━━━━━━━━━━━━━━━━━━━━━━━━━━━━━━━━━━━━━━\u001b[0m \u001b[32m577.4/577.4 KB\u001b[0m \u001b[31m42.1 MB/s\u001b[0m eta \u001b[36m0:00:00\u001b[0m\n",
      "\u001b[2K     \u001b[90m━━━━━━━━━━━━━━━━━━━━━━━━━━━━━━━━━━━━━━━━\u001b[0m \u001b[32m2.0/2.0 MB\u001b[0m \u001b[31m46.6 MB/s\u001b[0m eta \u001b[36m0:00:00\u001b[0m\n",
      "\u001b[2K     \u001b[90m━━━━━━━━━━━━━━━━━━━━━━━━━━━━━━━━━━━━━━\u001b[0m \u001b[32m120.2/120.2 KB\u001b[0m \u001b[31m13.8 MB/s\u001b[0m eta \u001b[36m0:00:00\u001b[0m\n",
      "\u001b[?25h  Building wheel for tangelo-gc (setup.py) ... \u001b[?25l\u001b[?25hdone\n",
      "  Building wheel for pubchempy (setup.py) ... \u001b[?25l\u001b[?25hdone\n",
      "  Preparing metadata (setup.py) ... \u001b[?25l\u001b[?25hdone\n",
      "\u001b[2K     \u001b[90m━━━━━━━━━━━━━━━━━━━━━━━━━━━━━━━━━━━━━━━━\u001b[0m \u001b[32m5.1/5.1 MB\u001b[0m \u001b[31m45.0 MB/s\u001b[0m eta \u001b[36m0:00:00\u001b[0m\n",
      "\u001b[2K     \u001b[90m━━━━━━━━━━━━━━━━━━━━━━━━━━━━━━━━━━━━━━━━\u001b[0m \u001b[32m12.8/12.8 MB\u001b[0m \u001b[31m74.7 MB/s\u001b[0m eta \u001b[36m0:00:00\u001b[0m\n",
      "\u001b[2K     \u001b[90m━━━━━━━━━━━━━━━━━━━━━━━━━━━━━━━━━━━━━━\u001b[0m \u001b[32m241.3/241.3 KB\u001b[0m \u001b[31m15.5 MB/s\u001b[0m eta \u001b[36m0:00:00\u001b[0m\n",
      "\u001b[2K     \u001b[90m━━━━━━━━━━━━━━━━━━━━━━━━━━━━━━━━━━━━━━\u001b[0m \u001b[32m107.0/107.0 KB\u001b[0m \u001b[31m11.6 MB/s\u001b[0m eta \u001b[36m0:00:00\u001b[0m\n",
      "\u001b[2K     \u001b[90m━━━━━━━━━━━━━━━━━━━━━━━━━━━━━━━━━━━━━━━━\u001b[0m \u001b[32m54.3/54.3 KB\u001b[0m \u001b[31m6.5 MB/s\u001b[0m eta \u001b[36m0:00:00\u001b[0m\n",
      "\u001b[2K     \u001b[90m━━━━━━━━━━━━━━━━━━━━━━━━━━━━━━━━━━━━━━━━\u001b[0m \u001b[32m1.9/1.9 MB\u001b[0m \u001b[31m81.4 MB/s\u001b[0m eta \u001b[36m0:00:00\u001b[0m\n",
      "\u001b[2K     \u001b[90m━━━━━━━━━━━━━━━━━━━━━━━━━━━━━━━━━━━━━━━━\u001b[0m \u001b[32m50.0/50.0 KB\u001b[0m \u001b[31m5.7 MB/s\u001b[0m eta \u001b[36m0:00:00\u001b[0m\n",
      "\u001b[2K     \u001b[90m━━━━━━━━━━━━━━━━━━━━━━━━━━━━━━━━━━━━━━━━\u001b[0m \u001b[32m37.5/37.5 MB\u001b[0m \u001b[31m23.6 MB/s\u001b[0m eta \u001b[36m0:00:00\u001b[0m\n",
      "\u001b[2K     \u001b[90m━━━━━━━━━━━━━━━━━━━━━━━━━━━━━━━━━━━━━━━━\u001b[0m \u001b[32m49.6/49.6 KB\u001b[0m \u001b[31m5.6 MB/s\u001b[0m eta \u001b[36m0:00:00\u001b[0m\n",
      "\u001b[2K     \u001b[90m━━━━━━━━━━━━━━━━━━━━━━━━━━━━━━━━━━━━━━━━\u001b[0m \u001b[32m4.2/4.2 MB\u001b[0m \u001b[31m85.2 MB/s\u001b[0m eta \u001b[36m0:00:00\u001b[0m\n",
      "\u001b[2K     \u001b[90m━━━━━━━━━━━━━━━━━━━━━━━━━━━━━━━━━━━━━━\u001b[0m \u001b[32m112.7/112.7 KB\u001b[0m \u001b[31m12.2 MB/s\u001b[0m eta \u001b[36m0:00:00\u001b[0m\n",
      "\u001b[?25h  Building wheel for qiskit (setup.py) ... \u001b[?25l\u001b[?25hdone\n",
      "\u001b[2K     \u001b[90m━━━━━━━━━━━━━━━━━━━━━━━━━━━━━━━━━━━━━━━\u001b[0m \u001b[32m190.4/190.4 KB\u001b[0m \u001b[31m7.9 MB/s\u001b[0m eta \u001b[36m0:00:00\u001b[0m\n",
      "\u001b[2K     \u001b[90m━━━━━━━━━━━━━━━━━━━━━━━━━━━━━━━━━━━━━━\u001b[0m \u001b[32m245.8/245.8 KB\u001b[0m \u001b[31m24.7 MB/s\u001b[0m eta \u001b[36m0:00:00\u001b[0m\n",
      "\u001b[?25h  Installing build dependencies ... \u001b[?25l\u001b[?25hdone\n",
      "  Getting requirements to build wheel ... \u001b[?25l\u001b[?25hdone\n",
      "  Preparing metadata (pyproject.toml) ... \u001b[?25l\u001b[?25hdone\n",
      "\u001b[2K     \u001b[90m━━━━━━━━━━━━━━━━━━━━━━━━━━━━━━━━━━━━━━\u001b[0m \u001b[32m140.6/140.6 KB\u001b[0m \u001b[31m14.9 MB/s\u001b[0m eta \u001b[36m0:00:00\u001b[0m\n",
      "\u001b[2K     \u001b[90m━━━━━━━━━━━━━━━━━━━━━━━━━━━━━━━━━━━━━━━━\u001b[0m \u001b[32m62.8/62.8 KB\u001b[0m \u001b[31m7.0 MB/s\u001b[0m eta \u001b[36m0:00:00\u001b[0m\n",
      "\u001b[2K     \u001b[90m━━━━━━━━━━━━━━━━━━━━━━━━━━━━━━━━━━━━━━━━\u001b[0m \u001b[32m50.5/50.5 KB\u001b[0m \u001b[31m5.3 MB/s\u001b[0m eta \u001b[36m0:00:00\u001b[0m\n",
      "\u001b[?25h  Installing build dependencies ... \u001b[?25l\u001b[?25hdone\n",
      "  Getting requirements to build wheel ... \u001b[?25l\u001b[?25hdone\n",
      "  Preparing metadata (pyproject.toml) ... \u001b[?25l\u001b[?25hdone\n",
      "  Building wheel for ibm-platform-services (pyproject.toml) ... \u001b[?25l\u001b[?25hdone\n",
      "  Building wheel for ibm-cloud-sdk-core (pyproject.toml) ... \u001b[?25l\u001b[?25hdone\n"
     ]
    }
   ],
   "source": [
    "# Install: Tangelo, here directly from the develop branch on Github\n",
    "!pip install git+https://github.com/goodchemistryco/Tangelo.git@develop --quiet\n",
    "\n",
    "# Install: qiskit, qiskit-runtime\n",
    "!pip install qiskit --quiet\n",
    "!pip install qiskit-ibm-runtime --quiet"
   ]
  },
  {
   "cell_type": "markdown",
   "metadata": {
    "id": "844HIxfs1jtH"
   },
   "source": [
    "## Define use case\n",
    "\n",
    "Briefly redefining our molecular system locally: a single berylium atom in the ccPVDZ basis."
   ]
  },
  {
   "cell_type": "code",
   "execution_count": null,
   "metadata": {
    "id": "IJ7mj6YIRZtj"
   },
   "outputs": [],
   "source": [
    "# Our molecular system\n",
    "Be_coordinates = \"\"\"\n",
    "    Be    0.0000   0.0000   0.0000\n",
    "\"\"\"\n",
    "basis = \"cc-pVDZ\"\n",
    "charge = 0 \n",
    "spin = 0"
   ]
  },
  {
   "cell_type": "markdown",
   "metadata": {
    "id": "DQG4NQe21jtK"
   },
   "source": [
    "#1. Importing QEMIST Cloud fragments into Tangelo"
   ]
  },
  {
   "cell_type": "markdown",
   "metadata": {
    "id": "4mPe97AdV0sA"
   },
   "source": [
    "The [Method of Increment with Frozen Natural Orbital](https://aip.scitation.org/doi/abs/10.1063/5.0054647) (MI-FNO) was previously run with QEMIST Cloud, for our system of interest: a single atom of berylium in the ccPVDZ basis. The Heat-Bath CI (HBCI) classisal solver was used to solve individual fragments resulting from the MI-FNO decomposition.\n",
    "\n",
    "Dedicated notebooks cover these steps. We load the pre-computed fragment information and references values. This system is small, and yields two one-body fragments and a single two-body fragment. The `MIFNOHelper` class enables us to load fragment data, and see how each of them contributes to the total energy of the system."
   ]
  },
  {
   "cell_type": "code",
   "execution_count": 1,
   "metadata": {
    "id": "DLE--T4LkHXc"
   },
   "outputs": [],
   "source": [
    "# Load pre-computed MI-FNO data, obtained with QEMIST Cloud\n",
    "!unzip -qq ./data/Be_iso_VS1.zip"
   ]
  },
  {
   "cell_type": "code",
   "execution_count": null,
   "metadata": {
    "colab": {
     "base_uri": "https://localhost:8080/"
    },
    "id": "5QG153Ii1jtL",
    "outputId": "94b94e94-1cb5-4c7e-c086-5e2f17580ddd"
   },
   "outputs": [
    {
     "name": "stdout",
     "output_type": "stream",
     "text": [
      "(All the energy values are in hartree)\n",
      "Total MI-FNO energy = -14.60874953362714\n",
      "Correlation energy = -0.03641190267375371\n",
      "Mean-field energy = -14.572337630953388\n",
      "         epsilon     problem_handle  energy_correlation  correction  \\\n",
      "(0,)   -0.000226  67697585423398483           -0.000226   -0.000161   \n",
      "(1,)   -0.031890  24334728019588691           -0.031890   -0.017285   \n",
      "(0, 1) -0.004297   2147133126882914           -0.036412   -0.019480   \n",
      "\n",
      "        energy_total  \n",
      "(0,)      -14.572563  \n",
      "(1,)      -14.604227  \n",
      "(0, 1)    -14.608750  \n"
     ]
    }
   ],
   "source": [
    "from tangelo.problem_decomposition import MIFNOHelper\n",
    "\n",
    "fno_fragments = MIFNOHelper(mi_json_file=\"./Be_iso_VS1/16435123521074770.json\", fno_json_folder=\"./Be_iso_VS1/frags\")\n",
    "print(fno_fragments)\n",
    "\n",
    "fno_fragments.retrieve_mo_coeff(\"./Be_iso_VS1/frags\")"
   ]
  },
  {
   "cell_type": "markdown",
   "metadata": {
    "id": "wKaN5gP21jtN"
   },
   "source": [
    "# 2. Reconstructing a fragment Hamiltonian"
   ]
  },
  {
   "cell_type": "markdown",
   "metadata": {
    "id": "--PZYBhoYe_U"
   },
   "source": [
    "For this demonstration, we focus on fragment `(1,)`, which consists in a one-body problem that contributes quite a bit to the total energy of the system. Similarly, fragment `(0, 1)`, associated with a two-body problem, is also relevant and is however more computationally challenging (you can change the value of `frag` below to get a sense of that, and see what qubit operator comes out)."
   ]
  },
  {
   "cell_type": "code",
   "execution_count": null,
   "metadata": {
    "id": "M3JSDeP91jtN"
   },
   "outputs": [],
   "source": [
    "from tangelo import SecondQuantizedMolecule\n",
    "\n",
    "# Build Tangelo molecule object (includes HF calculation)\n",
    "mol = SecondQuantizedMolecule(Be_coordinates, q=charge, spin=spin, basis=basis)\n",
    "\n",
    "# Select a fragment,retrieve the number of electrons and spinorbitals\n",
    "frag = \"(1,)\"\n",
    "n_electrons, n_spinorbitals = fno_fragments.n_electrons_spinorbs(frag)\n",
    "mol.freeze_mos(fno_fragments[frag][\"frozen_orbitals_truncated\"], inplace=True)\n",
    "\n",
    "# Compute the Fermionic operator\n",
    "ferm_op = fno_fragments.compute_fermionoperator(mol, frag)"
   ]
  },
  {
   "cell_type": "markdown",
   "metadata": {
    "id": "b-cQvG9bzJFi"
   },
   "source": [
    "#3. Designing our quantum experiment\n",
    "\n",
    "At this point, we can make our own adventure in Tangelo. The experiment below uses:\n",
    "\n",
    "- scBK qubit mapping\n",
    "- ADAPT-VQE algorithm, using a custom pool of Qubit Coupled Cluster (QCC) operators\n",
    "- a few post-processing techniques, including Zero-Noise Extrapolation."
   ]
  },
  {
   "cell_type": "code",
   "execution_count": null,
   "metadata": {
    "colab": {
     "base_uri": "https://localhost:8080/"
    },
    "id": "p_tzkVWP9cSx",
    "outputId": "cbe65b0b-684d-482e-f993-15522c701708"
   },
   "outputs": [
    {
     "name": "stdout",
     "output_type": "stream",
     "text": [
      "-14.402485811590493 [] +\n",
      "0.07351153728840519 [X0 X1] +\n",
      "0.08885408506584569 [Z0] +\n",
      "0.007856350768804587 [Z0 Z1] +\n",
      "0.0888540850658457 [Z1]\n"
     ]
    }
   ],
   "source": [
    "from tangelo.toolboxes.operators import count_qubits\n",
    "from tangelo.toolboxes.qubit_mappings.mapping_transform import fermion_to_qubit_mapping\n",
    "\n",
    "# Apply qubit mapping\n",
    "qu_op = fermion_to_qubit_mapping(ferm_op, \"scBK\", n_spinorbitals, n_electrons, up_then_down=True)\n",
    "print(qu_op)"
   ]
  },
  {
   "cell_type": "markdown",
   "metadata": {
    "id": "t5v94hJ9Tf8Y"
   },
   "source": [
    "We define a custom pool of QCC operators, and use it with ADAPT-VQE, with the aim of producing a shallow quantum circuit for our fragment. The variational algorithm runs on a simulator, the user is free to specify a backend (cirq, qiskit, qulacs...) and behaviour, including a noise model. They can also define their own backend (see tutorials about our `linq` module)."
   ]
  },
  {
   "cell_type": "code",
   "execution_count": null,
   "metadata": {
    "id": "LGUfDatl2uz7"
   },
   "outputs": [],
   "source": [
    "from tangelo.toolboxes.ansatz_generator._qubit_mf import init_qmf_from_hf\n",
    "from tangelo.toolboxes.ansatz_generator._qubit_cc import construct_dis\n",
    "\n",
    "# Custom function: define a pool of QCC operators\n",
    "def qcc_pool(mol, mapping, up_then_down, qubit_hamiltonian):\n",
    "    qmf_var_params = init_qmf_from_hf(mol.n_active_sos, mol.n_active_electrons, \n",
    "                                      mapping, up_then_down, mol.spin)\n",
    "    dis = construct_dis(qubit_hamiltonian, qmf_var_params, 0.)\n",
    "    return [item for sublist in dis for item in sublist]"
   ]
  },
  {
   "cell_type": "code",
   "execution_count": null,
   "metadata": {
    "id": "O3X6M-ev1jtO"
   },
   "outputs": [],
   "source": [
    "from tangelo.algorithms.variational import ADAPTSolver\n",
    "\n",
    "pool_args = {\"mol\": mol, \"mapping\": \"scBK\", \"up_then_down\": True, \"qubit_hamiltonian\": qu_op}\n",
    "\n",
    "opt_dict = {\"molecule\": mol, \"tol\": 0.01, \"max_cycles\": 5, \n",
    "            \"qubit_mapping\": \"scbk\", \"up_then_down\": True, \n",
    "            \"n_spinorbitals\": n_spinorbitals, \"n_electrons\": n_electrons,\n",
    "            \"pool\": qcc_pool, \"pool_args\": pool_args}\n",
    "\n",
    "solver = ADAPTSolver(opt_dict)\n",
    "solver.build()\n",
    "e = solver.simulate()\n",
    "\n",
    "opt_circ = solver.vqe_solver.optimal_circuit"
   ]
  },
  {
   "cell_type": "markdown",
   "metadata": {
    "id": "bmNzou8AIkKu"
   },
   "source": [
    "Let's take a look at this circuit. Tangelo provides a built-in `draw` method to visualize it, but since we support bidirectional conversion functions between multiple formats, it would be very easy for users to generate a qiskit equivalent and use the beautiful drawing features of that package as well !"
   ]
  },
  {
   "cell_type": "code",
   "execution_count": null,
   "metadata": {
    "colab": {
     "base_uri": "https://localhost:8080/",
     "height": 138
    },
    "id": "tL5olFSKIWb9",
    "outputId": "7c3b9efc-493b-4255-b0cf-d37bfa6e0fd2"
   },
   "outputs": [
    {
     "name": "stderr",
     "output_type": "stream",
     "text": [
      "WARNING:matplotlib.font_manager:findfont: Font family ['Arial'] not found. Falling back to DejaVu Sans.\n"
     ]
    },
    {
     "data": {
      "image/svg+xml": [
       "<svg xmlns=\"http://www.w3.org/2000/svg\" width=\"545.2750781249999\" height=\"100.0\"><line x1=\"30.0\" x2=\"515.2750781249999\" y1=\"25.0\" y2=\"25.0\" stroke=\"#1967d2\" stroke-width=\"1\" /><line x1=\"30.0\" x2=\"515.2750781249999\" y1=\"75.0\" y2=\"75.0\" stroke=\"#1967d2\" stroke-width=\"1\" /><line x1=\"237.05328125\" x2=\"237.05328125\" y1=\"25.0\" y2=\"75.0\" stroke=\"black\" stroke-width=\"3\" /><line x1=\"383.1700390625\" x2=\"383.1700390625\" y1=\"25.0\" y2=\"75.0\" stroke=\"black\" stroke-width=\"3\" /><rect x=\"10.0\" y=\"5.0\" width=\"40\" height=\"40\" stroke=\"black\" fill=\"white\" stroke-width=\"0\" /><text x=\"30.0\" y=\"25.0\" dominant-baseline=\"middle\" text-anchor=\"middle\" font-size=\"14px\" font-family=\"Arial\">0: </text><rect x=\"10.0\" y=\"55.0\" width=\"40\" height=\"40\" stroke=\"black\" fill=\"white\" stroke-width=\"0\" /><text x=\"30.0\" y=\"75.0\" dominant-baseline=\"middle\" text-anchor=\"middle\" font-size=\"14px\" font-family=\"Arial\">1: </text><rect x=\"70.0\" y=\"5.0\" width=\"40\" height=\"40\" stroke=\"black\" fill=\"white\" stroke-width=\"1\" /><text x=\"90.0\" y=\"25.0\" dominant-baseline=\"middle\" text-anchor=\"middle\" font-size=\"18px\" font-family=\"Arial\">X</text><rect x=\"70.0\" y=\"55.0\" width=\"40\" height=\"40\" stroke=\"black\" fill=\"white\" stroke-width=\"1\" /><text x=\"90.0\" y=\"75.0\" dominant-baseline=\"middle\" text-anchor=\"middle\" font-size=\"18px\" font-family=\"Arial\">X</text><rect x=\"130.0\" y=\"5.0\" width=\"67.05328125\" height=\"40\" stroke=\"black\" fill=\"white\" stroke-width=\"1\" /><text x=\"163.526640625\" y=\"25.0\" dominant-baseline=\"middle\" text-anchor=\"middle\" font-size=\"14px\" font-family=\"Arial\">Rx(0.5π)</text><rect x=\"130.0\" y=\"55.0\" width=\"67.05328125\" height=\"40\" stroke=\"black\" fill=\"white\" stroke-width=\"1\" /><text x=\"163.526640625\" y=\"75.0\" dominant-baseline=\"middle\" text-anchor=\"middle\" font-size=\"18px\" font-family=\"Arial\">H</text><circle cx=\"237.05328125\" cy=\"25.0\" r=\"10.0\" /><rect x=\"217.05328125\" y=\"55.0\" width=\"40\" height=\"40\" stroke=\"black\" fill=\"white\" stroke-width=\"1\" /><text x=\"237.05328125\" y=\"75.0\" dominant-baseline=\"middle\" text-anchor=\"middle\" font-size=\"18px\" font-family=\"Arial\">X</text><rect x=\"277.05328124999994\" y=\"55.0\" width=\"66.1167578125\" height=\"40\" stroke=\"black\" fill=\"white\" stroke-width=\"1\" /><text x=\"310.11166015624997\" y=\"75.0\" dominant-baseline=\"middle\" text-anchor=\"middle\" font-size=\"14px\" font-family=\"Arial\">Rz(0.1π)</text><circle cx=\"383.1700390625\" cy=\"25.0\" r=\"10.0\" /><rect x=\"363.1700390625\" y=\"55.0\" width=\"40\" height=\"40\" stroke=\"black\" fill=\"white\" stroke-width=\"1\" /><text x=\"383.1700390625\" y=\"75.0\" dominant-baseline=\"middle\" text-anchor=\"middle\" font-size=\"18px\" font-family=\"Arial\">X</text><rect x=\"423.1700390625\" y=\"55.0\" width=\"72.1050390625\" height=\"40\" stroke=\"black\" fill=\"white\" stroke-width=\"1\" /><text x=\"459.22255859375\" y=\"75.0\" dominant-baseline=\"middle\" text-anchor=\"middle\" font-size=\"18px\" font-family=\"Arial\">H</text><rect x=\"423.1700390625\" y=\"5.0\" width=\"72.1050390625\" height=\"40\" stroke=\"black\" fill=\"white\" stroke-width=\"1\" /><text x=\"459.22255859375\" y=\"25.0\" dominant-baseline=\"middle\" text-anchor=\"middle\" font-size=\"14px\" font-family=\"Arial\">Rx(-0.5π)</text></svg>"
      ],
      "text/plain": [
       "<cirq.contrib.svg.svg.SVGCircuit at 0x7fcc7649b8e0>"
      ]
     },
     "execution_count": 9,
     "metadata": {},
     "output_type": "execute_result"
    }
   ],
   "source": [
    "opt_circ.draw()"
   ]
  },
  {
   "cell_type": "markdown",
   "metadata": {
    "id": "eoTDnsUVTsTi"
   },
   "source": [
    "Before running a quantum experiment, we always try to understand:\n",
    "- the accuracy of the quantum approach itself (e.g compared to classical reference value)\n",
    "- whether it is feasible and likely to be accurate enough on a target device (resource requirements mostly, sometimes running with a noise model)\n",
    "- the anticipated cost ($)\n",
    "\n",
    "We take a look at the resource requirements associated with our quantum circuit. The number of qubits and gates seems tractable for the IBM devices available to us. We find the number of 2-qubit gates relevant, as the these can significantly impact the accuracy of numerical results coming from superconducting devices at the time of writing. Finally, we get a sense of how accurate is our quantum alfgorithm in estimating the energy of that fragment. This gives us an idea of what we could hope from a device, in the ideal scenario that enough shots are drawn and that noise has been mitigated enough."
   ]
  },
  {
   "cell_type": "code",
   "execution_count": null,
   "metadata": {
    "colab": {
     "base_uri": "https://localhost:8080/"
    },
    "id": "_oW5h_vcpK0W",
    "outputId": "37ffc4b9-66bb-4cf4-a086-1c92df770c64"
   },
   "outputs": [
    {
     "name": "stdout",
     "output_type": "stream",
     "text": [
      "{'X': 2, 'RX': 2, 'H': 2, 'CNOT': 2, 'RZ': 1} \n",
      "\n",
      "{'qubit_hamiltonian_terms': 5, 'circuit_width': 2, 'circuit_depth': 6, 'circuit_2qubit_gates': 2, 'circuit_var_gates': 1, 'vqe_variational_parameters': 1}\n",
      "\n",
      "Fragment energy difference between reference value and noiseless quantum approach: 6.05324E-03 Ha\n"
     ]
    }
   ],
   "source": [
    "# Count gates appearing in the circuit\n",
    "print(opt_circ._gate_counts, \"\\n\")\n",
    "\n",
    "# Computation requirements associated with the algorithm\n",
    "print(solver.get_resources())\n",
    "\n",
    "# Error induced by using our quantum variational approach compared to classical reference value\n",
    "print(f\"\\nFragment energy difference between reference value and noiseless quantum approach: \"\n",
    "      + f\"{abs(e - (fno_fragments[frag]['energy_total'] - fno_fragments[frag]['correction'])):.5E} Ha\")"
   ]
  },
  {
   "cell_type": "markdown",
   "metadata": {
    "id": "lhDu3S0x1jtO"
   },
   "source": [
    "# 4. Running the experiment on IBM Quantum"
   ]
  },
  {
   "cell_type": "markdown",
   "metadata": {
    "id": "ql083wreQ1rk"
   },
   "source": [
    "For this experiment, we aim to compute the target fragment energy compare energies obtained with 3 different error-mitigation strategies:\n",
    "- raw results (no error-mitigation)\n",
    "- read-out error mitigation (ROEM), here implementing the T-REx method\n",
    "- zero-noise extrapolation (ZNE) + ROEM\n",
    "\n",
    "\n",
    "We first select our target device. For the purpose of cleaning up this notebook, the numerical results of some of the cells below were recomputed with a different backend or a simulator, but this does not alter the workflow or type of objects encountered. We share and plug the values obtained through running the same code on the Kolkata device from our experiments back then just before the final visualization."
   ]
  },
  {
   "cell_type": "code",
   "execution_count": null,
   "metadata": {
    "id": "Hl60xeB7MuGu"
   },
   "outputs": [],
   "source": [
    "backend_name = 'ibm_qasm_simulator' # 'ibm_kolkata'"
   ]
  },
  {
   "cell_type": "markdown",
   "metadata": {
    "id": "v5VdeSuu0yys"
   },
   "source": [
    "The `IBMConnection` class enables us to easily submit jobs to the IBM Quantum platform. As qiskit-runtime primitives are used under the hood, the installation of both `qiskit` and `qiskit-runtime` is necessary (see install section).\n",
    "\n",
    "To instantiate the connection, the environment variable `IBM_TOKEN` need to be set with an acceptable value tied to an IBM Quantum account, or be passed as an argument (see documentation and install section)."
   ]
  },
  {
   "cell_type": "code",
   "execution_count": null,
   "metadata": {
    "id": "71rEs2Cj1qal"
   },
   "outputs": [],
   "source": [
    "# Your IBM Quantum token should be found in your environment, to create the connection object.\n",
    "import os\n",
    "os.environ['IBM_TOKEN'] = 'your_ibm_quantum_token'"
   ]
  },
  {
   "cell_type": "code",
   "execution_count": null,
   "metadata": {
    "id": "DohW8XXhzKuN"
   },
   "outputs": [],
   "source": [
    "from tangelo.linq.qpu_connection import IBMConnection\n",
    "\n",
    "conn = IBMConnection()"
   ]
  },
  {
   "cell_type": "markdown",
   "metadata": {
    "id": "6PFCDosFRJEO"
   },
   "source": [
    "### RAW results"
   ]
  },
  {
   "cell_type": "markdown",
   "metadata": {
    "id": "M4xEzDRRRMdq"
   },
   "source": [
    "#### Job submission\n",
    "\n",
    "Using the connection object, we easily submit the job with `job_submit`. Here, we call the Estimator primitive of Qiskit-runtime to compute the expectation of our quantum circuit with regards to the qubit Hamiltonian of the fragment, using 1 million shots. The output is a job id.\n",
    "\n",
    "The `runtime_options` variable is used to indicate we do not want any noise-mitigation to be applied by IBM Quantum. Variable names and values streamlined in Tangelo are mostly identical to the ones documented in qiskit-runtime, for transparency and simplicity."
   ]
  },
  {
   "cell_type": "code",
   "execution_count": null,
   "metadata": {
    "colab": {
     "base_uri": "https://localhost:8080/"
    },
    "id": "C-nyn3fDzltn",
    "outputId": "b9e3e694-befa-46b9-c93b-9dc075010a9d"
   },
   "outputs": [
    {
     "name": "stdout",
     "output_type": "stream",
     "text": [
      "cfc6jonp2bp10gchkpi0\n"
     ]
    }
   ],
   "source": [
    "# RAW results\n",
    "job_id_raw = conn.job_submit(\"estimator\", backend_name, 10**6, opt_circ, qu_op, runtime_options={'resilience_level':0})\n",
    "print(job_id_raw)"
   ]
  },
  {
   "cell_type": "markdown",
   "metadata": {
    "id": "UW3bxn-ESCT_"
   },
   "source": [
    "#### Job results\n",
    "\n",
    "The `job_results` method retrieves the result of the job, saves them in the `IBMConnection` object, and returns here a list of 1 expectation values (as 1 circuit was submitted), without all the metadata attached. Note that it is a blocking call, and the cell would hang until the job is complete."
   ]
  },
  {
   "cell_type": "code",
   "execution_count": null,
   "metadata": {
    "id": "epR4TKo5SBkw"
   },
   "outputs": [],
   "source": [
    "expval_raw = conn.job_results(job_id_raw)"
   ]
  },
  {
   "cell_type": "markdown",
   "metadata": {
    "id": "YAndRjJ_TGpW"
   },
   "source": [
    "The `IBMConnection` class remembers previous jobs and their results and stores them in the format used by qiskit-runtime, providing access to all the metadata available on IBM Quantum. We store this in a dictionary attribute called `job_results`, indexed by job ids.\n",
    "\n",
    "By using this metadata, we can access the variance and number of shots of the calculations, and compute the standard deviation of the expectation value. Error bars are important to keep track of in experiments, due to the statistical nature of quantum computing: this is valuable information. Here's what the computation may look like on a device (`values` contains the expectation values):"
   ]
  },
  {
   "cell_type": "code",
   "execution_count": null,
   "metadata": {
    "colab": {
     "base_uri": "https://localhost:8080/"
    },
    "id": "xOdNZ4RzVuma",
    "outputId": "cc5ee8b3-3c01-4f30-eeda-73d379193bcb"
   },
   "outputs": [
    {
     "name": "stdout",
     "output_type": "stream",
     "text": [
      "EstimatorResult(values=array([-14.56441683]), metadata=[{'variance': 0.010114398620993439, 'shots': 100000}])\n"
     ]
    }
   ],
   "source": [
    "# Access full data of complete jobs\n",
    "raw_results = conn.jobs_results[job_id_raw]\n",
    "print(raw_results)"
   ]
  },
  {
   "cell_type": "markdown",
   "metadata": {
    "id": "7RNFr71Xus1S"
   },
   "source": [
    "It may take a long time for your job to run and complete, and your python script or notebook may terminate or disconnect before that. Through a `QiskitRuntimeService` object, qiskit-runtime users can retrieve data for a past job. Our `IBMConnection` object exposes such an object through its `service` attribute as well, and we can use that to bring back results obtained from previous runs if needed."
   ]
  },
  {
   "cell_type": "markdown",
   "metadata": {
    "id": "OTFzNNjIxNev"
   },
   "source": [
    "``` python\n",
    "job = conn.service.job(job_id)\n",
    "my_results = job.result()\n",
    "```"
   ]
  },
  {
   "cell_type": "markdown",
   "metadata": {
    "id": "C5wOaLhp0zkY"
   },
   "source": [
    "Regardless of how the metadata was retrieved, we can now compute the standard deviation of our expectation value using it."
   ]
  },
  {
   "cell_type": "code",
   "execution_count": null,
   "metadata": {
    "colab": {
     "base_uri": "https://localhost:8080/"
    },
    "id": "4U4xwR2HOjtY",
    "outputId": "99f0fd1d-0e9a-4839-a1e1-f4f2602dba5f"
   },
   "outputs": [
    {
     "name": "stdout",
     "output_type": "stream",
     "text": [
      "(-14.564416825107253, 0.0003180314233058337)\n"
     ]
    }
   ],
   "source": [
    "import numpy as np\n",
    "\n",
    "data_raw = (raw_results.values[0], np.sqrt(raw_results.metadata[0]['variance'] / raw_results.metadata[0]['shots']))\n",
    "print(data_raw)"
   ]
  },
  {
   "cell_type": "markdown",
   "metadata": {
    "id": "zFazKTsHT5wp"
   },
   "source": [
    "### ROEM and ZNE results\n",
    "\n",
    "If you'd like to know more about readout error-mitigation (here abbreviated as ROEM)and ZNE, here's [some documentation from IBM](https://qiskit.org/documentation/partners/qiskit_ibm_runtime/tutorials/Error-Suppression-and-Error-Mitigation.html). The technique used for error mitigation is called T-REx. Here we just show how these features are streamlined through Tangelo and our `IBMConnection` object: it's as simple as changing the value of the `resilience_level` in the `runtime_option` dictionary.\n",
    "\n",
    "Although IBM Quantum provides a streamlined way to perform ZNE (see link above), there is no streamlined way to both apply ZNE and ROEM at the time of writing. We thus manually perform a linear ZNE using two datapoints corresponding to noise levels 1 and 3. The latter is obtained by running our quantum circuit and replicating CNOT gates to amplify noise (e.g inserting 3 consecutive CNOT gates instead of 1). We define a simple function to produce that circuit, using the original one as input (NB: since there are only two qubits in our example, barrier operations are not required)."
   ]
  },
  {
   "cell_type": "code",
   "execution_count": null,
   "metadata": {
    "id": "aTIh6UfLakcA"
   },
   "outputs": [],
   "source": [
    "from tangelo.linq import Gate, Circuit\n",
    "\n",
    "def repeat_CNOT(circ, n_repeat):\n",
    "\n",
    "  gates = []\n",
    "  for g in circ:\n",
    "      n = n_repeat if g.name == 'CNOT' else 1\n",
    "      gates += [g]*n\n",
    "  return Circuit(gates)"
   ]
  },
  {
   "cell_type": "code",
   "execution_count": null,
   "metadata": {
    "colab": {
     "base_uri": "https://localhost:8080/",
     "height": 121
    },
    "id": "NP9ETbsvbtHc",
    "outputId": "4351b29a-b632-4d50-b214-6427e4adae37"
   },
   "outputs": [
    {
     "data": {
      "image/svg+xml": [
       "<svg xmlns=\"http://www.w3.org/2000/svg\" width=\"785.2750781249999\" height=\"100.0\"><line x1=\"30.0\" x2=\"755.2750781249999\" y1=\"25.0\" y2=\"25.0\" stroke=\"#1967d2\" stroke-width=\"1\" /><line x1=\"30.0\" x2=\"755.2750781249999\" y1=\"75.0\" y2=\"75.0\" stroke=\"#1967d2\" stroke-width=\"1\" /><line x1=\"237.05328125\" x2=\"237.05328125\" y1=\"25.0\" y2=\"75.0\" stroke=\"black\" stroke-width=\"3\" /><line x1=\"297.05328125\" x2=\"297.05328125\" y1=\"25.0\" y2=\"75.0\" stroke=\"black\" stroke-width=\"3\" /><line x1=\"357.05328125\" x2=\"357.05328125\" y1=\"25.0\" y2=\"75.0\" stroke=\"black\" stroke-width=\"3\" /><line x1=\"503.1700390625\" x2=\"503.1700390625\" y1=\"25.0\" y2=\"75.0\" stroke=\"black\" stroke-width=\"3\" /><line x1=\"563.1700390625\" x2=\"563.1700390625\" y1=\"25.0\" y2=\"75.0\" stroke=\"black\" stroke-width=\"3\" /><line x1=\"623.1700390625\" x2=\"623.1700390625\" y1=\"25.0\" y2=\"75.0\" stroke=\"black\" stroke-width=\"3\" /><rect x=\"10.0\" y=\"5.0\" width=\"40\" height=\"40\" stroke=\"black\" fill=\"white\" stroke-width=\"0\" /><text x=\"30.0\" y=\"25.0\" dominant-baseline=\"middle\" text-anchor=\"middle\" font-size=\"14px\" font-family=\"Arial\">0: </text><rect x=\"10.0\" y=\"55.0\" width=\"40\" height=\"40\" stroke=\"black\" fill=\"white\" stroke-width=\"0\" /><text x=\"30.0\" y=\"75.0\" dominant-baseline=\"middle\" text-anchor=\"middle\" font-size=\"14px\" font-family=\"Arial\">1: </text><rect x=\"70.0\" y=\"5.0\" width=\"40\" height=\"40\" stroke=\"black\" fill=\"white\" stroke-width=\"1\" /><text x=\"90.0\" y=\"25.0\" dominant-baseline=\"middle\" text-anchor=\"middle\" font-size=\"18px\" font-family=\"Arial\">X</text><rect x=\"70.0\" y=\"55.0\" width=\"40\" height=\"40\" stroke=\"black\" fill=\"white\" stroke-width=\"1\" /><text x=\"90.0\" y=\"75.0\" dominant-baseline=\"middle\" text-anchor=\"middle\" font-size=\"18px\" font-family=\"Arial\">X</text><rect x=\"130.0\" y=\"5.0\" width=\"67.05328125\" height=\"40\" stroke=\"black\" fill=\"white\" stroke-width=\"1\" /><text x=\"163.526640625\" y=\"25.0\" dominant-baseline=\"middle\" text-anchor=\"middle\" font-size=\"14px\" font-family=\"Arial\">Rx(0.5π)</text><rect x=\"130.0\" y=\"55.0\" width=\"67.05328125\" height=\"40\" stroke=\"black\" fill=\"white\" stroke-width=\"1\" /><text x=\"163.526640625\" y=\"75.0\" dominant-baseline=\"middle\" text-anchor=\"middle\" font-size=\"18px\" font-family=\"Arial\">H</text><circle cx=\"237.05328125\" cy=\"25.0\" r=\"10.0\" /><rect x=\"217.05328125\" y=\"55.0\" width=\"40\" height=\"40\" stroke=\"black\" fill=\"white\" stroke-width=\"1\" /><text x=\"237.05328125\" y=\"75.0\" dominant-baseline=\"middle\" text-anchor=\"middle\" font-size=\"18px\" font-family=\"Arial\">X</text><circle cx=\"297.05328125\" cy=\"25.0\" r=\"10.0\" /><rect x=\"277.05328125\" y=\"55.0\" width=\"40\" height=\"40\" stroke=\"black\" fill=\"white\" stroke-width=\"1\" /><text x=\"297.05328125\" y=\"75.0\" dominant-baseline=\"middle\" text-anchor=\"middle\" font-size=\"18px\" font-family=\"Arial\">X</text><circle cx=\"357.05328125\" cy=\"25.0\" r=\"10.0\" /><rect x=\"337.05328125\" y=\"55.0\" width=\"40\" height=\"40\" stroke=\"black\" fill=\"white\" stroke-width=\"1\" /><text x=\"357.05328125\" y=\"75.0\" dominant-baseline=\"middle\" text-anchor=\"middle\" font-size=\"18px\" font-family=\"Arial\">X</text><rect x=\"397.05328124999994\" y=\"55.0\" width=\"66.1167578125\" height=\"40\" stroke=\"black\" fill=\"white\" stroke-width=\"1\" /><text x=\"430.11166015624997\" y=\"75.0\" dominant-baseline=\"middle\" text-anchor=\"middle\" font-size=\"14px\" font-family=\"Arial\">Rz(0.1π)</text><circle cx=\"503.1700390625\" cy=\"25.0\" r=\"10.0\" /><rect x=\"483.1700390625\" y=\"55.0\" width=\"40\" height=\"40\" stroke=\"black\" fill=\"white\" stroke-width=\"1\" /><text x=\"503.1700390625\" y=\"75.0\" dominant-baseline=\"middle\" text-anchor=\"middle\" font-size=\"18px\" font-family=\"Arial\">X</text><circle cx=\"563.1700390625\" cy=\"25.0\" r=\"10.0\" /><rect x=\"543.1700390625\" y=\"55.0\" width=\"40\" height=\"40\" stroke=\"black\" fill=\"white\" stroke-width=\"1\" /><text x=\"563.1700390625\" y=\"75.0\" dominant-baseline=\"middle\" text-anchor=\"middle\" font-size=\"18px\" font-family=\"Arial\">X</text><circle cx=\"623.1700390625\" cy=\"25.0\" r=\"10.0\" /><rect x=\"603.1700390625\" y=\"55.0\" width=\"40\" height=\"40\" stroke=\"black\" fill=\"white\" stroke-width=\"1\" /><text x=\"623.1700390625\" y=\"75.0\" dominant-baseline=\"middle\" text-anchor=\"middle\" font-size=\"18px\" font-family=\"Arial\">X</text><rect x=\"663.1700390625\" y=\"55.0\" width=\"72.1050390625\" height=\"40\" stroke=\"black\" fill=\"white\" stroke-width=\"1\" /><text x=\"699.22255859375\" y=\"75.0\" dominant-baseline=\"middle\" text-anchor=\"middle\" font-size=\"18px\" font-family=\"Arial\">H</text><rect x=\"663.1700390625\" y=\"5.0\" width=\"72.1050390625\" height=\"40\" stroke=\"black\" fill=\"white\" stroke-width=\"1\" /><text x=\"699.22255859375\" y=\"25.0\" dominant-baseline=\"middle\" text-anchor=\"middle\" font-size=\"14px\" font-family=\"Arial\">Rx(-0.5π)</text></svg>"
      ],
      "text/plain": [
       "<cirq.contrib.svg.svg.SVGCircuit at 0x7fcc76409910>"
      ]
     },
     "execution_count": 13,
     "metadata": {},
     "output_type": "execute_result"
    }
   ],
   "source": [
    "opt_circ3 = repeat_CNOT(opt_circ, 3)\n",
    "opt_circ3.draw()"
   ]
  },
  {
   "cell_type": "markdown",
   "metadata": {
    "id": "bZsgTCLUOxU0"
   },
   "source": [
    "Because the noise characterization of a device changes, batch submission of circuits is important to make sure all data is obtained in similar conditions and the jobs are not run several hours apart, for example. We thus submit both circuits simultaneously by providing circuits and operators as lists of 2 elements.\n",
    "\n",
    "We here force `optimization_level` to be `0`, because it turns out the default value (`1`) means IBM Quantum currently optimizes the extra CNOTs away, although we do need the device to execute them and amplify the noise for ZNE."
   ]
  },
  {
   "cell_type": "code",
   "execution_count": null,
   "metadata": {
    "id": "SceRYiNm7h23"
   },
   "outputs": [],
   "source": [
    "# ROEM results (T-REx)\n",
    "job_id_roem = conn.job_submit(\"estimator\", backend_name, 10**6, [opt_circ, opt_circ3], [qu_op]*2, \n",
    "                              runtime_options={'resilience_level':1, 'optimization_level':0})\n",
    "print(job_id_roem) "
   ]
  },
  {
   "cell_type": "code",
   "execution_count": null,
   "metadata": {
    "id": "-kJOZUQ2YBKn"
   },
   "outputs": [],
   "source": [
    "# Retrieve results\n",
    "conn.job_results(job_id_roem)\n",
    "roem_results = conn.jobs_results[job_id_roem]"
   ]
  },
  {
   "cell_type": "markdown",
   "metadata": {
    "id": "JZAsaouhPtFt"
   },
   "source": [
    "We derive the standard deviation of the resulting expectation values for each of our two data points, stored into tuples."
   ]
  },
  {
   "cell_type": "code",
   "execution_count": null,
   "metadata": {
    "colab": {
     "base_uri": "https://localhost:8080/"
    },
    "id": "fg1huiiFerlG",
    "outputId": "94d9453f-76b3-4443-da20-55b6ff04dd98"
   },
   "outputs": [
    {
     "name": "stdout",
     "output_type": "stream",
     "text": [
      "(-14.582281356801207, 0.00010402729980565454)\n",
      "(-14.550073443064663, 0.00012629566832783953)\n"
     ]
    }
   ],
   "source": [
    "data_roem   = (roem_results.values[0], np.sqrt(roem_results.metadata[0]['variance'] / roem_results.metadata[0]['shots']))\n",
    "data_roem_3 = (roem_results.values[1], np.sqrt(roem_results.metadata[1]['variance'] / roem_results.metadata[1]['shots']))\n",
    "\n",
    "print(data_roem)\n",
    "print(data_roem_3)"
   ]
  },
  {
   "cell_type": "markdown",
   "metadata": {
    "id": "1LuJAlzhZtYF"
   },
   "source": [
    "Tangelo provides an implementation of Richardson's extrapolation, which helps us derive the ZNE datapoint. This function generalizes to an arbitrary number of input data points and take as input their noise levels, the corresponding expectation values and their standard deviations."
   ]
  },
  {
   "cell_type": "code",
   "execution_count": null,
   "metadata": {
    "colab": {
     "base_uri": "https://localhost:8080/"
    },
    "id": "d0Wo3m71DaZt",
    "outputId": "a7693397-8ed3-4c44-f217-d7a127eca5b1"
   },
   "outputs": [
    {
     "name": "stdout",
     "output_type": "stream",
     "text": [
      "(-14.58553651, 0.00015233875934902451)\n"
     ]
    }
   ],
   "source": [
    "from tangelo.toolboxes.post_processing.extrapolation import richardson_analytical\n",
    "\n",
    "# Use data_roem and data_roem_3 to compute ZNE results\n",
    "noise_levels = [1, 3]\n",
    "energies = [data_roem[0], data_roem_3[0]]\n",
    "stderr = [data_roem[1], data_roem_3[1]]\n",
    "\n",
    "data_roem_zne = richardson_analytical(noise_levels, energies, stderr)\n",
    "print(data_roem_zne)"
   ]
  },
  {
   "cell_type": "markdown",
   "metadata": {
    "id": "GzLKdvqc6ui2"
   },
   "source": [
    "## 5. Visualization of results"
   ]
  },
  {
   "cell_type": "markdown",
   "metadata": {
    "id": "CosUPjAd2zmO"
   },
   "source": [
    "We cleaned up and tested this notebook several weeks after running our experiment on Kolkata (Oct 2022), and the values from the cells above were obtained on other backends, for convenience. When we ran those calculations on Kolkata, we obtained the numerical results below. We plug them into the final cell, which illustrates how we built the final visualization of the results with matplotlib.\n",
    "\n",
    "As you can see, the `roem3` datapoint shows that in our experiment the additional CNOTs definitely amplified the noise and degraded the results of the calculation: the outcome was even worse than raw results."
   ]
  },
  {
   "cell_type": "code",
   "execution_count": null,
   "metadata": {
    "id": "T5jb6MzG3tAw"
   },
   "outputs": [],
   "source": [
    "# Data obtained with Kolkata in October 2022, for the final plot\n",
    "data_raw      = (-14.57206231, 0.00009134)\n",
    "data_roem     = (-14.58389566, 0.00009584)\n",
    "data_roem3    = (-14.58061396, 0.00010080)\n",
    "data_roem_zne = (-14.58553651, 0.00015234)"
   ]
  },
  {
   "cell_type": "markdown",
   "metadata": {
    "id": "1ly0l9hU940h"
   },
   "source": [
    "Let's plot these results. The dashed line shows the mean-field energy, the continuous line the exact MI-FNO energy, and the gray band what is within chemical accuracy."
   ]
  },
  {
   "cell_type": "code",
   "execution_count": null,
   "metadata": {
    "colab": {
     "base_uri": "https://localhost:8080/",
     "height": 356
    },
    "id": "It7jZVyVIfRU",
    "outputId": "59064b45-f205-4fdc-9d85-365baf5fbe2a"
   },
   "outputs": [
    {
     "name": "stdout",
     "output_type": "stream",
     "text": [
      "Energy difference between exact value and ZNE results: 1.406e-03\n",
      "\n"
     ]
    },
    {
     "data": {
      "image/png": "[encoded data removed]",
      "text/plain": [
       "<Figure size 432x576 with 1 Axes>"
      ]
     },
     "metadata": {
      "needs_background": "light"
     },
     "output_type": "display_data"
    }
   ],
   "source": [
    "import matplotlib.pyplot as plt\n",
    "\n",
    "e_ref_frag = fno_fragments[frag][\"energy_total\"] - fno_fragments[frag][\"correction\"]\n",
    "e_hf_frag = mol.mf_energy\n",
    "chem_acc_error = 1.59e-3\n",
    "\n",
    "fig,ax   = plt.subplots(1,1,figsize=(6,8))\n",
    "fig.subplots_adjust(hspace=0.0,wspace=0.0,bottom=0.25,left=0.2,top=0.7)\n",
    "\n",
    "ax.axhline(e_hf_frag,ls='--',color='gray')\n",
    "ax.axhline(e_ref_frag,ls='-',color='black')\n",
    "ax.axhspan(e_ref_frag - chem_acc_error, e_ref_frag + chem_acc_error, color='gray',alpha=0.2)\n",
    "\n",
    "ax.errorbar([0],data_raw[0],yerr=data_raw[1], marker='o', capsize=12,ms=10,mew=2,mec='b')\n",
    "ax.errorbar([1],data_roem[0],yerr=data_roem[1],marker='D',capsize=12,ms=10,mew=2,mec='r')\n",
    "ax.errorbar([2],data_roem_zne[0],yerr=data_roem_zne[1],marker='s',capsize=12,ms=10,mew=2,mec='g')\n",
    "\n",
    "ax.set_ylabel('E [Hartree]');\n",
    "ax.set_xticks([0,1,2]); ax.set_xticklabels(['RAW','ROEM','ROEM+ZNE'],rotation=15,ha='right',fontsize=10);\n",
    "\n",
    "print(f\"Energy difference between exact value and ZNE results: {abs(e_ref_frag - data_roem_zne[0]):.3e}\\n\")"
   ]
  },
  {
   "cell_type": "markdown",
   "metadata": {
    "id": "cuoPcr-FAt6l"
   },
   "source": [
    "# Closing words\n",
    "\n",
    "Tangelo is a powerful and flexible tool enabling users to study quantum systems, with streamlined integration to qiskit and qiskit-runtime. Tangelo users can easily submit experiments to backends available on IBM Quantum and leverage the features of the service.\n",
    "\n",
    "The combination of QEMIST Cloud and Tangelo allows users to explore the potential of quantum computing on systems that may otherwise be out of reach for current devices, by decomposing a problem into smaller subproblems requiring less resources and implementing workflow combining shallow circuits and noise-mitigation techniques. In this example, a system that would require 25+ qubits and circuits too deep for current devices was reduced to a few smaller problems requiring up to 6 qubits and much shallower circuits, making it more tractable for NISQ hardware.\n",
    "\n",
    "What will you do with Tangelo, QEMIST Cloud, and IBM Quantum ?"
   ]
  }
 ],
 "metadata": {
  "colab": {
   "provenance": []
  },
  "kernelspec": {
   "display_name": "Python 3 (ipykernel)",
   "language": "python",
   "name": "python3"
  },
  "language_info": {
   "codemirror_mode": {
    "name": "ipython",
    "version": 3
   },
   "file_extension": ".py",
   "mimetype": "text/x-python",
   "name": "python",
   "nbconvert_exporter": "python",
   "pygments_lexer": "ipython3",
   "version": "3.8.10"
  }
 },
 "nbformat": 4,
 "nbformat_minor": 1
}
