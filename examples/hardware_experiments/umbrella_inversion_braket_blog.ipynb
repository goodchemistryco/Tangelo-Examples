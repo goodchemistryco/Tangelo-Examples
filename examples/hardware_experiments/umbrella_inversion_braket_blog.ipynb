{
  "cells": [
    {
      "cell_type": "code",
      "source": [
        "# Download data files for this notebook\n",
        "!gdown 1_aebyOR2cNWHpOBYHOiGpzJNKuYpv0l2\n",
        "!unzip -qq files.zip"
      ],
      "metadata": {
        "id": "IW30pAKK4Rm0",
        "colab": {
          "base_uri": "https://localhost:8080/"
        },
        "outputId": "8b7caf27-590a-4961-d606-c7251334c5e0"
      },
      "id": "IW30pAKK4Rm0",
      "execution_count": null,
      "outputs": [
        {
          "output_type": "stream",
          "name": "stdout",
          "text": [
            "Downloading...\n",
            "From: https://drive.google.com/uc?id=1_aebyOR2cNWHpOBYHOiGpzJNKuYpv0l2\n",
            "To: /content/files.zip\n",
            "\r  0% 0.00/111k [00:00<?, ?B/s]\r100% 111k/111k [00:00<00:00, 50.2MB/s]\n"
          ]
        }
      ]
    },
    {
      "cell_type": "code",
      "source": [
        "# Install Tangelo with pip, from the develop branch on Github\n",
        "!pip install git+https://github.com/goodchemistryco/Tangelo.git@develop --quiet"
      ],
      "metadata": {
        "id": "rrAgDGaTScaX",
        "colab": {
          "base_uri": "https://localhost:8080/"
        },
        "outputId": "989d7a87-0e47-4065-aa96-b1a85061abb1"
      },
      "id": "rrAgDGaTScaX",
      "execution_count": null,
      "outputs": [
        {
          "output_type": "stream",
          "name": "stdout",
          "text": [
            "  Preparing metadata (setup.py) ... \u001b[?25l\u001b[?25hdone\n",
            "\u001b[2K     \u001b[90m━━━━━━━━━━━━━━━━━━━━━━━━━━━━━━━━━━━━━━━\u001b[0m \u001b[32m271.8/271.8 KB\u001b[0m \u001b[31m9.1 MB/s\u001b[0m eta \u001b[36m0:00:00\u001b[0m\n",
            "\u001b[2K     \u001b[90m━━━━━━━━━━━━━━━━━━━━━━━━━━━━━━━━━━━━━━━━\u001b[0m \u001b[32m1.1/1.1 MB\u001b[0m \u001b[31m40.0 MB/s\u001b[0m eta \u001b[36m0:00:00\u001b[0m\n",
            "\u001b[2K     \u001b[90m━━━━━━━━━━━━━━━━━━━━━━━━━━━━━━━━━━━━━━━━\u001b[0m \u001b[32m1.8/1.8 MB\u001b[0m \u001b[31m48.9 MB/s\u001b[0m eta \u001b[36m0:00:00\u001b[0m\n",
            "\u001b[?25h  Preparing metadata (setup.py) ... \u001b[?25l\u001b[?25hdone\n",
            "\u001b[2K     \u001b[90m━━━━━━━━━━━━━━━━━━━━━━━━━━━━━━━━━━━━━━\u001b[0m \u001b[32m577.4/577.4 KB\u001b[0m \u001b[31m26.2 MB/s\u001b[0m eta \u001b[36m0:00:00\u001b[0m\n",
            "\u001b[2K     \u001b[90m━━━━━━━━━━━━━━━━━━━━━━━━━━━━━━━━━━━━━━━━\u001b[0m \u001b[32m2.0/2.0 MB\u001b[0m \u001b[31m46.7 MB/s\u001b[0m eta \u001b[36m0:00:00\u001b[0m\n",
            "\u001b[2K     \u001b[90m━━━━━━━━━━━━━━━━━━━━━━━━━━━━━━━━━━━━━━\u001b[0m \u001b[32m120.2/120.2 KB\u001b[0m \u001b[31m11.2 MB/s\u001b[0m eta \u001b[36m0:00:00\u001b[0m\n",
            "\u001b[?25h  Building wheel for tangelo-gc (setup.py) ... \u001b[?25l\u001b[?25hdone\n",
            "  Building wheel for pubchempy (setup.py) ... \u001b[?25l\u001b[?25hdone\n"
          ]
        }
      ]
    },
    {
      "cell_type": "markdown",
      "id": "f6c70eb5",
      "metadata": {
        "id": "f6c70eb5"
      },
      "source": [
        "# Study of the Umbrella Effect with Quantum Computers"
      ]
    },
    {
      "cell_type": "markdown",
      "source": [
        "## Table of contents:\n",
        "* [1 Introduction](#1)\n",
        "* [2 The umbrella effect](#2)\n",
        "* [3 Reduce problem size with MI-FNO](#3)\n",
        "* [3.1 Generate the MIFNO fragments](#31)\n",
        "* [3.2 Import fragment data](#32)\n",
        "* [4 Explore quantum workflows with Tangelo](#4)\n",
        "* [4.1 ADAPT VQE circuit](#41)\n",
        "* [4.2 Simulate the noisy quantum device](#42)\n",
        "* [5.1 Preparing and running a quantum experiment on Amazon Braket](#51)\n",
        "* [5.2 Construct classical shadow and purify](#52)\n",
        "* [5.3 Energy resummation and plot](#53)"
      ],
      "metadata": {
        "id": "q-mBWxz8AnKt"
      },
      "id": "q-mBWxz8AnKt"
    },
    {
      "cell_type": "markdown",
      "id": "1c55ace3",
      "metadata": {
        "id": "1c55ace3"
      },
      "source": [
        "## 1 Introduction <a class=\"anchor\" id=\"1\"></a>\n",
        "\n",
        "In this notebook we present an experimental study of the umbrella effect on a quantum computer using [Tangelo](https://github.com/goodchemistryco/Tangelo), [Amazon Braket](https://aws.amazon.com/braket/), and [QEMIST Cloud](https://goodchemistry.com). A blog post about this study is available on [Amazon's Quantum Blog](url).\n",
        "\n",
        "The umbrella effect is a quantum effect related to tunnelling, that can be that can be observed in many organic molecules with a free electron pair residing on a trivalent atom. These include amines containing a nitrogen centre but it can also be observed in hydronium H$_3$O$^+$, in which the central atom is oxygen. We start our experiment setup by defining the hydronium molecule, and choosing a the chemical basis cc-pVDZ for our calculation."
      ]
    },
    {
      "cell_type": "code",
      "execution_count": null,
      "id": "b283c9ef",
      "metadata": {
        "id": "b283c9ef"
      },
      "outputs": [],
      "source": [
        "atoms = \"\"\"\n",
        "O    -0.63100    1.21783    0.07611\n",
        "H     0.34564    1.31652   -0.02093\n",
        "H    -0.97483    1.78491    0.80631\n",
        "H    -0.88121    0.27338    0.21147\n",
        "\"\"\"\n",
        "\n",
        "charge = 1\n",
        "spin = 0\n",
        "basis = \"cc-pVDZ\""
      ]
    },
    {
      "cell_type": "markdown",
      "id": "75d3f186",
      "metadata": {
        "id": "75d3f186"
      },
      "source": [
        "## 2 The umbrella effect <a class=\"anchor\" id=\"2\"></a>\n",
        "\n",
        "Let's illustrate the umbrella effect using the hydronium molecule. We first define a function that can vary the molecular geometry as the positions of the hydrogen atoms change around the oxygen centre. This can be parameterized in terms of a single angle between the H-O bond and the molecule's main rotational axis. To simplify the problem, we assume the bond length does not depend on the angle, and is equal to 0.986$\\overset{\\circ}{A}$."
      ]
    },
    {
      "cell_type": "code",
      "source": [
        "def H3O_angle(theta):\n",
        "    d = 0.986\n",
        "    theta = theta*np.pi/180\n",
        "    C, S = np.cos(theta), np.sin(theta)\n",
        "    c, s = np.cos(np.pi/3), np.sin(np.pi/3)\n",
        "    H_pos = d*np.array([[   S,    0, C],\n",
        "                        [-S*c,  S*s, C],\n",
        "                        [-S*c, -S*s, C]])\n",
        "    return [[\"O\", (0.,0.,0.)], [\"H\", tuple(H_pos[0])], [\"H\", tuple(H_pos[1])], [\"H\", tuple(H_pos[2])]]"
      ],
      "metadata": {
        "id": "1eCuqrTBp-jK"
      },
      "id": "1eCuqrTBp-jK",
      "execution_count": null,
      "outputs": []
    },
    {
      "cell_type": "markdown",
      "source": [
        "We calculate the energy of the molecule for a range of angles. Here, we limit ourselves to the Hartree-Fock solution. We build the system as a ``SecondQuantizedMolecule`` object, which automatically calculates the mean-field energy."
      ],
      "metadata": {
        "id": "kLH836merXx-"
      },
      "id": "kLH836merXx-"
    },
    {
      "cell_type": "code",
      "execution_count": null,
      "id": "406235f6",
      "metadata": {
        "scrolled": true,
        "id": "406235f6"
      },
      "outputs": [],
      "source": [
        "import numpy as np\n",
        "\n",
        "from tangelo import SecondQuantizedMolecule\n",
        "\n",
        "theta = np.linspace(60, 120, 31)\n",
        "rhf = []\n",
        "\n",
        "for t in theta:\n",
        "    mol_theta = SecondQuantizedMolecule(H3O_angle(t), q=charge, spin=spin, basis=basis)\n",
        "    rhf.append(mol_theta.mean_field.e_tot)"
      ]
    },
    {
      "cell_type": "markdown",
      "id": "9059434a",
      "metadata": {
        "id": "9059434a"
      },
      "source": [
        "Plotting the results below we see the double well potential of the umbrella curve, which allows the system to tunnel from one minimum to the other, which corresponds to the electron pair flipping from one side of the oxygen atom to the other."
      ]
    },
    {
      "cell_type": "code",
      "execution_count": null,
      "id": "f2f112a1",
      "metadata": {
        "scrolled": true,
        "id": "f2f112a1",
        "outputId": "f1babb36-3189-467e-daed-08ee79dab436",
        "colab": {
          "base_uri": "https://localhost:8080/",
          "height": 296
        }
      },
      "outputs": [
        {
          "output_type": "execute_result",
          "data": {
            "text/plain": [
              "Text(0, 0.5, 'Energy [Ha]')"
            ]
          },
          "metadata": {},
          "execution_count": 6
        },
        {
          "output_type": "display_data",
          "data": {
            "text/plain": [
              "<Figure size 432x288 with 1 Axes>"
            ],
            "image/png": "[encoded data removed]"
          },
          "metadata": {
            "needs_background": "light"
          }
        }
      ],
      "source": [
        "import pylab as plt\n",
        "\n",
        "plt.plot(theta, rhf)\n",
        "plt.xlabel(\"Angle [deg]\")\n",
        "plt.ylabel(\"Energy [Ha]\")"
      ]
    },
    {
      "cell_type": "markdown",
      "source": [
        "## 3 Reduce problem size with MI-FNO <a class=\"anchor\" id=\"3\"></a>\n",
        "\n",
        "Studying the umbrella effect by tackling this chemical system head-on is well beyond the capabilities of current quantum computers. For instance, a straightforward approach using the Variational Quantum Eigensolver (VQE) algorithm with the UCCSD ansatz would yield circuits requiring over 50 qubits, millions of gates, and hundreds of thousands variational parameters. Numerical results would be drown in noise. In order to explore this problem with quantum computing, a more sophisticated workflow is necessary. \n",
        "\n",
        "This section describes how tools such as QEMIST Cloud and Tangelo can be combined to allow us to explore larger chemical systems with our limited quantum devices. The MI-FNO method available in QEMIST cloud can be employed to decompose the initial problem into a collection of smaller subproblems (\"fragments\"), whose resolution requires less computational resources. For our quantum experiment, we attempt to solve one of these subproblems using a quantum workflow. We then analyze the results and assess the difference in total energy between our quantum experiment and the fully classical calculations.\n",
        "\n",
        "In the first part, we show how to apply MI-FNO to the system of interest and compute classical reference values. We then show how to import them into Tangelo, to enable our quantum exploration."
      ],
      "metadata": {
        "id": "lV0P5HII0ww_"
      },
      "id": "lV0P5HII0ww_"
    },
    {
      "cell_type": "markdown",
      "id": "93bac1af",
      "metadata": {
        "id": "93bac1af"
      },
      "source": [
        "## 3.1 Generate the MI-FNO fragments <a class=\"anchor\" id=\"31\"></a>\n"
      ]
    },
    {
      "cell_type": "markdown",
      "id": "64e0085b",
      "metadata": {
        "id": "64e0085b"
      },
      "source": [
        "The following code excerpt illustrates how QEMIST Cloud users can perform a MI-FNO decomposition using our client library, and obtain reference results computed with our classical solvers.\n",
        "\n",
        "Here we define a molecule object, and then our approach, based on combining the Heat-Bath Configuration interaction (HBCI) classical solver, the Method of Increments (MI) and the Frozen Natural Orbitals (FNO) method for the virtual space cutoff. We request an estimate of the cost of the simulation and then perform it.\n",
        "\n",
        "To simplify this notebook, the results of this simulation have been precomputed and provided. The code snippets are available below, but were not designed to be run in this notebook as QEMIST Cloud is not yet publically available at the time of writing."
      ]
    },
    {
      "cell_type": "markdown",
      "id": "025ab1ae",
      "metadata": {
        "scrolled": true,
        "id": "025ab1ae"
      },
      "source": [
        "```python\n",
        "import os\n",
        "os.environ['QEMIST_PROJECT_ID'] = \"your-project-ID\"\n",
        "os.environ['QEMIST_AUTH_TOKEN'] = \"your-authentication-token\"\n",
        "\n",
        "from qemist_client.molecule import Molecule\n",
        "from qemist_client.problem_decomposition import IncrementalDecomposition\n",
        "from qemist_client.problem_reduction import FNO\n",
        "from qemist_client.electronic_structure_solvers import HBCI\n",
        "from qemist_client.util import get_results, check_problem_cost\n",
        "\n",
        "qemist_mol = Molecule(atoms, basis=basis, charge=charge, spin=spin)\n",
        "\n",
        "hbci_solver = HBCI()\n",
        "fno = FNO(hbci_solver, export_fragment_data=True)\n",
        "mi_solver = IncrementalDecomposition(electronic_structure_solver=fno, \n",
        "                                     truncation_order=3, \n",
        "                                     method_of_truncation_threshold=5e-3)\n",
        "\n",
        "# Request a cost estimate of the simulation beforehand\n",
        "cost = check_problem_cost(qemist_mol, mi_solver)\n",
        "\n",
        "# Submit the problem to QEMIST Cloud\n",
        "handle = mi_solver.simulate(system=qemist_mol)\n",
        "```"
      ]
    },
    {
      "cell_type": "markdown",
      "id": "0cae1df2",
      "metadata": {
        "id": "0cae1df2"
      },
      "source": [
        "\n",
        "The following code exports the fragment data resulting from the QEMIST Cloud simulation, later to be imported into Tangelo."
      ]
    },
    {
      "cell_type": "code",
      "execution_count": null,
      "id": "a958adcb",
      "metadata": {
        "id": "a958adcb"
      },
      "outputs": [],
      "source": [
        "import json\n",
        "\n",
        "path = \"./data_H3O_ccpvdz_mifno_hbci/\"\n",
        "jfile = \"H3O_CCPVDZ_MIFNO_HBCI.json\""
      ]
    },
    {
      "cell_type": "markdown",
      "id": "4d0f5de5",
      "metadata": {
        "scrolled": false,
        "id": "4d0f5de5"
      },
      "source": [
        "```python\n",
        "# Retrieve results using handle\n",
        "qemist_res = get_results(handle)\n",
        "\n",
        "# Export subproblem data to individual files\n",
        "with open(path + jfile, \"w\") as f:\n",
        "    json.dump(qemist_res, f)\n",
        "    \n",
        "for n_trunc, frags in qemist_res[\"subproblem_data\"].items():\n",
        "    for frag_id, frag in frags.items():\n",
        "        prob_handle = frag[\"problem_handle\"]\n",
        "\n",
        "        if prob_handle:\n",
        "            frag_res = get_results(prob_handle)\n",
        "\n",
        "            with open(path + f\"/{prob_handle}.json\", \"w\") as f:\n",
        "                json.dump(frag_res, f)\n",
        "```"
      ]
    },
    {
      "cell_type": "markdown",
      "id": "208e9762",
      "metadata": {
        "id": "208e9762"
      },
      "source": [
        "## 3.2 Import fragment data <a class=\"anchor\" id=\"32\"></a>\n",
        "\n",
        "We import the data resulting from the simulation run by QEMIST Cloud into Tangelo and prepare the quantum experiment using the fragment data. The `MIFNOHelper` class provided by Tangelo handles most of the work.\n",
        "\n",
        "Printing the resulting object displays reference energies computed by QEMIST Cloud, as well as the breakdown of the fragments and how they contribute to the energy the system. We find out that the initial problem was broken into:\n",
        "- 4 1-body fragments\n",
        "- 6 2-body fragments\n",
        "- 4 3-body fragments\n",
        "\n",
        "These subproblems contribute differently to the total energy of the system and their computational complexity vary. This information can guide us in selecting subproblems that are relevant to current quantum devices or quantum algorithms. \n",
        "\n",
        "This exploration is currently done manually, with the purpose of research in mind. As advances in quantum hardware and algorithms are made, automated scheduling and streamlined execution of relevant subproblems on quantum devices through QEMIST Cloud could become a reality."
      ]
    },
    {
      "cell_type": "code",
      "execution_count": null,
      "id": "c1c647ae",
      "metadata": {
        "id": "c1c647ae",
        "colab": {
          "base_uri": "https://localhost:8080/"
        },
        "outputId": "f749c092-63be-46a9-91da-afeb5463f6a5"
      },
      "outputs": [
        {
          "output_type": "stream",
          "name": "stdout",
          "text": [
            "(All the energy values are in hartree)\n",
            "Total MI-FNO energy = -76.52019103159677\n",
            "Correlation energy = -0.2093647955082076\n",
            "Mean-field energy = -76.31082623608856\n",
            "            epsilon     problem_handle  energy_correlation  correction  \\\n",
            "(1,)      -0.027343  64856232621422289           -0.027343   -0.009120   \n",
            "(2,)      -0.027344  22210935403755217           -0.027344   -0.009120   \n",
            "(3,)      -0.027344  14203819283887825           -0.027344   -0.009120   \n",
            "(4,)      -0.017714  63323814060013265           -0.017714   -0.017714   \n",
            "(1, 2)    -0.016601  29226064402101999           -0.071288   -0.026852   \n",
            "(1, 3)    -0.016601  53777875582498543           -0.071288   -0.026852   \n",
            "(1, 4)    -0.024389  42209956696340207           -0.069446   -0.029541   \n",
            "(2, 3)    -0.016602  30200863064504047           -0.071290   -0.026852   \n",
            "(2, 4)    -0.024390  15696294649444079           -0.069448   -0.029541   \n",
            "(3, 4)    -0.024390  62696834734143215           -0.069448   -0.029541   \n",
            "(1, 2, 3)  0.000446  33971724091307775           -0.131389   -0.052484   \n",
            "(1, 2, 4)  0.004302  26925301961242367           -0.133479   -0.057833   \n",
            "(1, 3, 4)  0.004302  39384675669423871           -0.133479   -0.057833   \n",
            "(2, 3, 4)  0.004302  59500365453637375           -0.133481   -0.057833   \n",
            "\n",
            "           energy_total  \n",
            "(1,)         -76.338169  \n",
            "(2,)         -76.338170  \n",
            "(3,)         -76.338170  \n",
            "(4,)         -76.328540  \n",
            "(1, 2)       -76.382115  \n",
            "(1, 3)       -76.382115  \n",
            "(1, 4)       -76.380272  \n",
            "(2, 3)       -76.382116  \n",
            "(2, 4)       -76.380274  \n",
            "(3, 4)       -76.380274  \n",
            "(1, 2, 3)    -76.442216  \n",
            "(1, 2, 4)    -76.444305  \n",
            "(1, 3, 4)    -76.444305  \n",
            "(2, 3, 4)    -76.444307  \n"
          ]
        }
      ],
      "source": [
        "from tangelo.problem_decomposition import MIFNOHelper\n",
        "\n",
        "# Read the results from the json files\n",
        "fno_fragments = MIFNOHelper(mi_json_file=path+jfile, fno_json_folder=path)\n",
        "print(fno_fragments)\n",
        "\n",
        "# Import MO coeffs\n",
        "fno_fragments.retrieve_mo_coeff(path)"
      ]
    },
    {
      "cell_type": "markdown",
      "id": "b8967e8e",
      "metadata": {
        "id": "b8967e8e"
      },
      "source": [
        "We choose fragment `(2,)`, one of the one-body fragments listed above, as the focus of our quantum experiment. The code cell below constructs its Hamiltonian and maps it into qubit form using the scBK mapping. This yields a two-qubit problem which can be easily fitted on any quantum device. The Hamiltonian only involves X and Z Pauli operators, which means we only need to run simulations in a handful of measurement bases, as shown below.\n",
        "\n",
        "You can try selecting a different fragment and see what qubit Hamiltonian comes out of it. For instance, some 3-body fragments yield Hamiltonians mapped to 12 qubits (10 if using scBK for the mapping)."
      ]
    },
    {
      "cell_type": "code",
      "execution_count": null,
      "id": "839b8e88",
      "metadata": {
        "id": "839b8e88",
        "colab": {
          "base_uri": "https://localhost:8080/"
        },
        "outputId": "6592f3d9-32e6-4853-8af9-d8c675fdba26"
      },
      "outputs": [
        {
          "output_type": "stream",
          "name": "stdout",
          "text": [
            "-75.03707306024805 [] +\n",
            "0.025894296540555667 [X0] +\n",
            "0.2177299223332833 [X0 X1] +\n",
            "0.025894165002379788 [X0 Z1] +\n",
            "0.6466599564486681 [Z0] +\n",
            "0.025894165002379788 [Z0 X1] +\n",
            "0.0195667370570633 [Z0 Z1] +\n",
            "0.02589429654055568 [X1] +\n",
            "0.6466599564486681 [Z1]\n"
          ]
        }
      ],
      "source": [
        "from tangelo.toolboxes.qubit_mappings.mapping_transform import fermion_to_qubit_mapping\n",
        "\n",
        "# Select fragment of interest.\n",
        "selected_fragment = \"(2,)\"\n",
        "\n",
        "frozen_orbitals = fno_fragments[selected_fragment][\"frozen_orbitals_truncated\"]\n",
        "correction = fno_fragments[selected_fragment][\"correction\"]\n",
        "e_tot_frag = fno_fragments[selected_fragment][\"energy_total\"]\n",
        "\n",
        "# Create molecule object for fragment, and compute the molecular integrals.\n",
        "mol = SecondQuantizedMolecule(atoms, q=charge, spin=spin, basis=basis, frozen_orbitals=frozen_orbitals)\n",
        "\n",
        "# Selection of a fragment and computing the related FermionOperator.\n",
        "ferm_op = fno_fragments.compute_fermionoperator(mol, selected_fragment)\n",
        "ferm_op.n_electrons, ferm_op.n_spinorbitals = fno_fragments.n_electrons_spinorbs(selected_fragment)\n",
        "ferm_op.spin = spin\n",
        "\n",
        "# Map FermionOperator to QubitOperator.\n",
        "n_electrons, n_spinorbitals = fno_fragments.n_electrons_spinorbs(selected_fragment)\n",
        "qu_op = fermion_to_qubit_mapping(ferm_op, mapping=\"scbk\", n_spinorbitals=n_spinorbitals, n_electrons=n_electrons)\n",
        "\n",
        "print(qu_op)"
      ]
    },
    {
      "cell_type": "markdown",
      "id": "b5a80391",
      "metadata": {
        "id": "b5a80391"
      },
      "source": [
        "## 4 Explore quantum workflows with Tangelo <a class=\"anchor\" id=\"4\"></a>\n",
        "\n",
        "A number of quantum solvers are available in Tangelo. In order to design an interesting quantum experiment, we need to do some exploration and try to find an approach with reasonable compute requirements (number of qubits, number of gate operations, number of measurements, etc). This section first shows how we investigated an approach based on ADAPT-VQE using an exact simulator, and then attempted to account for the presence of noise for the target quantum device.\n",
        "\n",
        "## 4.1 ADAPT VQE circuit <a class=\"anchor\" id=\"41\"></a>\n",
        "\n",
        "Here we use the [ADAPT](https://doi.org/10.1038/s41467-019-10988-2) ansatz with a pool of operators defined using Qubit Coupled Cluster ([QCC](https://arxiv.org/pdf/1906.11192.pdf)) by constructing a Direct Inversion Set (DIS) from a qubit Hamiltonian. For our use case, this approach results in a shallow circuit that is within current quantum devices capabilities.\n",
        "\n",
        "More algorithms are available in Tangelo, each supporting a number of built-in options and user customization: we invite you to explore them."
      ]
    },
    {
      "cell_type": "code",
      "execution_count": null,
      "id": "972e24d1",
      "metadata": {
        "id": "972e24d1"
      },
      "outputs": [],
      "source": [
        "from tangelo.toolboxes.ansatz_generator._qubit_cc import construct_dis\n",
        "from tangelo.toolboxes.ansatz_generator._qubit_mf import init_qmf_from_hf\n",
        "\n",
        "def qcc_pool(mol: SecondQuantizedMolecule, mapping, up_then_down, qubit_hamiltonian):\n",
        "    qmf_var_params = init_qmf_from_hf(mol.n_active_sos, mol.n_active_electrons, \n",
        "                                      mapping, up_then_down, mol.spin)\n",
        "    dis = construct_dis(qubit_hamiltonian, qmf_var_params, 0.)\n",
        "    dis_flat = [item for sublist in dis for item in sublist]\n",
        "    return dis_flat"
      ]
    },
    {
      "cell_type": "code",
      "execution_count": null,
      "id": "adbca295",
      "metadata": {
        "id": "adbca295",
        "colab": {
          "base_uri": "https://localhost:8080/"
        },
        "outputId": "fdb88a28-f48d-41c2-f9b0-4a7eeddce6dc"
      },
      "outputs": [
        {
          "output_type": "stream",
          "name": "stderr",
          "text": [
            "/usr/local/lib/python3.8/dist-packages/tangelo/toolboxes/qubit_mappings/statevector_mapping.py:149: RuntimeWarning: Symmetry-conserving Bravyi-Kitaev enforces all spin-up followed by all spin-down ordering.\n",
            "  warnings.warn(\"Symmetry-conserving Bravyi-Kitaev enforces all spin-up followed by all spin-down ordering.\", RuntimeWarning)\n",
            "/usr/local/lib/python3.8/dist-packages/tangelo/toolboxes/qubit_mappings/statevector_mapping.py:149: RuntimeWarning: Symmetry-conserving Bravyi-Kitaev enforces all spin-up followed by all spin-down ordering.\n",
            "  warnings.warn(\"Symmetry-conserving Bravyi-Kitaev enforces all spin-up followed by all spin-down ordering.\", RuntimeWarning)\n",
            "/usr/local/lib/python3.8/dist-packages/tangelo/toolboxes/qubit_mappings/statevector_mapping.py:149: RuntimeWarning: Symmetry-conserving Bravyi-Kitaev enforces all spin-up followed by all spin-down ordering.\n",
            "  warnings.warn(\"Symmetry-conserving Bravyi-Kitaev enforces all spin-up followed by all spin-down ordering.\", RuntimeWarning)\n"
          ]
        }
      ],
      "source": [
        "from tangelo.algorithms import ADAPTSolver\n",
        "\n",
        "pool_args = {\"mol\": mol, \"mapping\": \"scbk\", \"up_then_down\": True, \"qubit_hamiltonian\": qu_op}\n",
        "#opt_dict = {\"molecule\": mol, \"tol\": 0.01, \"max_cycles\": 5,\n",
        "#            \"qubit_mapping\": \"scbk\", \"n_spinorbitals\": n_spinorbitals, \"n_electrons\": n_electrons, \n",
        "#            \"pool\": qcc_pool, \"pool_args\": pool_args}\n",
        "opt_dict = {\"qubit_hamiltonian\": qu_op, \"tol\": 0.01, \"max_cycles\": 5,\n",
        "            \"qubit_mapping\": \"scbk\", \"n_spinorbitals\": n_spinorbitals, \"n_electrons\": n_electrons, \n",
        "            \"spin\": spin, \"pool\": qcc_pool, \"pool_args\": pool_args}\n",
        "\n",
        "adapt_solver = ADAPTSolver(opt_dict)\n",
        "adapt_solver.build()\n",
        "adapt_solver.simulate()\n",
        "\n",
        "adapt_circ = adapt_solver.vqe_solver.optimal_circuit"
      ]
    },
    {
      "cell_type": "markdown",
      "id": "7606cce8",
      "metadata": {
        "id": "7606cce8"
      },
      "source": [
        "A quick look at the ADAPT circuit resulting from the code above. It is shallow enough for the current quantum devices."
      ]
    },
    {
      "cell_type": "code",
      "execution_count": null,
      "id": "b9528094",
      "metadata": {
        "scrolled": true,
        "id": "b9528094",
        "colab": {
          "base_uri": "https://localhost:8080/",
          "height": 138
        },
        "outputId": "97dcc515-3c02-461a-aa45-e7b78a6460cd"
      },
      "outputs": [
        {
          "output_type": "stream",
          "name": "stdout",
          "text": [
            "{'qubit_hamiltonian_terms': 9, 'circuit_width': 2, 'circuit_depth': 6, 'circuit_2qubit_gates': 2, 'circuit_var_gates': 1, 'vqe_variational_parameters': 1}\n"
          ]
        },
        {
          "output_type": "execute_result",
          "data": {
            "text/plain": [
              "<cirq.contrib.svg.svg.SVGCircuit at 0x7f45bd39aee0>"
            ],
            "image/svg+xml": "<svg xmlns=\"http://www.w3.org/2000/svg\" width=\"563.0895312499999\" height=\"100.0\"><line x1=\"30.0\" x2=\"533.0895312499999\" y1=\"25.0\" y2=\"25.0\" stroke=\"#1967d2\" stroke-width=\"1\" /><line x1=\"30.0\" x2=\"533.0895312499999\" y1=\"75.0\" y2=\"75.0\" stroke=\"#1967d2\" stroke-width=\"1\" /><line x1=\"237.05328125\" x2=\"237.05328125\" y1=\"25.0\" y2=\"75.0\" stroke=\"black\" stroke-width=\"3\" /><line x1=\"400.9844921875\" x2=\"400.9844921875\" y1=\"25.0\" y2=\"75.0\" stroke=\"black\" stroke-width=\"3\" /><rect x=\"10.0\" y=\"5.0\" width=\"40\" height=\"40\" stroke=\"black\" fill=\"white\" stroke-width=\"0\" /><text x=\"30.0\" y=\"25.0\" dominant-baseline=\"middle\" text-anchor=\"middle\" font-size=\"14px\" font-family=\"Arial\">0: </text><rect x=\"10.0\" y=\"55.0\" width=\"40\" height=\"40\" stroke=\"black\" fill=\"white\" stroke-width=\"0\" /><text x=\"30.0\" y=\"75.0\" dominant-baseline=\"middle\" text-anchor=\"middle\" font-size=\"14px\" font-family=\"Arial\">1: </text><rect x=\"70.0\" y=\"5.0\" width=\"40\" height=\"40\" stroke=\"black\" fill=\"white\" stroke-width=\"1\" /><text x=\"90.0\" y=\"25.0\" dominant-baseline=\"middle\" text-anchor=\"middle\" font-size=\"18px\" font-family=\"Arial\">X</text><rect x=\"70.0\" y=\"55.0\" width=\"40\" height=\"40\" stroke=\"black\" fill=\"white\" stroke-width=\"1\" /><text x=\"90.0\" y=\"75.0\" dominant-baseline=\"middle\" text-anchor=\"middle\" font-size=\"18px\" font-family=\"Arial\">X</text><rect x=\"130.0\" y=\"5.0\" width=\"67.05328125\" height=\"40\" stroke=\"black\" fill=\"white\" stroke-width=\"1\" /><text x=\"163.526640625\" y=\"25.0\" dominant-baseline=\"middle\" text-anchor=\"middle\" font-size=\"14px\" font-family=\"Arial\">Rx(0.5π)</text><rect x=\"130.0\" y=\"55.0\" width=\"67.05328125\" height=\"40\" stroke=\"black\" fill=\"white\" stroke-width=\"1\" /><text x=\"163.526640625\" y=\"75.0\" dominant-baseline=\"middle\" text-anchor=\"middle\" font-size=\"18px\" font-family=\"Arial\">H</text><circle cx=\"237.05328125\" cy=\"25.0\" r=\"10.0\" /><rect x=\"217.05328125\" y=\"55.0\" width=\"40\" height=\"40\" stroke=\"black\" fill=\"white\" stroke-width=\"1\" /><text x=\"237.05328125\" y=\"75.0\" dominant-baseline=\"middle\" text-anchor=\"middle\" font-size=\"18px\" font-family=\"Arial\">X</text><rect x=\"277.05328125\" y=\"55.0\" width=\"83.93121093750001\" height=\"40\" stroke=\"black\" fill=\"white\" stroke-width=\"1\" /><text x=\"319.01888671875\" y=\"75.0\" dominant-baseline=\"middle\" text-anchor=\"middle\" font-size=\"14px\" font-family=\"Arial\">Rz(0.053π)</text><circle cx=\"400.9844921875\" cy=\"25.0\" r=\"10.0\" /><rect x=\"380.9844921875\" y=\"55.0\" width=\"40\" height=\"40\" stroke=\"black\" fill=\"white\" stroke-width=\"1\" /><text x=\"400.9844921875\" y=\"75.0\" dominant-baseline=\"middle\" text-anchor=\"middle\" font-size=\"18px\" font-family=\"Arial\">X</text><rect x=\"440.9844921875\" y=\"55.0\" width=\"72.1050390625\" height=\"40\" stroke=\"black\" fill=\"white\" stroke-width=\"1\" /><text x=\"477.03701171875\" y=\"75.0\" dominant-baseline=\"middle\" text-anchor=\"middle\" font-size=\"18px\" font-family=\"Arial\">H</text><rect x=\"440.9844921875\" y=\"5.0\" width=\"72.1050390625\" height=\"40\" stroke=\"black\" fill=\"white\" stroke-width=\"1\" /><text x=\"477.03701171875\" y=\"25.0\" dominant-baseline=\"middle\" text-anchor=\"middle\" font-size=\"14px\" font-family=\"Arial\">Rx(-0.5π)</text></svg>"
          },
          "metadata": {},
          "execution_count": 13
        }
      ],
      "source": [
        "print(adapt_solver.get_resources())\n",
        "adapt_circ.draw()"
      ]
    },
    {
      "cell_type": "markdown",
      "id": "6bc9305e",
      "metadata": {
        "id": "6bc9305e"
      },
      "source": [
        "## 4.2 Optional: Simulate the noisy quantum device  <a class=\"anchor\" id=\"42\"></a>\n",
        "\n",
        "We can run the circuit on a noisy simulator and recompute the fragment energy to get some idea of what to expect before we commit to running a full experiment, which costs money and time.\n",
        "\n",
        "Below we define a noise model based on specifications of the IonQ Harmony device, which is the machine we considered for running our experiment. The data used came from the Amazon Braket device page, during summer 2022."
      ]
    },
    {
      "cell_type": "code",
      "execution_count": null,
      "id": "2ee1fbc0",
      "metadata": {
        "id": "2ee1fbc0"
      },
      "outputs": [],
      "source": [
        "from tangelo.linq.noisy_simulation import NoiseModel\n",
        "\n",
        "# Define 1- and 2-qubit gate error  (Based on Braket dashboard)\n",
        "n1q = 1 - 0.9953\n",
        "n2q = 1 - 0.9394\n",
        "\n",
        "# Build a simple depolarization model using the gates in our circuit\n",
        "nmd = NoiseModel()\n",
        "nmd.add_quantum_error(\"CNOT\", \"depol\", n2q)\n",
        "for gate in [\"RX\", \"RZ\", \"X\", \"H\"]:\n",
        "    nmd.add_quantum_error(gate, \"depol\", n1q)"
      ]
    },
    {
      "cell_type": "markdown",
      "id": "55bebe42",
      "metadata": {
        "id": "55bebe42"
      },
      "source": [
        "As with quantum hardware, we need to append the circuit with measurement basis gates before submitting them to a device or simulator. In the case of the selected 1-body fragment, we would need to acquire measurements in the four bases specified below, as the terms in the Hamiltonian only commute with these."
      ]
    },
    {
      "cell_type": "code",
      "execution_count": null,
      "id": "5700ec33",
      "metadata": {
        "id": "5700ec33"
      },
      "outputs": [],
      "source": [
        "from tangelo.linq import Circuit\n",
        "from tangelo.linq.helpers.circuits import measurement_basis_gates, pauli_string_to_of\n",
        "\n",
        "circs = []\n",
        "basis_list = [\"ZZ\", \"XZ\", \"ZX\", \"XX\"]\n",
        "\n",
        "for b in basis_list:\n",
        "    c = adapt_circ.copy()\n",
        "    c += Circuit(measurement_basis_gates(pauli_string_to_of(b)))\n",
        "    circs.append(c)"
      ]
    },
    {
      "cell_type": "markdown",
      "id": "2112b48a",
      "metadata": {
        "id": "2112b48a"
      },
      "source": [
        "We perform a noisy simulation of the four circuits and obtain the corresponding frequency histograms, here using Cirq as a backend."
      ]
    },
    {
      "cell_type": "code",
      "execution_count": null,
      "id": "7ae8f7fe",
      "metadata": {
        "scrolled": true,
        "id": "7ae8f7fe"
      },
      "outputs": [],
      "source": [
        "from tangelo.linq import get_backend\n",
        "\n",
        "sim = get_backend(\"cirq\", n_shots=10**6, noise_model=nmd)\n",
        "hists = [sim.simulate(c)[0] for c in circs]"
      ]
    },
    {
      "cell_type": "markdown",
      "id": "78599a64",
      "metadata": {
        "id": "78599a64"
      },
      "source": [
        "We can then use them to compute the expectation value for the energy of the fragment. We employ histogram aggregation to use all available data for the terms that can be computed from more than one measurement basis. The ``Histogram`` class facilitates these steps."
      ]
    },
    {
      "cell_type": "code",
      "execution_count": null,
      "id": "431bcce6",
      "metadata": {
        "scrolled": true,
        "id": "431bcce6",
        "colab": {
          "base_uri": "https://localhost:8080/"
        },
        "outputId": "ab798bca-a7f3-4a08-b52f-79401f853c43"
      },
      "outputs": [
        {
          "output_type": "stream",
          "name": "stdout",
          "text": [
            "MI-FNO energy:      -76.33817036745623\n",
            "Aggregated energy:  -76.16557519701912\n"
          ]
        }
      ],
      "source": [
        "from tangelo.toolboxes.post_processing.histogram import Histogram, aggregate_histograms\n",
        "from tangelo.linq.helpers.circuits import pauli_of_to_string, get_compatible_bases\n",
        "\n",
        "hist_dict = {b: Histogram(h, 10**6) for b,h in zip(basis_list, hists)}\n",
        "en = 0.\n",
        "\n",
        "for t,c in qu_op.terms.items():\n",
        "    p = pauli_of_to_string(t,2)\n",
        "    bl = get_compatible_bases(p, basis_list)\n",
        "    en += aggregate_histograms(*[hist_dict[b] for b in bl]).get_expectation_value(t,c)\n",
        "\n",
        "print(\"MI-FNO energy:     \", e_tot_frag)\n",
        "print(\"Aggregated energy: \", en + correction)"
      ]
    },
    {
      "cell_type": "markdown",
      "id": "594c1a3c",
      "metadata": {
        "id": "594c1a3c"
      },
      "source": [
        "We can use the computed fragment energy to recalculate the full system energy to get an idea of the impact on overall total energy:"
      ]
    },
    {
      "cell_type": "code",
      "execution_count": null,
      "id": "da6df16f",
      "metadata": {
        "scrolled": false,
        "id": "da6df16f",
        "colab": {
          "base_uri": "https://localhost:8080/"
        },
        "outputId": "28cbcbf2-b451-457a-d05c-14b4697c2326"
      },
      "outputs": [
        {
          "output_type": "stream",
          "name": "stdout",
          "text": [
            "MI-FNO energy:      -76.52019103159677\n",
            "Simulated energy:  -76.34759586115966\n"
          ]
        }
      ],
      "source": [
        "# Energy resummation\n",
        "e_mifno = fno_fragments.e_tot\n",
        "e_sim= fno_fragments.mi_summation({\"(2,)\": en})\n",
        "\n",
        "print(\"MI-FNO energy:     \", e_mifno)\n",
        "print(\"Simulated energy: \", e_sim)"
      ]
    },
    {
      "cell_type": "markdown",
      "id": "fb6a0f76",
      "metadata": {
        "id": "fb6a0f76"
      },
      "source": [
        "We see that the energy simulated using the noise level obtained from the characterization of the IonQ Harmony device differs significantly from the MI-FNO energy. This motivates us to introduce some error mitigation techniques in order to correct for the hardware noise."
      ]
    },
    {
      "cell_type": "markdown",
      "source": [
        "# 5 Designing and running a quantum experiment"
      ],
      "metadata": {
        "id": "W7PdS9PUBfCN"
      },
      "id": "W7PdS9PUBfCN"
    },
    {
      "cell_type": "markdown",
      "id": "bdccb687",
      "metadata": {
        "id": "bdccb687"
      },
      "source": [
        "One of the more flexible approaches to estimating eigenvalues from a quantum state is the [classical shadow protocol](https://arxiv.org/abs/1711.01053). By performing measurements for a randomized set of Pauli operator tensor products we can recreate a classical \"snapshot\" of the quantum state, which can be used to calculate expectation values of observables or construct a density matrix. Tangelo provides us with tools to construct and operate with classical shadows.\n",
        "\n",
        "The second mitigation strategy we employ is symmetry post-selection. The idea is to apply a symmetry operator corresponding to a Pauli word that commutes with the Hamiltonian and entangle the system with an ancilla acting as a symmetry verification qubit. We then select only the samples that are associated with the correct symmetry eigenvalue: the other samples are discarded.\n",
        "\n"
      ]
    },
    {
      "cell_type": "markdown",
      "source": [
        "In this experiment, we examine how well these two techniques perform, separately and together. We apply this approach using a $ZZ$ symmetry operator and construct a randomized classical shadow, which is necessary to reconstruct the reduced density matrices required to post-process the results. As illustrated in the cell below, applying this approach to our ADAPT circuit would entangle our 2 qubits with an additional ancilla qubit."
      ],
      "metadata": {
        "id": "wAlU9uBHoWmg"
      },
      "id": "wAlU9uBHoWmg"
    },
    {
      "cell_type": "code",
      "source": [
        "from tangelo.toolboxes.post_processing import ancilla_symmetry_circuit\n",
        "\n",
        "adapt_symmpostselect_circ = ancilla_symmetry_circuit(adapt_circ, \"ZZ\")\n",
        "adapt_symmpostselect_circ.draw()"
      ],
      "metadata": {
        "colab": {
          "base_uri": "https://localhost:8080/",
          "height": 171
        },
        "id": "Bisz1XBTkzwi",
        "outputId": "8f55a913-0ba8-494d-c033-8c5d3d28ef38"
      },
      "id": "Bisz1XBTkzwi",
      "execution_count": null,
      "outputs": [
        {
          "output_type": "execute_result",
          "data": {
            "text/plain": [
              "<cirq.contrib.svg.svg.SVGCircuit at 0x7f45bd369f70>"
            ],
            "image/svg+xml": "<svg xmlns=\"http://www.w3.org/2000/svg\" width=\"683.0895312499999\" height=\"150.0\"><line x1=\"30.0\" x2=\"653.0895312499999\" y1=\"25.0\" y2=\"25.0\" stroke=\"#1967d2\" stroke-width=\"1\" /><line x1=\"30.0\" x2=\"653.0895312499999\" y1=\"75.0\" y2=\"75.0\" stroke=\"#1967d2\" stroke-width=\"1\" /><line x1=\"30.0\" x2=\"653.0895312499999\" y1=\"125.0\" y2=\"125.0\" stroke=\"#1967d2\" stroke-width=\"1\" /><line x1=\"237.05328125\" x2=\"237.05328125\" y1=\"25.0\" y2=\"75.0\" stroke=\"black\" stroke-width=\"3\" /><line x1=\"400.9844921875\" x2=\"400.9844921875\" y1=\"25.0\" y2=\"75.0\" stroke=\"black\" stroke-width=\"3\" /><line x1=\"553.0895312499999\" x2=\"553.0895312499999\" y1=\"25.0\" y2=\"125.0\" stroke=\"black\" stroke-width=\"3\" /><line x1=\"613.0895312499999\" x2=\"613.0895312499999\" y1=\"75.0\" y2=\"125.0\" stroke=\"black\" stroke-width=\"3\" /><rect x=\"10.0\" y=\"5.0\" width=\"40\" height=\"40\" stroke=\"black\" fill=\"white\" stroke-width=\"0\" /><text x=\"30.0\" y=\"25.0\" dominant-baseline=\"middle\" text-anchor=\"middle\" font-size=\"14px\" font-family=\"Arial\">0: </text><rect x=\"10.0\" y=\"55.0\" width=\"40\" height=\"40\" stroke=\"black\" fill=\"white\" stroke-width=\"0\" /><text x=\"30.0\" y=\"75.0\" dominant-baseline=\"middle\" text-anchor=\"middle\" font-size=\"14px\" font-family=\"Arial\">1: </text><rect x=\"10.0\" y=\"105.0\" width=\"40\" height=\"40\" stroke=\"black\" fill=\"white\" stroke-width=\"0\" /><text x=\"30.0\" y=\"125.0\" dominant-baseline=\"middle\" text-anchor=\"middle\" font-size=\"14px\" font-family=\"Arial\">2: </text><rect x=\"70.0\" y=\"5.0\" width=\"40\" height=\"40\" stroke=\"black\" fill=\"white\" stroke-width=\"1\" /><text x=\"90.0\" y=\"25.0\" dominant-baseline=\"middle\" text-anchor=\"middle\" font-size=\"18px\" font-family=\"Arial\">X</text><rect x=\"70.0\" y=\"55.0\" width=\"40\" height=\"40\" stroke=\"black\" fill=\"white\" stroke-width=\"1\" /><text x=\"90.0\" y=\"75.0\" dominant-baseline=\"middle\" text-anchor=\"middle\" font-size=\"18px\" font-family=\"Arial\">X</text><rect x=\"130.0\" y=\"5.0\" width=\"67.05328125\" height=\"40\" stroke=\"black\" fill=\"white\" stroke-width=\"1\" /><text x=\"163.526640625\" y=\"25.0\" dominant-baseline=\"middle\" text-anchor=\"middle\" font-size=\"14px\" font-family=\"Arial\">Rx(0.5π)</text><rect x=\"130.0\" y=\"55.0\" width=\"67.05328125\" height=\"40\" stroke=\"black\" fill=\"white\" stroke-width=\"1\" /><text x=\"163.526640625\" y=\"75.0\" dominant-baseline=\"middle\" text-anchor=\"middle\" font-size=\"18px\" font-family=\"Arial\">H</text><circle cx=\"237.05328125\" cy=\"25.0\" r=\"10.0\" /><rect x=\"217.05328125\" y=\"55.0\" width=\"40\" height=\"40\" stroke=\"black\" fill=\"white\" stroke-width=\"1\" /><text x=\"237.05328125\" y=\"75.0\" dominant-baseline=\"middle\" text-anchor=\"middle\" font-size=\"18px\" font-family=\"Arial\">X</text><rect x=\"277.05328125\" y=\"55.0\" width=\"83.93121093750001\" height=\"40\" stroke=\"black\" fill=\"white\" stroke-width=\"1\" /><text x=\"319.01888671875\" y=\"75.0\" dominant-baseline=\"middle\" text-anchor=\"middle\" font-size=\"14px\" font-family=\"Arial\">Rz(0.053π)</text><circle cx=\"400.9844921875\" cy=\"25.0\" r=\"10.0\" /><rect x=\"380.9844921875\" y=\"55.0\" width=\"40\" height=\"40\" stroke=\"black\" fill=\"white\" stroke-width=\"1\" /><text x=\"400.9844921875\" y=\"75.0\" dominant-baseline=\"middle\" text-anchor=\"middle\" font-size=\"18px\" font-family=\"Arial\">X</text><rect x=\"440.9844921875\" y=\"55.0\" width=\"72.1050390625\" height=\"40\" stroke=\"black\" fill=\"white\" stroke-width=\"1\" /><text x=\"477.03701171875\" y=\"75.0\" dominant-baseline=\"middle\" text-anchor=\"middle\" font-size=\"18px\" font-family=\"Arial\">H</text><rect x=\"440.9844921875\" y=\"5.0\" width=\"72.1050390625\" height=\"40\" stroke=\"black\" fill=\"white\" stroke-width=\"1\" /><text x=\"477.03701171875\" y=\"25.0\" dominant-baseline=\"middle\" text-anchor=\"middle\" font-size=\"14px\" font-family=\"Arial\">Rx(-0.5π)</text><circle cx=\"553.0895312499999\" cy=\"25.0\" r=\"10.0\" /><rect x=\"533.0895312499999\" y=\"105.0\" width=\"40\" height=\"40\" stroke=\"black\" fill=\"white\" stroke-width=\"1\" /><text x=\"553.0895312499999\" y=\"125.0\" dominant-baseline=\"middle\" text-anchor=\"middle\" font-size=\"18px\" font-family=\"Arial\">X</text><circle cx=\"613.0895312499999\" cy=\"75.0\" r=\"10.0\" /><rect x=\"593.0895312499999\" y=\"105.0\" width=\"40\" height=\"40\" stroke=\"black\" fill=\"white\" stroke-width=\"1\" /><text x=\"613.0895312499999\" y=\"125.0\" dominant-baseline=\"middle\" text-anchor=\"middle\" font-size=\"18px\" font-family=\"Arial\">X</text></svg>"
          },
          "metadata": {},
          "execution_count": 25
        }
      ]
    },
    {
      "cell_type": "markdown",
      "id": "72f73b48",
      "metadata": {
        "id": "72f73b48"
      },
      "source": [
        "## 5.1 Running on Amazon Braket <a class=\"anchor\" id=\"51\"></a>\n",
        "\n",
        "Tangelo provides tools to construct a randomized shadow. For simplicity here, since for a two qubit system there are very few measurement bases, we excplitly specify them to expose more clearly how we use Braket. We define all the possible measurement bases below, and for each of these we append first the symmetry verification circuit and then transform the system qubits into the corresponding measurement basis. QEMIST Cloud users can leverage the Tangelo integration to submit the experiments to Amazon Braket, as shown below. Since QEMIST Cloud is not yet publically available, we simply provide the code snippets and their outputs."
      ]
    },
    {
      "cell_type": "code",
      "execution_count": null,
      "id": "313f154f",
      "metadata": {
        "id": "313f154f"
      },
      "outputs": [],
      "source": [
        "n_shots = 10**5\n",
        "\n",
        "# All 2-qubit measurement bases needed for the classical shadow\n",
        "cs_basis_list = [\"ZZ\", \"XZ\", \"ZX\", \"XX\", \"YZ\", \"ZY\", \"YY\", \"XY\", \"YX\"]"
      ]
    },
    {
      "cell_type": "markdown",
      "id": "682633ee",
      "metadata": {
        "id": "682633ee"
      },
      "source": [
        "```python\n",
        "from tangelo.linq.qpu_connection import QEMISTCloudConnection\n",
        "\n",
        "qemcl = QEMISTCloudConnection()\n",
        "qemcl.job_estimate(adapt_circ, n_shots)\n",
        "```\n",
        "\n",
        "The code cell above returns the prices for running 10,000 shots of the circuit provided, on the supported quantum devices and simulators, here part of Amazon Braket's selection. Here's the output from back then:\n",
        "\n",
        "```text\n",
        "{'arn:aws:braket:::device/qpu/ionq/ionQdevice': 100.3,\n",
        " 'arn:aws:braket:::device/quantum-simulator/amazon/sv1': 0.038,\n",
        " 'arn:aws:braket:us-west-1::device/qpu/rigetti/Aspen-M-1': 3.8}\n",
        "```\n",
        "\n",
        "The code below adds the symmetry post-selection gates and the measurement gates to define our quantum circuit for each of the measurement bases, and submits them to Braket, using their QEMIST Cloud credits.\n",
        "It is however possible for Braket users to submit these jobs using the Braket API or our convenience wrappers, with their own Braket credentials.\n",
        "\n",
        "We submit overall 9 quantum circuits, differing by their final measurement gates.\n",
        "\n",
        "```python\n",
        "backend = 'arn:aws:braket:::device/qpu/ionq/ionQdevice'\n",
        "\n",
        "job_ids = {}\n",
        "\n",
        "# Build circuits and submit to Amazon Braket\n",
        "for basis in cs_basis_list:\n",
        "    meas_circ = Circuit(measurement_basis_gates(pauli_string_to_of(basis)))\n",
        "    final_circ = adapt_symmpostselect_circ + meas_circ\n",
        "\n",
        "    job_id = qemcl.job_submit(final_circ, n_shots=n_shots, backend=backend)\n",
        "    job_ids[basis] = job_id\n",
        "\n",
        "# Retrieve results and save to json file\n",
        "res = {basis: qemcl.job_result(job_id)[0] for basis, job_id in job_ids.items()}\n",
        "\n",
        "with open(\"./ionq_data/H3Op_sym_postselect_10000_ionq.json\", \"w\") as file:\n",
        "    json.dump(res, file)\n",
        "```\n",
        "\n",
        "Replacing job submission by cost estimation in the code above is a way to assess the total cost of the experiment before submitting anything. As experiments are usually done on a budget, this information is still rather central in its design. Here we'd get an estimate of about $900."
      ]
    },
    {
      "cell_type": "markdown",
      "id": "01f5fcd7",
      "metadata": {
        "id": "01f5fcd7"
      },
      "source": [
        "Below we read in the data that we obtained from our experiment on IonQ Harmony during the Summer of 2022, and perform full symmetry post-selection."
      ]
    },
    {
      "cell_type": "code",
      "execution_count": null,
      "id": "450dd09d",
      "metadata": {
        "id": "450dd09d",
        "colab": {
          "base_uri": "https://localhost:8080/"
        },
        "outputId": "600ba98d-26aa-4b3b-c232-3044f1f8b789"
      },
      "outputs": [
        {
          "output_type": "stream",
          "name": "stdout",
          "text": [
            "{'ZZ': {'00': 0.0087, '01': 0.0056, '10': 0.0053, '11': 0.9136}, 'XZ': {'00': 0.0101, '01': 0.5165, '10': 0.0051, '11': 0.4167}, 'ZX': {'00': 0.0049, '01': 0.0103, '10': 0.4553, '11': 0.4728}, 'XX': {'00': 0.1809, '01': 0.2659, '10': 0.2629, '11': 0.2281}, 'YZ': {'00': 0.0051, '01': 0.5002, '10': 0.0104, '11': 0.4106}, 'ZY': {'00': 0.0033, '01': 0.0101, '10': 0.4859, '11': 0.4321}, 'YY': {'00': 0.2659, '01': 0.185, '10': 0.2278, '11': 0.2549}, 'XY': {'00': 0.1904, '01': 0.1958, '10': 0.2416, '11': 0.2919}, 'YX': {'00': 0.2233, '01': 0.2413, '10': 0.221, '11': 0.2388}}\n"
          ]
        }
      ],
      "source": [
        "# Load the data coming from our quantum experiment on Harmony\n",
        "with open(\"./ionq_data/H3Op_sym_postselect_10000_ionq.json\", \"r\") as file:\n",
        "    res = json.load(file)\n",
        "\n",
        "# Perform post-selection\n",
        "res_post = {}\n",
        "for base, hist in res.items():\n",
        "    h = Histogram(hist)\n",
        "    h.post_select({2: \"0\"})\n",
        "    res_post[base] = h\n",
        "\n",
        "print(res_post)"
      ]
    },
    {
      "cell_type": "markdown",
      "id": "c0a84c73",
      "metadata": {
        "id": "c0a84c73"
      },
      "source": [
        "## 5.2 Post-processing: construct classical shadow and purify <a class=\"anchor\" id=\"52\"></a>\n",
        "\n",
        "We can now construct a classical shadow and purify the state."
      ]
    },
    {
      "cell_type": "code",
      "execution_count": null,
      "id": "44843fc7",
      "metadata": {
        "id": "44843fc7"
      },
      "outputs": [],
      "source": [
        "from tangelo.toolboxes.measurements import RandomizedClassicalShadow\n",
        "\n",
        "bitstrings, unitaries = [], []\n",
        "    \n",
        "for b, hist in res_post.items():\n",
        "    for s,f in hist.frequencies.items():\n",
        "        factor = round(f*(n_shots))\n",
        "        bitstrings.extend([s]*factor)\n",
        "        unitaries.extend([b]*factor)\n",
        "\n",
        "ionq_cs_post = RandomizedClassicalShadow(unitaries=unitaries, bitstrings=bitstrings)"
      ]
    },
    {
      "cell_type": "markdown",
      "id": "129f05eb",
      "metadata": {
        "id": "129f05eb"
      },
      "source": [
        "After constructing the shadow, we can use convenience functions provided by Tangelo to compute the 1- and 2-RDM. Since this is a small, two qubit system, we can use the McWeeny technique to purify the 2-RDM and calculate the purified energy. Below we show a comparison of the difference between the purified and non-purified energies and suggests that purification mitigates the noise efficiently."
      ]
    },
    {
      "cell_type": "code",
      "execution_count": null,
      "id": "874781d4",
      "metadata": {
        "id": "874781d4"
      },
      "outputs": [],
      "source": [
        "from tangelo.toolboxes.post_processing.mc_weeny_rdm_purification import mcweeny_purify_2rdm\n",
        "from tangelo.toolboxes.molecular_computation.rdms import compute_rdms, energy_from_rdms\n",
        "\n",
        "rdm1_p, rdm2_p, rdm1_ss_p, rdm2_ss_p = compute_rdms(ferm_op, \"scbk\", True, exp_data=res)\n",
        "rdm1_p_pur, rdm2_p_pur = mcweeny_purify_2rdm(rdm2_p.real)"
      ]
    },
    {
      "cell_type": "code",
      "execution_count": null,
      "id": "20f1472f",
      "metadata": {
        "id": "20f1472f",
        "colab": {
          "base_uri": "https://localhost:8080/"
        },
        "outputId": "0a1014ee-28b1-4e9a-baa2-88928292a4b6"
      },
      "outputs": [
        {
          "output_type": "stream",
          "name": "stdout",
          "text": [
            "Experiment energy: -76.2369464417231\n",
            "Purified energy:   -76.3276400895683\n",
            "Diff from MI-FNO:    0.001410481713961076\n"
          ]
        }
      ],
      "source": [
        "e_p_exp = energy_from_rdms(ferm_op, rdm1_ss_p, rdm2_ss_p)\n",
        "e_p_pur = energy_from_rdms(ferm_op, rdm1_p_pur, rdm2_p_pur)\n",
        "\n",
        "print(\"Experiment energy:\", e_p_exp)\n",
        "print(\"Purified energy:  \", e_p_pur)\n",
        "print(\"Diff from MI-FNO:   \", e_p_pur-(e_tot_frag-correction))"
      ]
    },
    {
      "cell_type": "markdown",
      "id": "36b7a399",
      "metadata": {
        "id": "36b7a399"
      },
      "source": [
        "A similar calculation can be performed for non-post-selected data, which one can obtain by removing the ancilla qubit and adding together the corresponding frequencies. This data can also be purified to see the effect of the two mitigation techniques separately. For brevity, we present the final results:"
      ]
    },
    {
      "cell_type": "code",
      "execution_count": null,
      "id": "d03aed4b",
      "metadata": {
        "id": "d03aed4b"
      },
      "outputs": [],
      "source": [
        "e_exp = -76.2685\n",
        "e_pur = -76.3138"
      ]
    },
    {
      "cell_type": "markdown",
      "id": "56d9f1d4",
      "metadata": {
        "id": "56d9f1d4"
      },
      "source": [
        "Finally, we can estimate the error of the energy by using a technique called bootstrapping. This consists in generating an ensemble of new histograms by resampling from the experimental data and calculating a standard devition of the resulting energies. For brevity, here we only present the results of those calculations. You can find more details about bootstrapping in [this notebook](https://github.com/goodchemistryco/Tangelo/blob/develop/examples/overview_endtoend.ipynb)."
      ]
    },
    {
      "cell_type": "code",
      "execution_count": null,
      "id": "0eabcc89",
      "metadata": {
        "id": "0eabcc89"
      },
      "outputs": [],
      "source": [
        "e_exp_err = 0.0037\n",
        "e_pur_err = 0.0019\n",
        "e_p_exp_err = 0.0037\n",
        "e_p_pur_err = 0.0007"
      ]
    },
    {
      "cell_type": "markdown",
      "id": "50e26429",
      "metadata": {
        "id": "50e26429"
      },
      "source": [
        "## 5.3 Energy resummation and plot <a class=\"anchor\" id=\"53\"></a>\n",
        "\n",
        "Finally, we need to recalculate the energy of the full system using this fragment energy to see the final result. We plot the whole data set, including the Hartree-Fock and MI-FNO umbrella curve, and the four total energies calculated below. In the inset we show the lower portion of the whole plot to emphasize the impact of the error mitigation techniques. The shaded region around the curve indicates the regime of chemical accuracy."
      ]
    },
    {
      "cell_type": "code",
      "execution_count": null,
      "id": "92c11a19",
      "metadata": {
        "id": "92c11a19",
        "colab": {
          "base_uri": "https://localhost:8080/"
        },
        "outputId": "0bbdd74e-f87c-4194-a37b-4b2b07d4c599"
      },
      "outputs": [
        {
          "output_type": "stream",
          "name": "stdout",
          "text": [
            "Classical: -76.52019103159677\n",
            "Raw: -76.4596404603145\n",
            "Raw purified: -76.5049404603145\n",
            "Post-selected: -76.4280869020376\n",
            "Post-selected purified: -76.5187805498828\n"
          ]
        }
      ],
      "source": [
        "# Recompute total energy, overriding the fragment enregy with the different experimental results \n",
        "et_exp = fno_fragments.mi_summation({\"(2,)\": e_exp})\n",
        "et_pur = fno_fragments.mi_summation({\"(2,)\": e_pur})\n",
        "et_post_exp = fno_fragments.mi_summation({\"(2,)\": e_p_exp})\n",
        "et_post_pur = fno_fragments.mi_summation({\"(2,)\": e_p_pur})\n",
        "\n",
        "print(\"Classical:\", fno_fragments.e_tot)\n",
        "print(\"Raw:\", et_exp)\n",
        "print(\"Raw purified:\", et_pur)\n",
        "print(\"Post-selected:\", et_post_exp)\n",
        "print(\"Post-selected purified:\", et_post_pur)"
      ]
    },
    {
      "cell_type": "markdown",
      "source": [
        "We load the MI-FNO data precomputed with QEMIST Cloud for various geometries of the system of interest, in order to better illustrate where the results sit compared to Hartree-Fock and the MI-FNO resolution."
      ],
      "metadata": {
        "id": "Ly56qWpZZSDk"
      },
      "id": "Ly56qWpZZSDk"
    },
    {
      "cell_type": "code",
      "execution_count": null,
      "id": "abc50416",
      "metadata": {
        "id": "abc50416"
      },
      "outputs": [],
      "source": [
        "mifno_curve = np.loadtxt(\"H3Oplus_MIFNO_CCPVDZ.csv\", delimiter=\",\")[:,1:].T"
      ]
    },
    {
      "cell_type": "code",
      "execution_count": null,
      "id": "c510ad55",
      "metadata": {
        "scrolled": false,
        "id": "c510ad55",
        "colab": {
          "base_uri": "https://localhost:8080/",
          "height": 817
        },
        "outputId": "735639b1-3a1a-47f7-cc51-6d4a3966fefd"
      },
      "outputs": [
        {
          "output_type": "execute_result",
          "data": {
            "text/plain": [
              "<ErrorbarContainer object of 3 artists>"
            ]
          },
          "metadata": {},
          "execution_count": 36
        },
        {
          "output_type": "display_data",
          "data": {
            "text/plain": [
              "<Figure size 1080x720 with 2 Axes>"
            ],
            "image/png": "[encoded data removed]"
          },
          "metadata": {
            "needs_background": "light"
          }
        }
      ],
      "source": [
        "import pylab as plt\n",
        "\n",
        "fig = plt.figure(figsize=(9,6), dpi=120)\n",
        "ax = plt.axes([0.02,0.02,0.98,0.98])\n",
        "\n",
        "ax.plot(theta, rhf, label=\"RHF\")\n",
        "\n",
        "ax.plot(mifno_curve[0], mifno_curve[1], label=\"MIFNO\")\n",
        "ax.fill_between(mifno_curve[0], mifno_curve[1]-0.0016, mifno_curve[1]+0.0016, color='orange', alpha=.1)\n",
        "\n",
        "ax.errorbar(70, et_exp, e_exp_err, fmt=\".\", label=\"Raw\", capsize=5)\n",
        "ax.errorbar(70, et_pur, e_pur_err, fmt=\".\", label=\"Purified\", capsize=5)\n",
        "ax.errorbar(70, et_post_exp, e_p_exp_err, fmt=\".\", label=\"Post-selected\", capsize=5)\n",
        "ax.errorbar(70, et_post_pur, e_p_pur_err, fmt=\".\", label=\"Post-selected + purified\", capsize=5)\n",
        "\n",
        "ax.legend(loc=\"lower right\")\n",
        "ax.set_ylabel(\"Energy [Ha]\")\n",
        "ax.set_xlabel(\"Angle [deg]\")\n",
        "\n",
        "ax2 = plt.axes([0.5,0.4,0.48,0.48])\n",
        "ax2.plot([],[])\n",
        "ax2.plot(mifno_curve[0], mifno_curve[1], label=\"MIFNO\")\n",
        "ax2.fill_between(mifno_curve[0], mifno_curve[1]-0.0016, mifno_curve[1]+0.0016, color='orange', alpha=.1)\n",
        "\n",
        "ax2.plot([],[])\n",
        "ax2.errorbar(70, et_pur, e_pur_err, fmt=\".\", label=\"Purified\", capsize=5)\n",
        "ax2.errorbar(70, et_post_exp, e_p_exp_err, fmt=\".\", label=\"Post-selected\", capsize=5)\n",
        "ax2.errorbar(70, et_post_pur, e_p_pur_err, fmt=\".\", label=\"Post-selected + purified\", capsize=5)"
      ]
    },
    {
      "cell_type": "markdown",
      "source": [
        "## Closing words"
      ],
      "metadata": {
        "id": "JcdqWXpIXZMW"
      },
      "id": "JcdqWXpIXZMW"
    },
    {
      "cell_type": "markdown",
      "source": [
        "This notebook illustrates how Tangelo, QEMIST Cloud and Amazon Braket can be combined to explore the potential of quantum computing for chemistry simulation, here using the umbrella effect as a use case. It accompanies an article published on AWS's Quantum blog, which goes more into detail about the chemistry and the results of this experimental study on a quantum device.\n",
        "\n",
        "By breaking down a problem instance into a collection of subproblems requiring a lower amount of computational resources, the problem decomposition techniques available in Tangelo and QEMIST Cloud can extend the range of use-cases within reach of current quantum devices. The toolboxes in Tangelo support researchers at every step of their quantum exploration, by providing algorithms or reusable building-blocks to express their own custom workflows and put their ideas to the test.\n",
        "\n",
        "The integration with QEMIST Cloud provides additional features, enabling Tangelo workflows to be paired to be paired with state-of-the-art problem decomposition techniques at scale, as well as to run quantum experiments on services such as Amazon Braket using QEMIST Cloud credits.\n",
        "\n",
        "By developing Tangelo and integrating it with platforms such as QEMIST Cloud, we hope to push the field forward and allow the community to gradually take advantage of quantum computing, as part of a wider compute ecosystem. Adoption and innovation will take effort, and the Tangelo team welcomes interest, feedback and [contributions](https://github.com/goodchemistryco/Tangelo/blob/main/CONTRIBUTIONS.rst). For inquiries about QEMIST Cloud, feel free to browse the [Good Chemistry website](https://goodchemistry.com).\n",
        "\n",
        "What will you do with Tangelo ?"
      ],
      "metadata": {
        "id": "8EO0Pso5Xxki"
      },
      "id": "8EO0Pso5Xxki"
    }
  ],
  "metadata": {
    "kernelspec": {
      "display_name": "Python 3 (ipykernel)",
      "language": "python",
      "name": "python3"
    },
    "language_info": {
      "codemirror_mode": {
        "name": "ipython",
        "version": 3
      },
      "file_extension": ".py",
      "mimetype": "text/x-python",
      "name": "python",
      "nbconvert_exporter": "python",
      "pygments_lexer": "ipython3",
      "version": "3.9.10"
    },
    "colab": {
      "provenance": []
    }
  },
  "nbformat": 4,
  "nbformat_minor": 5
}