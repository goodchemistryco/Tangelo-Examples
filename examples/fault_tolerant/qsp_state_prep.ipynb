{
  "cells": [
    {
      "cell_type": "markdown",
      "metadata": {
        "id": "_KpZQ0nC_lXP"
      },
      "source": [
        "# State preparation using quantum signal processing\n",
        "\n",
        "We are going to apply a delta function to the Hamiltonian ($H$), such that all states with eigenvalues outside a specific energy band ($\\lambda \\pm \\Delta/2$) are supressed. This is performed by applying the operation\n",
        "\n",
        "$f(H,\\Delta,k)=\\sum_{n=0}^{k}\\frac{T_n(-1+2\\frac{H^2-\\Delta^2}{1-\\Delta^2})}{T_n(-1+2\\frac{-\\Delta^2}{1-\\Delta^2})}$\n",
        "\n",
        "using quantum signal processing, where $T_n$ refers to the Chebyshev polynomial of the first kind, defined by $T_n(cos(\\theta)) = cos(n\\theta)$.\n"
      ]
    },
    {
      "cell_type": "code",
      "source": [
        "# Installation of tangelo if not already installed.\n",
        "try:\n",
        "    import tangelo\n",
        "except ModuleNotFoundError:\n",
        "    !pip install git+https://github.com/goodchemistryco/Tangelo.git@develop --quiet"
      ],
      "metadata": {
        "id": "Aps1JmYB_1an"
      },
      "execution_count": null,
      "outputs": []
    },
    {
      "cell_type": "markdown",
      "source": [
        "As an example, we will use the polynomial with approximation order $k=20$ for $\\Delta = 0.1$ which is depicted below"
      ],
      "metadata": {
        "id": "cLKMJJNsQa4j"
      }
    },
    {
      "cell_type": "code",
      "execution_count": 2,
      "metadata": {
        "id": "wzsbLOu4_lXR",
        "outputId": "83cd80f9-3f5e-4a21-fb45-5e627a20ad2d",
        "colab": {
          "base_uri": "https://localhost:8080/",
          "height": 447
        }
      },
      "outputs": [
        {
          "output_type": "execute_result",
          "data": {
            "text/plain": [
              "[<matplotlib.lines.Line2D at 0x7f954d58b310>]"
            ]
          },
          "metadata": {},
          "execution_count": 2
        },
        {
          "output_type": "display_data",
          "data": {
            "text/plain": [
              "<Figure size 640x480 with 1 Axes>"
            ],
            "image/png": "[encoded data removed]"
          },
          "metadata": {}
        }
      ],
      "source": [
        "from scipy.special import eval_chebyt\n",
        "import numpy as np\n",
        "import matplotlib.pyplot as plt\n",
        "\n",
        "k = 20\n",
        "delta = 0.1\n",
        "\n",
        "def filter_func(x, delta, k):\n",
        "    val = 0\n",
        "    for i in range(k):\n",
        "        arg = -1 + 2*((x**2-delta**2)/(1-delta**2))\n",
        "        topk = eval_chebyt(k, arg)\n",
        "        arg = -1 + 2*(-delta**2/(1-delta**2))\n",
        "        botk = eval_chebyt(k, arg)\n",
        "        val += topk/botk\n",
        "    return val\n",
        "\n",
        "# Plot the polynomial\n",
        "xs = np.linspace(-1, 1, 100)\n",
        "ys = np.zeros(len(xs))\n",
        "\n",
        "for i, x in enumerate(xs):\n",
        "    ys[i] = filter_func(x, delta, k)\n",
        "\n",
        "plt.plot(xs, ys)"
      ]
    },
    {
      "cell_type": "markdown",
      "metadata": {
        "id": "UUVDpk-o_lXT"
      },
      "source": [
        "This polynomial needs to be converted to phases to use Quantum Signal Processing. For convenience, here are the phases for $k=20$ and $\\Delta = 0.1$. At the end of the notebook, we show two ways to calculate the phases for a given polynomial."
      ]
    },
    {
      "cell_type": "code",
      "execution_count": 3,
      "metadata": {
        "id": "ytwUrMTo_lXU"
      },
      "outputs": [],
      "source": [
        "# phases below are calculated using QSPPACK for n=20, delta = 0.1\n",
        "phases = [ 0.76974538,  0.00646461, -0.00773143,  0.00908568, -0.01051591,  0.01200849,\n",
        "          -0.01354772,  0.01511600, -0.01669402,  0.01826109, -0.01979540,  0.02127448,\n",
        "          -0.02267559,  0.02397626, -0.02515479,  0.02619086, -0.02706603,  0.02776435,\n",
        "          -0.02827282,  0.02858185, -0.02868552,  0.02858185, -0.02827282,  0.02776435,\n",
        "          -0.02706603,  0.02619086, -0.02515479,  0.02397626, -0.02267559,  0.02127448,\n",
        "          -0.01979540,  0.01826109, -0.01669402,  0.01511600, -0.01354772,  0.01200849,\n",
        "          -0.01051591,  0.00908568, -0.00773143,  0.00646461,  0.76974538]"
      ]
    },
    {
      "cell_type": "markdown",
      "metadata": {
        "id": "mvtr4xEo_lXU"
      },
      "source": [
        "## Hydrogen molecule example\n",
        "\n",
        "We are going to prepare two different states using the phases above, as well as the Quantum Signal Processing circuit `get_qsp_circuit_no_anc` as defined in [arXiv:2002.11649](https://arxiv.org/abs/2002.11649).\n",
        "\n",
        "We are going to apply it to $H_2$ in a STO-3G basis with the \"scbk\" qubit mapping. "
      ]
    },
    {
      "cell_type": "code",
      "execution_count": 4,
      "metadata": {
        "id": "I1BkclWt_lXU"
      },
      "outputs": [],
      "source": [
        "from openfermion import get_sparse_operator\n",
        "import numpy as np\n",
        "\n",
        "from tangelo.molecule_library import mol_H2_sto3g\n",
        "from tangelo.toolboxes.qubit_mappings.mapping_transform import fermion_to_qubit_mapping\n",
        "from tangelo.linq.helpers.circuits.statevector import StateVector\n",
        "\n",
        "fe_op = mol_H2_sto3g.fermionic_hamiltonian\n",
        "qu_op = fermion_to_qubit_mapping(fe_op, \"scbk\", n_spinorbitals=4, n_electrons=2)\n",
        "\n",
        "ham = get_sparse_operator(qu_op).toarray()\n",
        "eigs, vecs = np.linalg.eigh(ham)\n",
        "alpha = eigs[3]-eigs[0]\n",
        "\n",
        "init_state = np.random.random(4)\n",
        "init_state /= np.linalg.norm(init_state)\n",
        "\n",
        "sv = StateVector(init_state)\n",
        "init_circ = sv.initializing_circuit()"
      ]
    },
    {
      "cell_type": "markdown",
      "metadata": {
        "id": "D5nQUKJ2_lXV"
      },
      "source": [
        "### First excited state\n",
        "\n",
        "We need to shift the Hamiltonian such that the desired eigenvalue ($\\lambda$) is centered at zero and the spectral range is in [-1, 1]. This is done by defining\n",
        "\n",
        "$\\tilde{H} = \\frac{H-\\lambda}{\\alpha + \\left|\\lambda\\right|}$\n",
        "\n",
        "where $\\alpha$ is the approximation to the spectral range, defined in the previous cell."
      ]
    },
    {
      "cell_type": "code",
      "execution_count": 5,
      "metadata": {
        "id": "W5tNf2eE_lXV"
      },
      "outputs": [],
      "source": [
        "from tangelo.linq import Circuit, Gate, get_backend\n",
        "from tangelo.toolboxes.circuits.qsp import get_qsp_circuit_no_anc\n",
        "from tangelo.toolboxes.circuits.lcu import get_uprep_uselect, get_lcu_qubit_op_info\n",
        "\n",
        "lamb = eigs[1]\n",
        "# Shift Hamiltonian so that spectrum is in [-1, 1] and desired lambda is at 0\n",
        "qu_op_tilde = (qu_op - lamb)/(alpha+abs(lamb))\n",
        "\n",
        "# Generate LCU circuit that applies the Hamiltonian\n",
        "uprep, uselect, qu_op_qs, m_qs, alpha = get_uprep_uselect(qu_op_tilde)\n",
        "cua = uprep + uselect + uprep.inverse()\n",
        "\n",
        "# Ancilla qubits\n",
        "n_ancilla = len(m_qs) + 1\n",
        "\n",
        "# Total number of qubits needed to apply algorithm\n",
        "n_qubits = len(qu_op_qs) + n_ancilla\n",
        "\n",
        "# Feed in LCU circuit to generate QSP circuit with phases for eigenvalue filtering\n",
        "eig_filt_circ = get_qsp_circuit_no_anc(cua, m_qs, phases)\n",
        "\n",
        "# Add the mesurement gates to the ancilla qubits for the application of the Linear Combination\n",
        "# of Unitaries plus the extra qubit for the QSP\n",
        "# Measure gates for LCU ancilla qubits\n",
        "full_circuit = init_circ + eig_filt_circ + Circuit([Gate(\"MEASURE\", m) for m in m_qs])\n",
        "# Measure gate for the QSP qubit where the phases are applied\n",
        "full_circuit += Circuit([Gate(\"MEASURE\", m_qs[-1]+1)])"
      ]
    },
    {
      "cell_type": "code",
      "execution_count": 6,
      "metadata": {
        "id": "5rKQQ-Vg_lXV",
        "outputId": "d7cbcbb0-6e40-4934-8ebe-f441fed2156e",
        "colab": {
          "base_uri": "https://localhost:8080/"
        }
      },
      "outputs": [
        {
          "output_type": "stream",
          "name": "stdout",
          "text": [
            "initial overlap = 0.18367656363390905\n",
            "final overlap = 0.9887577317376988\n"
          ]
        }
      ],
      "source": [
        "sim = get_backend()\n",
        "\n",
        "f, sv = sim.simulate(full_circuit, desired_meas_result=\"0\"*n_ancilla, return_statevector=True)\n",
        "# Reorder statevector to \"msq_first\" if statevector in backend is \"lsq_first\"\n",
        "if sim.backend_info()[\"statevector_order\"] == \"lsq_first\":\n",
        "    sv = np.reshape(sv, [2]*n_qubits).T.flatten()\n",
        "# Pick out part of wavefunction that corresponds to \"0000\" on ancilla qubits\n",
        "sv = np.reshape(sv, (2**4, 4))[0, :]\n",
        "# Reorder statevector to correspond to openfermion ordering\n",
        "sv = np.reshape(sv, (2,2)).T.flatten()\n",
        "\n",
        "print(f'initial overlap = {abs(np.dot(vecs[:,1], init_state))}')\n",
        "print(f'final overlap = {abs(np.dot(vecs[:,1], sv))}')"
      ]
    },
    {
      "cell_type": "markdown",
      "metadata": {
        "id": "rtG_tBsq_lXW"
      },
      "source": [
        "### Second excited state\n",
        "\n",
        "We can then reapply the same approach to the second excited state."
      ]
    },
    {
      "cell_type": "code",
      "execution_count": 7,
      "metadata": {
        "id": "YRWXx4o7_lXW"
      },
      "outputs": [],
      "source": [
        "lamb = eigs[2]\n",
        "# Shift Hamiltonian so that spectrum is in [-1, 1] and desired lambda is at 0\n",
        "qu_op_tilde = (qu_op - lamb)/(alpha+abs(lamb))\n",
        "\n",
        "# Generate LCU circuit that applies the Hamiltonian\n",
        "uprep, uselect, qu_op_qs, m_qs, alpha = get_uprep_uselect(qu_op_tilde)\n",
        "cua = uprep + uselect + uprep.inverse()\n",
        "\n",
        "# Ancilla qubits\n",
        "n_ancilla = len(m_qs) + 1\n",
        "\n",
        "# Total number of qubits needed to apply algorithm\n",
        "n_qubits = len(qu_op_qs) + n_ancilla\n",
        "\n",
        "# Feed in LCU circuit to generate QSP circuit with phases for eigenvalue filtering\n",
        "eig_filt_circ = get_qsp_circuit_no_anc(cua, m_qs, phases)\n",
        "\n",
        "full_circuit = init_circ + eig_filt_circ + Circuit([Gate(\"MEASURE\", m) for m in m_qs])\n",
        "full_circuit += Circuit([Gate(\"MEASURE\", m_qs[-1]+1)])"
      ]
    },
    {
      "cell_type": "code",
      "execution_count": 8,
      "metadata": {
        "id": "Ba0LhGfn_lXX"
      },
      "outputs": [],
      "source": [
        "sim = get_backend()\n",
        "\n",
        "f, sv = sim.simulate(full_circuit, desired_meas_result=\"0\"*n_ancilla, return_statevector=True)\n",
        "# Reorder statevector to \"msq_first\" if statevector in backend is \"lsq_first\"\n",
        "if sim.backend_info()[\"statevector_order\"] == \"lsq_first\":\n",
        "    sv = np.reshape(sv, [2]*n_qubits).T.flatten()\n",
        "# Pick out part of wavefunction that corresponds to \"0000\" on ancilla qubits\n",
        "sv = np.reshape(sv, (2**4, 4))[0, :]\n",
        "# Reorder statevector to correspond to openfermion ordering\n",
        "sv = np.reshape(sv, (2,2)).T.flatten()"
      ]
    },
    {
      "cell_type": "code",
      "execution_count": 9,
      "metadata": {
        "id": "xOEVtX68_lXX",
        "outputId": "479076d4-f830-44df-c6e3-c907132bdd25",
        "colab": {
          "base_uri": "https://localhost:8080/"
        }
      },
      "outputs": [
        {
          "output_type": "stream",
          "name": "stdout",
          "text": [
            "initial overlap = 0.18413991077227115\n",
            "final overlap = 0.9969619094421538\n"
          ]
        }
      ],
      "source": [
        "print(f'initial overlap = {abs(np.dot(vecs[:,2], init_state))}')\n",
        "print(f'final overlap = {abs(np.dot(vecs[:,2], sv))}')"
      ]
    },
    {
      "cell_type": "markdown",
      "metadata": {
        "id": "ueW7rS0T_lXX"
      },
      "source": [
        "## Code to generate phases\n",
        "\n",
        "This section shows 2 options for converting a polynomial into phases, with either QSPPACK or pyqsp.\n",
        "\n",
        "The cells are formatted in markdown as additional dependencies are required to run the following phase calculations, but the code below can be run once they are installed."
      ]
    },
    {
      "cell_type": "markdown",
      "metadata": {
        "id": "nXKQtCYa_lXX"
      },
      "source": [
        "#### Using QSPPACK"
      ]
    },
    {
      "cell_type": "markdown",
      "metadata": {
        "id": "a49aIXnd_lXY"
      },
      "source": [
        "```python\n",
        "from sympy.abc import x\n",
        "from sympy import Rational\n",
        "from sympy.functions.special.polynomials import chebyshevt\n",
        "\n",
        "k = 20\n",
        "# Necessary to work in exact representation for higher order polynomials\n",
        "delta = Rational(delta)\n",
        "\n",
        "def filter_func(x, delta, k):\n",
        "    val = 0\n",
        "    for i in range(k):\n",
        "        arg = -1 + 2*((x**2-delta**2)/(1-delta**2))\n",
        "        topk = chebyshevt(k, arg)\n",
        "        arg = -1 + 2*(-delta**2/(1-delta**2))\n",
        "        botk = chebyshevt(k, arg)\n",
        "        val += topk/botk\n",
        "    return val\n",
        "```"
      ]
    },
    {
      "cell_type": "markdown",
      "metadata": {
        "id": "z3MmVAXP_lXY"
      },
      "source": [
        "We need to convert the `filter_func` polynomial to coefficients of expansion in Chebyshev polynomials to use with QSPPACK"
      ]
    },
    {
      "cell_type": "markdown",
      "metadata": {
        "id": "aYhwSmKb_lXY"
      },
      "source": [
        "```python\n",
        "# Use chebyshev interpolation ak=2/(n+1)*sum_{j=0}^n p(x_j)T_k(x_j), x_j = cos(\\frac{2*j+1}{2*n+2}\\pi)\n",
        "poly = filter_func(x, delta, k).as_poly()\n",
        "\n",
        "n = 2*k\n",
        "xjs = np.zeros(n+1)\n",
        "aks = np.zeros(n+1)\n",
        "for j in range(n+1):\n",
        "    xjs[j] = np.cos((2*j+1)/(2*n+2)*np.pi)\n",
        "\n",
        "for ki in range(0, n+1, 2):\n",
        "    aks[ki] = 0\n",
        "    for j in range(n+1):\n",
        "        aks[ki] += 2/(n+1)*poly.eval(xjs[j])*eval_chebyt(ki, xjs[j])\n",
        "\n",
        "aks /= k*np.sqrt(2)\n",
        "aks[0] /=2\n",
        "aks = aks[0: n+1: 2]\n",
        "```"
      ]
    },
    {
      "cell_type": "markdown",
      "metadata": {
        "id": "749he8U0_lXY"
      },
      "source": [
        "We can then obtain the phases using `oct2py` (with octave installed) and the folder location of `QSPPACK` cloned from https://github.com/qsppack/QSPPACK. "
      ]
    },
    {
      "cell_type": "markdown",
      "metadata": {
        "id": "WUapwQuC_lXY"
      },
      "source": [
        "```python\n",
        "from oct2py import octave\n",
        "\n",
        "eps = 0.01\n",
        "folder = 'path to QSPPACK'\n",
        "octave.addpath(folder)\n",
        "opts = octave.struct(\"criteria\", eps)\n",
        "phases, _ = octave.QSP_solver(aks, 0, opts, nout=2)\n",
        "```"
      ]
    },
    {
      "cell_type": "markdown",
      "metadata": {
        "id": "plF-Dd20_lXY"
      },
      "source": [
        "#### Using pyqsp"
      ]
    },
    {
      "cell_type": "markdown",
      "metadata": {
        "id": "2F5C7BhL_lXZ"
      },
      "source": [
        "For $k=20$, pyqsp with the `laurent` method works properly. However, it often fails for higher order polynomials. In that case, you can install tensorflow and use `method=tf`. It however seemed much slower than `QSPPACK`. "
      ]
    },
    {
      "cell_type": "markdown",
      "metadata": {
        "id": "iVG8FmVD_lXZ"
      },
      "source": [
        "```python\n",
        "import pyqsp\n",
        "from pyqsp import angle_sequence\n",
        "from pyqsp.angle_sequence import AngleFindingError\n",
        "from sympy.polys.polytools import primitive\n",
        "from pyqsp.completion import CompletionError\n",
        "\n",
        "# Compute phases for real part Cos(Ht) of Exp(iHt)\n",
        "pg = pyqsp.poly.PolyCosineTX()\n",
        "prefac, poly = primitive(filter_func(x, delta, k))\n",
        "poly = poly.as_poly()\n",
        "polydict = poly.as_dict()\n",
        "\n",
        "coefs = np.zeros(2*k + 1, dtype=float)\n",
        "for term, coeff in polydict.items():\n",
        "    coefs[term[0]] = prefac*coeff/k/np.sqrt(2)\n",
        "\n",
        "n_attempts = 100\n",
        "method = 'laurent'\n",
        "eps=0.01\n",
        "\n",
        "for i in range(n_attempts):\n",
        "    try:\n",
        "        phases = angle_sequence.QuantumSignalProcessingPhases(\n",
        "                coefs, eps=eps, suc=1-eps/10, method=method, tolerance=0.01)\n",
        "    except (AngleFindingError, CompletionError):\n",
        "        if i == n_attempts-1:\n",
        "            raise RuntimeError(\"Real phases calculation failed, increase n_attempts or eps\")\n",
        "        else:\n",
        "            print(f\"Attempt {i+2} for the real coefficients\")\n",
        "    else:\n",
        "        break\n",
        "```"
      ]
    }
  ],
  "metadata": {
    "kernelspec": {
      "display_name": "qsdkmain",
      "language": "python",
      "name": "python3"
    },
    "language_info": {
      "codemirror_mode": {
        "name": "ipython",
        "version": 3
      },
      "file_extension": ".py",
      "mimetype": "text/x-python",
      "name": "python",
      "nbconvert_exporter": "python",
      "pygments_lexer": "ipython3",
      "version": "3.9.16"
    },
    "orig_nbformat": 4,
    "colab": {
      "provenance": []
    }
  },
  "nbformat": 4,
  "nbformat_minor": 0
}