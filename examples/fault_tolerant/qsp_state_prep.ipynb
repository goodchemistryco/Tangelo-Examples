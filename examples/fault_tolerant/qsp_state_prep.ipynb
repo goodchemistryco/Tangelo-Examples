{
 "cells": [
  {
   "attachments": {},
   "cell_type": "markdown",
   "metadata": {},
   "source": [
    "# State preparation using quantum signal processing\n",
    "\n",
    "We are going to apply a delta function to the Hamiltonian ($H$) such that all states with eigenvalues outside a specific energy ($\\lambda \\pm \\Delta/2$) are supressed. This is performed by applying the operation,\n",
    "\n",
    "$f_n(x,\\delta)=\\frac{T_n(-1+2\\frac{H^2-\\Delta^2}{1-\\Delta^2})}{T_n(-1+2\\frac{-\\Delta^2}{1-\\Delta^2})}$\n",
    "\n",
    "using quantum signal processing Where $T_n$ is the chebyshev polynomial of the first kind. The polynomial with approximation order $k=20$ for $\\Delta = 0.1$ is shown below."
   ]
  },
  {
   "cell_type": "code",
   "execution_count": 354,
   "metadata": {},
   "outputs": [
    {
     "data": {
      "text/plain": [
       "[<matplotlib.lines.Line2D at 0x12d3330d0>]"
      ]
     },
     "execution_count": 354,
     "metadata": {},
     "output_type": "execute_result"
    },
    {
     "data": {
      "image/png": "[encoded data removed]",
      "text/plain": [
       "<Figure size 432x288 with 1 Axes>"
      ]
     },
     "metadata": {
      "needs_background": "light"
     },
     "output_type": "display_data"
    }
   ],
   "source": [
    "from scipy.special import eval_chebyt\n",
    "import numpy as np\n",
    "import matplotlib.pyplot as plt\n",
    "\n",
    "k = 20\n",
    "delta = 0.1\n",
    "\n",
    "def filter_func(x, delta, k):\n",
    "    val = 0\n",
    "    for i in range(k):\n",
    "        arg = -1 + 2*((x**2-delta**2)/(1-delta**2))\n",
    "        topk = eval_chebyt(k, arg)\n",
    "        arg = -1 + 2*(-delta**2/(1-delta**2))\n",
    "        botk = eval_chebyt(k, arg)\n",
    "        val += topk/botk\n",
    "    return val\n",
    "\n",
    "xs = np.linspace(-1, 1, 100)\n",
    "\n",
    "ys = np.zeros(len(xs))\n",
    "\n",
    "for i, x in enumerate(xs):\n",
    "    ys[i] = filter_func(x, delta, k)\n",
    "\n",
    "plt.plot(xs, ys)\n"
   ]
  },
  {
   "attachments": {},
   "cell_type": "markdown",
   "metadata": {},
   "source": [
    "This polynomial needs to be converted to phases to use Quantum Signal Processing. For conveinience, here are the phases for $k=20$ and $\\Delta = 0.1$. At the end of the notebook, there are two ways to calculate the phases given a polynomial."
   ]
  },
  {
   "cell_type": "code",
   "execution_count": 390,
   "metadata": {},
   "outputs": [],
   "source": [
    "# phases below are calculated using QSPPACK for n=20, delta = 0.1\n",
    "phases = [ 0.76974538,  0.00646461, -0.00773143,  0.00908568, -0.01051591,  0.01200849,\n",
    "          -0.01354772,  0.01511600, -0.01669402,  0.01826109, -0.01979540,  0.02127448,\n",
    "          -0.02267559,  0.02397626, -0.02515479,  0.02619086, -0.02706603,  0.02776435,\n",
    "          -0.02827282,  0.02858185, -0.02868552,  0.02858185, -0.02827282,  0.02776435,\n",
    "          -0.02706603,  0.02619086, -0.02515479,  0.02397626, -0.02267559,  0.02127448,\n",
    "          -0.01979540,  0.01826109, -0.01669402,  0.01511600, -0.01354772,  0.01200849,\n",
    "          -0.01051591,  0.00908568, -0.00773143,  0.00646461,  0.76974538]"
   ]
  },
  {
   "attachments": {},
   "cell_type": "markdown",
   "metadata": {},
   "source": [
    "## State preparation example\n",
    "\n",
    "We are going to prepare two different states using the phases above and the Quantum Signal Processing circuit `get_qsp_circuit_no_anc` as defined in [arXiv:2002.11649](https://arxiv.org/abs/2002.11649).\n",
    "\n",
    "We are going to apply it to H2 in a STO-3G basis with the \"scbk\" qubit mapping. "
   ]
  },
  {
   "cell_type": "code",
   "execution_count": 358,
   "metadata": {},
   "outputs": [],
   "source": [
    "from openfermion import get_sparse_operator\n",
    "import numpy as np\n",
    "\n",
    "from tangelo.molecule_library import mol_H2_sto3g\n",
    "from tangelo.toolboxes.qubit_mappings.mapping_transform import fermion_to_qubit_mapping\n",
    "from tangelo.linq.helpers.circuits.statevector import StateVector\n",
    "\n",
    "fe_op = mol_H2_sto3g.fermionic_hamiltonian\n",
    "qu_op = fermion_to_qubit_mapping(fe_op, \"scbk\", n_spinorbitals=4, n_electrons=2)\n",
    "\n",
    "ham = get_sparse_operator(qu_op).toarray()\n",
    "eigs, vecs = np.linalg.eigh(ham)\n",
    "alpha = eigs[3]-eigs[0]\n",
    "\n",
    "init_state = np.random.random(4)\n",
    "init_state /= np.linalg.norm(init_state)\n",
    "\n",
    "sv = StateVector(init_state)\n",
    "init_circ = sv.initializing_circuit()\n"
   ]
  },
  {
   "attachments": {},
   "cell_type": "markdown",
   "metadata": {},
   "source": [
    "### First excited state\n",
    "\n",
    "We need to shift the Hamiltonian such that the desired eigenvalue ($\\lambda$) is centered at zero and the spectral range is in [-1, 1]. This is done by\n",
    "\n",
    "$\\tilde{H} = \\frac{H-\\lambda}{\\alpha + \\left|\\lambda\\right|}$\n",
    "\n",
    "where $\\alpha$ is the approximation to the spectral range."
   ]
  },
  {
   "cell_type": "code",
   "execution_count": 393,
   "metadata": {},
   "outputs": [],
   "source": [
    "from tangelo.linq import Circuit, Gate, get_backend\n",
    "from tangelo.toolboxes.circuits.qsp import get_qsp_circuit_no_anc\n",
    "from tangelo.toolboxes.circuits.lcu import get_uprep_uselect, get_lcu_qubit_op_info\n",
    "\n",
    "lamb = eigs[1]\n",
    "# Shift Hamiltonian so that spectrum is in [-1, 1] and desired lambda is at 0\n",
    "qu_op_tilde = (qu_op - lamb)/(alpha+abs(lamb))\n",
    "\n",
    "qu_op_qs, m_qs, alpha = get_lcu_qubit_op_info(qu_op_tilde)\n",
    "uprep, uselect, qu_op_qs, m_qs, alpha = get_uprep_uselect(qu_op_tilde)\n",
    "cua = uprep + uselect + uprep.inverse()\n",
    "eig_filt_circ = get_qsp_circuit_no_anc(cua, m_qs, phases)\n",
    "\n",
    "# Add the mesurement gates to the ancilla qubits for the application of the Linear Combination\n",
    "# of Unitaries plus the extra qubit for the QSP\n",
    "# Measure gates for LCU ancilla qubits\n",
    "full_circuit = init_circ + eig_filt_circ + Circuit([Gate(\"MEASURE\", m) for m in m_qs])\n",
    "# Measure gate for the QSP qubit where the phases are applied\n",
    "full_circuit += Circuit([Gate(\"MEASURE\", m_qs[-1]+1)])"
   ]
  },
  {
   "cell_type": "code",
   "execution_count": 395,
   "metadata": {},
   "outputs": [
    {
     "name": "stdout",
     "output_type": "stream",
     "text": [
      "initial overlap = 0.5096635574715872\n",
      "final overlap = 0.9987906479750979\n"
     ]
    }
   ],
   "source": [
    "sim = get_backend(\"qulacs\")\n",
    "\n",
    "f, sv = sim.simulate(full_circuit, desired_meas_result=\"0000\", return_statevector=True)\n",
    "# Pick out part of wavefunction that corresponds to \"0000\" on ancilla qubits\n",
    "sv = np.reshape(sv, (2**4, 4))[0, :]\n",
    "# Reorder statevector to correspond to openfermion ordering\n",
    "sv = np.reshape(sv, (2,2)).T.flatten()\n",
    "\n",
    "print(f'initial overlap = {abs(np.dot(vecs[:,1], init_state))}')\n",
    "print(f'final overlap = {abs(np.dot(vecs[:,1], sv))}')"
   ]
  },
  {
   "attachments": {},
   "cell_type": "markdown",
   "metadata": {},
   "source": [
    "### Second excited state"
   ]
  },
  {
   "cell_type": "code",
   "execution_count": 381,
   "metadata": {},
   "outputs": [],
   "source": [
    "lamb = eigs[2]\n",
    "# Shift Hamiltonian so that spectrum is in [-1, 1] and desired lambda is at 0\n",
    "qu_op_tilde = (qu_op - lamb)/(alpha+abs(lamb))\n",
    "\n",
    "qu_op_qs, m_qs, alpha = get_lcu_qubit_op_info(qu_op_tilde)\n",
    "uprep, uselect, qu_op_qs, m_qs, alpha = get_uprep_uselect(qu_op_tilde)\n",
    "cua = uprep + uselect + uprep.inverse()\n",
    "eig_filt_circ = get_qsp_circuit_no_anc(cua, m_qs, phases)\n",
    "\n",
    "full_circuit = init_circ + eig_filt_circ + Circuit([Gate(\"MEASURE\", m) for m in m_qs])\n",
    "full_circuit += Circuit([Gate(\"MEASURE\", m_qs[-1]+1)])"
   ]
  },
  {
   "cell_type": "code",
   "execution_count": 383,
   "metadata": {},
   "outputs": [],
   "source": [
    "sim = get_backend(\"qulacs\")\n",
    "\n",
    "f, sv = sim.simulate(full_circuit, desired_meas_result=\"0000\", return_statevector=True)\n",
    "# Pick out part of wavefunction that corresponds to \"0000\" on ancilla qubits\n",
    "sv = np.reshape(sv, (2**4, 4))[0, :]\n",
    "# Reorder statevector to correspond to openfermion ordering\n",
    "sv = np.reshape(sv, (2,2)).T.flatten()"
   ]
  },
  {
   "cell_type": "code",
   "execution_count": 384,
   "metadata": {},
   "outputs": [
    {
     "name": "stdout",
     "output_type": "stream",
     "text": [
      "initial overlap = 0.8563893032170957\n",
      "final overlap = 0.9997976485907082\n"
     ]
    }
   ],
   "source": [
    "print(f'initial overlap = {abs(np.dot(vecs[:,2], init_state))}')\n",
    "print(f'final overlap = {abs(np.dot(vecs[:,2], sv))}')"
   ]
  },
  {
   "attachments": {},
   "cell_type": "markdown",
   "metadata": {},
   "source": [
    "## Code to generate phases\n",
    "All code cells are changed to markdown as other packages are required to run the following phase calculations. "
   ]
  },
  {
   "attachments": {},
   "cell_type": "markdown",
   "metadata": {},
   "source": [
    "#### Using QSPPACK"
   ]
  },
  {
   "attachments": {},
   "cell_type": "markdown",
   "metadata": {},
   "source": [
    "```python\n",
    "from sympy.abc import x\n",
    "from sympy import Rational\n",
    "from sympy.polys.polytools import primitive\n",
    "from sympy.functions.special.polynomials import chebyshevt\n",
    "\n",
    "k = 20\n",
    "# Necessary to work in exact representation for higher order polynomials\n",
    "delta = Rational(delta)\n",
    "\n",
    "def filter_func(x, delta, k):\n",
    "    val = 0\n",
    "    for i in range(k):\n",
    "        arg = -1 + 2*((x**2-delta**2)/(1-delta**2))\n",
    "        topk = chebyshevt(k, arg)\n",
    "        arg = -1 + 2*(-delta**2/(1-delta**2))\n",
    "        botk = chebyshevt(k, arg)\n",
    "        val += topk/botk\n",
    "    return val\n",
    "```"
   ]
  },
  {
   "attachments": {},
   "cell_type": "markdown",
   "metadata": {},
   "source": [
    "Need to convert polynomial to coefficients of expansion in Chebyshev polynomials"
   ]
  },
  {
   "attachments": {},
   "cell_type": "markdown",
   "metadata": {},
   "source": [
    "```python\n",
    "# Use chebyshev interpolation ak=2/(n+1)*sum_{j=0}^n p(x_j)T_k(x_j), x_j = cos(\\frac{2*j+1}{2*n+2}\\pi)\n",
    "poly = filter_func(x, delta, k).as_poly()\n",
    "\n",
    "n = 2*k\n",
    "xjs = np.zeros(n+1)\n",
    "aks = np.zeros(n+1)\n",
    "for j in range(n+1):\n",
    "    xjs[j] = np.cos((2*j+1)/(2*n+2)*np.pi)\n",
    "\n",
    "for ki in range(0, n+1, 2):\n",
    "    aks[ki] = 0\n",
    "    for j in range(n+1):\n",
    "        aks[ki] += 2/(n+1)*poly.eval(xjs[j])*eval_chebyt(ki, xjs[j])\n",
    "\n",
    "aks /= k*np.sqrt(2)\n",
    "aks[0] /=2\n",
    "aks = aks[0: n+1: 2]\n",
    "```"
   ]
  },
  {
   "attachments": {},
   "cell_type": "markdown",
   "metadata": {},
   "source": [
    "Use `oct2py` (with octave installed) and the folder location of `QSPPACK` cloned from https://github.com/qsppack/QSPPACK. "
   ]
  },
  {
   "attachments": {},
   "cell_type": "markdown",
   "metadata": {},
   "source": [
    "```python\n",
    "from oct2py import octave\n",
    "eps = 0.01\n",
    "folder = 'path to QSPPACK'\n",
    "octave.addpath(folder)\n",
    "opts = octave.struct(\"criteria\", eps)\n",
    "phases, _ = octave.QSP_solver(aks, 0, opts, nout=2)\n",
    "```"
   ]
  },
  {
   "attachments": {},
   "cell_type": "markdown",
   "metadata": {},
   "source": [
    "#### Using pyqsp"
   ]
  },
  {
   "attachments": {},
   "cell_type": "markdown",
   "metadata": {},
   "source": [
    "For $k=20$ pyqsp with `laurent` works properly. However, it often fails for higher order polynomials. In that case, you will need to install tensorflow and use the method=`tf` which is much slower than `QSPPACK`. "
   ]
  },
  {
   "attachments": {},
   "cell_type": "markdown",
   "metadata": {},
   "source": [
    "```python\n",
    "import pyqsp\n",
    "from pyqsp import angle_sequence\n",
    "from pyqsp.angle_sequence import AngleFindingError\n",
    "from pyqsp.completion import CompletionError\n",
    "\n",
    "# Compute phases for real part Cos(Ht) of Exp(iHt)\n",
    "pg = pyqsp.poly.PolyCosineTX()\n",
    "prefac, poly = primitive(filter_func(x, delta, k))\n",
    "poly = poly.as_poly()\n",
    "polydict = poly.as_dict()\n",
    "\n",
    "coefs = np.zeros(2*k + 1, dtype=float)\n",
    "for term, coeff in polydict.items():\n",
    "    coefs[term[0]] = prefac*coeff/k/np.sqrt(2)\n",
    "\n",
    "n_attempts = 100\n",
    "method = 'laurent'\n",
    "eps=0.01\n",
    "for i in range(n_attempts):\n",
    "        try:\n",
    "            phases = angle_sequence.QuantumSignalProcessingPhases(\n",
    "                coefs, eps=eps, suc=1-eps/10, method=method, tolerance=0.01)\n",
    "        except (AngleFindingError, CompletionError):\n",
    "            if i == n_attempts-1:\n",
    "                raise RuntimeError(\"Real phases calculation failed, increase n_attempts or eps\")\n",
    "            else:\n",
    "                print(f\"Attempt {i+2} for the real coefficients\")\n",
    "        else:\n",
    "            break\n",
    "```"
   ]
  }
 ],
 "metadata": {
  "kernelspec": {
   "display_name": "qsdkmain",
   "language": "python",
   "name": "python3"
  },
  "language_info": {
   "codemirror_mode": {
    "name": "ipython",
    "version": 3
   },
   "file_extension": ".py",
   "mimetype": "text/x-python",
   "name": "python",
   "nbconvert_exporter": "python",
   "pygments_lexer": "ipython3",
   "version": "3.9.16"
  },
  "orig_nbformat": 4
 },
 "nbformat": 4,
 "nbformat_minor": 2
}
