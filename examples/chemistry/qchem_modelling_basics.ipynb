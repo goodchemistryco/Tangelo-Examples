{
 "cells": [
  {
   "cell_type": "markdown",
   "metadata": {
    "id": "VKpLon6Agujb"
   },
   "source": [
    "# Quantum Chemistry: Modelling Basics\n",
    "\n",
    "The aim of this notebook is to provide the basic quantum chemistry knowledge to help solve a chemistry problem with quantum computers. Many parameters can be tweaked, and some have higher impact on the accuracy and the quantum resources (number of qubits, quantum circuit depth and number of measurements) than others. This set of parameters includes the choice of initial state, choice of basis set, and the freezing of molecular orbitals. Some references are provided when needed.\n",
    "\n",
    "The [Tangelo](https://goodchemistry.com/tangelo/) python package is necessary to run the code cells in this notebook, and it can be installed in your environment by executing the code cell below."
   ]
  },
  {
   "cell_type": "code",
   "execution_count": 1,
   "metadata": {},
   "outputs": [],
   "source": [
    "try:\n",
    "    import tangelo\n",
    "except ImportError:\n",
    "    !pip install git+https://github.com/goodchemistryco/Tangelo.git --quiet"
   ]
  },
  {
   "cell_type": "markdown",
   "metadata": {
    "id": "Et892XDtMfV6"
   },
   "source": [
    "## Table of Contents\n",
    "\n",
    "* [Introduction](#1)\n",
    "* [Computation of the Mean-Field](#2)\n",
    "    * [Molecular Information](#21)\n",
    "    * [Restricted vs Unrestricted  Hartree-Fock (RHF/ROHF vs UHF)](#22)\n",
    "    * [Choice of the Basis Set](#23)\n",
    "* [Consideration of Correlation Energy - Potential of Quantum Computing](#3)\n",
    "* [Resource Reduction](#4)\n",
    "    * [Active Space Selection](#41)\n",
    "    * [Considering Symmetries](#42)\n",
    "* [Advanced Usage of PySCF](#5)\n",
    "    * [Extracting Mean-Field Quantities](#51)\n",
    "    * [Outputting Cube Files](#52)\n",
    "* [Closing Words](#6)\n",
    "* [References](#7)\n",
    "\n",
    "## Introduction<a class=\"anchor\" id=\"1\"></a>\n",
    "\n",
    "Quantum chemistry aims to solve the Schrödinger equation for many-electron molecules. As stated in the postulates of quantum mechanics, the wavefunction $\\Psi$ encodes all the information of the system. One who knows the electronic wavefunction of a molecular system can therefore predict measurement outcomes of an experiment. This is a highly valuable asset for academia and industrial purposes, to help develop new drugs or functional materials.\n",
    "\n",
    "The analysis of natural products is an efficient way of quickly getting inspiration for the design of new materials, while taking into account the million years of evolution that nature had to optimize a biochemical process. For instance, one difficult thing to do in the laboratory is to change the spin state of a compound during a chemical reaction. Nature circumvents this problem by leveraging transition metals to achieve this challenging task: the oxygen fixation process is achieved by the heme biomolecule, where a Fe(II) atom is involved in the spin state change mechanism (see figure below) [[10.1074/jbc.M314007200](https://doi.org/10.1074/jbc.M314007200)].\n",
    "\n",
    "![FeIIPorImO2 system](img/FeIIPorImO2.png)\n",
    "\n",
    "Fully understanding the mechanism of oxygen fixation, that is to say knowing the rate constants for all elementary reactions, would lead to valuable insights for the design of chemical catalysts. Achieving this goal would take us one step closer to [*making the world cleaner, healthier, and more sustainable*](https://goodchemistry.com/). This is one of the main applications of quantum chemistry. However, the Schrödinger equation shown below cannot be solved exactly for systems beyond one electron, i.e. all relevant chemical systems for industrial applications.\n",
    "\n",
    "$$\n",
    "\\hat{H} \\Psi = E \\Psi\n",
    "$$\n",
    "\n",
    "Here, the electronic Hamiltonian $\\hat{H}$ for $N$ electrons is expressed in the first quantization form,\n",
    "\n",
    "$$\n",
    "\\hat{H} = -\\frac{\\hbar^2}{2 m_e} \\sum_i \\nabla_i^2 -\\frac{e^2}{4 \\pi \\epsilon_0} \\sum_i \\sum_A \\frac{Z_A}{r_{iA}} + \\frac{e^2}{4 \\pi \\epsilon_0} \\sum_i \\sum_{j>i} \\frac{1}{r_{ij}}\n",
    "$$\n",
    "\n",
    "Where $m_e$, $\\nabla^2$, $e$, the relative nucleus charge, $Z_A$, $r_{iA}$ and $r_{ij}$ are respectively the electron mass, the Laplacian, the elementary charge, the distance between the nucleus and the electron $i$ and the distance between electron $i$ and $j$. In the second quantization form, the electronic Hamiltonian is expressed as\n",
    "\n",
    "$$\n",
    "H = \\sum_{pq}h_{pq} a_p^{\\dagger}a_q + \\frac{1}{2}\\sum_{pqrs}h_{pqrs}a_p^{\\dagger}a_r^{\\dagger}a_s a_q\n",
    "$$\n",
    "\n",
    "Where $h_{pq}$ and $h_{pqrs}$ refer respectively to the one-body and two-body integrals. For more information about the state-of-the-art theories and methods in quantum chemistry, the reader is invited to read the references at the end of this notebook. The scope of this notebook is to provide clues on how to choose input parameters for modelling molecules on quantum computers with [Tangelo](https://github.com/goodchemistryco/Tangelo). As quantum resources are still scarce, the definition of the problem is a crucial step in an end-to-end quantum chemistry experiment on quantum hardware. To keep a reasonable runtime for this notebook, we work with a simple example, the dioxygen molecule."
   ]
  },
  {
   "cell_type": "code",
   "execution_count": 2,
   "metadata": {},
   "outputs": [],
   "source": [
    "o2_xyz = [(\"O\", (0., 0., 0.)), (\"O\", (0., 0., 1.21))]"
   ]
  },
  {
   "cell_type": "markdown",
   "metadata": {
    "id": "dfApY4WZMfV8"
   },
   "source": [
    "## Computation of the Mean-Field<a class=\"anchor\" id=\"2\"></a>\n",
    "\n",
    "The computation of the mean-field is usually the first step of all post Hartree-Fock approaches, which we describe in a [section below](#3). The mean-field approaches solve the Schrödinger equation by averaging the electron-electron repulsion term in a self-consistent way. In other words, each electron does not explicitely interact with other electrons. Depending on the molecular information, discussed shortly, different flavours of mean-field solutions can be computed.\n",
    "\n",
    "### Molecular Information<a class=\"anchor\" id=\"21\"></a>\n",
    "\n",
    "The chemical information is encapsulated in the `SecondQuantizedMolecule` object. As the name suggests, the formalism used in Tangelo is second quantization; however, the package is not restricted to it and data structures could be implemented in other formalisms (like first quantization).\n",
    "\n",
    "When defining a molecule, one must specify molecular properties. One of them is the total charge of the system, i.e. the difference between the number of electrons and the total nuclear charge (default value is 0). This is an important property when dealing with oxydo-reduction reactions where cations (deficit in electrons) and anions (surplus in electrons) are involved. Another important quantity to specify is the spin, defined by the difference between the number of alpha and beta electrons (default value is 0). This allows radical systems to be modelled: a spin of 0 characterizes a restricted-shell molecule while a spin different from 0 defines an open-shell system.\n",
    "\n",
    "In the next cell, the dioxygen molecule data structure is constructed. The ground state of the dioxygen molecule is neutral and is a triplet state (q=0 and spin=2)."
   ]
  },
  {
   "cell_type": "code",
   "execution_count": 3,
   "metadata": {},
   "outputs": [
    {
     "name": "stdout",
     "output_type": "stream",
     "text": [
      "8 active molecular orbitals\n",
      "12 active electrons\n"
     ]
    }
   ],
   "source": [
    "from tangelo import SecondQuantizedMolecule\n",
    "o2_sto3g = SecondQuantizedMolecule(o2_xyz, q=0, spin=2)\n",
    "print(f\"{o2_sto3g.n_active_mos} active molecular orbitals\")\n",
    "print(f\"{o2_sto3g.n_active_electrons} active electrons\")"
   ]
  },
  {
   "cell_type": "markdown",
   "metadata": {
    "id": "X4IzRNI8MfV-"
   },
   "source": [
    "In the above output, there are missing orbitals and electrons. The default implementation of Tangelo freezes the core orbitals; for the O$_2$ molecule, two orbitals, corresponding to the 1p atomic orbitals, are frozen. The next sections elaborate on the impact of the basis sets and frozen orbitals.\n",
    "\n",
    "### Restricted vs Unrestricted  Hartree-Fock (RHF/ROHF vs UHF)<a class=\"anchor\" id=\"22\"></a>\n",
    "\n",
    "The mean-field solution is automatically computed when the `SecondQuantizedMolecule` object is created. With the provided spin, it computes the relevant mean-field, that is to say the Restricted or Restricted Open-Shell Hatree-Fock solution (RHF or ROHF). Using those methods, the spin-orbitals are treated as pairs, so each molecular orbital can accept up to two electrons. The unrestricted Hartree-Fock (UHF) mean-field calculation, where the spin-orbitals are considered individually, usually results in more accurate energies for open-shell systems. At the time of writing, the UHF approach has not yet been implemented in Tangelo. Further  details about the RHF, ROHF and UHF methods can be found in [Szabo & Ostlund](https://books.google.ca/books/about/Modern_Quantum_Chemistry.html?id=6mV9gYzEkgIC&redir_esc=y).\n",
    "\n",
    "### Choice of the Basis Set<a class=\"anchor\" id=\"23\"></a>\n",
    "\n",
    "The many-electron Schrödinger equation is typically solved in a basis of molecular orbitals which are expressed as a linear combination of atomic orbitals (LCAO). LCAO coefficients, used to construct molecular orbitals, are obtained through the minimization of the total energy, according to the variational principle. For convenience, the basis is usually represented by atom-centered functions for molecular systems, or plane-wave functions in solid-state physics.\n",
    "\n",
    "In early quantum chemistry, basis sets were constructed with decreasing exponential functions ($e^{-\\alpha r}$). This strategy was referred to as *Slater Type Orbitals* (STOs). With the increase of computational resources, the use of Gaussian functions ($e^{-\\alpha r^2}$) was popularized. Computing the numerous overlap integrals, needed in quantum chemistry, is much more efficient to do using Gaussian functions than with STOs. This is the main point of using a *Gaussian Type Orbitals* (GTOs) wavefunction. \n",
    "\n",
    "State-of-the-art basis sets are constructed from many Gaussian primitives. The Pople notation is one of the most explicit notations for basis sets:\n",
    "- The hyphen symbol (-) separates the reference to core and valence orbitals;\n",
    "- The digits represent the number of Gaussian primitives in a function;\n",
    "- There are as many digits as there are functions for each atomic orbital (zeta $\\zeta$);\n",
    "- The letter G refers to the use of Gaussian functions. \n",
    "\n",
    "As an example, the `3-21G` double zeta basis set uses three Gaussian primitives for each core orbital and a set of two plus one Gaussian primitives for the valence orbitals. More information, examples and discussions about the GTOs can be found in this [link](https://chem.libretexts.org/Courses/Pacific_Union_College/Quantum_Chemistry/11%3A_Computational_Quantum_Chemistry/11.02%3A_Gaussian_Basis_Sets).\n",
    "\n",
    "Below are popular basis set examples used in quantum chemistry."
   ]
  },
  {
   "cell_type": "code",
   "execution_count": 4,
   "metadata": {},
   "outputs": [],
   "source": [
    "basis_sets = [\n",
    "    \"STO-3G\",       # Simple zeta, minimal basis.\n",
    "    \"3-21G\",        # Double zeta.\n",
    "    \"6-31G\",        # Double zeta with more Gaussian primitives.\n",
    "    \"6-31G(d,p)\",   # Polarization functions (+ 5 d-orbitals for all atoms except H, +3 p-orbitals for H atoms) added.\n",
    "    \"6-311G(d,p)\",  # Triple zeta with polarization functions.\n",
    "    \"6-311+G(d,p)\", # Triple zeta with polarization functions and diffuse functions.\n",
    "    \"cc-pvqz\",      # Quadruple zeta.\n",
    "    \"cc-pv5z\"       # Quintuple zeta.\n",
    "]"
   ]
  },
  {
   "cell_type": "markdown",
   "metadata": {
    "id": "nKtrojstMfWA"
   },
   "source": [
    "The wavefunction for a molecule is an approximation when using a finite basis set,\n",
    "\n",
    "$$\n",
    "\\Phi_{\\text{approx}} = \\sum_{i=0}^N c_i |i \\rangle\n",
    "$$\n",
    "\n",
    "According to the variational principle, considering $\\Phi_{\\text{approx}}$ is normalized, the approximated energy is greater or equals to the true ground-state energy.\n",
    "\n",
    "$$\n",
    "\\langle \\Phi_{\\text{approx}} | \\hat{H} | \\Phi_{\\text{approx}} \\rangle = \\epsilon_{\\text{approx}} \\geq  \\epsilon_{\\text{true}}\n",
    "$$\n",
    "\n",
    "With an infinite basis set, the approximation should be close to the real wavefunction.\n",
    "\n",
    "$$\n",
    "\\Phi_{\\text{approx}} = \\sum_{i=0}^{\\infty} c_i |i \\rangle \\approx \\Psi_{\\text{true}}\n",
    "$$\n",
    "\n",
    "However, increasing the basis set size has the effect of increasing the number of parameters to optimize, therefore extending the required computational resources in space (amount of memory) and in time (number of operations). As we shall see shortly, it is often a good idea to balance the basis set size to optimize the time to solution versus the target accuracy ($|\\epsilon_{\\text{approx}} -  \\epsilon_{\\text{true}}|$), as the increase in the basis set complexity yields diminishing returns in accuracy gain.\n",
    "\n",
    "A full list of available basis sets supported in [PySCF](https://pyscf.org/) (therefore also in Tangelo) is available at this [link](https://pyscf.org/_modules/pyscf/gto/basis.html). Also, the [Basis Set Exchange](https://www.basissetexchange.org/) initiative hosts a collection of bases for every atom in the periodic table. With this constantly increasing number of bases available to the community, choosing a basis set can be a challenging task. The theory states that an infinite basis is the way of getting the true wavefunction. However, it is not possible most of the time and one may prefer a tailored approach to their use case. Here are some tips and tricks for the basis set choice depending on the modelled system: \n",
    "- As a rule of thumb, a double zeta (e.g. `6-31G` or `cc-pvdz`) is the minimum basis size required to get semi-quantitative energies. \n",
    "- For molecules with a high electronegativity difference between atoms, adding polarization functions (e.g. `6-31G**` or `6-31G(d,p)`) is recommended. \n",
    "- Diffuse functions (e.g. `6-31G+(d,p)`) should be included when dealing with anions. Diffuse functions are functions with small coefficients (small $\\alpha$ in $e^{-\\alpha r^2}$) that can fit the electronic density far from the nucleus.\n",
    "- Effective Core Potential (ECP) basis sets are needed when dealing with heavier atoms with relativistic and non-trivial effects (for example, the iodine atom is often modelled in the `LANDL2DZ` basis).\n",
    "\n",
    "In the next cell, we demonstrate the effect of the basis on the total energy calculations and time to solution."
   ]
  },
  {
   "cell_type": "code",
   "execution_count": 5,
   "metadata": {},
   "outputs": [
    {
     "data": {
      "image/png": "[encoded data removed]",
      "text/plain": [
       "<Figure size 576x360 with 2 Axes>"
      ]
     },
     "metadata": {
      "needs_background": "light"
     },
     "output_type": "display_data"
    }
   ],
   "source": [
    "import time\n",
    "import matplotlib.pyplot as plt\n",
    "\n",
    "mf_energies = list()\n",
    "mf_times = list()\n",
    "\n",
    "# Perform a Mean-Field calculation for each basis set.\n",
    "for bs in basis_sets:\n",
    "    \n",
    "    # Measure execution time.\n",
    "    start = time.time()\n",
    "    scan_basis_mol = SecondQuantizedMolecule(o2_xyz, q=0, spin=2, basis=bs)\n",
    "    end = time.time()\n",
    "    \n",
    "    mf_energies.append(scan_basis_mol.mf_energy)\n",
    "    mf_times.append(end-start)\n",
    "\n",
    "# Create the matplotlib figure.\n",
    "fig, ax = plt.subplots(figsize=(8,5))\n",
    "\n",
    "# Plot the energies.\n",
    "ax.set_xticks(range(len(basis_sets)), basis_sets, rotation=45)\n",
    "ax.set_xlabel(\"Basis set\")\n",
    "ax.set_ylabel(\"Energy / Hartree\", color=\"b\")\n",
    "ax.scatter(range(len(basis_sets)), mf_energies, marker=\"o\", s=50, color=\"b\")\n",
    "\n",
    "# Plot the time to solution.\n",
    "ax_time = ax.twinx()\n",
    "ax_time.scatter(range(len(basis_sets)), mf_times, marker=\"s\", s=50, color=\"r\")\n",
    "ax_time.set_ylabel(\"Time to solution / s\", color=\"r\", rotation=270, va=\"bottom\")\n",
    "\n",
    "# Show the graph.\n",
    "plt.tick_params(axis=\"both\", direction=\"in\")\n",
    "plt.show()"
   ]
  },
  {
   "cell_type": "markdown",
   "metadata": {
    "id": "sd8GEceHMfWB"
   },
   "source": [
    "We see in the previous graph that increasing the basis complexity brings the energy eigenvalue closer to the true Hartree-Fock energy. This trend can be generalized to other methods as well, like [CCSD](https://en.wikipedia.org/wiki/Coupled_cluster), [MP2](https://en.wikipedia.org/wiki/M%C3%B8ller%E2%80%93Plesset_perturbation_theory), [FCI](https://en.wikipedia.org/wiki/Full_configuration_interaction), (...) although the time to solution would be greater for those post Hatree-Fock approaches. The takeaway is that even if an infite basis is required to converge to the true energy, there are diminishing returns at some point, especially when considering the time required for the calculation. In our case, `6-311G(d,p)` appears as a good choice in term of accuracy and compute time.\n",
    "\n",
    "## Consideration of Correlation Energy - Potential of Quantum Computing\n",
    "<a class=\"anchor\" id=\"3\"></a>\n",
    "\n",
    "Post Hatree-Fock methods are meant to consider the electronic correlation energy. The correlation energy is defined as\n",
    "\n",
    "$$\n",
    "\\epsilon_{\\text{corr}} = \\epsilon - \\epsilon_{\\text{HF}}\n",
    "$$\n",
    "\n",
    "Where $\\epsilon$ and $\\epsilon_{\\text{HF}}$ are the computed energy and the Hartree-Fock energy, respectively. This correlation energy can be split into two categories: static and dynamical correlation. To consider the former, one should use multi-configuration approaches. The latter can be tackled with post Hartree-Fock methods with a single reference state, like Configuration Interaction (CI), Coupled-Cluster (CC) or perturbative methods (MP2, MP3, ...). Going beyond this explanation is out of scope for this notebook, therefore we encourage the user to read on the subject in [Szabo & Ostlund](https://books.google.ca/books/about/Modern_Quantum_Chemistry.html?id=6mV9gYzEkgIC&redir_esc=y).\n",
    "\n",
    "We saw in the previous section that the `6-311G(d,p)` is a good compromise to compute the O$_2$ ground state. In this basis, the dioxygen molecule is described by 72 bases (spin orbitals) and 16 electrons. To get the highest fidelity versus the true wavefunction with the current best method (Full Configuration Interaction), one would need ${72 \\choose 16} \\approx 3 \\times 10^{13}$ configurations. Even if we somehow managed to represent each configuration as a single byte of data, 4.11 petabytes would still be needed to store the full wavefunction of the dioxygen molecule. This effect is amplified when dealing with relevant industrial molecules like organometallic complexes or proteins. Going through the classical formalism of quantum chemistry is therefore not a viable solution.\n",
    "\n",
    "With the occupation transformation (Jordan-Wigner [[Zeitschrift für Physik, 47, p. 631–651 (1928)](https://doi.org/10.1007/BF01331938)]), this problem vanishes. By leveraging the quantum superposition principle in a straightforward way, it is possible to map this O$_2$ triplet ground state to 72 qubits (empty and filled spin orbitals are mapped to the $|0\\rangle$ and $|1\\rangle$ states, respectively). This fact is behind the emerging enthusiasm of the quantum computing community for chemistry applications. We should note that even if the space limitation is mitigated, no consensus is established for the time complexity, correlated to the number of gates and measurement required to approximate the molecular wavefunction [[arXiv:2009.12472](https://doi.org/10.48550/arXiv.2009.12472)].\n",
    "\n",
    "## Resource Reduction<a class=\"anchor\" id=\"4\"></a>\n",
    "\n",
    "Resource reduction refers to lowering the computational requirements to run an algorithm. This applies to both classical and quantum computing. In conventional computing, this translates to less bits required to store information and less operations to do on these bits. For quantum computing, this translates to reducing the number of qubits and the number of gates in quantum circuits.\n",
    "\n",
    "Our starting point is the O$_2$ molecule in the `6-311G(d,p)` basis. We focus on reducing resource requirements before choosing an algorithm to compute the ground state. For approaches relying on choosing a different ansatz or fragmenting a molecule into smaller subproblems (problem decomposition), the user can refer to the relevant notebooks in the [Tangelo/examples](https://github.com/goodchemistryco/Tangelo/tree/develop/examples) folder."
   ]
  },
  {
   "cell_type": "code",
   "execution_count": 6,
   "metadata": {},
   "outputs": [
    {
     "name": "stdout",
     "output_type": "stream",
     "text": [
      "36 active molecular orbitals\n",
      "16 active electrons\n"
     ]
    }
   ],
   "source": [
    "o2_6311gdp = SecondQuantizedMolecule(o2_xyz, q=0, spin=2, \n",
    "                                     basis=\"6-311G(d,p)\", frozen_orbitals=None)\n",
    "print(f\"{o2_6311gdp.n_active_mos} active molecular orbitals\")\n",
    "print(f\"{o2_6311gdp.n_active_electrons} active electrons\")"
   ]
  },
  {
   "cell_type": "markdown",
   "metadata": {
    "id": "WENmx_HFMfWC"
   },
   "source": [
    "The O$_2$ molecule in the 6-311G(d,p) basis would require 72 qubits and inherently a quantum circuit that is considered too deep for current architectures (NISQ devices) at the time of writing. Decreasing the number of qubits required to encode the problem provides the first indirect way to reduce those requirements. The two methods discussed below are the reduction of the active space and the consideration of molecular symmetries.\n",
    "\n",
    "### Active Space Selection<a class=\"anchor\" id=\"41\"></a>\n",
    "\n",
    "Active space selection is a trivial way to reduce the number of qubits by ignoring some molecular orbitals in the post-Hartree-Fock calculation. Applying this method is trivial, but choosing which molecular orbitals to freeze is not. While there is no general algorithm to perform that operation, one can evaluate which orbitals to freeze by first printing the molecular orbital occupancies."
   ]
  },
  {
   "cell_type": "code",
   "execution_count": 7,
   "metadata": {},
   "outputs": [
    {
     "data": {
      "text/plain": [
       "NPArrayWithTag([2., 2., 2., 2., 2., 2., 2., 1., 1., 0., 0., 0., 0., 0.,\n",
       "                0., 0., 0., 0., 0., 0., 0., 0., 0., 0., 0., 0., 0., 0.,\n",
       "                0., 0., 0., 0., 0., 0., 0., 0.])"
      ]
     },
     "execution_count": 7,
     "metadata": {},
     "output_type": "execute_result"
    }
   ],
   "source": [
    "o2_6311gdp.mo_occ"
   ]
  },
  {
   "cell_type": "markdown",
   "metadata": {
    "id": "JWSVc370MfWD"
   },
   "source": [
    "One way of picturing this is to only consider frontier orbitals and their neighbors. The correlation lost on the total energy when only considering a subset of the full active space might be small. For example, freezing low-lying occupied molecular orbitals is known as the *frozen-core approximation*, and can be applied because core orbitals do not mix with valence orbitals. Also, there are algorithms to freeze virtual orbitals, like the Frozen Natural Orbitals (FNO) truncation method [[Collect. Czech. Chem. Commun. 2005, 70, 837-850](https://doi.org/10.1135/cccc20050837) and [J. Chem. Phys. 2008, 128, 164101](https://doi.org/10.1063/1.2902285)]. Despite the fact that choosing a suitable active space can be tailored a problem, it can help reducing quantum resources *a priori*.\n",
    "\n",
    "The code cell below results in the consideration of molecular orbitals near the HOMO-LUMO level. The `get_orbitals_excluding_homo_lumo` function helps users to get the labels of these orbitals. In our case, the active space is defined from the HOMO-3 to LUMO+3."
   ]
  },
  {
   "cell_type": "code",
   "execution_count": 8,
   "metadata": {},
   "outputs": [
    {
     "name": "stdout",
     "output_type": "stream",
     "text": [
      "8 active molecular orbitals\n",
      "6 active electrons\n"
     ]
    }
   ],
   "source": [
    "from tangelo.toolboxes.molecular_computation.frozen_orbitals import get_orbitals_excluding_homo_lumo\n",
    "\n",
    "# Selecting HOMO-3 to LUMO+3 orbitals.\n",
    "frozen = get_orbitals_excluding_homo_lumo(o2_6311gdp, homo_minus_n=3, lumo_plus_n=3)\n",
    "\n",
    "o2_6311gdp_frozen = SecondQuantizedMolecule(o2_xyz, q=0, spin=2, basis=\"6-311G(d,p)\", \n",
    "                                            frozen_orbitals=frozen)\n",
    "print(f\"{o2_6311gdp_frozen.n_active_mos} active molecular orbitals\")\n",
    "print(f\"{o2_6311gdp_frozen.n_active_electrons} active electrons\")"
   ]
  },
  {
   "cell_type": "markdown",
   "metadata": {
    "id": "cnbZ7LW-MfWE"
   },
   "source": [
    "We decrease the number of considered orbitals from 36 to 8! With conventional fermion-to-qubit mappings, the number of qubits can be reduced from 72 to 16. This is an impressive reduction, but it comes at a significant cost. Configurations involving orbitals below HOMO-4 and above LUMO+4 are not considered here. This results in an energy further away from the true energy as there is nothing telling us that those configurations are irrelevant *a priori*. In the next code cell, we consider the CCSD calculation of O$_2$ with and without those orbitals."
   ]
  },
  {
   "cell_type": "code",
   "execution_count": 9,
   "metadata": {},
   "outputs": [
    {
     "name": "stdout",
     "output_type": "stream",
     "text": [
      "Energy difference: 226.51013348418326 kcal/mol.\n"
     ]
    }
   ],
   "source": [
    "from tangelo.algorithms.classical import CCSDSolver\n",
    "\n",
    "# CCSD energy with all the orbitals.\n",
    "e_o2_6311gdp = CCSDSolver(o2_6311gdp).simulate()\n",
    "\n",
    "# CCSD energy with HOMO-3 to LUMO+3 orbitals.\n",
    "e_o2_6311gdp_frozen = CCSDSolver(o2_6311gdp_frozen).simulate()\n",
    "\n",
    "print(f\"Energy difference: {abs(e_o2_6311gdp-e_o2_6311gdp_frozen)*627.5} kcal/mol.\")"
   ]
  },
  {
   "cell_type": "markdown",
   "metadata": {
    "id": "FruSKYNbMfWE"
   },
   "source": [
    "Considering the [chemical accuracy](https://en.wikipedia.org/wiki/Computational_chemistry) (1 kcal/mol), the difference is indeed significant: 226 kcal/mol. Therefore, the lower bound with the reduced active space is higher than the CCSD ground state. The takeaway is to be careful when choosing an active space for a molecule.\n",
    "\n",
    "### Considering Symmetries<a class=\"anchor\" id=\"42\"></a>\n",
    "\n",
    "Molecular symmetries are reflected in the Hamiltonian structure. The number of electrons in the molecule should be consistent before and after the ansatz has been applied onto the initial state. Electronic configurations not respecting this symmetry can therefore be neglected without loss of accuracy. For our purpose in quantum chemistry, it leads to a smaller number of qubits.\n",
    "\n",
    "The code cell below shows an example of Z2-symmetries qubit tapering with Tangelo."
   ]
  },
  {
   "cell_type": "code",
   "execution_count": 10,
   "metadata": {},
   "outputs": [
    {
     "name": "stdout",
     "output_type": "stream",
     "text": [
      "Number of qubits: 16\n",
      "Number of qubits after tapering: 12\n",
      "4 Z2 symmetries detected\n"
     ]
    }
   ],
   "source": [
    "from tangelo.toolboxes.qubit_mappings.mapping_transform import fermion_to_qubit_mapping\n",
    "from tangelo.toolboxes.operators import count_qubits\n",
    "from tangelo.toolboxes.operators.taper_qubits import QubitTapering\n",
    "\n",
    "hamiltonian = fermion_to_qubit_mapping(o2_6311gdp_frozen.fermionic_hamiltonian, \"JW\")\n",
    "n_qubits = count_qubits(hamiltonian)\n",
    "taper = QubitTapering(hamiltonian, n_qubits, \n",
    "                      n_electrons=o2_6311gdp_frozen.n_active_electrons)\n",
    "hamiltonian_taper = taper.z2_tapered_op\n",
    "n_qubits_tapered = count_qubits(hamiltonian_taper)\n",
    "\n",
    "print(f\"Number of qubits: {n_qubits}\")\n",
    "print(f\"Number of qubits after tapering: {n_qubits_tapered}\")\n",
    "print(f\"{n_qubits - n_qubits_tapered} Z2 symmetries detected\")"
   ]
  },
  {
   "cell_type": "markdown",
   "metadata": {
    "id": "vYkFnG6CMfWE"
   },
   "source": [
    "## Advanced Usage of PySCF<a class=\"anchor\" id=\"5\"></a>\n",
    "\n",
    "Tangelo currently relies on [PySCF](https://pyscf.org/). Advanced usage of this open-source quantum chemistry package enables the use of many analysis tools. We show a couple of examples where advanced users can extract more information from a PySCF calculation.\n",
    "\n",
    "A `SecondQuantizedMolecule` object can be exported as a `pyscf.gto.Mole` object. From that point, anything implemented in `PySCF` can be applied to this data structure. The next line shows how to do this operation.\n",
    "\n",
    "```python\n",
    "pyscf_mol = sec_mol.to_pyscf(sec_mol.basis)\n",
    "```\n",
    "\n",
    "### Extracting Mean-Field Quantities<a class=\"anchor\" id=\"51\"></a>\n",
    "\n",
    "The first trick is the extraction of the molecular orbital eigenvalues and coefficients. This can be done with the `analyze` method, and it can be called from the mean-field object to print relevant molecular properties. The output features many sections, described in the table below.\n",
    "\n",
    "| Section | Decription |\n",
    "| :- | :- |\n",
    "| `SCF Summaries` | Self-consistent field energy contributions |\n",
    "| `MO energy` | Molecular orbital eigenvalues |\n",
    "| `MO coefficients` | Linear Combination of Atomic Orbitals (LCAO) coefficients |\n",
    "| `Mulliken pop` | Mulliken electron population |\n",
    "| `Mulliken atomic charges` | Partial charges on each atom and dipole moment |"
   ]
  },
  {
   "cell_type": "code",
   "execution_count": 11,
   "metadata": {},
   "outputs": [
    {
     "name": "stdout",
     "output_type": "stream",
     "text": [
      "**** SCF Summaries ****\n",
      "Total Energy =                        -147.632274661317865\n",
      "Nuclear Repulsion Energy =              27.989538428826449\n",
      "One-electron Energy =                 -260.148728081504885\n",
      "Two-electron Energy =                   84.526914991360584\n",
      "**** MO energy ****\n",
      "                Roothaan           | alpha              | beta\n",
      "MO #1   energy= -20.4249798600401  | -20.4400185052847  | -20.4099412147954  occ= 2\n",
      "MO #2   energy= -20.424364897337   | -20.4389300606557  | -20.4097997340182  occ= 2\n",
      "MO #3   energy= -1.55251062929102  | -1.61345571756454  | -1.49156554101749  occ= 2\n",
      "MO #4   energy= -0.993242469558959 | -1.09010934627351  | -0.896375592844403 occ= 2\n",
      "MO #5   energy= -0.581544505580074 | -0.616775236948374 | -0.546313774211774 occ= 2\n",
      "MO #6   energy= -0.579365900007762 | -0.714071611414284 | -0.444660188601237 occ= 2\n",
      "MO #7   energy= -0.579365900007761 | -0.714071611414284 | -0.444660188601237 occ= 2\n",
      "MO #8   energy= -0.0715888741311829 | -0.412074886861292 | 0.268897138598928  occ= 1\n",
      "MO #9   energy= -0.0715888741311817 | -0.412074886861291 | 0.268897138598927  occ= 1\n",
      "MO #10  energy= 0.73033550676964   | 0.689507257614018  | 0.77116375592526   occ= 0\n",
      " ** MO coefficients (expansion on meta-Lowdin AOs) **\n",
      "               #1        #2        #3        #4        #5       \n",
      "  0 O 1s      -0.70708   0.70711  -0.00060  -0.00323  -0.00005\n",
      "  0 O 2s      -0.00483   0.00057   0.65237   0.65105   0.27278\n",
      "  0 O 2px      0.00000   0.00000   0.00000  -0.00000  -0.00000\n",
      "  0 O 2py      0.00000   0.00000   0.00000  -0.00000  -0.00000\n",
      "  0 O 2pz     -0.00311   0.00019   0.27278  -0.27591  -0.65237\n",
      "  1 O 1s       0.70708   0.70711  -0.00060   0.00323  -0.00005\n",
      "  1 O 2s       0.00483   0.00057   0.65237  -0.65105   0.27278\n",
      "  1 O 2px      0.00000   0.00000   0.00000  -0.00000  -0.00000\n",
      "  1 O 2py      0.00000   0.00000   0.00000  -0.00000  -0.00000\n",
      "  1 O 2pz     -0.00311  -0.00019  -0.27278  -0.27591   0.65237\n",
      "               #6        #7        #8        #9        #10      \n",
      "  0 O 1s      -0.00000  -0.00000  -0.00000  -0.00000  -0.00475\n",
      "  0 O 2s       0.00000   0.00000   0.00000   0.00000   0.27589\n",
      "  0 O 2px     -0.10974   0.69854  -0.11637   0.69747  -0.00000\n",
      "  0 O 2py      0.69854   0.10974   0.69747   0.11637  -0.00000\n",
      "  0 O 2pz     -0.00000  -0.00000   0.00000  -0.00000   0.65105\n",
      "  1 O 1s       0.00000  -0.00000  -0.00000  -0.00000   0.00475\n",
      "  1 O 2s       0.00000   0.00000  -0.00000  -0.00000  -0.27589\n",
      "  1 O 2px     -0.10974   0.69854   0.11637  -0.69747   0.00000\n",
      "  1 O 2py      0.69854   0.10974  -0.69747  -0.11637   0.00000\n",
      "  1 O 2pz      0.00000   0.00000  -0.00000   0.00000   0.65105\n",
      " ** Mulliken pop on meta-lowdin orthogonal AOs  **\n",
      " ** Mulliken pop  **\n",
      "pop of  0 O 1s        1.99995\n",
      "pop of  0 O 2s        1.84777\n",
      "pop of  0 O 2px       1.50000\n",
      "pop of  0 O 2py       1.50000\n",
      "pop of  0 O 2pz       1.15227\n",
      "pop of  1 O 1s        1.99995\n",
      "pop of  1 O 2s        1.84777\n",
      "pop of  1 O 2px       1.50000\n",
      "pop of  1 O 2py       1.50000\n",
      "pop of  1 O 2pz       1.15227\n",
      " ** Mulliken atomic charges  **\n",
      "charge of  0O =      0.00000\n",
      "charge of  1O =     -0.00000\n",
      "Dipole moment(X, Y, Z, Debye): -0.00000,  0.00000, -0.00000\n"
     ]
    }
   ],
   "source": [
    "o2_sto3g.mean_field.analyze(verbose=5);"
   ]
  },
  {
   "cell_type": "markdown",
   "metadata": {
    "id": "RLP_CotHMfWF"
   },
   "source": [
    "### Outputting Cube Files<a class=\"anchor\" id=\"52\"></a>\n",
    "\n",
    "Visualization of molecular orbitals is useful for analysis purposes or making figures. Those few lines create a `cube` file, compatible with many chemical visualization softwares ([GaussView](https://gaussian.com/gaussview6/), [avogadro](https://avogadro.cc/), [VMD](https://www.ks.uiuc.edu/Research/vmd/), ...), for the `MO #10`.\n",
    "\n",
    "```python\n",
    "from pyscf import tools\n",
    "tools.cubegen.orbital(pyscf_mol, f\"MO10.cube\", sec_mol.mean_field.mo_coeff[:,9]) # Python indices start with 0.\n",
    "```\n",
    "\n",
    "## Closing Words<a class=\"anchor\" id=\"6\"></a>\n",
    "\n",
    "This notebook glanced over the first steps of modelling a chemical system for quantum computing exploration. One of the challenges of quantum chemistry is the ever-present trade-off between computational resources requirements and accuracy of calculations. We emphasized how the choice of a basis set and frozen orbitals can greatly affect this trade-off. \n",
    "\n",
    "Quantum computing is a nascent technology, and the capabilities of current devices are limited. Efficient modelling of the system can be therefore crucial to sucessfully design experiments on quantum computers, and even simulators.\n",
    "\n",
    "In our [VQE notebook](https://github.com/goodchemistryco/Tangelo/blob/develop/examples/vqe.ipynb), we show how the modelling choices can greatly impact the quantum computational resources required by this quantum algorithm, and how the algorithm options themselves can further affect both resource requirements and accuracy.\n",
    "\n",
    "\n",
    "## References<a class=\"anchor\" id=\"7\"></a>\n",
    "\n",
    "- McQuarrie, D. A. [Quantum Chemistry](https://books.google.ca/books/about/Quantum_Chemistry.html?id=zzxLTIljQB4C&redir_esc=y), University Science Books 2nd ed. (2007)\n",
    "- Engel, T. [Quantum chemistry & spectroscopy](https://books.google.ca/books/about/Quantum_Chemistry_and_Spectroscopy.html?id=JhUqngEACAAJ&redir_esc=y). Pearson 3rd ed. (2012)\n",
    "- Szabo, A. & Ostlund, N. S. [Modern quantum chemistry: Introduction to advanced electronic structure theory](https://books.google.ca/books/about/Modern_Quantum_Chemistry.html?id=6mV9gYzEkgIC&redir_esc=y). Mineola, Dover Publications 1st ed. (1996).\n",
    "- [Computational_Quantum_Chemistry](https://chem.libretexts.org/Courses/Pacific_Union_College/Quantum_Chemistry/11%3A_Computational_Quantum_Chemistry), Chemistry LibreTexts, visited on Aug 17, 2022."
   ]
  }
 ],
 "metadata": {
  "colab": {
   "collapsed_sections": [],
   "name": "Review_quantum_chemistry.ipynb",
   "provenance": [
    {
     "file_id": "https://github.com/AlexandreF-1qbit/Tangelo/blob/notebook_chem/examples/quantum_chemistry.ipynb",
     "timestamp": 1657994939201
    }
   ]
  },
  "gpuClass": "standard",
  "kernelspec": {
   "display_name": "qsdk",
   "language": "python",
   "name": "qsdk"
  },
  "language_info": {
   "codemirror_mode": {
    "name": "ipython",
    "version": 3
   },
   "file_extension": ".py",
   "mimetype": "text/x-python",
   "name": "python",
   "nbconvert_exporter": "python",
   "pygments_lexer": "ipython3",
   "version": "3.10.6"
  }
 },
 "nbformat": 4,
 "nbformat_minor": 1
}
